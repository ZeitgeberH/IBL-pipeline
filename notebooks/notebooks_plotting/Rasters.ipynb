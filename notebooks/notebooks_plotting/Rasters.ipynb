{
 "cells": [
  {
   "cell_type": "code",
   "execution_count": 2,
   "metadata": {
    "tags": [
     "imports"
    ]
   },
   "outputs": [],
   "source": [
    "import datajoint as dj\n",
    "from ibl_pipeline import behavior\n",
    "import numpy as np\n",
    "import matplotlib.pyplot as plt\n",
    "import plotly\n",
    "import plotly.graph_objs as go\n",
    "from ibl_pipeline.plotting import plotting_utils_ephys as putils\n",
    "# from ibl_pipeline.plotting import ephys as ephys_plotting\n",
    "import pandas as pd\n",
    "import colorlover as cl\n",
    "import json\n",
    "import seaborn as sns\n",
    "import pdb"
   ]
  },
  {
   "cell_type": "code",
   "execution_count": 3,
   "metadata": {},
   "outputs": [
    {
     "name": "stderr",
     "output_type": "stream",
     "text": [
      "/usr/local/lib/python3.6/dist-packages/datajoint/connection.py:212: UserWarning:\n",
      "\n",
      "MySQL server has gone away. Reconnecting to the server.\n",
      "\n"
     ]
    }
   ],
   "source": [
    "ephys = dj.create_virtual_module('ephys', 'test_ibl_ephys')"
   ]
  },
  {
   "cell_type": "code",
   "execution_count": 4,
   "metadata": {
    "slideshow": {
     "slide_type": "-"
    },
    "tags": [
     "function"
    ]
   },
   "outputs": [],
   "source": [
    "def get_sort_and_marker(align_event, sorting_var):\n",
    "\n",
    "    if sorting_var == 'response - stim on':\n",
    "        sorting_query = 'trial_response_time - trial_stim_on_time'\n",
    "        if align_event == 'stim on':\n",
    "            mark = sorting_query\n",
    "            label = 'response'\n",
    "        elif align_event == 'response':\n",
    "            mark = 'trial_stim_on_time - trial_response_time'\n",
    "            label = 'stim on'\n",
    "        else:\n",
    "            raise NameError(\n",
    "                f\"\"\"\n",
    "                Wrong combination of alignment and sorting:\\n\n",
    "                {sorting_var}, {align_event}\n",
    "                \"\"\"\n",
    "            )\n",
    "    elif sorting_var == 'feedback - stim on':\n",
    "        sorting_query = 'trial_feedback_time - trial_stim_on_time'\n",
    "        if align_event == 'stim on':\n",
    "            mark = sorting_query\n",
    "            label = 'feedback'\n",
    "        elif align_event == 'feedback':\n",
    "            mark = 'trial_stim_on_time - trial_feedback_time'\n",
    "            label = 'stim on'\n",
    "        else:\n",
    "            raise NameError(\n",
    "                f\"\"\"\n",
    "                Wrong combination of alignment and sorting:\\n\n",
    "                {sorting_var}, {align_event}\n",
    "                \"\"\"\n",
    "            )\n",
    "    elif sorting_var == 'feedback - response':\n",
    "        sorting_query = 'trial_feedback_time - trial_response_time'\n",
    "        if align_event == 'response':\n",
    "            mark = sorting_query\n",
    "            label = 'feedback'\n",
    "        elif align_event == 'feedback':\n",
    "            mark = 'trial_response_time - trial_feedback_time'\n",
    "            label = 'response'\n",
    "        else:\n",
    "            raise NameError(\n",
    "                f\"\"\"\n",
    "                Wrong combination of alignment and sorting:\\n\n",
    "                {sorting_var}, {align_event}\n",
    "                \"\"\"\n",
    "            )\n",
    "    elif sorting_var == 'contrast':\n",
    "        sorting_query = 'trial_signed_contrast, trial_id'\n",
    "        mark = None\n",
    "        label = None\n",
    "    elif sorting_var == 'feedback type':\n",
    "        sorting_query = 'feedback type, trial_id'\n",
    "        mark = None\n",
    "        label = None\n",
    "    elif sorting_var == 'trial_id':\n",
    "        sorting_query = 'trial_id'\n",
    "        mark = None\n",
    "        label = None\n",
    "    else:\n",
    "        raise NameError(\"\"\"\n",
    "            'Unknown sorting variable.\\n\n",
    "            It has to be one of the following:\\n\n",
    "            [\"trial_id\", \\n\n",
    "             \"response - stim on\", \\n\n",
    "             \"feedback - stim on\", \\n\n",
    "             \"feedback - response\",\n",
    "             \"contrast\"]'\"\"\")\n",
    "    return sorting_query, mark, label"
   ]
  },
  {
   "cell_type": "code",
   "execution_count": 18,
   "metadata": {
    "tags": [
     "function"
    ]
   },
   "outputs": [],
   "source": [
    "def get_spike_times(trials, sorting_var, align_event,\n",
    "                    sort_by=None,\n",
    "                    mark=None):\n",
    "    if sorting_var != 'trial_id':\n",
    "        trials = (trials & 'event=\"{}\"'.format(align_event)).proj(\n",
    "            'trial_id', 'trial_spike_times', sort_by=sort_by, mark=mark)\n",
    "        spk_times, marking_points = trials.fetch(\n",
    "            'trial_spike_times', 'mark', order_by='sort_by')\n",
    "    else:\n",
    "        trials = (trials & 'event=\"{}\"'.format(align_event)).proj(\n",
    "            'trial_id', 'trial_spike_times', sort_by=sort_by)\n",
    "        spk_times = trials.fetch(\n",
    "            'trial_spike_times', order_by='sort_by')\n",
    "        marking_points = None\n",
    "\n",
    "    return spk_times, marking_points\n",
    "\n",
    "\n",
    "def get_spike_times_trials(trials, sorting_var, align_event,\n",
    "                           sort_by=None,\n",
    "                           mark=None):\n",
    "\n",
    "    trials_left = trials & 'trial_response_choice=\"CW\"' & \\\n",
    "        'trial_signed_contrast < 0'\n",
    "    trials_right = trials & 'trial_response_choice=\"CCW\"' & \\\n",
    "        'trial_signed_contrast > 0'\n",
    "\n",
    "    trials_incorrect = trials - trials_left.proj() - trials_right.proj()\n",
    "\n",
    "    kargs = dict(\n",
    "        sorting_var=sorting_var,\n",
    "        align_event=align_event,\n",
    "        sort_by=sort_by,\n",
    "        mark=mark\n",
    "    )\n",
    "\n",
    "    spk_times_left, marking_points_left = get_spike_times(trials_left, **kargs)\n",
    "    spk_times_right, marking_points_right = get_spike_times(trials_right, **kargs)\n",
    "    spk_times_incorrect, marking_points_incorrect = \\\n",
    "        get_spike_times(trials_incorrect, **kargs)\n",
    "\n",
    "    return spk_times_left, \\\n",
    "        marking_points_left, \\\n",
    "        spk_times_right, \\\n",
    "        marking_points_right, \\\n",
    "        spk_times_incorrect, \\\n",
    "        marking_points_incorrect\n",
    "\n",
    "\n",
    "def create_raster_plot_combined(trials, align_event,\n",
    "                                sorting_var='trial_id',\n",
    "                                x_lim=[-1, 1],\n",
    "                                fig_dir=None,\n",
    "                                store_type=None,\n",
    "                                show_plot=False):\n",
    "\n",
    "    sorting_query, mark, label = get_sort_and_marker(\n",
    "        align_event, sorting_var)\n",
    "\n",
    "    fig = plt.figure(dpi=150, frameon=False, figsize=[10, 5])\n",
    "    ax = plt.Axes(fig, [0., 0., 1., 1.])\n",
    "\n",
    "    if len(trials):\n",
    "        if sorting_var == 'trial_id':\n",
    "            spk_times, trial_ids = (trials & 'event=\"{}\"'.format(align_event)).fetch(\n",
    "                'trial_spike_times', 'trial_id', order_by='trial_id')\n",
    "            spk_trial_ids = np.hstack(\n",
    "                [[trial_id] * len(spk_time)\n",
    "                    for trial_id, spk_time in enumerate(spk_times)])\n",
    "            ax.plot(np.hstack(spk_times), spk_trial_ids, 'k.', alpha=0.5,\n",
    "                    markeredgewidth=0)\n",
    "        elif sorting_var == 'contrast':\n",
    "            spk_times, trial_contrasts = (trials & 'event=\"{}\"'.format(align_event)).fetch(\n",
    "                'trial_spike_times', 'trial_signed_contrast',\n",
    "                order_by='trial_signed_contrast, trial_id')\n",
    "            spk_trial_ids = np.hstack(\n",
    "                [[trial_id] * len(spk_time)\n",
    "                    for trial_id, spk_time in enumerate(spk_times)])\n",
    "            ax.plot(np.hstack(spk_times), spk_trial_ids, 'k.', alpha=0.5,\n",
    "                    markeredgewidth=0)\n",
    "            \n",
    "            # plot different contrasts as background\n",
    "            contrasts, u_inds = np.unique(trial_contrasts, return_index=True)\n",
    "            u_inds = list(u_inds) + [len(trial_contrasts)]\n",
    "            \n",
    "            tick_positions = np.add(u_inds[1:], u_inds[:-1])/2\n",
    "            \n",
    "            puor = cl.scales[str(len(contrasts))]['div']['PuOr']\n",
    "            puor = np.divide(cl.to_numeric(puor), 255)\n",
    "\n",
    "            for i, ind in enumerate(u_inds[:-1]):\n",
    "                ax.fill_between([-1, 1], u_inds[i], u_inds[i+1]-1, color=puor[i], alpha=0.8)\n",
    "            fig.add_axes(ax)\n",
    "        elif sorting_var == 'feedback type':\n",
    "            spk_times, trial_fb_types = (trials & 'event=\"{}\"'.format(align_event)).fetch(\n",
    "                'trial_spike_times', 'trial_feedback_type',\n",
    "                order_by='trial_feedback_type, trial_id')\n",
    "            spk_trial_ids = np.hstack(\n",
    "                [[trial_id] * len(spk_time)\n",
    "                    for trial_id, spk_time in enumerate(spk_times)])\n",
    "            ax.plot(np.hstack(spk_times), spk_trial_ids, 'k.', alpha=0.5,\n",
    "                    markeredgewidth=0)\n",
    "\n",
    "            # plot different feedback types as background\n",
    "            fb_types, u_inds = np.unique(trial_fb_types, return_index=True)\n",
    "            u_inds = list(u_inds) + [len(trial_fb_types)]\n",
    "\n",
    "            colors = sns.diverging_palette(10, 240, n=len(fb_types))\n",
    "\n",
    "            for i, ind in enumerate(u_inds[:-1]):\n",
    "                ax.fill_between([-1, 1], u_inds[i], u_inds[i+1]-1, color=colors[i], alpha=0.5)\n",
    "            fig.add_axes(ax)\n",
    "        else:\n",
    "            spk_times_left, marking_points_left, \\\n",
    "                spk_times_right, marking_points_right, \\\n",
    "                spk_times_incorrect, marking_points_incorrect = \\\n",
    "                get_spike_times_trials(\n",
    "                    trials, sorting_var, align_event, sorting_query, mark)\n",
    "\n",
    "            id_gap = len(trials) * 0.02\n",
    "\n",
    "            if len(spk_times_incorrect):\n",
    "                spk_times_all_incorrect = np.hstack(spk_times_incorrect)\n",
    "                id_incorrect = [[i] * len(spike_time)\n",
    "                                for i, spike_time in\n",
    "                                enumerate(spk_times_incorrect)]\n",
    "                id_incorrect = np.hstack(id_incorrect)\n",
    "                ax.plot(spk_times_all_incorrect, id_incorrect, 'r.',\n",
    "                        alpha=0.5, markeredgewidth=0, label='incorrect trials')\n",
    "                ax.plot(marking_points_incorrect,\n",
    "                        range(len(spk_times_incorrect)), 'r', label=label)\n",
    "            else:\n",
    "                id_incorrect = [0]\n",
    "\n",
    "            if not len(id_incorrect):\n",
    "                id_incorrect = [0]\n",
    "\n",
    "            if len(spk_times_left):\n",
    "                spk_times_all_left = np.hstack(spk_times_left)\n",
    "                id_left = [[i + max(id_incorrect) + id_gap] * len(spike_time)\n",
    "                           for i, spike_time in\n",
    "                           enumerate(spk_times_left)]\n",
    "                id_left = np.hstack(id_left)\n",
    "                ax.plot(spk_times_all_left, id_left, 'g.',\n",
    "                        alpha=0.5, markeredgewidth=0, label='left trials')\n",
    "                ax.plot(marking_points_left,\n",
    "                        np.add(range(len(spk_times_left)), max(id_incorrect) + id_gap), 'g')\n",
    "            else:\n",
    "                id_left = [max(id_incorrect)]\n",
    "\n",
    "            if not len(id_left):\n",
    "                id_left = [max(id_incorrect)]\n",
    "\n",
    "            if len(spk_times_right):\n",
    "                spk_times_all_right = np.hstack(spk_times_right)\n",
    "                id_right = [[i + max(id_left) + id_gap] * len(spike_time)\n",
    "                            for i, spike_time in enumerate(spk_times_right)]\n",
    "                id_right = np.hstack(id_right)\n",
    "\n",
    "                ax.plot(spk_times_all_right, id_right, 'b.',\n",
    "                        alpha=0.5, markeredgewidth=0, label='right trials')\n",
    "                ax.plot(marking_points_right,\n",
    "                        np.add(range(len(spk_times_right)), max(id_left) + id_gap), 'b')\n",
    "            else:\n",
    "                id_right = [max(id_left)]\n",
    "\n",
    "            if not len(id_right):\n",
    "                id_right = [max(id_left)]\n",
    "\n",
    "    ax.set_axis_off()\n",
    "    fig.add_axes(ax)\n",
    "\n",
    "    # hide the axis\n",
    "    ax.get_xaxis().set_visible(False)\n",
    "    ax.get_yaxis().set_visible(False)\n",
    "\n",
    "    # set the limits\n",
    "    ax.set_xlim(x_lim[0], x_lim[1])\n",
    "    if sorting_var in ('trial_id', 'contrast', 'feedback type'):\n",
    "        if len(spk_trial_ids):\n",
    "            y_lim = max(spk_trial_ids) * 1.02\n",
    "        else:\n",
    "            y_lim = 2\n",
    "    else:\n",
    "        y_lim = max(id_right) * 1.02\n",
    "    ax.set_ylim(-2, y_lim)\n",
    "\n",
    "    if not show_plot:\n",
    "        plt.close(fig)\n",
    "\n",
    "    # save the figure with `pad_inches=0` to remove\n",
    "    # any padding in the image\n",
    "\n",
    "    if fig_dir:\n",
    "        if store_type == 'filepath':\n",
    "            if not os.path.exists(os.path.dirname(fig_dir)):\n",
    "                try:\n",
    "                    os.makedirs(os.path.dirname(fig_dir))\n",
    "                except OSError as exc:  # Guard against race condition\n",
    "                    if exc.errno != errno.EEXIST:\n",
    "                        raise\n",
    "            fig.savefig(fig_dir, pad_inches=0)\n",
    "            \n",
    "            if sorting_var == 'contrast':\n",
    "                return [0, y_lim], label, contrasts, tick_positions\n",
    "            else:\n",
    "                return [0, y_lim], label\n",
    "\n",
    "        elif store_type == 's3':\n",
    "            access, secret = (ibl_pipeline.S3Access & 's3_id=1').fetch1(\n",
    "                'access_key', 'secret_key')\n",
    "\n",
    "            s3 = boto3.resource(\n",
    "                's3',\n",
    "                aws_access_key_id=access,\n",
    "                aws_secret_access_key=secret)\n",
    "            BUCKET_NAME = \"ibl-dj-external\"\n",
    "            bucket = s3.Bucket(BUCKET_NAME)\n",
    "\n",
    "            # upload to s3\n",
    "            img_data = io.BytesIO()\n",
    "            fig.savefig(img_data, format='png')\n",
    "            img_data.seek(0)\n",
    "            bucket.put_object(Body=img_data,\n",
    "                              ContentType='image/png',\n",
    "                              Key=fig_dir)\n",
    "            \n",
    "            if sorting_var == 'contrast':\n",
    "                return [0, y_lim], label, contrasts, tick_positions\n",
    "            else:\n",
    "                return [0, y_lim], label\n",
    "\n",
    "    else:\n",
    "        import tempfile\n",
    "        temp = tempfile.NamedTemporaryFile(suffix=\".png\")\n",
    "        fig.savefig(temp.name, pad_inches=0)\n",
    "        import base64\n",
    "        with open(temp.name, \"rb\") as image_file:\n",
    "            encoded_string = base64.b64encode(image_file.read())\n",
    "        temp.close()\n",
    "        \n",
    "        if sorting_var == 'contrast':\n",
    "            return encoded_string, [0, y_lim], label, contrasts, tick_positions\n",
    "        else:\n",
    "            return encoded_string, [0, y_lim], label"
   ]
  },
  {
   "cell_type": "code",
   "execution_count": 5,
   "metadata": {
    "tags": [
     "function"
    ]
   },
   "outputs": [],
   "source": [
    "# create some plots for the legend\n",
    "def get_legend(trials_type, legend_group):\n",
    "    if trials_type == 'left':\n",
    "        color = 'green'\n",
    "    elif trials_type == 'right':\n",
    "        color = 'blue'\n",
    "    elif trials_type == 'incorrect':\n",
    "        color = 'red'\n",
    "    else:\n",
    "        raise NameError(\n",
    "            f\"\"\"\n",
    "            Wrong trial type, has to be one of the following: \\n\n",
    "            \"left\", \"right\", \"incorrect\"\n",
    "            \"\"\"\n",
    "        )\n",
    "    if legend_group == 'spike':\n",
    "        marker = 'markers'\n",
    "    else:\n",
    "        marker = 'lines'\n",
    "      \n",
    "    return go.Scatter(\n",
    "        x=[5],\n",
    "        y=[10],\n",
    "        mode=marker,\n",
    "        marker=dict(\n",
    "            size=6,\n",
    "            color=color,\n",
    "            opacity=0.5\n",
    "        ),\n",
    "        name='{} time on<br>{} trials'.format(legend_group, trials_type),\n",
    "        legendgroup=legend_group\n",
    "    )\n"
   ]
  },
  {
   "cell_type": "code",
   "execution_count": 6,
   "metadata": {},
   "outputs": [],
   "source": [
    "from ibl_pipeline import subject\n",
    "keys = (ephys.DefaultCluster & (subject.Subject & 'subject_nickname=\"CSHL047\"')).fetch('KEY')\n",
    "key = keys[30]"
   ]
  },
  {
   "cell_type": "code",
   "execution_count": 7,
   "metadata": {},
   "outputs": [],
   "source": [
    "from uuid import UUID\n",
    "import datetime\n",
    "key = {'subject_uuid': UUID('15f98ab5-20d8-4345-a5de-21912a39575f'),\n",
    "   'session_start_time': datetime.datetime(2020, 1, 22, 8, 28, 49),\n",
    "   'probe_idx': 1,\n",
    "   'cluster_id': 35}"
   ]
  },
  {
   "cell_type": "code",
   "execution_count": 19,
   "metadata": {},
   "outputs": [
    {
     "name": "stderr",
     "output_type": "stream",
     "text": [
      "/usr/local/lib/python3.6/dist-packages/datajoint/connection.py:212: UserWarning:\n",
      "\n",
      "MySQL server has gone away. Reconnecting to the server.\n",
      "\n"
     ]
    },
    {
     "name": "stdout",
     "output_type": "stream",
     "text": [
      "> <ipython-input-18-7fa4e188c39f>(71)create_raster_plot_combined()\n",
      "-> ax.plot(np.hstack(spk_times), spk_trial_ids, 'k.', alpha=0.5,\n",
      "(Pdb) c\n"
     ]
    },
    {
     "data": {
      "image/png": "[encoded data removed]",
      "text/plain": [
       "<Figure size 1500x750 with 1 Axes>"
      ]
     },
     "metadata": {
      "needs_background": "light"
     },
     "output_type": "display_data"
    }
   ],
   "source": [
    "# new cluster\n",
    "cluster = ephys.DefaultCluster & key\n",
    "trials_all = (behavior.TrialSet.Trial * ephys.AlignedTrialSpikes & cluster).proj(\n",
    "    'trial_start_time', 'trial_stim_on_time', 'trial_response_time', 'trial_feedback_time',\n",
    "    'trial_response_choice', 'trial_spike_times', 'trial_feedback_type',\n",
    "    trial_duration='trial_end_time-trial_start_time',\n",
    "    trial_signed_contrast='trial_stim_contrast_right - trial_stim_contrast_left'\n",
    ") & 'trial_duration < 5' & 'trial_response_choice!=\"No Go\"' & key\n",
    "\n",
    "trials_left = trials_all & 'trial_response_choice=\"CW\"' & 'trial_signed_contrast < 0'\n",
    "trials_right = trials_all & 'trial_response_choice=\"CCW\"' & 'trial_signed_contrast > 0'\n",
    "trials = trials_all & [trials_right.proj(), trials_left.proj()]\n",
    "align_event = 'stim on'\n",
    "# encoded_string, y_lim, label, contrasts, tick_pos = create_raster_plot_combined(\n",
    "#     trials_all, align_event, 'contrast', show_plot=True)\n",
    "encoded_string, y_lim, label = putils.create_raster_plot_combined(\n",
    "    trials_all, align_event, 'trial_id', show_plot=True)"
   ]
  },
  {
   "cell_type": "code",
   "execution_count": 15,
   "metadata": {},
   "outputs": [
    {
     "data": {
      "text/plain": [
       "184"
      ]
     },
     "execution_count": 15,
     "metadata": {},
     "output_type": "execute_result"
    }
   ],
   "source": [
    "len(trials_left)"
   ]
  },
  {
   "cell_type": "code",
   "execution_count": 20,
   "metadata": {
    "tags": [
     "main"
    ]
   },
   "outputs": [
    {
     "data": {
      "application/vnd.plotly.v1+json": {
       "config": {
        "linkText": "Export to plot.ly",
        "plotlyServerURL": "https://plot.ly",
        "showLink": false
       },
       "data": [
        {
         "marker": {
          "opacity": 0
         },
         "mode": "markers",
         "showlegend": false,
         "type": "scatter",
         "x": [
          -1,
          1
         ],
         "y": [
          0,
          271.32
         ]
        },
        {
         "fill": "tozeroy",
         "fillcolor": "rgba(218, 59, 70, 0.5)",
         "mode": "none",
         "name": "Incorrect",
         "type": "scatter",
         "x": [
          -2,
          -1
         ],
         "y": [
          -2,
          -1
         ]
        },
        {
         "fill": "tonexty",
         "fillcolor": "rgba(65, 124, 168, 0.5)",
         "mode": "none",
         "name": "Correct",
         "type": "scatter",
         "x": [
          -2,
          -1
         ],
         "y": [
          -2,
          -1
         ]
        }
       ],
       "layout": {
        "height": 370,
        "images": [
         {
          "layer": "below",
          "sizex": 2,
          "sizey": 271.32,
          "sizing": "stretch",
          "source": "data:image/png;base64, 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",
          "x": -1,
          "xref": "x",
          "y": 271.32,
          "yref": "y"
         }
        ],
        "margin": {
         "b": 40,
         "l": 50,
         "pad": 0,
         "r": 30,
         "t": 80
        },
        "template": {
         "data": {
          "bar": [
           {
            "error_x": {
             "color": "#2a3f5f"
            },
            "error_y": {
             "color": "#2a3f5f"
            },
            "marker": {
             "line": {
              "color": "#E5ECF6",
              "width": 0.5
             }
            },
            "type": "bar"
           }
          ],
          "barpolar": [
           {
            "marker": {
             "line": {
              "color": "#E5ECF6",
              "width": 0.5
             }
            },
            "type": "barpolar"
           }
          ],
          "carpet": [
           {
            "aaxis": {
             "endlinecolor": "#2a3f5f",
             "gridcolor": "white",
             "linecolor": "white",
             "minorgridcolor": "white",
             "startlinecolor": "#2a3f5f"
            },
            "baxis": {
             "endlinecolor": "#2a3f5f",
             "gridcolor": "white",
             "linecolor": "white",
             "minorgridcolor": "white",
             "startlinecolor": "#2a3f5f"
            },
            "type": "carpet"
           }
          ],
          "choropleth": [
           {
            "colorbar": {
             "outlinewidth": 0,
             "ticks": ""
            },
            "type": "choropleth"
           }
          ],
          "contour": [
           {
            "colorbar": {
             "outlinewidth": 0,
             "ticks": ""
            },
            "colorscale": [
             [
              0,
              "#0d0887"
             ],
             [
              0.1111111111111111,
              "#46039f"
             ],
             [
              0.2222222222222222,
              "#7201a8"
             ],
             [
              0.3333333333333333,
              "#9c179e"
             ],
             [
              0.4444444444444444,
              "#bd3786"
             ],
             [
              0.5555555555555556,
              "#d8576b"
             ],
             [
              0.6666666666666666,
              "#ed7953"
             ],
             [
              0.7777777777777778,
              "#fb9f3a"
             ],
             [
              0.8888888888888888,
              "#fdca26"
             ],
             [
              1,
              "#f0f921"
             ]
            ],
            "type": "contour"
           }
          ],
          "contourcarpet": [
           {
            "colorbar": {
             "outlinewidth": 0,
             "ticks": ""
            },
            "type": "contourcarpet"
           }
          ],
          "heatmap": [
           {
            "colorbar": {
             "outlinewidth": 0,
             "ticks": ""
            },
            "colorscale": [
             [
              0,
              "#0d0887"
             ],
             [
              0.1111111111111111,
              "#46039f"
             ],
             [
              0.2222222222222222,
              "#7201a8"
             ],
             [
              0.3333333333333333,
              "#9c179e"
             ],
             [
              0.4444444444444444,
              "#bd3786"
             ],
             [
              0.5555555555555556,
              "#d8576b"
             ],
             [
              0.6666666666666666,
              "#ed7953"
             ],
             [
              0.7777777777777778,
              "#fb9f3a"
             ],
             [
              0.8888888888888888,
              "#fdca26"
             ],
             [
              1,
              "#f0f921"
             ]
            ],
            "type": "heatmap"
           }
          ],
          "heatmapgl": [
           {
            "colorbar": {
             "outlinewidth": 0,
             "ticks": ""
            },
            "colorscale": [
             [
              0,
              "#0d0887"
             ],
             [
              0.1111111111111111,
              "#46039f"
             ],
             [
              0.2222222222222222,
              "#7201a8"
             ],
             [
              0.3333333333333333,
              "#9c179e"
             ],
             [
              0.4444444444444444,
              "#bd3786"
             ],
             [
              0.5555555555555556,
              "#d8576b"
             ],
             [
              0.6666666666666666,
              "#ed7953"
             ],
             [
              0.7777777777777778,
              "#fb9f3a"
             ],
             [
              0.8888888888888888,
              "#fdca26"
             ],
             [
              1,
              "#f0f921"
             ]
            ],
            "type": "heatmapgl"
           }
          ],
          "histogram": [
           {
            "marker": {
             "colorbar": {
              "outlinewidth": 0,
              "ticks": ""
             }
            },
            "type": "histogram"
           }
          ],
          "histogram2d": [
           {
            "colorbar": {
             "outlinewidth": 0,
             "ticks": ""
            },
            "colorscale": [
             [
              0,
              "#0d0887"
             ],
             [
              0.1111111111111111,
              "#46039f"
             ],
             [
              0.2222222222222222,
              "#7201a8"
             ],
             [
              0.3333333333333333,
              "#9c179e"
             ],
             [
              0.4444444444444444,
              "#bd3786"
             ],
             [
              0.5555555555555556,
              "#d8576b"
             ],
             [
              0.6666666666666666,
              "#ed7953"
             ],
             [
              0.7777777777777778,
              "#fb9f3a"
             ],
             [
              0.8888888888888888,
              "#fdca26"
             ],
             [
              1,
              "#f0f921"
             ]
            ],
            "type": "histogram2d"
           }
          ],
          "histogram2dcontour": [
           {
            "colorbar": {
             "outlinewidth": 0,
             "ticks": ""
            },
            "colorscale": [
             [
              0,
              "#0d0887"
             ],
             [
              0.1111111111111111,
              "#46039f"
             ],
             [
              0.2222222222222222,
              "#7201a8"
             ],
             [
              0.3333333333333333,
              "#9c179e"
             ],
             [
              0.4444444444444444,
              "#bd3786"
             ],
             [
              0.5555555555555556,
              "#d8576b"
             ],
             [
              0.6666666666666666,
              "#ed7953"
             ],
             [
              0.7777777777777778,
              "#fb9f3a"
             ],
             [
              0.8888888888888888,
              "#fdca26"
             ],
             [
              1,
              "#f0f921"
             ]
            ],
            "type": "histogram2dcontour"
           }
          ],
          "mesh3d": [
           {
            "colorbar": {
             "outlinewidth": 0,
             "ticks": ""
            },
            "type": "mesh3d"
           }
          ],
          "parcoords": [
           {
            "line": {
             "colorbar": {
              "outlinewidth": 0,
              "ticks": ""
             }
            },
            "type": "parcoords"
           }
          ],
          "scatter": [
           {
            "marker": {
             "colorbar": {
              "outlinewidth": 0,
              "ticks": ""
             }
            },
            "type": "scatter"
           }
          ],
          "scatter3d": [
           {
            "line": {
             "colorbar": {
              "outlinewidth": 0,
              "ticks": ""
             }
            },
            "marker": {
             "colorbar": {
              "outlinewidth": 0,
              "ticks": ""
             }
            },
            "type": "scatter3d"
           }
          ],
          "scattercarpet": [
           {
            "marker": {
             "colorbar": {
              "outlinewidth": 0,
              "ticks": ""
             }
            },
            "type": "scattercarpet"
           }
          ],
          "scattergeo": [
           {
            "marker": {
             "colorbar": {
              "outlinewidth": 0,
              "ticks": ""
             }
            },
            "type": "scattergeo"
           }
          ],
          "scattergl": [
           {
            "marker": {
             "colorbar": {
              "outlinewidth": 0,
              "ticks": ""
             }
            },
            "type": "scattergl"
           }
          ],
          "scattermapbox": [
           {
            "marker": {
             "colorbar": {
              "outlinewidth": 0,
              "ticks": ""
             }
            },
            "type": "scattermapbox"
           }
          ],
          "scatterpolar": [
           {
            "marker": {
             "colorbar": {
              "outlinewidth": 0,
              "ticks": ""
             }
            },
            "type": "scatterpolar"
           }
          ],
          "scatterpolargl": [
           {
            "marker": {
             "colorbar": {
              "outlinewidth": 0,
              "ticks": ""
             }
            },
            "type": "scatterpolargl"
           }
          ],
          "scatterternary": [
           {
            "marker": {
             "colorbar": {
              "outlinewidth": 0,
              "ticks": ""
             }
            },
            "type": "scatterternary"
           }
          ],
          "surface": [
           {
            "colorbar": {
             "outlinewidth": 0,
             "ticks": ""
            },
            "colorscale": [
             [
              0,
              "#0d0887"
             ],
             [
              0.1111111111111111,
              "#46039f"
             ],
             [
              0.2222222222222222,
              "#7201a8"
             ],
             [
              0.3333333333333333,
              "#9c179e"
             ],
             [
              0.4444444444444444,
              "#bd3786"
             ],
             [
              0.5555555555555556,
              "#d8576b"
             ],
             [
              0.6666666666666666,
              "#ed7953"
             ],
             [
              0.7777777777777778,
              "#fb9f3a"
             ],
             [
              0.8888888888888888,
              "#fdca26"
             ],
             [
              1,
              "#f0f921"
             ]
            ],
            "type": "surface"
           }
          ],
          "table": [
           {
            "cells": {
             "fill": {
              "color": "#EBF0F8"
             },
             "line": {
              "color": "white"
             }
            },
            "header": {
             "fill": {
              "color": "#C8D4E3"
             },
             "line": {
              "color": "white"
             }
            },
            "type": "table"
           }
          ]
         },
         "layout": {
          "annotationdefaults": {
           "arrowcolor": "#2a3f5f",
           "arrowhead": 0,
           "arrowwidth": 1
          },
          "colorscale": {
           "diverging": [
            [
             0,
             "#8e0152"
            ],
            [
             0.1,
             "#c51b7d"
            ],
            [
             0.2,
             "#de77ae"
            ],
            [
             0.3,
             "#f1b6da"
            ],
            [
             0.4,
             "#fde0ef"
            ],
            [
             0.5,
             "#f7f7f7"
            ],
            [
             0.6,
             "#e6f5d0"
            ],
            [
             0.7,
             "#b8e186"
            ],
            [
             0.8,
             "#7fbc41"
            ],
            [
             0.9,
             "#4d9221"
            ],
            [
             1,
             "#276419"
            ]
           ],
           "sequential": [
            [
             0,
             "#0d0887"
            ],
            [
             0.1111111111111111,
             "#46039f"
            ],
            [
             0.2222222222222222,
             "#7201a8"
            ],
            [
             0.3333333333333333,
             "#9c179e"
            ],
            [
             0.4444444444444444,
             "#bd3786"
            ],
            [
             0.5555555555555556,
             "#d8576b"
            ],
            [
             0.6666666666666666,
             "#ed7953"
            ],
            [
             0.7777777777777778,
             "#fb9f3a"
            ],
            [
             0.8888888888888888,
             "#fdca26"
            ],
            [
             1,
             "#f0f921"
            ]
           ],
           "sequentialminus": [
            [
             0,
             "#0d0887"
            ],
            [
             0.1111111111111111,
             "#46039f"
            ],
            [
             0.2222222222222222,
             "#7201a8"
            ],
            [
             0.3333333333333333,
             "#9c179e"
            ],
            [
             0.4444444444444444,
             "#bd3786"
            ],
            [
             0.5555555555555556,
             "#d8576b"
            ],
            [
             0.6666666666666666,
             "#ed7953"
            ],
            [
             0.7777777777777778,
             "#fb9f3a"
            ],
            [
             0.8888888888888888,
             "#fdca26"
            ],
            [
             1,
             "#f0f921"
            ]
           ]
          },
          "colorway": [
           "#636efa",
           "#EF553B",
           "#00cc96",
           "#ab63fa",
           "#FFA15A",
           "#19d3f3",
           "#FF6692",
           "#B6E880",
           "#FF97FF",
           "#FECB52"
          ],
          "font": {
           "color": "#2a3f5f"
          },
          "geo": {
           "bgcolor": "white",
           "lakecolor": "white",
           "landcolor": "#E5ECF6",
           "showlakes": true,
           "showland": true,
           "subunitcolor": "white"
          },
          "hoverlabel": {
           "align": "left"
          },
          "hovermode": "closest",
          "mapbox": {
           "style": "light"
          },
          "paper_bgcolor": "white",
          "plot_bgcolor": "#E5ECF6",
          "polar": {
           "angularaxis": {
            "gridcolor": "white",
            "linecolor": "white",
            "ticks": ""
           },
           "bgcolor": "#E5ECF6",
           "radialaxis": {
            "gridcolor": "white",
            "linecolor": "white",
            "ticks": ""
           }
          },
          "scene": {
           "xaxis": {
            "backgroundcolor": "#E5ECF6",
            "gridcolor": "white",
            "gridwidth": 2,
            "linecolor": "white",
            "showbackground": true,
            "ticks": "",
            "zerolinecolor": "white"
           },
           "yaxis": {
            "backgroundcolor": "#E5ECF6",
            "gridcolor": "white",
            "gridwidth": 2,
            "linecolor": "white",
            "showbackground": true,
            "ticks": "",
            "zerolinecolor": "white"
           },
           "zaxis": {
            "backgroundcolor": "#E5ECF6",
            "gridcolor": "white",
            "gridwidth": 2,
            "linecolor": "white",
            "showbackground": true,
            "ticks": "",
            "zerolinecolor": "white"
           }
          },
          "shapedefaults": {
           "line": {
            "color": "#2a3f5f"
           }
          },
          "ternary": {
           "aaxis": {
            "gridcolor": "white",
            "linecolor": "white",
            "ticks": ""
           },
           "baxis": {
            "gridcolor": "white",
            "linecolor": "white",
            "ticks": ""
           },
           "bgcolor": "#E5ECF6",
           "caxis": {
            "gridcolor": "white",
            "linecolor": "white",
            "ticks": ""
           }
          },
          "title": {
           "x": 0.05
          },
          "xaxis": {
           "automargin": true,
           "gridcolor": "white",
           "linecolor": "white",
           "ticks": "",
           "zerolinecolor": "white",
           "zerolinewidth": 2
          },
          "yaxis": {
           "automargin": true,
           "gridcolor": "white",
           "linecolor": "white",
           "ticks": "",
           "zerolinecolor": "white",
           "zerolinewidth": 2
          }
         }
        },
        "title": {
         "text": "Raster, aligned to stim on",
         "x": 0.21,
         "y": 0.87
        },
        "width": 580,
        "xaxis": {
         "range": [
          -1,
          1
         ],
         "showgrid": false,
         "title": {
          "text": "Time (sec)"
         }
        },
        "yaxis": {
         "range": [
          0,
          271.32
         ],
         "showgrid": false,
         "title": {
          "text": "Trial idx"
         }
        }
       }
      },
      "text/html": [
       "<div>\n",
       "        \n",
       "        \n",
       "            <div id=\"b2d34659-a6e6-494c-a83e-12e5875004e5\" class=\"plotly-graph-div\" style=\"height:370px; width:580px;\"></div>\n",
       "            <script type=\"text/javascript\">\n",
       "                require([\"plotly\"], function(Plotly) {\n",
       "                    window.PLOTLYENV=window.PLOTLYENV || {};\n",
       "                    \n",
       "                if (document.getElementById(\"b2d34659-a6e6-494c-a83e-12e5875004e5\")) {\n",
       "                    Plotly.newPlot(\n",
       "                        'b2d34659-a6e6-494c-a83e-12e5875004e5',\n",
       "                        [{\"marker\": {\"opacity\": 0}, \"mode\": \"markers\", \"showlegend\": false, \"type\": \"scatter\", \"x\": [-1, 1], \"y\": [0, 271.32]}, {\"fill\": \"tozeroy\", \"fillcolor\": \"rgba(218, 59, 70, 0.5)\", \"mode\": \"none\", \"name\": \"Incorrect\", \"type\": \"scatter\", \"x\": [-2, -1], \"y\": [-2, -1]}, {\"fill\": \"tonexty\", \"fillcolor\": \"rgba(65, 124, 168, 0.5)\", \"mode\": \"none\", \"name\": \"Correct\", \"type\": \"scatter\", \"x\": [-2, -1], \"y\": [-2, -1]}],\n",
       "                        {\"height\": 370, \"images\": [{\"layer\": \"below\", \"sizex\": 2, \"sizey\": 271.32, \"sizing\": \"stretch\", \"source\": \"data:image/png;base64, iVBORw0KGgoAAAANSUhEUgAABdwAAALuCAYAAAC0INRMAAAABHNCSVQICAgIfAhkiAAAAAlwSFlzAAAXEQAAFxEByibzPwAAADh0RVh0U29mdHdhcmUAbWF0cGxvdGxpYiB2ZXJzaW9uMy4xLjEsIGh0dHA6Ly9tYXRwbG90bGliLm9yZy8QZhcZAAAgAElEQVR4nOzdz6ttR5YY6BUp5cOUlWCwwEpnDhrahQsSOpV65kE12ENjNHgzTxrak4KeGfz3NGhShp4YevAo5O5xDgwiUb4cJDTYnmXaEshgXGrcKOuxe3DPTd0f5/eJvWNFxPeBuE/33HNOxIoVsffZZ0dEWZYlAAAAAACA2/ygdQEAAAAAAGAELrgDAAAAAEAFLrgDAAAAAEAFLrgDAAAAAEAFLrgDAAAAAEAFLrgDAAAAAEAFLrgDAAAAAEAFLrgDAAAAAEAFLrgDAAAAAEAFLrgDAAAAAEAFLrgDAAAAAEAF77cuAAD1lVJeRMTHEfFRRHwVEW+XZfmubamArRgDuCcXAPIxNgNrM860VZZlaV0GACraHVj/IiL+3oNffx0RnznAwviMAdyTCwD5GJuBtRln2rOkDMB4Po7HB9bY/f/HDcoCbM8YwD25sIJSyotSyqtSyuvdzxetyxSRt1zkIUfSMDYDazPONGZJGYDxfHTh74GxGAO4JxcqO3DH2MtSStM7xrKWizzkSCrGZmBtxpnG3OEOMJ6vLvw9MBZjAPfkQn1Z7xjLWi7ykCN5GJuBtRlnGnPBHWA8b+NufbaHvt79HhifMYB7cqG+rHeMZS0XeciRPIzNTM8SV6szzlRyba5aUgZgMMuyfFdK+SzsSA5TMgZwTy6sIusdY1nLRR5yJAljM7OzxNX6jDN13JKrLrgDDGg3+H/RuhxAG8YA7smF6t5GxMt4/MErwx1jWctFHnIkEWMzkzu2xJV+UYlxpoqrc9UFdwAAgDNkvWMsa7nIQ44AiVjiil5cnasuuAMAAJwp6x1jWctFHnIESMISV/Ti6ly1aSoAAAAAsAUbetKLq3O1LMuySokAoIXdxiamSwPQ1NbHI8c/yEWf7JN228ZMcZ6priO6tv1ccAdgGAd2Ef86Iux4D8Bmtj4eOf5BLvpkn7QbtcmpeVlSBoCRHNtFHIATSikvSimvSimvdz9ftC5Tp7Y+Hjn+QS76ZJ+0G7XJqUnZNBWAkdjxHuBKB+7CellKcRfW5bY+Hjn+QS76ZJ+0G7XJqUm5wx2AkdjxHuB67sKqZ+vjkeMf5KJP9km7UZucmpQL7gCMxI73ANdzF1Y9Wx+PHP8gF32yT9rtDJafu8hqOaUdcrNpKgBDsQs8wHVKKa8i4tM9D32+LMsXW5end1sfjxz/IBd9sk/a7TibgF5ujZzSDvm54A4AAPjwBgAc5cv5HLRDfjZNhcH4Rh4AuMayLN+VUj4L5xEAwH6Wn8tBOyTngjsM5MCdaS9LKe5MAwBO2p0vuDMKANjHJqA5aIfkbJoKY/k4Hl9sj93/f9ygLAAAAMA4bCybg3ZIzh3uMBbTigC4mmXJAKANx2B6YPm5HLRDfi64w1hMKwLgKpYlA4A2HIPpieXnctAOuVlSBsZiWtEVSikvSimvSimvdz9ftC4TQAOWJQOANhyDAQbiDncYiGlFl3M3CcAfWZYMANpwDAYYiAvuMBjTii527G4ScQRmYlkyAGjDMRhgIJaU2ZBlK24jfqzE3SQAdyxLBgBtOAYDDKQsy9K6DFM4sGzF1xFh2YoziB9rKaW8iohP9zz0+bIs7nAHprI73lqWDAA25hgMMA5LymzHshW3ET/W8jYiXsbzL3PcTQJMx7JkANCGYzDAOFxw345lK24jfh3p6e4MG81yq57yvTWx2oY4AzAqxzgAeuCC+3ZsgnIb8evEgeV/XpZS0i7/424SrtVjvrciVtsQZwBG5RgHQC9smrodm6DcRvz6cWz5HxiNfD+fWG1DnAEYlWMcAF1wh/tGLFtxG/Fr68Kpm5b/acQU2ybk+/kOxkruVjVdTs6QPzPUsZZrY3VrjLVRPzK31dply1z3M013jAPoyQDHmWpccN+QZStuI35tXDF10/I/DZhi24x8P9+hmHwTcremqXJyhrFvhjrWcm2sbo2xNupH5rZau2yZ636BqY5xAD0Z5DhTjSVlgFMunbpp+Z82TLFtQ76f71CsIuRuTbPl5Axj3wx1rOXaWN0a46ueX0p5UUp5VUp5vfv54sz343qZ+9PaZctc93PNdowD6MkIx5lq3OEOnHLR1E3L/zRjim0D8v18h2IVEf/swFPk7hUmzMkZxr4Z6ljLtbG6NcYXP99dYM1k7k9rly1z3c8y4TEOoCfdH2dqcsEdOOXiqZuW/2nCFNtG5Pv59sWqlCJ3K5ssJ2fInxnqWMu1sbo1xtc8/9hdYLP03xYy96e1y5a57meb7BgH0JMhjjO1WFIGOMXUzT5oJ3oldxvrfFmLi/Kn07rqI+e7Nla3xvia57sLrI3M/WntsmWuOwD9c5x5oCzL0roMQHJ2mu6DdqJXcredA8tafB0R3SxrcW7+9FxXfeR818bq1hhf+vxSyquI+HTPQ58vy+Lu3RVl7k9rly1z3QHon+PM91xwBwCY1EwX/WaqK/n1/AUQAADHpVzD3Tci6xBX4FrGD7Y2S84lqOdVy1okKPc15bGEB2lcs/ljtn53i97r0nv54Sk5DVBXugvuB+72eFlKcbfHDcQVuJbxg63NknNJ6nnx5kZJyn1NeWzkRCqXbP6Yrd/dove69F5+eEpOA9SXcdPUj+PxQB+7//+4QVlGIq7AtYwfbG2WnMtQz2s2N8pQ7ofOLY+NnOhZtn53i97r0nv54Sk5DVBZujvcw3TftYgrcC3jB1ubJeea1/OaZS0iQbnPfN9Hv7+yrpBFtn53i97r0nv54Sk5zZAslURLGS+4m+67DnEFrmX8YGuz5FyKel6yrMVOinKf8b7Pfn9FXSGLbP3uFr3Xpffyw1NymuFYKonWMi4pY7rvOsQVEiulvCilvCqlvN79fJGlLBHx2zB+8MAG+TrLMavXemYrd7bynC3T2D+KgWPabZ7v0Xtdei8/PCWnGZGlkqjukvPMsizLlmU7i2kf6xBXyOnAt+9fR8Tm374fKctfRsTPwvgxva3ydZZjVq/1zFbubOU5R6axfxSjx7THPD+k97r0Xn54Sk4zmlLK64j4ZM9DXy7L8mbr8tC/S88zU15wB5jJ7i7yT/c89PmyLJsufZCpLOQkR6AOfak+MQUAIpwTUN+lOZVxSRmA2WTaqChTWcjpqhwZeJkHuJbxtj4xBQAiLJVEfRedZ2bcNBVgNpk2KspUFnK6OEdsWgR7GW/rE1MAIJZl+a6U8llYKol6LjrPdIc7QHuZvn3PVBZyuiZHbFoEzxlv6xNTACAi7i66L8vyxbIsb3Y/XWznFhedZ1rDvWM2NumL9uKYTPmRqSzkdGmO2LQI9jPe1iemAMBTzg+o4ZI8csG9U5fujktb2guYmU2LAACAFlyPoQVruPfr2PR8Fy/y0V5ANS3u0LjxPd9GxMt4fpJrmQfgYu5SozdylhrkEVxt1esx+ib7uODer4t2x6U57QVU0WID0lvf06ZFQC02YaY3cpYa5BHcZLXrMfomh9g0tV8X7Y5Lc9oLqKXFBqQ3v6dNi4BKbMJMb+QsNcgjuN6a12P0TfZyh/uKVp5Wknp6fqYpNUnKkrq94FxJ+tPsWsyYMUsHyMJ4RG/kLDXIowN8PuEMa16P0TfZywX3law9rSTz9PxMU2qylCVze8G5svQnmsyYMUsHyMJ4RG/kLDXIoz18PuEcK1+P0TfZy5Iy61l9Wkni6fmZptSkKUvi9oJzpelPk3sbd3dkPLT2jJkW7wmwj/GI3shZapBH+/l8wllWvB6jb7KXO9zXM/O0kkx1z1QW6N3DfvPe7v8/iIi/LqWYsbGRhjNmfhMRf77797+LiF9pc04xzfswsblOhlmD2o5LZMhZ+ndJHk02Rvm8T1PGeA5xwX09M08ryVT3TGWB3t33m/ci4hdxd7E9IuLPIuIvTN3czi7OX2zxXgem6v48In61xfvTL9O8DxOb22w5Bj6l7bhGy5xlHOfk0YRjlM/7NGeMZx9Lyqxn5mklmeqeqSzQu/v+dH9ne0TEt3F3Qmvq5rhM1eVacucwsemXtgMym22M8nkfSMkd7iuZeVpJprpnKgv07kF/+pO4u+B+f7H93e5PTN0ck6m6B0w2ZfsacucwsemXtgMym2qM8nkfyMoF9xXNPK0kU90zlQV6tzup/WVE/GjPw6ZujslU3T0mnLJ9DblzmNj0S9sBmU03Rvm8D2TkgjsAl3obES/j8YXGvVM33QE8hLPbezLHpmyv9qFv6z514/vJnScexPOnEfG3IuIP8f0soali0/HxYbO8rhmjjuN90sh1O6X3uvde/qSqjVHaB+B6ZVmW1mUAoDPnnIAfuAP464hwB3BnfOB6rpTyOiI+2fPQl8uyvFnpPTftUzXeT+58b08834uIH8bdFzS/i4li0/vxYYu8rhmj3uN9zMh1O6X3uvde/sxqjFHaB+A27nAH4GJnTt1scgcw9Zmqu1eLKdtb96mb30/uPPI0nu92//1uWZbZYtT18WGjvK4Zo67jfcLIdTul97r3Xv60Ko1R2gfgBi64A3Qu8R2kU23axHRaLJeydZ/Sh+vqIp4bHVNuikXi415NNfMlVe5Vbr9UddvY1XVP0ocelvO93f9/EBF/XUoZsU+nticnfnrgT2foWwA3c8EdoGPJN26cbtMm5rHbQPiz2PaCxdZ9Sh+uK308NzymXB2L5Me9mmrmS5rcW6H90tStgavqnqgP3ZfzvYj4RdxdbI+I+LOI+IsB+3RaB3Li6T4j92boWwA3+0HrAgBwk2PTPVt7G3d3/D401aaAjG1Zlu+WZfliWZY3u59rXxjYuk/pw3X1EM+tjim3xCLzca+mmvmSKfdqt1+mum3t2rpn6UP35b+/sz0i4tu4u6A7Yp/ObF9O/CHu9hl5aJa+BXAzd7gD9C3tVOpGdwBPbe0p4kmmoKe1dnwa9anfRMSf7/797yLiV1u2+Ug518mYuMkx5cZYpD3u1VQzXw69VkREKeXVra9/oartl7FfbTVu3VD3FH3oQfn/JO4uuN9fbL+/o3qoPp3cvli/i4hfx92m3in6FkBPXHAH6FvqqdQ2TNzO2lPEE01BT2mr+GzVpw7U5+cR8au13/tEGbrOuQ7GxM2OKTfEIvVxr6aa+fL0tRr2r+rtl6lfbR3XK+uepg/tLrr/MiJ+lKE8EzsU6xk39QaowpIyAH2beSo1j609RTzLFPSsRotPhvpkKMNsejim9FDGHrTqX6O3Xw/jVrY2yFaeGWkDgMrc4Q7QsYxTqWlm7SniKaagJzZafDLUJ0MZptLDMaWHMnayFFKT/tVD+90o/biVrQ2ylWdG2gCgPhfcATqXaSo1Ta09RTzNFPSkRotPhvpkKMN0ejimZC5jR0shNetfmduvgi7GrWxtkK08M9IGAHVZUgYAxrD2dGDTjY/rJj6llBellFellNe7ny/2/Nlm9TlSnm5iuqUz229qa8foxOv3sKRIRI4+PiLj1hGT5QLA1YyX/SvLsrQuAwBQwdrLGHSyTEIzPcTnwN23X0fEs7tvt6jPqfL0ENMtXdJ+s1o7Rmfk7OuI+GTPU79cluXNre9fU4Y+XvO9sjBu7TdjLgBcw3g5BkvKAMAg1p4ObLrxcZ3E59jdt4/KvlF9jpank5hu6ez2m9jaMTr1+l0sKRKRo4+v/N5NGLcOmi4XAK5kvByAC+4ACbgbCthItg39spVnNZXG+WnidYPWG0i/jYiX8fyutFmXFJGziTQ+35QLwGoG+zxtvByAC+4AjXW0wRrQv2x332YrzyoqjvNTxOtGTTeQ3i0r81mM86H/VnI2iQTnm3IBWEWC8a024+UAbJoK0F4vG6wB/cu2oV+28qyl1jg/S7xu0XwD6WVZvluW5YtlWd7sfvb4Yb8WOZtH6/NNuQCspfX4VpvxcgDucAdoz5QxNjfYtMvqRo1Ptrtvs5VnRVXG+dbx6qFfrB2j1m3QmzXj1UM+JtP0fFPfAVY01Odp4+Vlsp4PuOAO0J4pY2xqwGmXVY0en2wb+mUrz0qqjfOt4tVTv7CBdC5rxKunfEyk+fmmvgOspPn4Vpvx8jyZzwcsKQPQniljbG20aZe1iQ+1jTDO6xdkIh8vN8I4BLCP8W1eac8H3OEO0JgpYzQw1LTLFYgPVQ0yzusXZCIfLzTIOAScKesyG2swvk0t7fmAC+4ACZgyxsaGm3ZZmfhQ3QDjvH5BJvLxCgOMQ8AZMi+zsRbj27TSng9YUgYA5mPa5XHiw1BKKS9KKa9KKa93P19c8TL6BZnsy8dvIuL9G/P8oEr9qImeyw5cJe0yG1BZ2vPTsixL6zIAABubaZrpNcSHURy4y+3riLj4Ljf9gkye5OM3EfFJRHz44E+uyvMj71WlH22t57ID1ymlvI67MfGpL5dlebN1eWBNWc9PLSkDABMy7fI48WEgx+5yuyjH9QsyeZiPpZRX8fhie8SVeX5AtX7UQM9lB66TdpkNqC3r+WmTC+5Zv32YnXapRyw5ZLbcmK2+t2odr9bvD6wi7WZSUNHaed5zP+q57MB13kbEy3g+s6X5Mhswi80vuM+4eUMPtEs9Yskhs+XGbPW9Vet4tX5/YDXucmMGa+d5z/2o57IDV1iW5btSymfhRhpopsWmqTZvyEm71COWHDJbbsxW31u1jlfr9wfWkXYzKaho7TzvuR/1XHbgSsuyfLcsyxfLsrzZ/XSxHTbUYkkZU9py0i71iCWHzJYbs9X3Vq3j1fr9gRW4y40ZrJ3nPfejnssObM8Sk1BHiwvuprTlpF3qEUsOmS03ZqvvrVrHq/X7AyvJupkU1LR2nvfcj3ouO7AdS0xCPS2WlDGlLSftUo9YcshsuTFbfW/VOl6t3x8AAGjHEpNQSVmWZfs3NUUlpVrton3rx0BMxzFbW/Zc3xZlbx2v1u/fG/FqQ9z70rq9Wr8/jCBjP1q7TDOeB0Ip5XVEfLLnoS+XZXmzdXmgZ00uuDOuA1OQvo4IU5CuJKawPf2OU+RIG+Lel9bt1fr9YQQZ+9HaZWpR54xxZj6llFcR8emehz5flsWyVHCBFkvKMDZTkOoTU9iefscpcqSNlHEvpbwopbwqpbze/XyR8TUbaN1erd+fPQbJ7Zlk7Edrl6lFnTPGmflYYvIExzDO1WLTVMb20YW/5zQxhe3pd5wiR9pIF/c1NhgbaNOy1u3V+v15YqDcnknGfrR2mVrUOWOcmcyyLN+VUj4LSxvt5RjGJdzhTm1fXfh7ThNT2J5+xylypI2McV/jrsRR7nRs3V6t35/nRsntmWTsR2uXqUWdM8aZCS3L8t2yLF8sy/Jm99OF5O85hnG2aS+4t54G0vr9azhQh+mnIK3QttPHtEcj9PHJ7et330TE+9q0rUR9a7qxOUnsM8Z9jbsSR7nTsXV7tX5/nhslt2eSsR+tXaYWdc4YZ+AxxzDONuWmqa03JGn9/jUcq8Pu31NOQVqrbe1Y35cR+jjP+t03EfFJRHz44E+06cay9a2ZxuZMsc8W9zU2GBtp07LW7dX6/XlspNyeScZ+tHaZWtQ5Y5yB7zmGcYlZ13A/Ng1ki07S+v1rOFiH3UDTSz1qW6Vtdydas8a0RyP08ek97He7k6sPn/yJNt1eqr412dicJvYJ4/42Il7G8y8jbrkrcY3XbKJ1e7V+f54ZJrdnkrEfrV2mFnXOGGfgEccwzjbrBffW00Bav38NI9RhDff1f2/37w8i4tuI+GlscPI0010Ryeuqf4xHm+YwTDskH8P2GSb2ta2xwZhNy8bVYd+vSm4DD80+JtIXxzAuMesF99YbkrR+/xpGqMMavoq7i+2/iLuL7ff+Synlr9YciGfaMbuDuuof49GmOQzRDh2MYfsMEfu1rHFXojsdx9Np369ObgMRxkT65BjGuWbdNLX1hiSt37+GEeqwhrcR8cN4fLH924j4Q6y/c/VMO2Znr6v+MR5tmsMo7ZB9DNtnlNhDSz32fYC1GBOBYXV/h/s1U5BaTwNp/f41jFCHNezi8kVE/N34fjmZryLiXaw/7X7o6f5P+vqfxt1MgndP/ixFXdfoH6ZbtmXMy2GgduhuvB4o9tBSd30fYEXGREjC9YbDro1N1xfcb5mC1HoaSOv3r2GEOqzkdxHx+z2/X3va/bDT/ff09Z9ExI8j4tfx+KJ7mrrW7B+mW+ZgzMthkHbocrweJPbQUpd9H2AlxkRIwPWGw26JTdcX3OP4FCQfCGml1c7VI++Y/bSvfxV3F9w/iu+/3BilrvsY62AsJ8frke8y2aJuo7wH/TgzHw72ffkEdWXvU9nLt5F0n19rtMvIbdtj3XoscwOuNxx2dWx6v+BuChLptJp2P/h0/6d9+l3c3d3+XyPi38dYdd3HWAcDOTVej3yXyRZ1G+U96Me5+XCo7+8elk9QSfYxOnv5tpLt82uNdhm5bXusW49lbsT1hsOujk3vF9xNQSKlVtPuB57uv69Pv4uIXy7LMmJ9nzLWwWBOjNcj32WyRd1GeQ/6cXY+7Ov7pZRX5z4fOEv2MTp7+TaT7PNrjXYZuW17rFuPZW7B9YbDro7NDyoXZGtv427K0UNVpyCVUl6UUl6VUl7vfr6o9drA2Vbv68ldVP+s41bWcjGHzvJv5LtMtqjbKO/BCa379f37R8TruNtf5r0nf3JuPtz/3Xu71/mHu58/rVFOmFD2MTp7+WZVo11Gbtse69ZjmVuY/XrLMVfHpus73NeegmT6CeSQbbrh1i6pf9ZxK2u5mEOH+TfyXSZb1G2U9+CI1v36yfv/vYj403i+ofu5+fBV3F1s/0VEfPDg9/+llPJXSccpyCz7GJ29fLOq0S4jt22PdeuxzJub/XrLMbfEpvc73GNZlu+WZfliWZY3u581E+LY9BNgQyv39fQuqH/WcStruZhDb/k38l0mW9RtlPfguNb9+uH7fxUR38bdxfL7u+YuyYe3EfHDeHyx/duI+EPkHacgs+xjdPbyzapGu4zctj3WrccyNzH79ZZjro1N13e4b8D0E6a35q7edgy/zom4ZR23spaLQT3pJ38ad3ePvnvyZynzb+S7TGrU7dSxY4v4jdxGHWl9XHn4PvebuX8Udx/kP48L8mGXT19ExN+Nu4vu38ZdTr2LpOPUVno/V+y9/C3UiFn2MTp7+WZVo116bNtz+1yPdeuxzIzDBffjTD9hamtO1249FbxXZ8Qt67iVtVwMaE8/+Uk8X+ohInH+JdtErKpb6nbusWOL+I3cRp1ofVx5+j7vIuL3EfH5lRu6/273/FPvM43ezxV7L38LNWOWfYzOXr5Z1WiXntr20j7XU93u9VhmxtD9kjIrM/2E2a05Xbv1VPBenYpb1nEra7kY09N+cn/B6uGdovKvT44d3Gt9XKn9/q3rk1Hv/b338rcgZrAtfQ5W4g73I0w/gVWna7eeCt6ro3HLOm5lLFfv07x7L//KnvaT++Ue/mtE/PvoJF7aeC/HDiKi/XGl9vu3rs85GoxJvff33svfgpjBtlbpc85h6+g1jr2WuzYX3E8w/YTJrTldu/VU8F6djFvWcStTuXqf5t17+Tewr5+8i4hfXrnUw+a08UGOHfxR6+NK7fdvXZ9jGo1Jvff33svfgpjBtqr3OeewdfQax17LvYYflFJel1Je7YJSVSnlxe61V3uPLY1WHzjDmtObTZ2+jrjV0fv0yd7Lv7YR+ok23m+EtoUetRiTeu/vvZe/BTGDba3R55zD1pE+jgeukaYv91bej4hPdv+u+o3DaN9qjFYfOMea05t7mDqdkbhV0/uU5d7Lv6pB+ok23mOQtoUebT4m9d7fey9/C2IG21qpzzmHrSN1HA9dI43nX+DcS1HuLT1cUub+G4da0xiPfauRcqrkCaPVB86y5vTmzFOnMxO3Knqfstx7+Vc3QD/RxgcM0LbQoyZjUu/9vffytyBmsK0V+pxz2Dqyx/HQNdL/fuDvs5R7Mz948v81v3FI/W3MFUarD8DMep+y3Hv5OU0bV2JJQGZWMf+NSdAZxz8acbyoI3scD10L/W+Ru9xVHRtnn26aWvMbh+zfxlxqtPoATKv3Kcu9l5/TtHEdlgRkZjXz35gEfXH8oxXHizo6iOOha6G/i4i/irzlrubUOPvwgnvtbxzext36PQ/fuOdvNUarD8DUep+y3Hv5OU0bV2FJQGZWNf+NSdAVxz+acbyoI3kcD14jTV7umo6Os+9HxJexwjcOHXwbc5HR6gMAMAFLAp5pd5eO89yxpM5/OQerSt3/ge/1eDzMfo10o5geHWffX5blTeU3/KPRvtUYrT4AAIOzJOAZLD0wrLT5L+dgdWn7P/C9no+HWa+RbhjTo+Ps001TAQBgFNk3nMri2JRY+pU5/+UcrCtz/we+53hY31YxPTrOPt00FQAAhpB9umsilh4YUPL8l3OwouT9H/ie42F9m8T01DjrgjsAAMPKOt01GUsPDCpx/ss5WFni/g98z/Gwvs1iemyctaQMQKdKKS9KKa9KKa93P1+0LtMhPZUVmIex6Y8sPcDW5ByPGI+BSTke1pcipmVZli3fD4AKDmwE8nVEpNtcpaeyAvMwNj22i4elB9iMnOOe8RiYmeNhfRliakkZgD4d2wgk29TRnsoKzMPY9IClB9ianOMB4zEwLcfD+jLE1AV3YGhrfrPZ+FvTnjZX6amsJJThDgXqS9Cum41NCeoKkJlzRQCG4oI7MKwD01NfllJunp665mufqafNVXoqK8kk6GusIEm7bjI2JakrQGbOFQEYik1TgZEdm56a+bXPkWIjkDP1VFbyad3XWEeGdt1qbMpQV4DMnCsCMJSr7nA3LXYd4rot8X5s0HisOT216dTXZVm+K6V8Fh20WU9l5bQGY4Vp5olUbP/m7brh2NS8rsBxg54H32TLmDhXZA2t+3XvS5u2jh/07uIL7qbFrkNctyXejw0cjzWnpzaf+pphI5Bz9VRWDms0VjTva9yp3P4p2nWjsSlFXYH9Bj4PvlqLmNHD8owAACAASURBVDhXpKbW/br3pU1bxw9GcM2SMqbFrkNctyXej40ajzWnp5r6yoxajBX6Wh4123+mdp2prtCjUc+DbyEm9K51Dve+tGnr+EH3rllSxrTYdYjrti6O9+BTqobMvzWnp5r6yqQ2Hyv0tVSqtf9M7TpTXaFTQ54H30hM6F3rHK7+/g+uR7yOu4vfX0XEuxqvvUfr+EH3rrngblrsOsR1WxfFe4IpVcPm35rTU019ZUJNxgp9LY2q7T9Tu85UV+jQsOfBNxATetc6h6u+/5PrEX8vIv40In4cEb+O7y+616xb6/hB965ZUsa02HWI67YujXdXU6pKKS9KKa9KKa93P1+ceIr8O+CKWDKpJ7nyP+/+Gy1vqo4V+ld3ujtWyDFGI6dX0d3YtoG3EfFNRPwkIv7h7uc3MXdMpux/Hde5db+u/f4Pr0d8FRHfRsQH8f0d57Xr1jp+0L2yLMvlTxp7aY1mxHVbl8S7lPI6Ij7Z89CXy7K8Wa+UlztwN/7XEXH0bnz599y1sWQ+T3LlvYj4xe6h+7tOhsmbWmOF/tWnno4VcozRyOn19DS2bWEXj/8tIn4edxf1vo2I30TE/z5rXGbsf73XuXW/rvn+e65HvLd73a8j4s0tr33kPY2LcINrlpQxLXYl4rqtC+Pd05SqY3fjH6yv/NvrqlgypYe58lHcfTi9//fvY6C8qThW6F8d6uxYIccYjZxeSWdj2xY+jogP4+4c5t6HMXeuzdj/uq5z635d+f2fXnd4F3f98/NlWSyfCglddcEdelHxW9m3EfEynn+7v/mUqjPqdNMGJ2t9k93pN+TNNovpNF4ze5gTHxz4t02GHrMZE2vbPMeyj93Zy8dJxk22IteemzEmM9Y5qzTXI4DzuODOsGpudLosy3ellM+i8YfUM+t09d34a20O2/Gms01mNnQcr5k9zIlvD/w744yYlnqaOUSfNs2x7GN39vJxFuMmW5Frz80YkxnrnFKW6xHA+a7ZNBV6UXWj02VZvluW5YtlWd7sfrY4uJ1Tp1s2OFlrc9iuNp19oNVmMb3Ga2YPc+V+I6Nv4/sPJO5Aec5mTKxt6xzLPnZnLx+nGTfZilx7bsaYzFjntJJcjwDO5A53RjbiFLiTdbrx2++1YtZlWzS8k6DLeM1sT678291DH4Y7UPZypw5ra5Bj2cfu7OXjBOMmW5Frz80YkxnrfK1ZlmybpZ5QgwvujGzEKXBn1emGDU7Wilm3bdFos5hu4zUzGwtdTsxY28Y5ln3szl4+zmDcZCty7bkZYzJjnS81y5Jts9QTarGkDCMbcQrc2nVa6/VHbIs1iRdAf7KP3dnLBwA9mmXJtlnqCVWUZVlalwFWM+KUp7XrtNbrj9gWaxIvgP5kH7uzl2804t0PbUVN8mkupZTXEfHJnoe+XJblzdblWcss9azJWNCnW9vt/vkuuAMAAFR0YOr91xFh6n0y2oqa5NN8SimvIuLTPQ99vizLMMvxzFLPWowFfbq13R4+35Iy0IFSyotSyqtSyuvdzxetywSZ6CMAJGPqfT+0FTXJpxt0ek4/y5Jt6euZLH+MBX26td3++HybpkJyNieB4/QRABL66MLf0462oib5dKVez+mXZfmulPJZDL50SPZ6JswfY0Gfbm23P/6dC+6Q37Fv2EzdAn0EgHy+uvD3tKOtqEk+Xa/bc/rdBd3UZawheT2z5Y+xoE+3ttsf/271C+42CWijx7jXLnOPMTjg0DdpPy2l3D/ec/3gVu4eAKCKiuePbyPiZTxfAzTN1Hv+SFtxkRPjhHy63nTn9ANds8ggW/4MORZMkLO3ttsfn7/qpqk2CWijx7jXLnOPMTjkwOYk70XEDyPi/3vwuy7rB7eygQ8ANax0Pjryh9JhaCvOdc44IZ+uM9s5/UjXLDLImD+jjQWz5Oyt7Xb//LXvcM82pWMWPca9dpl7jMEh+75h+2FE/OHJ3/VaP7jVkHcPALC5quePyafe84C24gInxwn5dLXZzulHumaRQbr8GXAsmCJnb223++evfcE925SOWfQY99pl7jEGex3YnOSnEfE/7fnz7uoHt8q+gU8vRrsDA+AKw5w/AqsxTqxkwnP6s3LJOfp5JsyfFox/F1j7grtNAtroMe61y9xjDA56+g3bbu32fRfcu6wf3GrAuwc2dWB64MtSylDTAwFOGOr8EViFcWJFk53Tn8wl5+iXmSx/WjD+XeAHxx4spbwopbwqpbze/Xxx4eu/jbspHA+NPCUoix7jXrvMPcbgEqPXD9jWsemBALNwfgWcYpyglnNyyTk6mRj/LnBw09Rai+Gb/tJGj3GvXeYeY3CJ0esHbKeU8joiPtnz0JfLsrzZujwArTi/Ak4xTlDLqVxyjk42xr/zHbvgnm6HXwCgPsd8AADIxTk69OvYGu4WwweAObyNiJfxfFab6YEA8IC7+6BfHfZf5+gMpcM+eDV3uAMAU538AMA1ai27Cmyv1/7rHJ1R9NoHr3XsDnffpAHAJHYnOb5QB4DDjm1g6BgKuXXZf52jM5Au++C1Dl5wX5blu1LKZ3F8AwfftF1AvGA9+hcAAA+tcH5o2VXol/4Lbd3UB3u75nPsDvej36QdmArwspQy5FSAW4kXrEf/AgDgoZXOD7+68PdAHvovtHV1H+zxms8PbnjusakAPCdesB79CwCAh9Y4P3wbd8usPmTZVeiD/gtt3dIHu7vmc/QO9xNMx7mMeMEelaYF6V8AsJGsU3qzlotmqp8fnrPsKpCT/vs9x8v1ifFzh/pgREQp5VUcj1V313xuueBuOs5lxAueqDgtSP8CgA1kndKbtVw0tcr5oQ0MoV/6r+PlFsT4sKd98IJYdXfN55YlZa6eClBKeVFKeVVKeb37+eKGcvTC9KXGMuTdFmXIUM8L1JoWpH8BwDayTunNWi7acX4I8Jzj5frE+Hznxqq7Y/rVd7hfOx1n1m96TF9qK0PebVGGDPW8UJVpQfoXAGwm65TerOWiEeeHAHs5Xq5PjM93Vqx6PKbfsqTMtdNxjn17MfTUHtOXmsqQd1uUIUM9L1FtWpD+BQCbyDqlN2u5aMj5IcAzjpfrE+PznR2r3o7ptywpcy3f9Gyos+VF1pQh77YoQ4Z6XqK7aUEAMLmsx+6s5bqY83cAVjTM8TIxMT7fsLG66Q73K/mmZyMdLi+ypgx5t0UZMtTzbD1OCwKAmWU9dmct16WcvwOwplGOl5mJ8flGjlWLC+5vI+JlPD6JHOLbi4R6W15kTRnybosyZKjnRXqbFgQAs8t67M5args5fwdgVYMcL1MT4/ONGqvNL7iP/O1FQr0tL7KaDHm3RRky1BNYx+6ux+p9e63XhVrk6H7i0q8Tbef8HQCgcy3ucB/224uEulpeZG0Z8m6LMmSoJ1DXWksMWLqA7OTofuLSrzPazvk7AEDnWmyaynaG3XwAYDLHlhjI+LpQixzdT1z6dartnL8DAHSuyR3uazK99nujLC+ydpte8vryi5Zq5V8PedxDGTe21hIDXS9dIE+m0HWOruiiuKzRV/S/586MydG2G+X8HQBgZkNdcDe99rnelxdZu00veX35RUu18q+HPO6hjA2stcRAt0sXyJNpdJujKzs7Lmv0Ff3vuQticrLtej9/BwCY3WhLyphee4VSyotSyqtSyuvdzxeJyrF2m17y+vKrkSw52lit/Oshj3so49bWWmKg56ULjuaJcWMYJ3N0trbe1e/9uMv3n0TEe7uHDvXdNcZU4/Rz58ak53EXAIAzDHWHe5h2fLEsdygdKkc8/0Byr1abXpIz8quBLDmaQK386yGPeyjjptZaYqDzpQsO5olxYxyncnS2tn5S32/iLiYfRsS/johfHajzGmOqcfq5s2LS+bgLAMAZRrvgbtrx5Y7djbPlVNZD5fjvB/6+VptekjPyq40sOdparfzrIY97KOPm1lpioOOlC47liXFjICdydLa2fljfdxHx+92//+bIBds1xlTj9HNnx6TjcRcAgDOMtqSMKZqXy3KH0qH3+2+xbptekjPyq40sOdparfzrIY97KCPtHcsT48Y8Zmvra+q7xphqnH5OTAA2MttyckB/hrrD3RTNq2S5Q+nQ+/0uIv4qVmrTS3JGfjWTJUebqpV/PeRxD2WkvWN5Ukoxbsxjtra+uL5rjKnG6efEBGAbsy0nB/SpLMvSugw0dOBg9XVEZFjDffNykI/cAC5l3JjHbG09W30B4KlSyquI+HTPQ58vy2K5LiAFF9y5//DW/G6cLOUgH7kBXMq4MY/Z2nq2+mYg5rfpOX49lx1GVUp5HRGf7Hnoy2VZ3mxdHoB9XHAHAADYw6yC2/Qcv57LDiNzhzvQg9E2TQUAAKjl43h8wTV2//9xg7L0qOf49Vx2GJlNqoH03t99O9jdFDnT+/YTFwAY0+zH+Nnrv5XZ47yn/j898KcfbVaovh2KU7X4rZizq5cduJxNqoGHsp67vh+Pp+J0sbOzXan3ExcAGNPsx/jZ67+V2eN8oP5/KyL+EBHvnvz5V1uVq3OH4lQlfivn7KplB66369+Wj4HJZT53fbqkTC9T5Ezv209crlBKeVFKeVVKeb37+aJ1mchNzoxL2+aiPR7p9hhfqR2f1v+9uNsw7V/Kjaq6zbNb7XLof4mIfxIRP4m7HIu4u9j+wyd/bumC86299MOaOWvZCgDILe256/t7ftfDFDnT+/YTlwtl/jaMnOTMuLRtLtrjmS6P8RXb8WE934uIX0TEB7v/fnTla/Jcl3l2qwd5+k8i4se7X/84In4dd3e2/zoifhfJpir3YIOlH1bLWctWAEB6ac9d911w72GKnOl9+4nL5Y59G2aKGvvImXFp21y0x2O9HuNrtePDen4UdxfaIyK+veE1ea7XPLvVfZ5+++B3H8Rdrv0+In63LIvcutLKSz+smrOWrQCA1NKeuz5dUqaXKXJnT++bbDr6JtMeB4tp2m/DSEvOjOustl17DBxsjD3b03qHjQqf6nVpg1pj5sP6P7zY/vRCPLfpNc9udZ87X8Xzi+4z1L9ns+YsAJXN+jmsc2nPA96PiM+jsyly507vm206+hbTHgeMadpvw0hLzozrZNuuPQYOOMaexUaFp3W8tEGVMfNJ/f86Iv5s9xoP82PK3Kip4zy71X3u3C8fcz+L4v+OiP9jgvp3a+KcBaCiWT+H9S7zecD7vU6PPHN633TT0TeY9jhaTN9GxMt4XKcU34aRlpwZ1zltu/YYONoYe6599b7fqPDhBdWp+1qnSxtUGzPv619KeRvPPxBNnRs1dZpnt3qYp+/ibhmZr8PF9i5MmrMA1DXr57DuZT0P2LeG+x/tvuFJ9y3BBSz9UN9QMb3027AB+gQ3yvwNKrc5s23XHgOHGmMvsK9+NiocwBpj5qjj8NbnGM5pvjdqTh2j/QHgkas/hzmmss/BC+6DTKew9EN9w8X03G/DBukTVJD1G1Rud0bbrj0GDjfGnulQ/WxUOIA1xszRxuGtzzGc0zw3Wk4do/0B4JmrPoc5pnLI001THzo2naIXaRfP79jMMR2hTwC3WXsMnHWMnbXecG/rcwznNHPT/gDw2LWfRxxT2evYkjLdT2ufcXro2iaPafd9okcZpmdlKAPbOdbea4+BPY+x5/aTQ3/Xa71nsuVY2HrcbfD+m51j7Or2jyPiH0bEt/F489mL3691W82mUryd09INY0yftBu9ueHziGMqex274D7EtPaZpoduZeKYDtEnepJhelaGMrCdc9p77TGwxzH23H5yxt91Ve+ZbDkWth53G73/JucYD+r2ZxHx492vfxx3+yW8u/T9WrfVbCrG2zktXTDG9Em70asrP484prLXsSVlTO+Gx/SJ7WWYnpWhDGxHe1/n3LiJb7+2bLvWedLi/fedY3wTEe+XUl6XUl7tLmDc6r5uX8Xd3e0RER/E3V1Y15zTtG6r2dSKt3NaemGM6ZN2YyaOqex18A5307vhMX2iiQzTszKUge1o7+ucGzfx7deWbdc6TzZ//z3nGN9ExCcR8U8f/FmNuwPv6/Au7u5q/yjuLrj/PxFxzWu3bqvZVIm3c1o6Yozpk3ZjGo6pHHJsSZkup7XDmvSJzWWYnpWhDGxHe1/n3LiJb7+2bLvWedLk/R+eY5RSXkXEh0/+5P7uwFvOQx7W4V1E/H73719e+cGwdVvNplq8ndPSCWNMn7QbU3FMZZ9jS8oAtJZhelaGMrAd7X2dc+Mmvv3asu1a58lF719KebFb8qXm0i9r3R1YO7at22o24s1s5HyftBswvbIsS+syAByUYYf7DGVgO9r7OufGTXz7tWXbtc6TC/P56cZwX8d1y7M8fN1XEfHpnoc+X5blpjuoase2dVvNRryZjZzvk3YDZueCOwAAXGGtC+NrXcgHAADWd3QNdwAA4KBVln6xARcAAPTLBXcAALjOahvD2YALAAD6ZNNUAAC4jo3hAACAR9zhDgCV2ShqPtq8T5Xa7TcR8ee7f/+7iPiVth+Xvj4PbQ2wHmMsI3qY1zZNBYCKbHY4H23ep1vbTbvPR5vPQ1sDrMcYy4ie5vV0S8qUUl6UUl6VUl7vfr5oXSYAhvJxPD55jN3/f3ztCzp2pVe9zdnEre2m3eejzeehrQHWY4xlRI/yeqolZQ58i/aylOJbNABq+ejC3x/l2NWFqm3OZm5tN+0+H20+D20NsB5jLCN6lL+z3eHuWzQA1vbVhb8/xbErv9ptzjZubTftPh9tPg9tDbAeYywjepS/s11w9y0aKVkuAvpyos++jbs1CB/6evf7azh25Ve7zdnGre02TLtnOg/JVJY9hmlzTtLWDSTv/0A9F4+xrceH1u/P7TZow0d5PdWmqaWUVxHx6Z6HPl+W5YutywMRNgyB3pzTZx/uTh5333S/vbY/O3b1oWabs51b222Eds90HpKpLIeM0OacR1tvq4f+D9RzyRjbenxo/f7cbqs2fJjXU63hHnffNryM5wF2pwItHVsuwsU0yOdkn90dtGv1X8euDlRuczZya7sN0u6ZzkMylWWvQdqcM2jrzaXv/0A9F46xrceH1u/P7TZpw4d5PdUF92VZviulfBYd3Kngjor6Esf07OUiEtcBZrLpEi89HbtgRgMcmzMtW5WpLNUMkCOwhSH7P1BF6/Gh9ftzu83bcKoL7hF93KlwYKrDy1KK6SpXSh7TszYMSV4HmMnmm/z0cOyCGQ1ybM60cVmmslQxSI7AFobr/0A1rceH1u/P7TZvw9k2Te3FsakOXCdzTM/dMCRzHWAmNlID7o1wbM40pmUqSy0j5AhsYcT+D9TRenxo/f7cbvM2nO4O906YrlJf2phesFxE2jrATCzxAvk0XLKj+2NzpjEtU1kq6j5HYAuD9n/oUral0FqPD63fn9u1aEMX3HMyXaW+1DE9c7mI1HWAmVjiBfJovGTHEMfmTGNaprJUMkSOwBYG7P/QnaxLobUeH1q/P7fbug0tKZOT6Sr1jRDTEerAhUopL0opr0opr3c/X7Qu08jEG7q02pIdZ4wJqY/NLcc04+kfpc4RAHjCUmhQQVmWpXUZ2CPbFJ4RjBDTEerA+Q7cXfB1RNhobQXiDX0qpbyOiE/2PPTlsixvbnjds8aErMfmlmOa8fSxrDkCAE+tdV4Fs7GkTFKmq9Q3QkxHqAMXOXZ3gTyoT7yhT2st2XHWmJD42NxyTDOePpA4RwDgKUuhQQWWlAHIa9+Gau9FxD82RX8VNrablKUvurfWkh29jwkty9977ABgVpZCgwrc4Q6Q19O7CN6LiF9ExH+OiB/tftd8A5uBuJtjQlk3huJ8y7J8V0r5LOov2dH7mNCy/L3HDgCmtOJ5FUzFHe4AeT29u+D+zsCHFyxsYFOPuznmZGOoASzL8t2yLF8sy/Jm97PGh8Lex4SW5e89dgAwrZXOq2AqNk2FCdm867BssXlSnj+NiL8TEe+e/JkNbCrJ1v6sz8ZQHNP7mNCy/L3HDgBoy7lE/2ZuQxfcYTIHlk/4OiKmXz4he2xKKa8i4tM9D32+LIvN2OAK+hUAAOSS/bM5p83ehpaUgflYPuGw7LExRR/q068AACCX7J/NOW3qNrRpKsznowt/P5PUsbGBDdSnX1HbzFNnAQAqSf3ZnLNM3YYuuMN8vrrw9zNJH5vdRRvLXEBF+hW1HJg6+7KUMsXUWQCAStJ/NuekqdvQkjJ0pZTyopTyqpTyevfzResydcjyCYeJDQC3mHrq7KicfwLA5nw279/UbWjTVLox+4YLNZnufpjYAHCtUsrriPhkz0NfLsvyZuvycDvnnwDQhs/m/Zu5DS0pQ0+O3TVmKYALWD7hMLEB4AZTT50dlPNPAGjAZ/P+zdyGLrjTk6k3XBjRzN92AmMzvk3rbUS8jOd3Q08xdXZQzj8BAG4w42cjF9zpibvGBmJjOWBUxrd5LcvyXSnls5jsA8XgnH8CAFxp1s9GNk2lJ1NvuDAgG8sBozK+TWxZlu+WZfliWZY3u5/DfpCYhPNPAIDrTfnZyB3udMNdY8MxRRsYlfENBuH8E4C1ZFxmI2OZzlW77Kdeb8/jv42Inz38+92fdhnPiqb8bOSCO12ZecOFAZmiDYzK+AYDcf4JQG0Zl9nIWKZz1S77qdfb8/h7EfGvIuI/RsS73e9e7X5+WKNMHZvys5ElZYBWTNEGRmV8AwDgmIzLbGQs07lql/3U6z19/KOI+Pvx+K7tn+/+q1WmXk352cgd7kATpmgDo2o5vvU8DRgAYCIZl9nIWKZz1S77qdd7+vgHT34+/XeNMnVp1ms/LrgDzZiiDYyqxfjW8zRgAIDJZFxmI2OZzlW77Kde7+nj3z75+fTfNcrUrRmv/VhSBgBgDD1PAwaYQinlRSnlVSnl9e7ni9ZlAprIuMxGxjKdq3bZT73e08e/ioj/FI8vpv9m91+tMtGRsixL6zIAAHCjUsrriPhkz0NfLsvyZuvyAPDYgZlIX0eEmUgwoYxLAWYs07lql/3U6+15/LcR8bOHf7/70y7jyW1ccAcAGEAp5VVEfLrnoc+XZZlqCidARsZpAJiDJWUAAMbQ8zRggKt1tExLzxsSAgBnsmkqAMAAlmX5rpTyWZi2Ckyksw2je96QEAA4kwvuAACD2F1csiwBMJNjG0ZnGw/fRsTLeL6Gu5lIADAQF9wh+t4YpGfiztpuzbFrnn/sOfse2z0tfT/QX+E0/SQ37TOsbpZpMRMJqMlxLQ9twVM2TWV6B6ahfh0RGaehDkPcWdutOXbN8489Z/fvp499s/v54TVl3Ir+CqfpJ7lpn3HZiBSYkeNaHtqCfWyaCsenobIecWdtt+bYNc8/9px9j/1899+1ZdyK/gqn6Se5aZ9x2TAamJHjWh7agmeGW1LGNI46ssVx5fJ0Mw11MOLO2m7NsWuef+lzPrjiPVrQX+E0/SQ37TMoy7TA7bJ9/s8maXxOHteSlntEzjF4ZqgL7p3tUJ9WtjhuUJ6vLvw9dYg7a7s1x655/qXP+faK92hBf4XT9JPctM/AbBgN18v2+T+bxPE5elxLXO4ROcfgmdGWlDGNo45scVy7PKahtiHuAyilvCilvCqlvN79fNG6TA/cmmPXPP/Yc/Y99pvdf9eWcSsXxSJ5XnAj7XvnaRwi4rfhuJaZ8w6A/bJ9/s8ma3xOHdeylntEzjF4Zqg73MM0jlqyxXHV8piG2oa49y/7XRO35tg1zz/1nH2P7Z6auh9cEovsecFttO+dQ3GIiL+MiJ9F4v48K+cdAAdl+/yfTcr4nHFcS1nuETnHYJ/RLribxlFHtjiuXh7TUNsQ9+4du2siRbvemmPXPP/Yc448liJex1wQi/R5wU20751DcfjZsiwzxaErzjsA9sr2+T+btPE5cVxLW+4ROcfgqdEuuL+Nu7uLHn4AMo3jctnimK08cNStm9Ocen6izW/cNcE+8mJs2veOOHCVS47hiY73zYgBt5A/Z/N5+7he49NruWEIQ11wN42jjmxxzFYeOObW5RZOPT/Zcg7ummAfeTE27XtHHLjYJcfwZMf7JsSAW8if8/m8fVyv8em13DCKoS64R5jGUUu2OGYrDxxx63ILp56faTkHd02wj7wYm/a9Iw5c45JjeKbjfStiwC3kzwV83j6u1/j0Wm4YwXAX3AEau2iZgT1TXX964vlpljFw18Rzpi6fnxezxGrreq69XIV+f0ccOGVf/4rLjuFpjvcNiQG3kD8AjczyWe8YF9wB6jp7mYEDU13/VkT8ISLeHXh+qmUM3DXxPVOXv3cqL2aJ1db13Gq5Cv3+jjhwyKH+FRG/OfCUfcfwVMf7RsSAW8gfgAZm+ax3yg9aFwBgMG/jblmBhw4tM7BvqusfIuKHR55/yeuzrWNTl3lsllhtXc9L3m+WNoAWDvWviPOP4Y73YsBt5A9AGz5nhDvcAaq6cJmBfVNa30XEryPid/uebxmD1ExdPt8ssdq6ng9f973d/38QEX9dSnk6TpxVtrWmg5pmyuAO9a8PI+KsY7jjvRhwG/kD0Mwsn/WOcsEdoLILlhk4NKX1d8uyHHy+ZQzSMnX5fLPEaut63r/uexHxi7i72B4R8WcR8RdPpnGeLNta00FNM2UCB/vXJcdwx3sx4DbyB6CJWT7rHWVJGYB2THUdi/Y83yyx2rqe9+93f2d7RMS3cXdy+3Qa5zllW2s6qGmmjG6WMQ4A4CnnQRFRlmVpXQaAaVlWYSza83yzxGrreu7e719GxD+K7y+232/C/OWyLG/OLVsp5XVEfLLnbR69zhVlXOV1IZNZxjgAgKecB1lSBqApU13Hoj3PN0ustq7nbs3aX0bEj/Y8/NXTv43jZVtrOqhppgxvljEOAOAp50EuuENTvvVjS7XyTd6uT4znskJ7v42Il/F42ZZrpnHWep2tXncaxohtiDPXkjvQN334MuJ1HnGaiyVloJEDm8Z9HRE2wlkjugAAIABJREFUjaO6Wvkmb9cnxnNZq72zf8HmA8f1jBHbEGeuJXegb/rwZcTrPOI0H5umQjs2jWNLtfJN3q5PjOeySnsvy/LdsixfLMvyZvfzqhP5Wq+z1etOwhixDXHmWnIH+qYPX0a8ziNOk7GkDLTz0YW/h1vUyjd5uz4xnov25lJyZhvizLXkDvRNH76MeJ1HnPYYedarC+7Qjk3j2FKtfJO36xPjuWhvLiVntiHOXEvuQN/04cuI13nE6YkDy+y8LKUMscyOJWXoQinlRSnlVSnl9e7ni9ZlquBt3K3Z9ZBN41hLrXyTt+sT47loby4lZ7YhzlxL7nCTQT/79kQfvswU8arQL6eI04WGXmbHpqmkN/LmEiNPnyGf7Jso8j0xnov25lJyZhvizLXkDtca+bNvT/Thy4wer1r9cvQ4XaqU8joiPtnz0JfLsrzZujy1ueBOeqWUVxHx6Z6HPl+W5YutywMAAAC1+ewL+eiX6xg9rtZwpwc2lwCusuVdBDPfsTBz3QEAKvLZF/LRL9fxNiJexvOZA0Mss+OCOz2wuQRwsS03YRl9w5djZq47AEBlPvtCPvrlCpZl+a6U8lkMeuOWTVPpgc0lgGtsuQnL0Bu+nDBz3QEAavLZF/LRL1eyLMt3y7J8sSzLm93PIS62R7jDnci/FEAv33pljyPjk4PPbDn17+Frvrf7/w8i4q9LKaO3gymWAAAV9PLZF2aiX3INF9wn18tSALuypN00oZc4Mi45uNeWU//uX/O9iPhF3F1sj4j4s4j4i8HbwRRLAIBKsn/2hRnpl1zKkjJYCqAOcaQ1OfjcllP/7t/r/s72iIhv4+6i8+jtYIolAAAA7Gx2h7ulDtKquhTAxO1sSQVak4NPbDn178F7/UncXXC/v9j+bvcnw7aDKZYAAADwvU0uuFvqILVqSwFM3s6WVKA1ObjHllP/dheefxkRP9rz8NDtYIolAAAA3NlqSRlLHeRVcymAmdvZkgq0Jgdz0A7A9EopL0opr0opr3c/X7QuEwAAbKUsy7L+m5TyOiI+2fPQl8uyvFm9ABxVaxmY2dt54uV0SEIO5qAdgJkdmPH4dUTMMOMRAAA2W8PdUgeJVVwKYOp2tqQCrcnBHLQDMLljMx6NjQAADG+rJWVMsZ+DdoYTTLMHYHA28QYAYGqbLCkTYYr9LLQzHGaaPQCjK6W8iohP9zz0+bIs7nAHAGB4Wy0pY4r9JLQzHGWaPQCjexsRL+P5l8tmPAIAMIXNLrgDYJo9cJ6WM8ayzlbLWq6tnKr/OfF58jff7H794aG/v8ayLN+VUj47VZZR3JqX1zx/9r5A3+QvcM94wMg2W1IGYHam2QPnaLn8VNalr7KWayun6n9OfJ78zXsR8Yvd3/06It49/XtOuzUvr3n+7H2Bvslf4J7xgNFttWkqADYWBs5zbPmpkd/7mKzl2sqp+p8Tn4d/81FEfLD776MDf89pt+blNc+fvS/QN/kL3DMeMLTul5QxBQXoxWzT7IGrtVx+KuvSV1nLdVTF89RT9T8nPg///cGBf6eO5zk2/mxwa15e8/wu+wLsyN8jXNtgMsYDhtb1BfcDU1BellJMQQFSsrEwcIavLvz9KO99TNZyHVT5PPVU/c+Jz8N/f3vg32njeY4Gnw1uzctrnt9dX4AH5O8Brm0wIeMBQ+t9SRlTUAAgiVLKi1LKq1LK693PF63L1KmWy09lXfoqa7mOOXqeemF/OVX/c+Lz8G++irsL7d/G9x9ss8fzHFt/NrgoL5+2eUT89pLnX/OekMVujHs/7vrkT+JuL4kI+Xsv1bUN53Rs4OTxTB7Ss643TS2lvI6IT/Y89OWyLG+2Lg8AzMrGR3W1nFaedUp71nIdcuw8NSL+r7hus8yD9T8nPk/+5pvdrz889Pe9afHZ4Ny8PDJG/mVE/OzU8695T8hiz6bNH0XE30TEv46IX8nfXNc2nNOxlWPHM3lI77peUiZMQQGALI7dmWUZpQu1XH4q69JXWct1xLHz1Iv7y6n6nxOfDmN4qc0/G1wQ00Nt/rNlWS5qkwnakfE8zP93EfH73b//xoWzP8p0bcM5HZs4cTyTh3St9yVlTKkEhmUKHZ2x8RE8duw8VX9ZR+bPBtqcmcn/0zKNX9qLDOQhXev6DvdlWb4rpXwWplQCg7FxEh3KdGcWNHfsPLWUor+sIPlnA23OzOT/CcnGL+1FBvKQrnV9wT3ClEpgWKbQ0Zu3EfEynq+zmOHOUmjiyHmq/rKSxJ8NtDkzk/9nSDR+aS8ykId0retNUwFGlWnjJDiXjfzgfPrLfLZucznGFi7cOFg+dkJ7kUFPedhTWUeTNfYuuAMkVEp5FRGf7nno80s3VwMA5nJgabqvI8LSdFQjzwCMhS1ljn3vm6YCjCrTxkkAQF+OLU0HtcgzAGNhS2lj3/0a7hllnc7AduQAt0q2cdJqRusro9UHgG59dOHv4RryDMBY2FLa2LvgXtmB6QwvSynNpzOwDTlALYk2TlrFaH1ltPoA0LWvLvw9XEOeARgLW0obe0vK1Jd2OkMNpZQXpZRXpZTXu58vWpcpoaFzACoara9UrY/xdi7aG6jM0nRsQZ4BGAtbSht7d7jXl3Y6w63cvXm2YXMAKhutr1Srj/F2LtobqG2WpeloS54BGAtbyhx7F9zrSzudoYJjd28Ou+zFFUbOAahptL5Ssz7G27lob6C60ZemIwd5BmAsbClr7F1wr+9tRLyMxx+cU0xnqGC0u1Fvtm+DxBg7B6Cm0fpKzfoYb1eQeFPbo+2duNzT0zbjGqFtR6gDjCJDf8xQhq3NWOenxADaKMuytC7DcEYd0EopryLi0z0Pfb4sS7pvk9Z2YAmAryPis92/h8sBqG208bJWfYy39R0bs1vn3LH2jrsvbFKWe3aZc4rbjNC2I9QBRpGhP2Yow9ZmrPNTYgDt2DR1BcuyfLcsyxfLsrzZ/RxlIEu7GUEjB5cAGDgHoKrR+krF+hhv68u8Se+x9s5c7tlpm3GN0LYj1AFGkaE/ZijD1mas81NiAI1YUoazZd6MoBFLPgCrMN6uIu2Yfay9Sylpy83eNngvIv7xrt30236d7HfnzmhqOJPL2AF5ZOiPGcqwtRnr/JQYTGC0WeOjcMGdi2TdjKCR0TZ8BBIx3laXesw+0t6pyz25p23wXkT8IiL+c0T8aPe7l6UU07b7c7TfHZii/6ytz/27lRg7II8M/TFDGbY2Y52fEoPBNT7X4AhLysD1LPkA0I9ex+xeyz2Dp21zf7fYww+xpm336VS/O3eKfsup/MYOyCNDf8xQhq3NWOenxGB8lg1KyqapcANTdwD60euY3Wu5Z/Ckbf40Iv5ORLx78mdfLsvyZuuycZtj/a6U8joiPtnztEdtfe7frcXYAXlk6I8ZyrC1Gev8lBiMrfW5BodZUgZuYMkHgH70Omb3Wu4ZPGybUsqriPh0z5+Ztt2hE/3u3Cn6TafyGzsgjwz9MUMZtjZjnZ8Sg+FZNigpS8oAABxQSnlRSnlVSnm9+/midZlIy7TteZzb1nICAFiTc42kLCkDALDHgU2Ivo4ImxCxl2nb8zi3reUEALAm5xo5ueAOALDHkSVCPl+WxdRcAAAAnrGGO8AZfGvcjtjvt1ZcWse79fs/8dGDf7+3+/8PIuKvSymrlitZHNKrGa8eY5+xzNeWac/zfhsRP9v9/ze7P/vwkteEWm7pazX6aau+nnGMAYDM3OEOcIJlJdoR+/3WikvreLd+/z3lub/D/b2I+EXcXWyPiPj3EfHlWuXKFofsasarx9hnLPO1ZdrzvPci4n+MiP+4+/9f7H7+OiLenfOaUMstfa1GP23V1zOOMQCQnU1TAU77OB5/yIjd/3/coCyzEfv91opL63i3fv+n7jchur+zPSLi27i7u2/NcmWLQ3Y149Vj7DOW+doyPX3eRxHx93c/7/vhB/H97JPW9WQut/S1Gv20VV/POMYAQGqWlAE47aMLf7+pwaf5po59Q2vFpXW8V3v/a/rJsizflVI+i4g/ibuLfPcX29/VKtcBP42In+x5z9nz/pCaedOsD9wwlrfut+e89/2STK9LKRGH6/b0eR88+fn09/ueA2u5pa/V6Ket+nrGMQYAUnPBHeC0ry78/WYOTPN9WUoZZZpv2tg3tlZcWsd7lfe/pZ/sLrr/MiJ+VLtc++zK+ioi/vTBr38cd0tozJ73h9TMmyZ94MaxvHW/PfXeT5dk+jQO1+1pmb998vPp7/c9B9ZyS1+r0U9b9fWMYwwApGZJGYDT7peVeOjr3e9bG32ab+bYt7RWXFrHe633v7WfbBmXjyPiD/H4guIHEfHDld5vBDXbp1UfuCVHW/fbfR6W6X4pmPvZGhGH6/a0Ll9FxH/a/fxq9xoPX6d1PZnLLX2tRj9t1dczjjEAkJpNUwHOkHXZllLK64j4ZM9DXy7L8mbr8qwha+xbWysureO9xvvX6CdbxeVBWe+X4Li/UPlvl2X5P2u/3yhqtk+LPnBrjrbutyfK9DruLrA/XI4p4kDd9tTltxHxs93/f7P7sw9j5XpmjCnt3ZIXlzz30N+2ykv9AXLSN7fTQ6x7KONMXHAH6Fgp5VXcTc9/6vNlWb7YujyQUU/9pKeyUs/I7d5j3Q4s8fN1RIyyXBuJyT/gHMaK7fQQ6x7KOBtLygBsrJTyopTyqpTyevfzxQ0vZ5ovnNZTP+mprNQzcrv3WLfRl2sjN/kHnMNYsZ0eYt1DGadi01SADdXe5HQ3vfizMHUMDuqpn/RUVuoZud07rdtHF/4eapJ/wDmMFdvpIdY9lHEqLrgDbOvYN89XTa3fXbRIOS0fsuipn/RUVuoZud07rNtXF/4eapJ/wDmMFdvpIdY9lHEqlpQB2JZvngEgtx6XweEKlZf5q0X+AecwVmynh1j3UMap2DQVYEM9bh4HALPZXXjtaRkcLpR5gzn5B5zDWLGdHmLdQxln4oI7wIYyf7gDAJiFmyAAgLVYwx1gQ51uHgewGnfjAI1Y5g8AWIUL7gAb63DzOIBVHJj187KUYtYPsDYbzAEAq7BpKgAArXwcjy+2x+7/P25QFmAuNpgDAFbhDveOmYINAHTOkg5AE5b565/PwwBk5YJ7p0zBBgAGYEkHoBnL/PXL52EAMnPBvV/HpmA7aQQA/mjtuwBveP23EfEyHp/TWNKB4azVB93hy8R8HuYkYyTQigvu/TIFGwA4ae27AG95fUs6MIO1+qA7fJmcz8McZYwEWrJpar9MwQYAzrH2xqQ3vf6yLN8ty/LFsixvdj99CGY0a/VBmw4zM5+HOcUYCTTjDvd+mYINAJxj7bsA3WVYkenvQ1qrj+h7K6vZH295rYzjQoIy+TzMKcbIKyTo2zAEF9w7ZQo2AHCmte8CdJdhJaa/D2utPqLvrahmf7zltTKOCxnK5PMwZzBGXihD34ZRWFKmY6ZgAwBneBt3d/09VPMuwLVffyamv49prT6i762rZn+85bUyjgspyuTzMCcYIy+Xom/DCNzhDgAwsNp3Ae6bahwR7jKsw/T3AT3og/8oIv589+vfVHxdfW8dNfvjLa+VcVzIWKYULMexnVOxnmWMrJxz+vYD+jO3cMEdAGBwuw8HX9z6OoemGkfEZ8uy3Pz6mP4+uJ9HxI92//6nEfHzW6fp1+rb7FWzP97yWhnHhYxlas5yHNs5N9ajj5Er5Jy+vaM/cytLygAAcC5Tjddl+vu49J3+1OyPt7xWxnEhY5ky0M+3I9Z3asdB3/6eHOMm7nAHAKox9bKOxHGcbqpx7bY49nq76e9/GRH/PCL+QUT8h4j4N2u93zmPU81VfUf7tFNzOYpbXivjshgZy5SEfr6d6c5HDqgaB337ETnGTVxwBwCqMPWyjuRxnGqqce22OPV6u8f/xe7xv4mI/yEi/sXK75c110Zzcd/RPu3VXI7iltfKuCxGxjIloJ9vZ6rzkSOqx0Hf/iM5xk0sKQN0r5TyopTyqpTyevfzResyrWGWetI1Uy/ryBzH2aYa126LU6+X5f3+0aXHm0zHqENlOVbGPY/97Rp/+8A1fSfzWAA8p59vZ7bzkUPEYT1dxDbT+RePucMd6Nosd4XMUk+6Z+plHWnjOOFU49ptcer1MrzfexHxv8bjD5lHjzeZjlFHyvKX8f3sgUdl3P374XPei4h/FRH/MSLeXfu3Tzfuu6LvpB0LgOf08+1MeD6ylzisp4fYZjr/4jkX3IHeHbsrZKSpcLPUk76ZellH6jhONtW4dlucer0M77fvIs+p402mY9ShsvzzA7//+MG/730UEX8/Iv7fiPj9DX/7qO5X9J3UYwHwnH6+ncnORw4Sh/V0ENtM5188sdmSMqY5ACuZ5a6QWepJ37qYetkBccyjdlucer0M7/c3cf6F+FOPtThGHXrPf3Dk758+54MnP6/921vta59vIuJ9n6ku47Moia12zJf3MLzVz7+MI9fb5A530xyAFc1yV8gs9aRjPUy97IE45lG7LU69XpL3ez8i/umelzt2vMl0jDr0nv8h7jahPefvv33ys9bfXmRP+3wTEZ/E4/bxmeoEn0XJbK1jvryHKax6/mUcuc1WS8qY5gCs5W1EvIzHY8yId4LOUk8618HUyy6IYx612+LU67V+v92Hq5/HZcebTMeoQ2X5N/F8DfeHZXz4nK8i4m/H4w+s1/7tTR62TynlVUR8+ORPfKY6zWdRUlvpmC/vYXxrn38ZR26w1QX3TNNMeWD3oWqaO+hmq+8lMsTmmjLMcifoLPWcQYa+tk/WcgHbuuZ4s9Ux6pxx6lhZjpVxz2O/jYifXfm3v42Ij0sptWOxydTx6PB88ASfRZmRvIfBbXD+ZRy5wVYX3DNNM2Vntukhs9X3Ehlic0sZZrkTdJZ6jixDX9sna7mANq453qx9jLpknDpUlmNlPPDYxX+78ng6/NTxlcrgsygzkvcwgZXPv4wjN9hq01Sbf+V0bHrIiGar7yUyxCZDGWBtWfM8a7kA7vUyTq1ZzrU/U2WI8Rpl8FmUGcl74FbGkRtscoe7pRDSmm16yGz1vUSG2GQoA6ytWp5XnnKv/wFp7Bvfop9xarVyTjJ1/P693tv9+4O425D2p3HlHXw+izIjeX+7DEtsHZK5bIzjwObtERH/rJQyyrJzq9lqSRlLIeQ02/SQ2ep7iQyxyVAGWFuVPF9hyr3+B6RwaHyLiN8ceEq2cWrV8XSCqeNfxd3F9l/E3cX2e/+llPJX136o9lmUGcn762VYYuuQzGVjPPfjSIa8y1CGS2y1pAw5zTY9pNv6llJelFJelVJe736+qPwWm8XmSF26bZ8aNmhjnmgU81p5XnvK/dT9D0jl0PgWceY41eqYunuf9+OuvD+JuwvHB8vZ0oEYrX4sOKNt3kbED+PxxfZvI+IPkW/5IGBcGZbYOiRz2RhXhrzLUIazbXaHO/nMNs2s1/pu8S3eVrE5VZce26eG3r6pHUGrmFfM86rT/mfuf0A6h8axDyPi5DjVanx/8r7f7Mr4YUT864j4Vabx9Mgsgs/ijBjXft+HbbM7Hn0REX83vl9O5quIeBf5lg8CxpVhia1DMpeNcWXIuwxlOJsL7pObbZpZp/U99i1etbpsFJujdem0fWrYpI15pFnMK+V59Wn/E/c/IJeD49uZ41Sr8f3h+76LiN/v/v03mS627xyM0bIsX8R6cTq3bX4X38fvoWzLBwHjyrDE1iGZy8a4MuRdhjKczZIykF9X3+KdMFJdahKX7fUe8ymWgLHUEkzp1vGt1fje03Ele4ymOMYBqWUehzKXjXFlyLsMZTibO9whv66+xTthpLrUJC7b6zrmMywBY6klmFOF8a3V+N7TcSV1jGY4xgG5ZR6HMpeNcWXIuwxluIQL7pDf27hbV/PhRae03+KdMFJdahKX7XUf8wmWgLHUEkzqxvGt1fje03ElfYwmOMYByWUehzKXjXFlyLsMZThXWZaldRmAE3Z3enbxLd4pI9WlJnHZnpjnVkp5HRGf7Hnoy2VZ3mxdHqAfrcb3no4rYgQAsB4X3AGAdEopryLi0z0Pfb7b1A8AAADSsWkqAJBRV5viAAAAQMTGd7jfOoXQFERqyJ5H2csHsJW1x8Oex9uey96jGvHWZtCWPgi0ZAxal/jW1Vs8M5Z3swvuu8r/RTzfJOezc4Jw6/MhIn8eZS8fwCh6Hm97LnuPasRbm0Fb+iDQkjFoXeJbV2/xzFreLZeU+TgeVz52///xRs+HiPx5lL18NymlvCilvCqlvN79fNG6TPdqlS1zHdeUvd7Zy0cTPY+3PZf9pIT9tUa8u2mzhPGHGrrpg8CQjEHrEt+6eotnyvK+v+F7fXTh72s/HyLy51H28l3twLeOL0spzb8lrVW2zHVcU/Z6Zy8fzfQ83vZc9qOS9tca8e6izZLGH2roog8CwzIGrUt86+otninLu+Ud7l9d+Pvaz4eI/HmUvXy3SPmt406tsmWu45qy1zt7+Wij5/G257KfkrG/1oh3L22WMf5QQy99EBiTMWhd4ltXb/FMWd4tL7i/jbs1dB76evf7LZ4PEfnzKHv5bpHyW8edWmVbrY7Jp/hnbtuI/OU7S/Ic6FHP4+1NZU+eSxn7a41c6SXfMsYfauilDwJjMgatS3zr6i2eKcu72ZIyy7J8V0r5LK7cNfbW50NE/jzKXr4bpfzWcadW2VapYwdT/DO3bUT+8p3UQQ50p+fx9payd5BL6fprjVzpKN/SxR9q6KgPAgMyBq1LfOvqLZ5Zy1uWZWn5/sAksu4cHVGvbGvVsZTy/7d3P6+aJfed5z+hLF0ad8rMosBZlmAMI9EGgZTK1Fzwwl427lrcxYA2hhYMhtk10//A/BW9G8iNGnojmEViquletmAMichKDYhuY3kxoHJnQs1g7BzapJTELJ5zK5/73PP7xI/vN+L9guJWPj/OifONb8Q599wTEdeSPh1567MY44u9203Fct1K9su3hvUcgB/Wc6mF9uoZ8QcAAACO44Y7gGKGX+RN/dXxVqqy5TjGEMKNpCcjb72MMT4/su1ULNetZL98c4ay/ytJP5T0Vqfyvx/eNpMDOXmuP2voT7Ck1/j3etzWpaiXUnVLDmEKuQHkRzuDNdxwBwDjrD+RinzOnjZ9Iuk7w8tvJX2u00335nOAJ27Toj8B7qOfsSlFvZSqW3IIU8gNID/aGSwquWgqAGAfk4uAoIjHOl04vtbpRrskPdTpyY1ecuA2Bud+b3gd29GfAPfRz9iUol5K1S05hCnkBpAf7QzmFFs0tWdHhrZ4GhbjqazelY41dVvXnkVAvNSZl3JK1cr6aPj5Xqen2h/pdMP9v0h6NpTrunCZSnu08fVu7MlJq4sKoQ2e+vQL1foZxzErYSz+DyT9cQhhbbxK1a3pcxV5VpXp3KiBfPTLcN1tameGjwMN+SiEcEVi5TMxtOVpCGFxaMuR75bmqazelY41dWvDEOtV0z14qTMv5ZSqlvX12f+/l/TF8P8/G366iN9Brze+3oUjObmlPwHW8tSnj6jSzziPWQmX8X8g6QeS/qukbwyvLcWrVN2aPVeRZ9WZzY0ayEe/jNfd6nZm/DjQkK+JIRa5HRna4mlYjKeyelc61tStAyGEqxDC9bAg4p9J+v2Lj1isM0+5Vausc9N/mI/feV4OP692bIYpUMaZr/8lifIjOy/lNGAxJw3HslY/474dZ3ZZL7dPKp7fQFmKV6m6tXyuIs/qspwbNZCPflmuuy3t7NBxGL6WqYJ4TPtIHQ9lKuTIEDJPw888ldW70rGmbo0b+Sv9P9Ppya/bhTVvWaszT7lVpaxz038Mw+mLl2mtVE+PMAXKJNP1v8TL00VeymnEbE5ajmXFfsZ1O85tpF7+Qae6eX/x0cl4lapb4+cq8qwi47lRA/nol9m629jOdh+H5WuZGojHvI/U6VCmgo4MIfM0/MxTWb0rHWvq1r7Lv9K/lfSJThcNX5y9bq3OPOVWtbLOTP9hPX5zT49sms6EKVBGWa//JcnyIzMv5bRgKSdNx7JSP+O9HWd3Xi/DmiWfjnxsNl6l6tbwuYo8q8xwbtRAPvpluu42tLMjx2H6WqYC4jHja+p3KFMpR4aQmRl+tmKYiJmydqB0rJur2waHPV3+Nf61TjfdH569ZrHOPOWWxbJaLNM5s0/BNMJ6/S/xkh9eymnBUk4Sy/u8t+PSiNc+xA2WkI9G7PiduJW6O3IcXMvcRTxmhBhj7TI078gKyBZWT54YJvJG0p1hIhbK2ovSsW6pbtfmsycTT3w9kPQ3kv5fGa4zT7llsawWy3Rr5knEz2KM3T/xkILl+l/iJT+8lNOKuZwkluM8t+MaiNc+xA2WkI/17f2duJW623scXMvcRTzmccMdi2hEaEmL+dziHxHgH3mJOV7yw0s5PSCWAADY0OLvxCVwLXMX8ZjHDXcsCiHcSHoy8tbLGOPz0uUB9hpOCP9K0g91mnLlfOEt1/ncytMGaMtUXpKvkPz0W17K6QGxBACgPu7x7Me1zF3EY9pHtQsAF0wvjgGscfbX1z/UaUFRDT8/1+mmu+t8ZjEmWDSWl6xmj1te+i0v5fSAWAIAYAL3eHbiWuYu4jHta7ULABdaWRwDfbtdQft2QVHptKjoI3Wezw0uIutWJ3Uxt5p9dZ3UAQAAAPrFPR4gM6aUwSoME4F3F8PmHuiUyw8l/VzSv+k1n5l3zY5e6sLyENZe6gAAAAB94x4PkBdTymAVhomgAefD495L+mL4/591fmEx97Qxbb6sXurC8hDWXuoAAAAAHeMeD5AXN9yxiL98IpXKufRK0lPdf3I1+7A5423o0cbXkU8vdVGtLa7QSx0AAAAAqMz4vQIcwA13zGJxO6RSO5dijO9CCM9U+GRW+7hXsPy0cW+6qItabXGlLuoAAAAAQF0O7hXgABZNxRLTi9vBleq5FGPs16tyAAAgAElEQVR8F2N8EWN8PvwscRKrftwLWDDHjm7qolJbXKObOgAAAABQlfV7BTiAJ9yxhOH1SKXXXDJ93MafNu6KxbrobYijxToorWSdz+2r9dxr/fiwHrkAAEC3TN8rwDHccMcShtcjlV5zyfxxs2COHZbqotchjpbqoLSSdT63r+H/m829XtsW7iMXAADomvl7BdiPKWWwhOH1SKXXXOr1uOEfQxz7U7LO5/bVeu61fnxYj1wAAKBf3CtoGE+4Y9bE8PpfSnocQmDoqwFehiKXmqrBWjzWHre1cgNiiGOPStb5nn21kntF21aq8wvnqSzoZwEA6BTTWbaNG+5YdD68nqGvtnirj9xTNViNx9JxWy03uscQx/6UrPM9+2ol94rFOdX5hfNUNvSzAAB0rOfpLFvHlDLYiqGvG4QQrkII1yGEm+HnVeJdUB93eY2H13KjbQxxXFCgjy+tZJ3P7av13Ct5fKnOL5yn8mg91wEAALrEE+7YiqGvKxV6Goz6uMtrPLyWGw1jiOO8Fp/4LVnnS/tqOfcKt61U5xfOUxnQzwIAALSJG+7YiqGv6809DZZqyBD1cZfXeHgtNxrHEMdZJfr44krW+dy+Ws+9gseX6vzCeSqT1nMdAACgR2anlGlwmHYrGPq6XomnwaiPuw7Fo2K/Qz0C/vDELzxIdX7hPIXD+P0OAADOh70IMcbaZbhnYpj2G0luh2m3ZKgfhr4uCCFcS/p05K3PYozJnmSiPu7aG4/a/Q71CPhSqo8Hjkp1fuE8hSNqX2cBAGAB58N+WJ1Spslh2q1g6OtqryQ91f2ONOnTYNTHXQfiUbXfoR4Bd4r08cBRqc4vnKdwEL/fAQDA+bAbd264G3pyhWHacI+FsI4r3Ce57HfGYjS8NRm3ld/5paTvDv/+cnj/48vtzdWRoXNKER6O10MZvaCP71vJtpRzX7mPI/X2L7Y3eW7CcRlyw+V1FgAAiXE+7MRXN9wnhjU8DSHUGNbAwkxoAk+D7VehT3LX70zE6Hr4+fHZa1/FbeV3Hkj615L+Zvj3D4afn0t6f7u94bXROpp7r8UbIsbOoaM8lNEb+vg+lWxLOfeV+zhSb/9iew80cW6iPzsuU264u84CACADzoedOF80dW5YQ2kszASgdJ/ksd8Zi9H3h//OncdtzXceSfr94ecjSQ+H/27/6n67vbk6snROKcHD8XooI+BBybaUc1+5jyP19s+3N3duwnE5csPjdRYAAKlxPuzE+ZQyZoY1MEwb2K7BqSKK9klO+52xWDxc+Oya7zxceH1qO0ff82xVvpZupxf7+45OT4W+nytjgXJ4aFvozMYcLXl+yrmv3MeRevvn33s48f+tnmNKS54bTq+zAABIivNhP85vuJsa1sAwbWC9RqeKKN4nOex3xmLxduGza77zduH1qe0cfc+zxXwt3U5H9vdNSZ/ow/QL98qYQ6P9ExqyI0dLnp9y7iv3caTe/vn33k78f6vnmNKy5IbD6ywAAJLjfNiH8yllGNYA+NXiVBH0ScvGYvSL4b9z53Fb853Xkv52+Plap5sZb/XhF+3b7c3VUW/1t+Z4k7fTEMJVCOE6hHAz/Ly6fV3Sn0n6E51utD/Qh/o7f0LxS0kfXX4/sRb7p12m6gt5bIj31hzd3L8dqPucfWnufjr19s+3N3du2oR2OarIOZzYAwCAVoUY44d/MOQbcCmEcCPpychbL2OMz0uXJxX6pGVjMRremozbyu/8UtJ3h39/Obz/8eX25uqot/pbOt7U7XTiqdw3kn4i6cc63Wz/ZHj9rU5PtkvS30n6a53q9YnuLrD7RlLSJ89b7Z+2mqkvnvTPYEu89+Tolv7taN3n7Etz99Opt3+xvclz08bt0S5HFMoNYg8AAJp0PqUMwxoAv0xNCZUKfdKymRhNxm3DdxZjP1dHvdXfiuNN3U6nnsr90fDzfJqF24UFv5D0sxjjixDCte7ebL/9/mOlrbcm+6cd5p6i7qadFLQl3ptzdGP/dqjuc/alufvp1NvPUF7a5YQC53BiDwAAmvXR8kcAOPBK0lPdf0qo1ek7AI8Ot9OVi6B+W9JvdbpZ+InuLoJ7vr9SCz+uOu4ORkQUXQi6g3gu2RLvV5KuJX1fp3byVqdptlKdQ4vWPTapXjcdt9Xqscd+Hect0DXaPrAeN9yBBrDSNWDf0Xa6YRHUX0n6g+G1z4d9PZT0HyT9u7P9FXnyfM1xd7KwarEn/TuJ5xJLIysslQV3Va2bztsq7cKpzvMW6BZtH9jma8sfAeBBjPFdjPFFjPH58JOTHmDMwXZ6Ofx+bBHUN5J+qg+L3b3XaRqZ/6S7N9ulggvbrjjuHhZWLbmQcA/xXLIl3o91ml7pC0l/Nfz8WOni1dsi0p7Urpue22rt2GO/nvMW6BltH9iAJ9wBAE1raOjj5TD72yfYbxdB/erY1jxJb2xkTPNTCxSOd/PxXLIx3lnjZayt4cxU3UjSsM4FbTUT2sU4J9cs3eYtkJu1PmDldJa0fVRnre1I3HAHADSssaGPY8Ps32tYBPX8xbWL3Rla2LaLqQUKxruLeC7ZEO/s8TLU1nDhsm4Knze6bqu0i7scXbN0nbdALtb6gA3TWdL2UZW1tnOLKWUAAC1raehjy8PvWz62GojnNsQL50qeN8g9nPNyzULeAnlY6wPWTmdJ20dt1tqOJJ5wBwC0rZlhzyPD778c3vrTEIKJYXN7MbVAWsRzG+KFC8XOG+QeLri4ZiFvgWys9QGrp7MsXTDggrW2I4kb7gCAtjU17Pl2+L3VYXNHMLVAWsRzG+KFM0XPG+Qezri5ZiFvgSys9QGrp7MEKrPWdiRxwx3YxOJCDLdKlc1yDIARryQ91d0b0y0MfZwbNscFsGH0odv1HLOej72iVs8bJrWc4zuOjdwD+matD7BWHmCKyVwNMcaa+wfcmHii9I2k6k+Uliqb5RgAU1r8ZT6EcCPpychbL2OMz0uXB+vQh27Xc8x6PvbaWjxvWNRyju89NnIP6Ju1PsBaeYApFnOVJ9yB9Sw/UVqqbJZjAIxqdNizyWFzWEQful3PMev52Ktq9LxhUcs5vuvYyD2gb9b6AGvlAaZYzNWv1S4A4IjJhRgGpcpmOQZAT17p9KTcuerD5rCIPnS7nmPW87GjDy3neMvHBgAAFvCEO7Ce5SdKS5XNcgyAbsQY34UQnsnYsDksog/drueY9Xzs6EPLOd7ysQEAgAU84Q6sZ/mJ0lJlsxwDoCsxxncxxhcxxufDT26220cful3PMev52NGHlnO85WMDAAALulk01eIE+vDHch5tKduR47AcA/hGbqEHLeZ57mMqFTOLdWOxTEBKYzk+vOU+72m/AM5Z7BMslgloRRc33PeuEg+0iPYAi8hLwKdW2m4rxwF4R1sE0CKLfZvFMgEt6WVKmblV4oHe0B5gEXkJ+NRK223lOADvaIsAWmSxb7NYJqAZvSyayirxwAe0B1hEXgI+tdJ2WzmOrnkcGl+jzMbjRFsE0CKLfZvFMrlj/JyKinq54c4q8cAHtAdYRF4CPrXSdls5jm5NDI1/GkIwOzS+RpkdxIm2CKBFFvs2i2VyxcE5FRX1MqUMq8QDH9AecEgI4SqEcB1CuBl+Xh3dhqRfirwENkvRHg9q5ZyS/DgM1E01lY7d49D4GmW2HqdW+hQAOGexb7NYJm+sn1NRUReLpkoM8wDO0R6wV4rFdWa28RNJ3xV5CaxiZbGrVs4pKY/DSt3UUOvYQwg3kp6MvPUyxvg8136PqFFmD3FqpU8BgHMW+zaLZfLEwzkV9fQypYyGTuNF7XIAFtAecMDcX/HX5tTUNr4bYyQvgfVStMfDWjmnJD4OE3VTSa1j9zg0vkaZzceplT4FAM5Z7NsslskZ8+dU1NPNDXegF73+lbrEcfca2wspFtdpYoEe8gEGcqCJtjTGQGyP2lQ3DRzvuVp5+UrSU91/st7y0PgaZfYYJwAALOKciknccAca0uuiHSWOu9fYjkjxV3z3TwKQDzCSA+7b0hgjsT1qdd00crznquRljPFdCOGZHP3hokaZPcYJAACLOKdiTi+LpgK96HXRjhLH3WtsL6VYXKeFBXrIB1jIgRba0hgLsT1qS920cLznquVljPFdjPFFjPH58NP8L7w1yuwxTgAAWMQ5FVN4wh1oS7PTCywocdxVY2tluoEUf8Vv5EmAXtsaPqieA420pTHVY3vUxrpxf7znGs7LJlm5vrBaHk+IHQAAdnDDHWhLk9MLrFDiuKvF1tp0AykW12lggZ5e2xo+MJEDDbSlMSZie9SGumnieM81mpfNsXZ9Ya08nhA7AABsYUoZoC2tTi+wpMRx14xta9MNtKDXtoYPyIF8eottb8cLO6xdX1grjyfEDgAAQ7p9wn3rkDuG6JVHzLfrdRh3ieOuHNumphtoyC8k/dHw/38p6eettzVPcp9Deu1vj1pTL9ZiSy6hYdauL6yVxxNiBwCYxT22srq84b51yB1D9Moj5vv1Ooy7xHFXjG1z0w14NtE/fV/Sz+uUCJdKnUN67W/32lIvVmJLLqFx1q4vrJXHE2IHAJjEPbbyep1SZuuQO4bolUfMgQ+YbsAW+if7qCObPNaLxzIDa1m7vrBWHk+IHQBgDte0hXX5hLu2D7ljiF55xBwYMN2AOfRP9lFHNnmsF49lBlaxdn1hrTyeEDsAwAKuaQvr9Yb71iF3DNErj5gDZ5huwBT6J/uoI5s81ovHMgOrWbu+sFYeT4gdAGAG17SF9TqlzNYhdwzRK4+YA7CK/sk+6sgmj/XisczAISGEqxDCdQjhZvh5VbtMAADgkG6uaXNcx+zZZogxHt2vS1tX52U13/KIOQCr6J/so45s8lgvHssM7DWxqNobSSyqBgCAYz1c0+a4jtm7zW5vuAMAAAAAPgghXEv6dOStz2KMTFcCAADMynEds3ebvc7hDgAAAKCyVp62KnEcufZxsd3vSHog6f3Fx1hUDUjAW5/nrbyAdbSp7HIsDrtrm9xwBwAAAFDcxBDdpyEEV9OXlDiOXPsY2e43JX0i6XPdvenOomrAQd76PG/lBayjTRWRY3HYXdvsddFUAAAAAHU91t1fOjX8+3GFshxR4jhy7eNyu7e/PJ4/tdXkompABd76PG/lBayjTeWXY3HYXdvkCXcAAAxiuCGQF23MhBzDfhdlqPsSx5FrH5fff6/T0+1/J+mvRdsAUqrS5x3grbyAdbSpzGKM70IIz5TwOm/vNrnhDgCAMQw3BPKijZmRY9jvrEx1X+I4cu1j7PvvJf2MRVKB5Ir3eQd5Ky9gHW2qgOF6Luk1zJ5tMqUMAAD2MNwQyIs2ZkOOYb9LctR9iePItY8adQD0ylt781ZewDraVEdCjLF2GQAAwJkQwo2kJyNvvYwxPi9dHqA1tDE7Sk/tk6vuSxxHrn0wvRJQjrf25q28gHW0qX4wpQwAAPYw3BDIizZmRI5hvwuy1H2J48i1jwp1AHTLW3vzVl7AOtpUP5hSBgAAexhuCORFG+sXdQ8AAICsmFIGAACDGG4I5EUb6xd1DwAAgJy44Q4AAAAAAAAAQALM4Q4AAAAASIIRBMA+Lbedlo8NvpCLKIUn3AEAAAAAhw03Mv5c0u+dvfxG0jNuaADTWm47LR8bfCEXURKLpgIAAAAAUnisuzcyNPz7cYWyAJ603HZaPjb4Qi6imNkpZRhq4Q91BmAt+gsAgCWcl5rwaOPrAE5abjstHxt8IRdRzOQN94mhFk9DCAy1MIo6A7AW/QUAwBLOS814vfF1ACctt52Wjw2+kIsoZm5KGYZa+EOdAQtCCFchhOsQws3w86p2mSqhv5hBntxHTNpG/cKA7Ocl73nupPyvdJoP99yb4fWvODkWoKRVbceplo8NvpCLKGZuShmGWvhDnQEzeHruDvqLCeTJfcSkbdQvjMh6XvKe517KH2N8F0J4ppmpgbwcC1DSmrbjVcvHBl/IRZQ0d8OdoRb+UGfAvLmn516UL05V9BfTyJP7iEnbqF9YkPu85D3P3ZR/uHExVyY3xwKUtKLtuNXyscEXchGlzN1wfyXpqe5eDDHUwjbqDJhX7KluBwu/uewvCsWVPLmvSEy2xGPss8NbxeK5prwl6jjBPlyMeHHUXrBP7vOSizyfsVh+a21kpjze6wIAAGDW5A13hlr4Q50Bi4o81e1hqLTH/qJgXMmT+7LHZEs8Jj57Pfz8eOn7pcpboo4T7cP8iBdn7QU7FDgvmc/zBbPlt9ZG5soj/3UBAAAwa27RVMUY38UYX8QYnw8/+YXGOOoMmFVqkRQXC5I67C9KxZU8ua9ETLbEY+yz3x/+W/P9FNaUt0Qdp9iHhwWkPLUX7JT5vOQhz+csld9aG5krj/e6AAAAmDU3pQzQFGvDbFFewae6mxoqbajtFIkreXJfoZhsicfYaw83bveo8+0+GP79UNI/hBBKTptweB9ORrwUby8W+r7cZdi7/aPlqhFbJ3k+aUX5rZ1TJsvjvS4AAACWcMMdXbA2zBb1FFokpZmh0sbaTrG4kif3FYjJlniMvfZ243aPut3uA0k/0Icb/n8o6c8LTpuQZB8OFpAq2l4s9H25y7B3+0fLVTO2DvJ81kL5rZ1TZsvjvS4AAADmzE4pAzTE2jBbtK2lodKW2k5LcZXaO56jtsRj7LO/GP5b8/0Ubstw+2S7dLrp/1plp03oJY9KH6eFvi93GfZu/2i5LMS2Rdb6AmvlAQAAKIYn3NELa8NsTbMwjN6znEOlK9SNmbbT2hD0GsdTs20v7XtLPKY+O7xd5PjOyvA7Ot1wv73Z/n74yOppE47US2vtYkqF47TQ9+Uuw97tHy2Xhdg2x1pfYK08AAAAJXHDHb2wNszWLAvD6FuQY6h0pbox1XZaG4Je8nhqtu21+94Sj5nPFsuP4YbSzyR9Y+TtVdMmpKiX1trFlMLHaaHvy12Gvds/Wi4LsW2Stb7AWnkAAABKYUoZ9IJhresx1NuuGnVD22lHkfwJIVyFEK5DCDfDz9unt1vtV462kZZj45mFvi93GVZv/7xd6/TAzpcHyrX5uCb6laIslGFreayVubTejx8AANTDE+7oAsNaN2Got13F64a205Ts+TP1tLbu31xLvu9aErQR+lyDLPR9ucuwccqjy3b9paT/KOnjreXaelwWRt5ZKMPW8lgrc2m9Hz8AAKiLG+7oBsNaV2Oot11V6oa204wS+TP1tPZ/K7Dvag62Efpcoyz0fbnLsHL7Y+36Y0m/jTE+z7jfuf3fjgIpVT8WynBuTXmslbm03o8fAABUxA33SqwtSmmtPKjqlU5PpJ7/ksIUIja4rRv6mGlLsVkTu5XxLZE/U09l//2wL3e5m8JC/RRr17RDGxzWQ+1RGLX3b6UMa/b7aONnWtb78QMAgIq44V6BtSGO1sqDuiwMo8c4r3VDHzNtKTYppw0olD9TT2X/WtJfZN63SUv1U6pd0w5tcFoPtUdh1N6/lTKs2e/rjZ9pWe/HDwAAKmLR1DqsLZBmrTyobLgJ9CLG+Hz4afUmQHec1g19zLSl2KyJ3er4FsifycUQneZuCov1Uyg2tEMbPNZD7QVka+/fShnOrSmPtTKX1vvxAwCAinjCvQ5rQxytlQcZ7BnC7nDY+6Itx3Tx2S+HlzcvEHekDI2gj5m2FJu10wY8GH4+lPRWp7wqHl+vozAys5L/VsoxqYW+ccUxmK+HS7Xb9dn+fyjpj4aXf3F0u1vyrXYM9pQnZ5m3ttUabdtanW3VQn8IAFtZ6fuslGONHdOT/lLSd6c+j3S44V6HtSGO1sqDxPYMYXc67H3WlmO6+OwDST8Y3vpc0vup76UsQ0PoY6YtxWZN7L7UKT8fnr32iaR/f6xo+1hYaNIYK/lvpRyjWugbVx6D6XqYYqRdf1/SN4b//+eSvr83P/bkm5EYfGVNeXKUeWvsarZta3W2Vgv9IQBsZaXvs1KONXZMT/pA0r+W9Dc63dO48/lS5e4FU8rUYW2Io7XyIL09Q9g9DntfsuWYzj97++TwQ314CnFvLFqM6xL6mGlLsSF2/lmpQyvlmNJC37jmGKzXg1Wp86OFfKtla+yI9XbEDECPrPR9VsqxxtbpSR9J+n3dHVlp9djc4wn3CqwNcbRWHmSxZwi7u2HvK2w5pvPXHk78/55YtBjXWfQx05ZiszJ2H+s08uJySpmPix0IJlnJfyvlmNFC37h4DA7qwarU+dFCvtWyNXbEejtiZpyn6SYAR5L2fQfaqac+eOv0pA8vfi5tBwdww70Sa0McrZUHye0Zwu5y2PuCLcd0/trbif/fE4sW47qIPmbaUmxWxO61TkMCvxh5HQZYyX8r5ZjQQt+46hiM14NVqfOjhXyrZWvsiPV2xMwwT9NNAM4k6/sOtlNPffDW6UnfXvxc2g4OYEoZYBBCuAohXIcQboafV7XLlNCeIewtDnvfckznn32t00np9snhue+lLMMujecy7suWU+RSfsT4K6bPOSvryfQxOJc6ttTVfltjR6y3I2a2eZpuAvAkZd93pJ0W64MT/B6wdXrS15L+VndvsHN+ySTEGGuXAahu4i+gbyQ186TCniFVLQ6X3HJMF5/9cnj546XvpSzDzm03ncu4L0dOkUv5EeO7rJ5zttST1WNoQerYUlf7bY0dsd6OmNkVQriR9GTkrZcxxuelywO0JFXfd7SdluiDU/0esFTWkfd/Kem7U59HOtxwBySFEK4lfTry1mcxRoZ9ww1yGamQS/kRYx+oJwDALc4JgH0e2qmHMuIYppRpFEPUN/O0MAYwh1xGKuRSfsTYB+oJAHCLKX8A+zy0U64vG8eiqQ1iIZddPC2MAcwhl5EKuZQfMfaBegIASDotfB1CeCam/AHMctJOub5sHE+4t4mFXLbz8BdQYA1yGamQS/kRYx+oJwDAV2KM72KML2KMz4eflm7iAZCLdsr1ZeOYw71BLOSyT66FMVj0CKWRc0glhPBPJf1I0rcl/UrST2OM/1/B/Tefy96PMXf5125/6nMrFopatXBUyuP0XufIr6UcaelYgJo8tSVPZQVqoq20jRvuDWLxBTtSrTwNAKXV7r9q7x/LctfR2u3PfO4nkn589voDSf+DpL+R9H7k30nLP4a8xpKWcqSlYwFq8tSWPJUVAHJiSpk2MTTFDqb3AeBV7f6r9v6xLHcdrd3+1Od+dPH6I0m/rw+LUV3+e2r7KZHXWNJSjrR0LEBNntqSp7ICQDYsmtogJwtE9IKVpwF4Vbv/qr1/LMtdR2u3P/W5b0v67dm/Hy78XNpeCuQ1lrSUI4vHwnB6YBVP/YKnsgJANtxwb9Rwocr0MfWx8jQAr2r3X7X3j2W562jt9qc+9ytJf3D277cLP5e2lwJ5jSUt5cjssUxMPfE0hMDUE8BdnvoFT2UFgGxMTikTQrgKIVyHEG6Gn1e1y7SF9/IjKab3AeBV7f6r9v6xLHcdrd3+1Od+evH6a0l/qw+/9F/+e2r7KZHXWNJSjiwdC1NPAOt46heqlJV7MIA/rbdbc4umel9kw3v5kR5DZQF4Vbv/qr1/LMtdR2u3P/W5kdd/Kem7M//OnmPkNZa0lCNzxxJCuJH0ZORrL2OMz8uVErDPU79QuqzcgwH86aHdWrzhfi3p05G3Posxmp8ixXv5AQAAACA3fm8CkAJ9CeBPD+3W4hzu54tpPBj+/VDSP4QQzP4V9wyLhCTi6a/4wF7kObbwkC8eynjLU1nRD295aaG8FsqAXV5Jeqr7T7dZnCYDgF3cg7nAeXEasdknQ9yyt9tadX27X4s33G/n0Xwg6Qc63WyXpD+U9OcOFtFhkZAEWEQJPSDPsYWHfPFQxlueyop+eMtLC+W1UAbsM0z79Ezc+ABwDPdgznBenEZs9skUt6zttlZdn+/X4qKpt4ts3D7ZLklvdQq6h0V0PC1oYhmLKKEH5Dm28JAvHsp4y1NZ0Q9veWmhvBbKgJ1ijO9ijC9ijM+Hn9zwALAV92Du4rw4jdjskyNuudttrbr+ar/mnnA/e9Lhd3S64X57s/398BHTw4LWPKnBEJZVmhsWRr2X4yjWzeU5skqSL5nbh6ecrlJWR/0T6vDUhiQb5bVQhuLoSwDghNEy92Q5LzZy3mnqmqFgnSSPW4F2W6uuv9q+uRvu0leB/5mkb4y8bX5Y0JAgo5P8M4RltaaGhVHv5TiLdVN5juwO50uB9uEpp4uX1Vn/hDo8tSHJRnktlKEo+hIAuGvuHkyHkp8XGzrvNHPNULhOssQtc7utVddfbd/ilDK3Wh0WxBCWdVqrf+q9HE+xbi3PkVeKfMndPjzldI2yeuqfUIenNiTZKK+FMpRGXwIAmJLjvNjKeSfrNUMI4SqEcB1CuBl+XqXY7oSSdeLxWqtWmb/ar8kn3KWmhwU1NYQllwbrn3ovx02sG8xzZJQoX7K2D085Xamsbvon1OGpDUk2ymuhDBXQlwAARmU6LzZx3sl5zVBhFECxOvF4rVWrzOf7NXvDXWp2WFAzQ1hya6z+qfdyXMW6sTxHZgnyJXv78JTTFcrqqn9CHZ7akGSjvBbKUBh9CQBgUobzYjPnnYzXDHNPnOfYX9E68XitVavMt/s1fcO9Ua8kPdXdhmh9KAaOo97LIdYoxuriQTPlGmsfX0r6KIRwo5Fj2HOMVuNiAP0TmtZ62099fAe2d9uX/P7w3YeS/m9Jv9xbFvSj9Xa6FfHo25b6P5IrVvIswXmHa9hppUcBuKqTkm3ATHuLMZbeZ/esVD7Kot7LIdYoYWLY4BtJVRcPWirXRfv4UtITSR/PfHbTMVqNixX0T2hV620/9fEd3V4I4Z9K+t8k/feS3urUn/zt3vKgD623062IR9+21P+RXLGSZwnOO1zDzgghXEv6dOStz2KMWZ6y9lInJduAlfYm2V40tVkxxncxxhcxxufDT3MNAulR7+UQa7pRM7YAACAASURBVBRidfGg2XKdtw9Jv9Xdm+13Pru0rT377x39ExrWettPfXxHt/ddSf8o6a8kfSHp/cHyoA+tt9OtiEffttT/kVyxkmeHysE17KLii3Q6qpOSbcBKe7O7aCrQMi9/iQQwy+riQVvKtfTZPcdoNS4A8mq97ac+vqPbaz3eyIO8uYt49C3lNXOq/eRkpRxN8riwaEElc2/zvnLdn+OGO1BYhdWrAeRhdfGgLeVa+uyeY7QaFwB5td72Ux/f0e21Hm/kQd7cRTz6lvKaOdV+crJSjmZ5XFi0kJK5t2lfOe/PMaUMUJ6ZIS4ADik+bHClLeVa+uyeY7QaFwB5td72Ux/f0e21Hm/kQd7cRTz6lvKaOdV+crJSDvSnZO5t3Ve2+3MsmgoUFkK40WmRwksvhzmVAThhdXqoLeVa+uyeY7QaFwB5td72Ux/f0e21Hm/kQd7cRTz6lvKaOdV+crJSDvSnZO5tbNfZ7s9xwx0orMbq1QAAAAAAAABOct6fY0oZoDyGcjUuhHAVQrgOIdwMP69qlwkAAAAAAA/4nRqFZLs/xxPuQAUM5WrXxKIbbySxKC4AAAAAADP4nRol5bo/99HRDQDYjtWrmza36AZ1DgAAAADANH6nRjG57s9xwx0A0nq08XUAQEaMKgMAAHCF36mN4Xr6g7Wx4IY7AKT1euPrAIBMJoYkPw0hMCQZAADAJn6nNoTr6Q+2xIJFUwEgLRbFBQA75oYkAwAAwB5+p7aF6+kPVseCJ9wBIKEY47sQwjMx3Kp5DKsDXGBIMgAATnB93b41deztd+oceWusLZxfNz8Y/v1Q0j+EEHaVy9jxbbH6dwtuuANAYiyK2z6G1QFuMCQZAAAHuL5u35Y69vI7dY68NdgWbq+bH0j6gU432yXpDyX9+dZyGTy+LVb/bsGUMgAAbMewOsAHhiQDAOAD19fta7GOcxyTtTjdXk/fPtkuSW91usm8p1zWjm+L1b9b8IS7c46HYeAA6h0oY6atVZumgvbvE/VWh7chyegL/QIA3ME0cO1rsY5zHNPUd78VQrh9v9h1w9n19O/odMP99mb7++EjW4/VZR6cXbe9kfTfJP29pF9roh644e6Y82EY2Il6B8qYa2uqNE0F7d8n6q0uL0OS0Rf6BQC4h2ng2tdiHec4prHvPpB0Lel7Z68Vu24Ybrr/TNI3Rt7eeqzu8mDiuu2NpL+Yij9TyvjmeRgG9qPegTLm2lqtaSpo/z5N1lsI4SqEcB1CuBl+XlUoHw6iHrED/bkjtHHksDevGs5HpoFzakNOtljHi8e0o82ObfPrkn5z8Vrp64ZU9ecxDzZft/GEu28uh2HgMOodKGOyrVWcpoL279PksFBJT8UTrq7xpDJ2oj93gjaOHPbmVcv5yDRwPm1dCLW1Ol46pj1tdmKb39Ldp9tvFbtuSFV/TvNg83UbN9x9czcMA0lQ70AZs22t0jQVtH+fpurndzX9pARToPgx98QL9Ygp9Od+0MaRw968ajofmQbOpU052WIdLxzTrjZ7uc1h7vaxG+5FrxtS1Z/DPNh83caUMr55HIaB46h3oAyLbc1imdyoOAR7qt7+fuLzPOHqC08qYw/6cz9o48hhb16Rj7CGnJyXKj5cN9S1Of484e6Y02EYOIh6B8qw2NYslsmLmkOwp+pt+Hf1J1VwGE8qYzP6c1do48hhb16Rj7CGnJyXJD5cN9S1J/7ccHfO4TAMJEC9A2VYbGsWy+RE1SHYY/UWQnil+3O486SKP9QjdqE/d4M2jhz25hX5CGvIyXnJ4sN1Q11b4x9ijBmLg5SGp/OK/zXryH5zlrlWPLbaU04vx+ZV7vhSf+iFp1wPIdxIejLy1ssY4/MM+1sVG08xxDTqEVuQL+uliJWVbaBNNX5XJh9hTcs5yTkEe3HD3YmJofBvJGUdCn9kvznLXCseW+0pp5dj8yp3fKk/9MJbrocQriV9OvLWZzHGpE+KeIsNgHLoH9ZLESvijZzIL6BttHEcwaKpfswNhbe635xlrhWPrfaU08uxeZU7vtQfeuEt10suNOQtNgDKoX9YL0WsiDdyIr+AttHGsZvbOdxLDMkwNuyj1srPR/abs8xeVsLeU87L9x4Mr92EECQnw4+MtZ9zuXPHS24CR7nK9cILDbmKDYCi6B/WSxEr4o2cyC+gbbTxBtS6N+XyhvvEsI6nIYRkwzpK7GOjWis/H9lvzjJ7WQl7TznP33sg6QeSHg7//lR183AVg+3nXO7c8ZKbwFHucr3gQkPuYgOgGPqH9VLEingjJ/ILaBtt3Lma96ZWTSkTQrgKIVyHEG6Gn1c5C7VCiWEd1oaOlBwKv2m/M/mRs8y14rHVnnKef+eRTjfb3+pDp+5hCJO19nPusk4eSPonkr6VqH/zkpuuGDwPVWUkHuT6NGJTmZE2AkcK5gz9w3opYkW8kRP5BWzg8PqMNu5ftXtTi4umWlwkIIRwI+nJyFsvY4zPvexjq1rDIOb2u5QfOctseMqSO/aU8+w7NzrF9rWk92cfqZaHa1hsP+fO4vstSdeSfqMP8T3cv3nJTS8snodqshQPcn0asanHUhuBD6Vzhv5hvRSxIt7IifwC1vF6fUYb963mvak1U8rM/TWgxLDsMSWGdZgbOlJwKPyW/c7mR84y14rHVnvKefudYc72T0c+Yn0Ik7n2c+4ivt+7ePtw/+YlNx2xeB6qyUw8yPVpxKYqM20EbhTNGfqH9VLEingjJ/ILWM3l9Rlt3L1q96bW3HC3uEjAK0lP9aGxPpD0dZ2mhJAO/sVp+AvWR8P2P9KHp4sZOnKfmfyw+JfHBGW6zHXJRx5mL/dSbFfGvkr+Jip7T8z0M7Vc5MR3dDrvvb/4WDfxgD3G+i1TfYax2GCciZwhVyCRB9iP3IFxJs616E6Re2pj/e+aG+7mnlQdpip5pvtTQnxv+G/3BPgXw1y+1ClYH0v6t5J+zgnrHhP5YXGRzhRlush1NxdOucu9FNsNsS+evwnL3hMT/UwtIznxTUmfSPpcd2+6dxEP2GOw3zLTZxiMDcZVzxlyBRJ5gP3IHThQ/VyL/pS4pzbV/65ZNNXkIgExxncxxheSfi3pH3X3psORCfDPh7m8l/SFTsf7W05Uo6zkh8VFOpOU6TbXY4zPh58u8jBzuZdiuzb2NfI3Vdl7YqWfqeUyJ24vSs+fBukpHrDHWr9lqc+wFhuMs5Az5Aok8gD7kTuwzsK5Fh0qcE9ttP9dfMLdwRO2qYelMMxlA0P5YbHeLJapFUuxXRX7SvmbpOw9MdTP1HJZ9+91err97yT9tTqJB8Ok80gUV1P9Vq4+Y2esTMUG44ycZw7nCv3kMgcx2pQHDo4H5XC+gWlGzrVADqP97JopZawvEpB6WArDXDYykh8W681imVqxFNvVsa+Qv8nK3hMj/UwtY3X/XtLPhpFezWOYdB4J42qu30rdZxyIlbnYYJyB88yhXKGfXOYkRqvzwMnxoBzONzDPwLkWyGG0n10zpYx1qYelMMzFJ4v1ZrFMrViKreXYey476iAnGCadS6q49pCje2PVQ2yQxtFcoZ9c5iFGW/LAw/GgHM43AFDHaP8bYow1CpNU6qF0DM3zyWK9WSxTarWOcWm/lmNfu+yWY2NV7ZjV3n9tIYQbSU9G3noZY3xeujytSBlXizmaskwzsfq/dFpPaHIfFmOzRyvHYdmRGNNPLksRoxLtYO0+qHNcop8GgDrG+t8mbrgDqGNiKOsbSQxlNYo6246Y1RdCuJb06chbn/UyrU4OLcc1dbudiNUDSV+X9I8p9mEZ/aB9LbfnVI7GyFo7oM4BALCrhSllANTDUFZ/qLPtiFl9DJPOo+W4pm63Y7H6uqTfJNyHZfSD9rXcnlNpbdqeZus8hHAVQrgOIdwMP69qlwkfWK4fy2U7V7uctfcP9GDVoqkAMGFq1fup11EfdbYdMassxvguhPBMDJNOqvG4Jm23E7H6lqTvpdqHcfSDxjXenpNIECNT7aDVOmcxWNss14/lsp2rXc7a+wd6wQ13AEdMrXo/9Trqo862I2YGDL8AMEQ+sYbjmrzdXsYqhCCN33BvsW+gH3Sg4faczMEYmWsHjdb53EiC1o7VI8v1Y7ls52qXs/b+gS4wpQxQUQNDuZodytow6mw7YgYUkPicmKzdzpSrp76hp2NFww72M+ft4IGkb+p0k+ojh9fwlpkaSYB7LNeP5bKdq13O2vsHusAT7kAlLQzlanUoa8uos+2IGZBf6nNiqna7VK5e+oaejhXtOtrPnLWDH0r6l8PLX0r655K+7+ka3jhzIwlwh+X6sVy2c7XLWXv/QBe44Q7U08RQrkaHsjaNOtuOmAHZJT8nJmq3s+XqqW/o6VjRrMP9zHDT/be6P+LD3TW8Ya8kPdXdumJEjR2W68dy2c7VLmft/QNd4IY7khqeHOHpp3WSD+XyEn8v5cR91B2ATKwOb7ZaLqC4Bq4BNrfnsWPesx2sx4ga2yzXj+Wynatdztr7B3rBDXck08IUKYUlHcrlJf5eyon7qDsAGVkd3my1XEBRjVwDbGrPU8cs6Rcbt4+NGFFjm+X6sVy2c7XLWXv/QA9YNBUpzQ3TxH2pFyDzEn8v5cR91B2AXKwuymm1XEBpLVwDbG3PU8d8+7212wEAAJ3hCXekxPDKDTIM5fISfy/lxH3UnWElhvo3MJ2ACz3G2erwZqvlAipwfw2woz1PHdvHkugXAADAJG64IyWGXW+UeCiXl/h7KSfuo+6MKjHUv5HpBMzrOc5WhzdbLRdQWBPXABvb8+Qx0y8AAIA5TCljSAjhKoRwHUK4GX5e1S7TRgy7rstL/L2U0wxDfQN1Z1eJof4tTCfgQfE4G+pjANjV4zVAj8cMAMAsfndYJ8QYa5cBmnyi7Y0kV0+09TgM3hIv8fdSTgus9Q3UnU0hhBtJT0beehljfO5lHygfZ2t9DAC7erwG6PGYAQCYwu8O6zGljB1zT7S5Ga7I8Mq6vMTfSzmNMNU3UHdmlRjq38R0Ag6UjrOpPgaAXT1eA/R4zAAAzOB3h5W44W6H+4WIAGRB34A1Xkl6qvtPGqQc9l5iHygfZ/oYAFnxlDjQPto50I3J3x289gO5ys0Ndzt4chDAGPoGLIoxvgshPFPGC5wS+0CVONPHAMim54WggV7QzoGuTP2O8KUc9gM5+y9uuNvBk4MAxtA3YJUSw94ZWl9G4TjTxwDIiaHnQPto50A/pn53kHz2A9n6L264G8GTgwDGtNA3eB1ahj70np8p+5jeYwlM6bxtMG0V0D7aOdCJqd8dJP3pxFes9wPZ+i9uuBvCk4MAxnjuGxhiCsvIz5MUfQyxBMbRNpi2CugA7RzoyNjvDiEEr/1AtnJ/7egGAACYMTdEC6iN/EyHWALjem8br/RhqPktpq0C2kI7B+C1H8hWbp5wBwDkxBBTWEZ+pkMsgXFdt40WpsbDfp1Pp9QN2jkA5/3ALyT90fD/fynp5ynKzQ13AEBOXoeWoQ/kZzrEEhjXfdvwPDUe9mM6pb7QzgF46wcmzlPfl/TzFNtnShkAQE5eh5ahD+RnOsQSGEfbQK96n04JAGBb1vMUT7gDALJxPrQMjSM/0yGWwDjaBjrW9XRKAADzsp6nuOEOAMjK29Ay9IX8TIdYAuNoG+hU99MpAQBMy3qe4oZ7QSwaA5zQFpAKuTRuS1yIYR+oZ6xBnvQbg16PO7fO4/pK0lPdHa7PdEoAACuynqdCjDHFdrBgYjL+N5JYNAZdoS0gFXJp3Ja4EMM+UM9YgzzpNwa9HnduxLX7PzgAAIzLeZ5i0dRyWDQGOKEtIBVyadyWuBDDPlDPWIM86TcGvR53bt3HNcb4Lsb4Isb4fPjJzXYAgBk5z1NMKVMOi8YAJ022BZ7gOW5HDBdzqdN62dLGmmyPLUmUw9Qz1iBP+o1Br8edG3EFgBmd/q6GTnDDvRwWjQFOmmsLE0OGn4YQuhkyfNTOGM7mUsf1sqWNNdceW5Iwh6lnrEGe9BuDXo87N+IKABM6/l0NnWBKmXJe6TRn3zkWjUGPWmwL3Q8ZTmBPDJdyqdd62dLGWmyPLUmVw9Qz1iBP+o1Br8edG3EFgGm9/q6GTrBoakEMl8ljT1ypi7pai38I4UbSk5G3XsYYn5cuz5Ic8T+6zb0xnNvvyDYfDJ97I+n5VBlbyM8tx9DC8bZqS7tYqkfqGWuQJ4vnlWbjQx+SB3Eri3ijRa3mtbffoaV266I1VuqJG+5wbWIY0htJk8OQ9nwHmBNCuJb06chbn8UYX5Quz5wc+Z9imzlieLHNB5J+IOmhpL+W9MVYGekfYMnadkHeAvn13M56Pnb4QZ6iRS3ntaffoaW266Illurpa7cFCiFchxBuhp9XJQthpQyptHQsOSWK055hSEWGLpEH6RmOqachwznyP8U2c8TwfJuPdLrZ/lYf5k4dK6P7oY2G2wm2W9su3OQt+QnH3LSzDHo+dvhBnqJFLee1p9+hpbbroiVm6ukjCwsVWChDKi0dS04J4/Ro4+t7v7MJeZCe5ZjGGN+FEJ7JwLClFXLk/+Ft5ojhxTZvhpdfS3o/U8bs/UNOltsJttvQLlzkLfkJ51y0s0x6Pnb4QZ6iRc3mtbPfoaWG66IxZurpI83f/S81jMNCGVJp6VhyShWn1xtf3/udrciD9EzHdLgwqF6OFXLkf5Jt5ojh7TZDCNL4kMXLMpboH3Iy3U6w3cp24SVvyU945qWd5dDzscMP8hQtajqvHf0OLTVeFw0xU08fycbdfwtlSKWlY8kpVZxeSXqq+/MzzQ1D2vOdrdzmgZUFJka4iqnhOG7O/xXHsnqbFeOytowl+oecXLUTJLM7bwu3yebz00Lfb6EMORg4rtl2trV8exYpHd6qsbCp93OjOwby3SPyFC0ir+2gLnwwU09BUvWFCrwtljCnpWPJKWWc9lyQ5r6I9ZoHlhaYuOQpppbjKG3L/7XHsmabteOy9rg9/5LrqZ0grQPnwmJtsvX8rN3HWSlDDlaOa6qdbS3f0ucn3v9y+Pnxhu8ki5Hnc6M3VvLdI/IULSKv7aAufLBSTx/Jxt1/C2VIpaVjySlZnPYMQyowdMlrHlge7u8pppbjuDX/Vx3Lym1Wjcva43Y2tPGSp3aChHbmbek22Xp+Wuj7LZQhBxPHNdPOtpZv6fNj739/+PnFhu8ki5Hzc6M3JvLdI/IULSKv7aAufLBSTx9ZWKjAQhlSaelYcmo9To6Pz+xwf2cxNRvHHVIeS9K4WPnLtZVySO7aCepb3SZT5HkH+fktSd+U9FDSW31YpJlpGo/bdFwV+uWtcV96fez9hzu+M/c67KIuAQBw7iPJxt1/C2VIpaVjyan1ODk9PjMLTIxxFFPTcdwo5bEk29bEcOunIYQa0wtUL8c5R+0E9a1qkynzvNX8HGJ0Lek7Zy9/Iulzle37Wzr/nFt9XJX65a1xX3p97P23O74z9zrsoi4BAHDua7ULAMCUVzoN7z/X0nD/UlqKY8pjSbmtueHWJVkpB7DH2jZJni97LOk3untT9KGkr6v8NI2tnH/ObTmuGvm6Ne5Lnx97/xfDf1u+00Ld94i6BADAuRBjrF0GAIZYmh7Ds5bimPJYUm0rhHAj6cnIWy9jjM/3lG0PK+UA9lq54DF5vuAsRg90iuXttDL/Psb4fxQuSzPnn3MbFr6ukq9b4770+bH3h7c2faeFuu8RdYnUyKn+UOdAXR/VLgAAW1od7l9aS3FMeSwJt2VluLWVcgC7rGyT5Pmy21i8191FLX9duiAtnX/ObTiuKvm6Ne5Ln595f8934Ax1iZQsToGIvKhzoL6iU8qEEK5CCNchhJvh51XJ/QMAmmFluLWVcgA5kefLmo2Rw+v3ZuuiNw5zD7CKqeH6Q53DlRbP+cWmlJn4C9sbSfyFDQCwmZVhklbKAeREni9rMUZer99brIveeM09wCKmhusPdQ5PWj3nl5xSZu4vbAyXAwBsYmW4tZVyADmR58sajZHL6/dG66I3LnMPMIqp4fpDncOTJs/5JaeUebTxdQAAAAxaHGoJ87h+Ry3k3kGcM3CGqbb6Q53DkybP+SWfcOcvbAAAADuw+BUq4fodtZB7B3DOwLkY47sQwjMx1VY3qHM40+Q5v+QT7vyFDQAAYB8Wv0INXL+jFnLvGM4ZuCPG+C7G+CLG+Hz4yY3XxlHncKTJc36xRVMlFjACAADYg8WvyuO69YQ4pEMst+k5XkePfeSc8WDY1htJz7duD33ruS16RH2lQRzLajHeRW+4AwAAYLsQwrWkT0fe+izG6HYxIasmpmN4I4npGLALOYW1UuTKxTnjgaQfSHoo6a8lfbF1e+gXfZcv1FcaxBEplJxSBgAAAPs0OdTSMKZjQGrkFNZKkSvn54xHOt1sf6sP8+GSe1iLvssX6isN4ojDSi6aCgBAE1oc8gbbWPxqmwRt9NHG14El5JTaO39mOp7DuXJxzrgZXn4t6f2e7WGbxvLcZN81FePGYn/HymMzWV8OVYtjzhxuuX1YxA13AAA2mBhi+DSEwBBDZDXkF9PHLEjURl9vfB1Y0n1OtXb+zHg8SXLl9pwRQpDGpyTrJvdKai3PZbDvmonxTyT9eOR1r7H/yoa8MldfTlWJY87+o8G+yTymlAEAYBuGGAK2pZ6O4RZT+OAIcqq982eu40mdK+ReWdnzPIRwFUK4DiHcDD+vUm17hMX8mYrxjyZe99rHnFubVxbry4XzdqXTw8lfXnxkcxx3tNWc/Udr5+BRhfvHWTzhDgDANgzVBGxLPR0Dw25xGDklqb3zZ5bjSZ0r5F5xWfO89FOqRvNnKpbflvTbDZ/3ZFVeGa0v8yba1ZeS/qOkj7Ujjjvbas7+o7Vz8D3WnuLnhjsAANswVBOwLel0DMeLA5yQU82dP7MdT+pcIfeKyp3nc0+pZqljg/kzFctfSfqDDZ/3ZHVeGawvD8ba1ceSfhtjfJ5wm0ttNWf/0do5eEzx/nEOU8oAALANQzUB22ijgE2ttc3Wjgdp5M6L5p9SXWEqxj+deL2FNkl/k1eOdrVnmznruYccMtU/hhhjjf0CAOAWK7wDttFGAZtaa5utHQ/SyJkXIYRrjS+C+1mMsZunmqdi3HKbbPnYasvRrvZuM3P/0XQOWesfueEOAAAAAABg3MQcxW8kVZmjGGhBjnZFWy3PWsy54Q4AAAAAAIpq/WnLXIhbfZ7qwFNZa8oRJ2ux31sea8cxx1JZueEOAAAAAACKsfYkIrCWp9z1VFbktTcXyKH9WDQVAAAAAACU9Fh3b+Bo+PfjCmUBtvCUu57Kirz25gI5tBM33AEAAAAAQEmPNr4OWOEpdz2VFXntzQVyaCduuAMAAAAAgJJeb3wdsMJT7noqK/Lamwvk0E7ccO9ECOEqhHAdQrgZfl7VLhMAe+gr/KLuAACAI690mgf43JvhdcAyT7nrqazIa28ukEM7sWhqB1jkAMAa9BV+UXcAAMCb4frlsU5TE7yW9IrrFnjgKXc9lRV57c0Fcmgfbrh3IIRwLenTkbc+izG+KF0eADbRV/hF3QEAAAAAYMNHtQuAIljkAMAa9BV+UXcAgKx4wg1Ab+j3AOzFDfc+sMgBgDXoK/yi7gAA2UxMXfY0hMDUZQCaRL8H4AgWTe0DixwAWIO+wi/qDgCQ02Pdvemk4d+PK5QFAEqg3wOwG0+4dyDG+C6E8EwMhQIwg77CL+oOAJAZU5cB6A39HoDduOHeieGmCwvnAZhFX+EXdQcAyIipywD0hn4PwG4ubrjvWajiyOIWLIwBAO3b0tcvfZbzRrtaqNujx5AiBla2AdTkPIdfSbqW9H1JDyW9lfQLrZi6zPlxA+jXK0lPdXdaGdNTNtLfYitrObOmPNbKPCXEGGuXYdbEQhVvJE0uVLHnOym+CwDwYUtfv/RZzhvtaqFujx5DihhY2QZQk/ccHsr/v+j+Dff/fa783o8bQN+83NiT6G+xnbWcWVMea2We42HR1D0LVRxZ3IKFMQCgfVv6+qXPct5oVwt1e/QYUsTAyjaAmrzn8GNJH0v6QtJfDT8/1nL5vR83gI7FGN/FGF/EGJ8PP03d0LtAf4utrOXMmvJYK/MkD1PK7Fmo4sjiFiyMAQDtW+zrz55oudHpJP5a0vuRz3LeaFeyuq34hNTRY0gRAyvbAGrynsN7y+/9uAHAC/pbbGUtZ9aUx1qZJ3m44b5noYoji1uwMAYAtG+2r78YqvZ7kr4j6RNJn+vDTffXFz/X7gN+JKnbiaGPT0MIJYY+Hj2GFDGwsg2gJu85vLf83o8bALygv8VW1nJmTXmslXmShyllXuk0H8+5pYUq9nwnxXcBAD4s9fXnQ9Ve6zRX7UN9+Mv5+Wc5b7QrVd3WHPp49BhSxMDKNoCavOfw3vJ7P24A8IL+FltZy5k15bFW5knmF02V9g3DPjJ029PCGACAfeb6+hDCjaQnZx9/MHzujaTnujgvcN5oV4q6HcmnWy9jjM+Pl3Jx/1eSfijpj4aX/lLSz0teF1nZBlCT9xzeW/6F863rmACAJfSp2Mpazqwpj7UyT3Fxwx0AgJJCCNeSPh1567MY44vS5YFvtfNpYkqbN5JKTGkDAKPomwAAQKs8TCkDAEBpboaqwYXa+VRzShsAmELfBAAAmuRh0VSgOi9DVlpE7FEjB2KM70IIz3Lsl5w+6SkOOfNppUcbX0dFPbUNdI++CQAANIkb7sCCieGuT0MIDHfNjNijZg4M20863Qc5fdJjHHLk0wavN76OSnpsG+gafRMAAGgSU8oAyxjuWg+xR2s50Nrx7OUuDiGEqxDCdQjhZvh5VbtMG9Se0gbruWsbwAH0TQBccH4diMaQjz7whDuwjOGu9RB7tJYDrR3PXq7i4P2pYwNT2mA9V20DOIK+CYAH3q8D0Rby0Q9uuAPLGO5aD7FHaznQ2vHsqSdsQAAAE/JJREFU5S0Oc08d15omZpPKU9pgPW9tAziEvgmAA+6vA9EU8tEJppTpGMNQVmO4az3EHuZzYGNfav54CvEWB546Rine2gYAAK3jOtCgju9ndZmPNet7775DjDF32WDQxDCUN5IYhjJiiBfDXSsg9rCcA3v6UsvHU5KnOIQQriV9OvLWZzFGniRBUp7aBgAAreM60J6e72f1mI816/vIvplSpl8MQ9mA4a71EHsYz4HNfanx4ynGWRxeSXqq+xdaPHWM5Jy1DQAAWsd1oD0938/qMR9r1vfufXd9w73kE0QGn1bqchgK0DqDfU3r6Es7wMJ+AAAAfeI60KRufwfrNB9r1veqfY/dh+n2hnvJlX2NriLMolxAY4z2Na2jL+0ETx0DAAD0ietAc7r+HazDfKxZ34v7nroP0/OiqXPDAjzvay0W5QLaY7GvaR19KQAAAACUw+9gfalZ32v2PXofpskn3FdOqVBySIK54S6dDkMBWmeur2nd0Jf+RNKPJH1b0q8k/ZS+FAAAAADS435WX2rW98p9j95vae6G+4YpFUoOSTA53KXDYShA60z2NS0bzjk/1umc81tJfyDpx0zjAwAAAAB5cD+rLzXre8W+R++3tDilzNopFUoOSWC4C4BdQghXIYTrEMLN8PNq5uP0NeUxjQ8AAACww8bfdQDAotH7MCHGWKMw2YQQbiQ9GXnrZYzx+cVn10w9k6pcxfYFoA0TI3beSJp8epq+pqwt5xwAAAAAJ3t+1wEAi8buwzQ3pYw2TKlQckgCw10A7DD39PRof0JfUxzT+AAAAADbbf5dBwAsGrsP0+KUMkypAKAVLIJqH+ccAAAAYDt+1wHQrOaecGe1YgAN4elp4zjnAAAAALvwuw6AZjV3w11iSgUAzXgl6anuz2vI09OGcM4BAAAANuN3HQDNam7RVE9Y3BBrkSs+5Kgn6h4AAABAi/hdB0CruOFeCStyYy1yxQfqCQAAAAAAAC0umurF3IrcwDlyxQfqCQAAAAAAoHPNzeHuaEgSK3JjLXLFhy7qyVEfCwAohHMDAAAA8EFTN9wnpnR4GkKwOKUDK3JjLXLFh+bryVkfCwAogHMDAAAAcFdTN9w1P6XDizUbKPiEDityYy1yxYcs9VSiT1qzj+EzfybpTyS9HT73Xhv7WNiSKr+ObKfmk7Eensr1UMaWEf9VDl9/wzbaAQAAdXAO9qupRVNDCDeSnoy89TLG+HzF94suekjDwVrkig+p66lEn7RmH2ef+RNJnwyfeSvpc51uuq/qY2FLqvw6sp2aiw17WOjYQxlbRvzXOXr9DdtoBwAA1ME52LfWFk09OqVD0UUPY4zvYowvYozPh580GIwiV3zIUE8l+qQ1+7j9zNuz1x7qw/z0zUyb05lU+XVkOzUXG/aw0LGHMraM+K/T/JRqnaMdAABQB+dgx1qbUubolA5dLHqIu3h6vBxivdnqPulAbNfs4/zG+ic63WzX8HP3tDlLZd56TOTXZqnOeZPbWVEnNc+7u/ddMNe4LqmrSPxL910Z9ld86rucMeNccg/9EAAAdXAOdqypG+4xxnchhGfaf5HMEzqdYaGvcoj1Lqv6pIOxXbOP2/9/r9M0Mo90utn+HyT9uwNzfk+WeesxkV+7pDrnTX3+Sy3XSc3z7q59F841rkvqyh7/0n1Xjv0luP7eJGfMOJeMoh8CAKAOzsGOtTalzNEpHV7p9ETOORanbBtDdMoh1tut7ZOOxHbNPs4/817SF5L+k3bebB8slXnrMZFf26U6501tR1quk5rn3b37LplrXJfUVSL+pfuuLPsrPPVdzphxLrmPfggAgDo4BzuW9An3VEMwaw3lLP2EDkxgiE451WPtbZj4hj5pd2zX7CNT37hU5q3HVD2/vElVr1PbkfSnE195tPRd4+f8YrnGdUldF/H/lqTflfT3kh6HEFLVQ+m+q4W+8rasD/RhxNVbneroRaJtr329efRDAADUwTnYt2Q33FMNwaw9lHPYx9GLdfjBEJ1yqsa6dt+y18o+6VBs1+wjQ9+4VOatx0Rb3iFVvY5tJ4Swqk5qnnd37rtornFdUtfwi87lHOXfU7rzR+m+q4W+8rVON9t/oA9rikjS/xNC+IuDddJCfJKjHwIAoA7OwX6lnFIm1RBMhnKiJIbolFM71i33LbVju8dSmbcek8cYtK7VOmn1uDAt5/mjdD61kL+vJH1dd2+2v5X0Gx2vkxbiAwAAgMpCjDHNhkK4kfRk5K2XMcbnpbcDrOVtmhHPasa69b7FYx4vlXnrMXmMQetarZNWjwvjcp8/SudTC/kbQvifJP0LfZhO5rVOa4wcrpMW4gMAAIC6Us7hnmoIJkM5URRDdMqpHOum+xaPebxU5q3H5DEGrWu1Tlo9LkzKev4onU+N5O+vdVrA+9LhOmkkPgAAAKgo5Q33y/ktpX1DMFNtBw3gKSMkRN+CptXoL0vuk/NBGsRxF84f9lSvE9oSAAAApiSbUkZKd+HJBSykyUUu30gyvcgl7KJvQatq9Jcl98n5IA3iuB/nD3sqT1NHWwIAAMCklE+4JxuCyVBODOYWKSM/sBl9CxpWo78suU/OB2kQx504f9hTuU5oSwAAAJiU9IY7kNijja8DQK9q9Jcl98n5IA3imABPu0O0JQAAAFdKX8Nzwx2WNb3IJQAkVKO/LLlPzgdpEMeDJqYSeRpCYCqRvtCWAAAAnKhxDf+1HBsFEnml03yY51ikDADuq9Ffltwn54M0iONxc1OJoB+0JQAAAD+KX8MnXTQVSI1h2wCwTo3+suQ+OR+kUSuOrdRfCOFG0pORt17GGJ+XLg/qaSWnAQBAed6uI7yV91KNa3huuAMAACCbiSGcbyS5m4YlhHAt6dORtz6LMbJYJgAAAGZ5uzb2Vt4xNa7hmVIGAAAAObU0DQtTiQAAAOAIb9fG3so7pvg1PIumAgDc8T6kDUjBUTt4tPF1s2KM70IIz+Qj7qs5yqUsjh7/1u/3Hm8AADrn7dp4srxermlqXMNzwx0A4EqNFcYBa5y1g9cbXzdtiG8z08c4y6Xkjh7/1u/3Hm8AAODu2niqXF/K0TVN6Wt4ppQBAHjTwpA2dCCEcBVCuA4h3Aw/rxJu3lM7YBoW2zzlUg5Hj3/r93uPNwAAvfN2bTxVXolrmkk84Q4A8MbbEDx0qMBTrG7aQavTsDTETS5lcvT4t36/93gDANA1b9fGU+WV9KcTX+GaRtxwBwD4420IHvo09xRriqGMrtpBa9OwNMZVLmVw9Pi3fr/3eAMA0D1v18Zj5Q0hcE0zgyllAADeeBuChz7lfoqVdoBU3ORSpmmajh7/1u+Pff5LSR9tPa698cg83RUAAOiDm2vIGkKMsXYZAADYxMtq6OhXCOFa0qcjb30WY0zyNAvtAKl4yKWJaZreSDo8TdPR49/6/YvPfynpiaSPzz6yeFx745EzjgAAoC8eriFr4YY7AABAYtzUAtIq8UesGvYeV+nvAQAAYD3mcAcAAEgs52JIpZ/GxQfErqpWFxvde1ylvwccRh9qA/UAYAr9QzrccAcAAMggx2JIE0/OPw0hrHpy/uj3e0bsqmt1Ya69x1X6e8Ah9KE2UA8AptA/pMWiqQAAAH481t2LYA3/flzo+z0jdnW1ujDX3uMq/T3gKPpQG6gHAFPoHxLiCfeDSg+3YHgHSiPnAMCUo9NBMJ3EfsSuopzTNNW097hKfw9IgD7UBuoBwBT6h4S44X5A6eEWDO9AaeQcAJhzdDoIppPYj9hVlmOaJgv2Hlfp7wEH0YfaQD0AmEL/kNCmG+48zX3P3HCLZBexZ3H4Y0l/qFMs3ufaH+xI0QYObuM2xx8M338o6ZuSfiHp/9yyn6n3577noA/4iqeyAigjU7/wStJT3b3+2DIdxNHv98xV7DgvAX500l5d9aHWHciZKvXQSY6jMR3mLf10QiHGuO6D40+6vpFU8mnubPvbI4RwI+nJyFsvY4zPE+3jPA7/TNInkt5K+lwfbron2x/sSNEGjm5jyPH/UdIPdLrZfus/S/pfL26MT+5n5v2fSPrx2PeG/zfdB9zy0F8BKCtnv3D04r/DXx6S8RI7zkuAHz21Vy99qHUJfser8SBlFzmOdvSat/TT6Wx5wr3I09wV97dHieEW53F4O/x8qFPyf5Fhf7AjRRs4uo3X+vBk+7mPLraxtJ+p93808z3NvGelD7jlob8CUFa2fuHodBBMJ7Gfo9hxXgL86Ka9OupDrTuUMxXqoZscR1O6zFv66XS23HAfmyT/gaQ/DiHk+MuHh8n6Swy3OD/e1zo94f5QH26AMryjXSnawNFtvJL024vX3urDjfi1+5l6/9sj218qX7I+IOFfb6fK9K0Qwu37m7bv6S/LnsqKu6i7rMxdx1DfXTGXf/CHPqMY2iu28pYz3soLSOQtDtpyw/3yKeoHOk0z8V8lfWN4LeViiuYn6x+mynimvBei58f7XqepZB5J+i+SfpZhf7AjRRs4tI0hx/+tpP9Zpz/y3N5sf3+xjaX9TL3/K0l/sLF8SfqAxAvCjpXpgaRrSd/bun1Pi9V6Kivuou6yM3UdQ313x1T+wR/6jKJor9jKW854Ky8gkbc46GsbPvtKp6epb93+Vec82c6ngjjqcn+Swae5Y4zvYowvYozPh5+pL0Av4/Be0ktJ/ybT/mBHijaQYhs/1ynn/kqnaYzej2xjaT9T7/905nu5+4C5IWJbjZX165J+s3P7KcuWm6ey4i7qLi9r1zHUd1+s5R/8oc8oh/aKrbzljLfyAhJ5i4NWL5oq3RtW+B1J/50+LNx5K/WCod0PYyQO/TpS92ff/Zak35X095J+vWUbW8qx9Jmp9+e+lzP3Uy96PFLWb+nu0+2rt19iQeZUPJUVd1F3+Vk6f1Pf/bGUf/CHPqMs2iu28pYz3soLSOQtjtkypcydyfNDCNeSPh35WLLhFUzWf0Ic+rW37mdW1P6LPSeINeVY+szU+3Pfy5z7SYeIXZZ1mLt97Ib7mu17Gr7mqay4i7rLzNj5m/rujLH8gz/0GQXRXrGVt5zxVl5AIm9xzJYpZS4xvAKwi2HAy3L3YUe276l/9VRW3EXd9YX6BrAFfQYAAMBOm6aUufdlhlcAJqSczsSqHP1N7j4s0ZRAu8tWqo/mXOBX6bojV+oi/nZQF/OIjw3UA7DO2rZioU1ZKMNetcruOWYoi1zBuUM33AHUNzF9zD/RacHOyzUWPosxuhsSNTNFzjNOYOOIGawhJ4ET2sI84gPAk7V9loW+zUIZ9qpVds8xQ1nkCi4dmVIGgA1j08f8RtLXL14zPQw4hHAVQrgOIdwMP6/O3maKnO2IGawhJ4ET2sI84gPAk7V9loW+zUIZ9qpVds8xQ1nkCu7YtGgqAJMejbz2XtLnkn4tB8OZJv4a/DSEcPvX4LFj1MzrIGawh5wETmgL84gPAE/W9lkW+jYLZdirVtk9xwxlkSu4gxvugH+vJ17/taPpY+b+GvxC08c49TqIGewhJ4ET2sI84gPAk7V9loW+zUIZ9qpVds8xQ1nkCu5gShnAv1c6TRdzzvT0MSOW/hrcwjGWRsxgDTkJnNAW5hEfwLiFqSB7s7bPstC3WSjDXudlfyDpmzo9oPVR5vyrtV8YsrLP89y+kAGLpgIN8L4adgjhWtKnI299tcir92OsgZjBGnISOKEtzCM+gF0sDHjf2j7LQt9moQx7DWX/oaR/qdNsDa91mko1a/7V2i9s2NLneW5fSI8b7gCq48IdAAAAsG/NgzJALrXyj7zvF3WPvZjDHUB1McZ3IYRn4q/BAAAAgGUsDIiaWDx1Bk9YZ+Gi7mEPN9wBmDBcCPAXYgAAAMAuFgZETSyeOmFi1PjTEAKjxo8xX/ewiUVTAQAAAADAGiwMiJpq5Z+HvH+suzfbNfz7cYWytMRD3cMg5nAHAAAAAACrMG0FaqqVf6X2u3c/IYQbSU9G3noZY3yetpR9qdnn0d/6xQ13AAAAAAAAoKKJaWHeSFqcFobFPdtzJB9QH1PKAAAAAOhOCOEqhHAdQrgZfl7VLhMAoGtHpoVh6pP2ME2QYyyaCgAAAKArLC4HADDo0cbXvxJjfBdCeCamH2nJ7nxAfdxwBwAAANCbuafGGHoPAKjh9cbX7xhurnMOa8ehfEBd3HC/wIIEQD9o76ip1/zr9bhhD7nYvaxPjZFfAIAdXkl6qvtzdjMtTJ/IB8dYNPUMCxIA/aC9o6Ze86/X44Y95CJyLi5HfgEA9uIPtjhHPvjFoql3sSAB0A/aO2rqNf96PW7YQy4i5+Jy5BcAYJcY47sY44sY4/PhJzdXO0Y++MWUMnexIAHQD9o7auo1/3o9bthDLnYu8+Jy5BcAAEDHuOF+FwsSAP2gvaOmXvOv1+OGPeQici4uR34BAAB0jCll7so5tBSALbR31NRr/vV63LCHXERO5BcAAEDHWDT1AgsSAPlZaWdWyoE+9Zp/vR53DsTymB7j1+Mx10KsAeTgvW/xXn5Qh8intdzihjuAooZO9M91dzGxN5Keee5MAaAk+lJsRc4AgG/e+3Hv5Qd1iHxazC2mlAFQ2mPd7UQ1/PtxhbIAgFf0pdiKnAEA37z3497LD+oQ+TSXW9xwB1Dao42vAwDuoy/FVuQMAPjmvR/3Xn5Qh8inudzihjuA0l5vfB0AcB99KbYiZwDAN+/9uPfygzpEPs3lFjfcAZT2Sqe5uM69GV4HAKxDX4qtyBkA8M17P+69/KAOkU9zucWiqQCKa231aQCogb4UW5EzAOCb937ce/lBHSKf1nKLG+4AAAAAAAAAACTw/wOdj6ZMHy+NvAAAAABJRU5ErkJggg==\", \"x\": -1, \"xref\": \"x\", \"y\": 271.32, \"yref\": \"y\"}], \"margin\": {\"b\": 40, \"l\": 50, \"pad\": 0, \"r\": 30, \"t\": 80}, \"template\": {\"data\": {\"bar\": [{\"error_x\": {\"color\": \"#2a3f5f\"}, \"error_y\": {\"color\": \"#2a3f5f\"}, \"marker\": {\"line\": {\"color\": \"#E5ECF6\", \"width\": 0.5}}, \"type\": \"bar\"}], \"barpolar\": [{\"marker\": {\"line\": {\"color\": \"#E5ECF6\", \"width\": 0.5}}, \"type\": \"barpolar\"}], \"carpet\": [{\"aaxis\": {\"endlinecolor\": \"#2a3f5f\", \"gridcolor\": \"white\", \"linecolor\": \"white\", \"minorgridcolor\": \"white\", \"startlinecolor\": \"#2a3f5f\"}, \"baxis\": {\"endlinecolor\": \"#2a3f5f\", \"gridcolor\": \"white\", \"linecolor\": \"white\", \"minorgridcolor\": \"white\", \"startlinecolor\": \"#2a3f5f\"}, \"type\": \"carpet\"}], \"choropleth\": [{\"colorbar\": {\"outlinewidth\": 0, \"ticks\": \"\"}, \"type\": \"choropleth\"}], \"contour\": [{\"colorbar\": {\"outlinewidth\": 0, \"ticks\": \"\"}, \"colorscale\": [[0.0, \"#0d0887\"], [0.1111111111111111, \"#46039f\"], [0.2222222222222222, \"#7201a8\"], [0.3333333333333333, \"#9c179e\"], [0.4444444444444444, \"#bd3786\"], [0.5555555555555556, \"#d8576b\"], [0.6666666666666666, \"#ed7953\"], [0.7777777777777778, \"#fb9f3a\"], [0.8888888888888888, \"#fdca26\"], [1.0, \"#f0f921\"]], \"type\": \"contour\"}], \"contourcarpet\": [{\"colorbar\": {\"outlinewidth\": 0, \"ticks\": \"\"}, \"type\": \"contourcarpet\"}], \"heatmap\": [{\"colorbar\": {\"outlinewidth\": 0, \"ticks\": \"\"}, \"colorscale\": [[0.0, \"#0d0887\"], [0.1111111111111111, \"#46039f\"], [0.2222222222222222, \"#7201a8\"], [0.3333333333333333, \"#9c179e\"], [0.4444444444444444, \"#bd3786\"], [0.5555555555555556, \"#d8576b\"], [0.6666666666666666, \"#ed7953\"], [0.7777777777777778, \"#fb9f3a\"], [0.8888888888888888, \"#fdca26\"], [1.0, \"#f0f921\"]], \"type\": \"heatmap\"}], \"heatmapgl\": [{\"colorbar\": {\"outlinewidth\": 0, \"ticks\": \"\"}, \"colorscale\": [[0.0, \"#0d0887\"], [0.1111111111111111, \"#46039f\"], [0.2222222222222222, \"#7201a8\"], [0.3333333333333333, \"#9c179e\"], [0.4444444444444444, \"#bd3786\"], [0.5555555555555556, \"#d8576b\"], [0.6666666666666666, \"#ed7953\"], [0.7777777777777778, \"#fb9f3a\"], [0.8888888888888888, \"#fdca26\"], [1.0, \"#f0f921\"]], \"type\": \"heatmapgl\"}], \"histogram\": [{\"marker\": {\"colorbar\": {\"outlinewidth\": 0, \"ticks\": \"\"}}, \"type\": \"histogram\"}], \"histogram2d\": [{\"colorbar\": {\"outlinewidth\": 0, \"ticks\": \"\"}, \"colorscale\": [[0.0, \"#0d0887\"], [0.1111111111111111, \"#46039f\"], [0.2222222222222222, \"#7201a8\"], [0.3333333333333333, \"#9c179e\"], [0.4444444444444444, \"#bd3786\"], [0.5555555555555556, \"#d8576b\"], [0.6666666666666666, \"#ed7953\"], [0.7777777777777778, \"#fb9f3a\"], [0.8888888888888888, \"#fdca26\"], [1.0, \"#f0f921\"]], \"type\": \"histogram2d\"}], \"histogram2dcontour\": [{\"colorbar\": {\"outlinewidth\": 0, \"ticks\": \"\"}, \"colorscale\": [[0.0, \"#0d0887\"], [0.1111111111111111, \"#46039f\"], [0.2222222222222222, \"#7201a8\"], [0.3333333333333333, \"#9c179e\"], [0.4444444444444444, \"#bd3786\"], [0.5555555555555556, \"#d8576b\"], [0.6666666666666666, \"#ed7953\"], [0.7777777777777778, \"#fb9f3a\"], [0.8888888888888888, \"#fdca26\"], [1.0, \"#f0f921\"]], \"type\": \"histogram2dcontour\"}], \"mesh3d\": [{\"colorbar\": {\"outlinewidth\": 0, \"ticks\": \"\"}, \"type\": \"mesh3d\"}], \"parcoords\": [{\"line\": {\"colorbar\": {\"outlinewidth\": 0, \"ticks\": \"\"}}, \"type\": \"parcoords\"}], \"scatter\": [{\"marker\": {\"colorbar\": {\"outlinewidth\": 0, \"ticks\": \"\"}}, \"type\": \"scatter\"}], \"scatter3d\": [{\"line\": {\"colorbar\": {\"outlinewidth\": 0, \"ticks\": \"\"}}, \"marker\": {\"colorbar\": {\"outlinewidth\": 0, \"ticks\": \"\"}}, \"type\": \"scatter3d\"}], \"scattercarpet\": [{\"marker\": {\"colorbar\": {\"outlinewidth\": 0, \"ticks\": \"\"}}, \"type\": \"scattercarpet\"}], \"scattergeo\": [{\"marker\": {\"colorbar\": {\"outlinewidth\": 0, \"ticks\": \"\"}}, \"type\": \"scattergeo\"}], \"scattergl\": [{\"marker\": {\"colorbar\": {\"outlinewidth\": 0, \"ticks\": \"\"}}, \"type\": \"scattergl\"}], \"scattermapbox\": [{\"marker\": {\"colorbar\": {\"outlinewidth\": 0, \"ticks\": \"\"}}, \"type\": \"scattermapbox\"}], \"scatterpolar\": [{\"marker\": {\"colorbar\": {\"outlinewidth\": 0, \"ticks\": \"\"}}, \"type\": \"scatterpolar\"}], \"scatterpolargl\": [{\"marker\": {\"colorbar\": {\"outlinewidth\": 0, \"ticks\": \"\"}}, \"type\": \"scatterpolargl\"}], \"scatterternary\": [{\"marker\": {\"colorbar\": {\"outlinewidth\": 0, \"ticks\": \"\"}}, \"type\": \"scatterternary\"}], \"surface\": [{\"colorbar\": {\"outlinewidth\": 0, \"ticks\": \"\"}, \"colorscale\": [[0.0, \"#0d0887\"], [0.1111111111111111, \"#46039f\"], [0.2222222222222222, \"#7201a8\"], [0.3333333333333333, \"#9c179e\"], [0.4444444444444444, \"#bd3786\"], [0.5555555555555556, \"#d8576b\"], [0.6666666666666666, \"#ed7953\"], [0.7777777777777778, \"#fb9f3a\"], [0.8888888888888888, \"#fdca26\"], [1.0, \"#f0f921\"]], \"type\": \"surface\"}], \"table\": [{\"cells\": {\"fill\": {\"color\": \"#EBF0F8\"}, \"line\": {\"color\": \"white\"}}, \"header\": {\"fill\": {\"color\": \"#C8D4E3\"}, \"line\": {\"color\": \"white\"}}, \"type\": \"table\"}]}, \"layout\": {\"annotationdefaults\": {\"arrowcolor\": \"#2a3f5f\", \"arrowhead\": 0, \"arrowwidth\": 1}, \"colorscale\": {\"diverging\": [[0, \"#8e0152\"], [0.1, \"#c51b7d\"], [0.2, \"#de77ae\"], [0.3, \"#f1b6da\"], [0.4, \"#fde0ef\"], [0.5, \"#f7f7f7\"], [0.6, \"#e6f5d0\"], [0.7, \"#b8e186\"], [0.8, \"#7fbc41\"], [0.9, \"#4d9221\"], [1, \"#276419\"]], \"sequential\": [[0.0, \"#0d0887\"], [0.1111111111111111, \"#46039f\"], [0.2222222222222222, \"#7201a8\"], [0.3333333333333333, \"#9c179e\"], [0.4444444444444444, \"#bd3786\"], [0.5555555555555556, \"#d8576b\"], [0.6666666666666666, \"#ed7953\"], [0.7777777777777778, \"#fb9f3a\"], [0.8888888888888888, \"#fdca26\"], [1.0, \"#f0f921\"]], \"sequentialminus\": [[0.0, \"#0d0887\"], [0.1111111111111111, \"#46039f\"], [0.2222222222222222, \"#7201a8\"], [0.3333333333333333, \"#9c179e\"], [0.4444444444444444, \"#bd3786\"], [0.5555555555555556, \"#d8576b\"], [0.6666666666666666, \"#ed7953\"], [0.7777777777777778, \"#fb9f3a\"], [0.8888888888888888, \"#fdca26\"], [1.0, \"#f0f921\"]]}, \"colorway\": [\"#636efa\", \"#EF553B\", \"#00cc96\", \"#ab63fa\", \"#FFA15A\", \"#19d3f3\", \"#FF6692\", \"#B6E880\", \"#FF97FF\", \"#FECB52\"], \"font\": {\"color\": \"#2a3f5f\"}, \"geo\": {\"bgcolor\": \"white\", \"lakecolor\": \"white\", \"landcolor\": \"#E5ECF6\", \"showlakes\": true, \"showland\": true, \"subunitcolor\": \"white\"}, \"hoverlabel\": {\"align\": \"left\"}, \"hovermode\": \"closest\", \"mapbox\": {\"style\": \"light\"}, \"paper_bgcolor\": \"white\", \"plot_bgcolor\": \"#E5ECF6\", \"polar\": {\"angularaxis\": {\"gridcolor\": \"white\", \"linecolor\": \"white\", \"ticks\": \"\"}, \"bgcolor\": \"#E5ECF6\", \"radialaxis\": {\"gridcolor\": \"white\", \"linecolor\": \"white\", \"ticks\": \"\"}}, \"scene\": {\"xaxis\": {\"backgroundcolor\": \"#E5ECF6\", \"gridcolor\": \"white\", \"gridwidth\": 2, \"linecolor\": \"white\", \"showbackground\": true, \"ticks\": \"\", \"zerolinecolor\": \"white\"}, \"yaxis\": {\"backgroundcolor\": \"#E5ECF6\", \"gridcolor\": \"white\", \"gridwidth\": 2, \"linecolor\": \"white\", \"showbackground\": true, \"ticks\": \"\", \"zerolinecolor\": \"white\"}, \"zaxis\": {\"backgroundcolor\": \"#E5ECF6\", \"gridcolor\": \"white\", \"gridwidth\": 2, \"linecolor\": \"white\", \"showbackground\": true, \"ticks\": \"\", \"zerolinecolor\": \"white\"}}, \"shapedefaults\": {\"line\": {\"color\": \"#2a3f5f\"}}, \"ternary\": {\"aaxis\": {\"gridcolor\": \"white\", \"linecolor\": \"white\", \"ticks\": \"\"}, \"baxis\": {\"gridcolor\": \"white\", \"linecolor\": \"white\", \"ticks\": \"\"}, \"bgcolor\": \"#E5ECF6\", \"caxis\": {\"gridcolor\": \"white\", \"linecolor\": \"white\", \"ticks\": \"\"}}, \"title\": {\"x\": 0.05}, \"xaxis\": {\"automargin\": true, \"gridcolor\": \"white\", \"linecolor\": \"white\", \"ticks\": \"\", \"zerolinecolor\": \"white\", \"zerolinewidth\": 2}, \"yaxis\": {\"automargin\": true, \"gridcolor\": \"white\", \"linecolor\": \"white\", \"ticks\": \"\", \"zerolinecolor\": \"white\", \"zerolinewidth\": 2}}}, \"title\": {\"text\": \"Raster, aligned to stim on\", \"x\": 0.21, \"y\": 0.87}, \"width\": 580, \"xaxis\": {\"range\": [-1, 1], \"showgrid\": false, \"title\": {\"text\": \"Time (sec)\"}}, \"yaxis\": {\"range\": [0, 271.32], \"showgrid\": false, \"title\": {\"text\": \"Trial idx\"}}},\n",
       "                        {\"responsive\": true}\n",
       "                    ).then(function(){\n",
       "                            \n",
       "var gd = document.getElementById('b2d34659-a6e6-494c-a83e-12e5875004e5');\n",
       "var x = new MutationObserver(function (mutations, observer) {{\n",
       "        var display = window.getComputedStyle(gd).display;\n",
       "        if (!display || display === 'none') {{\n",
       "            console.log([gd, 'removed!']);\n",
       "            Plotly.purge(gd);\n",
       "            observer.disconnect();\n",
       "        }}\n",
       "}});\n",
       "\n",
       "// Listen for the removal of the full notebook cells\n",
       "var notebookContainer = gd.closest('#notebook-container');\n",
       "if (notebookContainer) {{\n",
       "    x.observe(notebookContainer, {childList: true});\n",
       "}}\n",
       "\n",
       "// Listen for the clearing of the current output cell\n",
       "var outputEl = gd.closest('.output');\n",
       "if (outputEl) {{\n",
       "    x.observe(outputEl, {childList: true});\n",
       "}}\n",
       "\n",
       "                        })\n",
       "                };\n",
       "                });\n",
       "            </script>\n",
       "        </div>"
      ]
     },
     "metadata": {},
     "output_type": "display_data"
    }
   ],
   "source": [
    "x_lim=[-1, 1]\n",
    "# axis = go.Scatter(\n",
    "#     x=x_lim,\n",
    "#     y=y_lim,\n",
    "#     mode='markers',\n",
    "#     marker=dict(opacity=0),\n",
    "#     showlegend=False,\n",
    "#     yaxis='y2'\n",
    "# )\n",
    "\n",
    "axis = go.Scatter(\n",
    "    x=x_lim,\n",
    "    y=y_lim,\n",
    "    mode='markers',\n",
    "    marker=dict(opacity=0),\n",
    "    showlegend=False,\n",
    ")\n",
    "\n",
    "incorrect = go.Scatter(\n",
    "    x=[-2, -1],\n",
    "    y=[-2, -1],\n",
    "    fill='tozeroy',\n",
    "    fillcolor='rgba(218, 59, 70, 0.5)',\n",
    "    name='Incorrect',\n",
    "    mode= 'none'\n",
    ")\n",
    "correct = go.Scatter(\n",
    "    x=[-2, -1],\n",
    "    y=[-2, -1],\n",
    "    fill='tonexty',\n",
    "    fillcolor='rgba(65, 124, 168, 0.5)',\n",
    "    name='Correct',\n",
    "    mode= 'none'\n",
    ")\n",
    "\n",
    "\n",
    "legend_left = putils.get_legend('left', 'spike')\n",
    "legend_right = putils.get_legend('right', 'spike')\n",
    "legend_incorrect = putils.get_legend('incorrect', 'spike')\n",
    "\n",
    "legend_mark_left = putils.get_legend('left', label)\n",
    "legend_mark_right = putils.get_legend('right', label)\n",
    "legend_mark_incorrect = putils.get_legend('incorrect', label)\n",
    "\n",
    "layout = go.Layout(\n",
    "    images=[dict(\n",
    "      source='data:image/png;base64, ' + encoded_string.decode(),\n",
    "      sizex=x_lim[1] - x_lim[0],\n",
    "      sizey=y_lim[1] - y_lim[0],\n",
    "      x=x_lim[0],\n",
    "      y=y_lim[1],\n",
    "      xref='x',\n",
    "      yref='y',\n",
    "      sizing='stretch',\n",
    "      layer='below'\n",
    "    )],\n",
    "    width=580,\n",
    "    height=370,\n",
    "    margin=go.layout.Margin(\n",
    "        l=50,\n",
    "        r=30,\n",
    "        b=40,\n",
    "        t=80,\n",
    "        pad=0\n",
    "    ),\n",
    "    title=dict(\n",
    "        text='Raster, aligned to {}'.format(align_event),\n",
    "        x = 0.21,\n",
    "        y=0.87\n",
    "    ),\n",
    "    xaxis=dict(\n",
    "        title='Time (sec)',\n",
    "        range=x_lim,\n",
    "        showgrid=False\n",
    "    ), \n",
    "    yaxis=dict(\n",
    "        title='Trial idx',\n",
    "        range=y_lim,\n",
    "        showgrid=False\n",
    "    ),\n",
    "     \n",
    ")\n",
    "\n",
    "data = [axis, incorrect, correct]\n",
    "#         legend_mark_left, legend_mark_right, legend_mark_incorrect]\n",
    "\n",
    "fig = go.Figure(data=data, layout=layout)\n",
    "\n",
    "# fig.update_layout(\n",
    "#     yaxis2=dict(\n",
    "#         title='Contrast',\n",
    "#         range=y_lim,\n",
    "#         showgrid=False,\n",
    "#         overlaying='y',\n",
    "#         side='right',\n",
    "#         tickmode='array',\n",
    "#         tickvals=list(tick_pos),\n",
    "#         ticktext=list(contrasts)\n",
    "#     ))\n",
    "\n",
    "plotly.offline.iplot(fig)"
   ]
  },
  {
   "cell_type": "code",
   "execution_count": 58,
   "metadata": {},
   "outputs": [],
   "source": [
    "f = open(\"rasters_contrast.json\",\"w\")\n",
    "s = json.dumps(fig.to_plotly_json())\n",
    "f.write(s)\n",
    "f.close()"
   ]
  },
  {
   "cell_type": "code",
   "execution_count": 21,
   "metadata": {},
   "outputs": [
    {
     "data": {
      "text/plain": [
       "534"
      ]
     },
     "execution_count": 21,
     "metadata": {},
     "output_type": "execute_result"
    }
   ],
   "source": [
    "len(trials_all.fetch('trial_spike_times'))"
   ]
  },
  {
   "cell_type": "code",
   "execution_count": null,
   "metadata": {},
   "outputs": [],
   "source": []
  }
 ],
 "metadata": {
  "celltoolbar": "Tags",
  "kernelspec": {
   "display_name": "Python 3",
   "language": "python",
   "name": "python3"
  }
 },
 "nbformat": 4,
 "nbformat_minor": 2
}
