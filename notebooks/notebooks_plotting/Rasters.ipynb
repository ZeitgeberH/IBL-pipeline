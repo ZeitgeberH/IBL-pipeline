{
 "cells": [
  {
   "cell_type": "code",
   "execution_count": 1,
   "metadata": {
    "tags": [
     "imports"
    ]
   },
   "outputs": [
    {
     "name": "stdout",
     "output_type": "stream",
     "text": [
      "Connecting shan@datajoint.internationalbrainlab.org:3306\n",
      "Connected to https://alyx.internationalbrainlab.org as vathes\n"
     ]
    }
   ],
   "source": [
    "import datajoint as dj\n",
    "from ibl_pipeline import behavior\n",
    "import numpy as np\n",
    "import matplotlib.pyplot as plt\n",
    "import plotly\n",
    "import plotly.graph_objs as go\n",
    "from ibl_pipeline.plotting import plotting_utils_ephys as putils\n",
    "# from ibl_pipeline.plotting import ephys as ephys_plotting\n",
    "import pandas as pd\n",
    "import colorlover as cl\n",
    "import json\n",
    "import seaborn as sns\n",
    "import pdb"
   ]
  },
  {
   "cell_type": "code",
   "execution_count": 2,
   "metadata": {},
   "outputs": [],
   "source": [
    "ephys = dj.create_virtual_module('ephys', 'test_ibl_ephys')"
   ]
  },
  {
   "cell_type": "code",
   "execution_count": 3,
   "metadata": {
    "slideshow": {
     "slide_type": "-"
    },
    "tags": [
     "function"
    ]
   },
   "outputs": [],
   "source": [
    "def get_sort_and_marker(align_event, sorting_var):\n",
    "\n",
    "    if sorting_var == 'response - stim on':\n",
    "        sorting_query = 'trial_response_time - trial_stim_on_time'\n",
    "        if align_event == 'stim on':\n",
    "            mark = sorting_query\n",
    "            label = 'response'\n",
    "        elif align_event == 'response':\n",
    "            mark = 'trial_stim_on_time - trial_response_time'\n",
    "            label = 'stim on'\n",
    "        else:\n",
    "            raise NameError(\n",
    "                f\"\"\"\n",
    "                Wrong combination of alignment and sorting:\\n\n",
    "                {sorting_var}, {align_event}\n",
    "                \"\"\"\n",
    "            )\n",
    "    elif sorting_var == 'feedback - stim on':\n",
    "        sorting_query = 'trial_feedback_time - trial_stim_on_time'\n",
    "        if align_event == 'stim on':\n",
    "            mark = sorting_query\n",
    "            label = 'feedback'\n",
    "        elif align_event == 'feedback':\n",
    "            mark = 'trial_stim_on_time - trial_feedback_time'\n",
    "            label = 'stim on'\n",
    "        else:\n",
    "            raise NameError(\n",
    "                f\"\"\"\n",
    "                Wrong combination of alignment and sorting:\\n\n",
    "                {sorting_var}, {align_event}\n",
    "                \"\"\"\n",
    "            )\n",
    "    elif sorting_var == 'feedback - response':\n",
    "        sorting_query = 'trial_feedback_time - trial_response_time'\n",
    "        if align_event == 'response':\n",
    "            mark = sorting_query\n",
    "            label = 'feedback'\n",
    "        elif align_event == 'feedback':\n",
    "            mark = 'trial_response_time - trial_feedback_time'\n",
    "            label = 'response'\n",
    "        else:\n",
    "            raise NameError(\n",
    "                f\"\"\"\n",
    "                Wrong combination of alignment and sorting:\\n\n",
    "                {sorting_var}, {align_event}\n",
    "                \"\"\"\n",
    "            )\n",
    "    elif sorting_var == 'contrast':\n",
    "        sorting_query = 'trial_signed_contrast, trial_id'\n",
    "        mark = None\n",
    "        label = None\n",
    "    elif sorting_var == 'feedback type':\n",
    "        sorting_query = 'feedback type, trial_id'\n",
    "        mark = None\n",
    "        label = None\n",
    "    elif sorting_var == 'trial_id':\n",
    "        sorting_query = 'trial_id'\n",
    "        mark = None\n",
    "        label = None\n",
    "    else:\n",
    "        raise NameError(\"\"\"\n",
    "            'Unknown sorting variable.\\n\n",
    "            It has to be one of the following:\\n\n",
    "            [\"trial_id\", \\n\n",
    "             \"response - stim on\", \\n\n",
    "             \"feedback - stim on\", \\n\n",
    "             \"feedback - response\",\n",
    "             \"contrast\"]'\"\"\")\n",
    "    return sorting_query, mark, label"
   ]
  },
  {
   "cell_type": "code",
   "execution_count": 18,
   "metadata": {
    "tags": [
     "function"
    ]
   },
   "outputs": [],
   "source": [
    "def get_spike_times(trials, sorting_var, align_event,\n",
    "                    sort_by=None,\n",
    "                    mark=None):\n",
    "    if sorting_var != 'trial_id':\n",
    "        trials = (trials & 'event=\"{}\"'.format(align_event)).proj(\n",
    "            'trial_id', 'trial_spike_times', sort_by=sort_by, mark=mark)\n",
    "        spk_times, marking_points = trials.fetch(\n",
    "            'trial_spike_times', 'mark', order_by='sort_by')\n",
    "    else:\n",
    "        trials = (trials & 'event=\"{}\"'.format(align_event)).proj(\n",
    "            'trial_id', 'trial_spike_times', sort_by=sort_by)\n",
    "        spk_times = trials.fetch(\n",
    "            'trial_spike_times', order_by='sort_by')\n",
    "        marking_points = None\n",
    "\n",
    "    return spk_times, marking_points\n",
    "\n",
    "\n",
    "def get_spike_times_trials(trials, sorting_var, align_event,\n",
    "                           sort_by=None,\n",
    "                           mark=None):\n",
    "\n",
    "    trials_left = trials & 'trial_response_choice=\"CW\"' & \\\n",
    "        'trial_signed_contrast < 0'\n",
    "    trials_right = trials & 'trial_response_choice=\"CCW\"' & \\\n",
    "        'trial_signed_contrast > 0'\n",
    "\n",
    "    trials_incorrect = trials - trials_left.proj() - trials_right.proj()\n",
    "\n",
    "    kargs = dict(\n",
    "        sorting_var=sorting_var,\n",
    "        align_event=align_event,\n",
    "        sort_by=sort_by,\n",
    "        mark=mark\n",
    "    )\n",
    "\n",
    "    spk_times_left, marking_points_left = get_spike_times(trials_left, **kargs)\n",
    "    spk_times_right, marking_points_right = get_spike_times(trials_right, **kargs)\n",
    "    spk_times_incorrect, marking_points_incorrect = \\\n",
    "        get_spike_times(trials_incorrect, **kargs)\n",
    "\n",
    "    return spk_times_left, \\\n",
    "        marking_points_left, \\\n",
    "        spk_times_right, \\\n",
    "        marking_points_right, \\\n",
    "        spk_times_incorrect, \\\n",
    "        marking_points_incorrect\n",
    "\n",
    "\n",
    "def create_raster_plot_combined(trials, align_event,\n",
    "                                sorting_var='trial_id',\n",
    "                                x_lim=[-1, 1],\n",
    "                                fig_dir=None,\n",
    "                                store_type=None,\n",
    "                                show_plot=False):\n",
    "\n",
    "    sorting_query, mark, label = get_sort_and_marker(\n",
    "        align_event, sorting_var)\n",
    "\n",
    "    fig = plt.figure(dpi=150, frameon=False, figsize=[10, 5])\n",
    "    ax = plt.Axes(fig, [0., 0., 1., 1.])\n",
    "\n",
    "    if len(trials):\n",
    "        if sorting_var == 'trial_id':\n",
    "            spk_times, trial_ids = (trials & 'event=\"{}\"'.format(align_event)).fetch(\n",
    "                'trial_spike_times', 'trial_id', order_by='trial_id')\n",
    "            spk_trial_ids = np.hstack(\n",
    "                [[trial_id] * len(spk_time)\n",
    "                    for trial_id, spk_time in enumerate(spk_times)])\n",
    "            ax.plot(np.hstack(spk_times), spk_trial_ids, 'k.', alpha=0.5,\n",
    "                    markeredgewidth=0)\n",
    "        elif sorting_var == 'contrast':\n",
    "            spk_times, trial_contrasts = (trials & 'event=\"{}\"'.format(align_event)).fetch(\n",
    "                'trial_spike_times', 'trial_signed_contrast',\n",
    "                order_by='trial_signed_contrast, trial_id')\n",
    "            spk_trial_ids = np.hstack(\n",
    "                [[trial_id] * len(spk_time)\n",
    "                    for trial_id, spk_time in enumerate(spk_times)])\n",
    "            ax.plot(np.hstack(spk_times), spk_trial_ids, 'k.', alpha=0.5,\n",
    "                    markeredgewidth=0)\n",
    "            \n",
    "            # plot different contrasts as background\n",
    "            contrasts, u_inds = np.unique(trial_contrasts, return_index=True)\n",
    "            u_inds = list(u_inds) + [len(trial_contrasts)]\n",
    "            \n",
    "            tick_positions = np.add(u_inds[1:], u_inds[:-1])/2\n",
    "            \n",
    "            puor = cl.scales[str(len(contrasts))]['div']['PuOr']\n",
    "            puor = np.divide(cl.to_numeric(puor), 255)\n",
    "\n",
    "            for i, ind in enumerate(u_inds[:-1]):\n",
    "                ax.fill_between([-1, 1], u_inds[i], u_inds[i+1]-1, color=puor[i], alpha=0.8)\n",
    "            fig.add_axes(ax)\n",
    "        elif sorting_var == 'feedback type':\n",
    "            spk_times, trial_fb_types = (trials & 'event=\"{}\"'.format(align_event)).fetch(\n",
    "                'trial_spike_times', 'trial_feedback_type',\n",
    "                order_by='trial_feedback_type, trial_id')\n",
    "            spk_trial_ids = np.hstack(\n",
    "                [[trial_id] * len(spk_time)\n",
    "                    for trial_id, spk_time in enumerate(spk_times)])\n",
    "            ax.plot(np.hstack(spk_times), spk_trial_ids, 'k.', alpha=0.5,\n",
    "                    markeredgewidth=0)\n",
    "\n",
    "            # plot different feedback types as background\n",
    "            fb_types, u_inds = np.unique(trial_fb_types, return_index=True)\n",
    "            u_inds = list(u_inds) + [len(trial_fb_types)]\n",
    "\n",
    "            colors = sns.diverging_palette(10, 240, n=len(fb_types))\n",
    "\n",
    "            for i, ind in enumerate(u_inds[:-1]):\n",
    "                ax.fill_between([-1, 1], u_inds[i], u_inds[i+1]-1, color=colors[i], alpha=0.5)\n",
    "            fig.add_axes(ax)\n",
    "        else:\n",
    "            spk_times_left, marking_points_left, \\\n",
    "                spk_times_right, marking_points_right, \\\n",
    "                spk_times_incorrect, marking_points_incorrect = \\\n",
    "                get_spike_times_trials(\n",
    "                    trials, sorting_var, align_event, sorting_query, mark)\n",
    "\n",
    "            id_gap = len(trials) * 0.02\n",
    "\n",
    "            if len(spk_times_incorrect):\n",
    "                spk_times_all_incorrect = np.hstack(spk_times_incorrect)\n",
    "                id_incorrect = [[i] * len(spike_time)\n",
    "                                for i, spike_time in\n",
    "                                enumerate(spk_times_incorrect)]\n",
    "                id_incorrect = np.hstack(id_incorrect)\n",
    "                ax.plot(spk_times_all_incorrect, id_incorrect, 'r.',\n",
    "                        alpha=0.5, markeredgewidth=0, label='incorrect trials')\n",
    "                ax.plot(marking_points_incorrect,\n",
    "                        range(len(spk_times_incorrect)), 'r', label=label)\n",
    "            else:\n",
    "                id_incorrect = [0]\n",
    "\n",
    "            if not len(id_incorrect):\n",
    "                id_incorrect = [0]\n",
    "\n",
    "            if len(spk_times_left):\n",
    "                spk_times_all_left = np.hstack(spk_times_left)\n",
    "                id_left = [[i + max(id_incorrect) + id_gap] * len(spike_time)\n",
    "                           for i, spike_time in\n",
    "                           enumerate(spk_times_left)]\n",
    "                id_left = np.hstack(id_left)\n",
    "                ax.plot(spk_times_all_left, id_left, 'g.',\n",
    "                        alpha=0.5, markeredgewidth=0, label='left trials')\n",
    "                ax.plot(marking_points_left,\n",
    "                        np.add(range(len(spk_times_left)), max(id_incorrect) + id_gap), 'g')\n",
    "            else:\n",
    "                id_left = [max(id_incorrect)]\n",
    "\n",
    "            if not len(id_left):\n",
    "                id_left = [max(id_incorrect)]\n",
    "\n",
    "            if len(spk_times_right):\n",
    "                spk_times_all_right = np.hstack(spk_times_right)\n",
    "                id_right = [[i + max(id_left) + id_gap] * len(spike_time)\n",
    "                            for i, spike_time in enumerate(spk_times_right)]\n",
    "                id_right = np.hstack(id_right)\n",
    "\n",
    "                ax.plot(spk_times_all_right, id_right, 'b.',\n",
    "                        alpha=0.5, markeredgewidth=0, label='right trials')\n",
    "                ax.plot(marking_points_right,\n",
    "                        np.add(range(len(spk_times_right)), max(id_left) + id_gap), 'b')\n",
    "            else:\n",
    "                id_right = [max(id_left)]\n",
    "\n",
    "            if not len(id_right):\n",
    "                id_right = [max(id_left)]\n",
    "\n",
    "    ax.set_axis_off()\n",
    "    fig.add_axes(ax)\n",
    "\n",
    "    # hide the axis\n",
    "    ax.get_xaxis().set_visible(False)\n",
    "    ax.get_yaxis().set_visible(False)\n",
    "\n",
    "    # set the limits\n",
    "    ax.set_xlim(x_lim[0], x_lim[1])\n",
    "    if sorting_var in ('trial_id', 'contrast', 'feedback type'):\n",
    "        if len(spk_trial_ids):\n",
    "            y_lim = max(spk_trial_ids) * 1.02\n",
    "        else:\n",
    "            y_lim = 2\n",
    "    else:\n",
    "        y_lim = max(id_right) * 1.02\n",
    "    ax.set_ylim(-2, y_lim)\n",
    "\n",
    "    if not show_plot:\n",
    "        plt.close(fig)\n",
    "\n",
    "    # save the figure with `pad_inches=0` to remove\n",
    "    # any padding in the image\n",
    "\n",
    "    if fig_dir:\n",
    "        if store_type == 'filepath':\n",
    "            if not os.path.exists(os.path.dirname(fig_dir)):\n",
    "                try:\n",
    "                    os.makedirs(os.path.dirname(fig_dir))\n",
    "                except OSError as exc:  # Guard against race condition\n",
    "                    if exc.errno != errno.EEXIST:\n",
    "                        raise\n",
    "            fig.savefig(fig_dir, pad_inches=0)\n",
    "            \n",
    "            if sorting_var == 'contrast':\n",
    "                return [0, y_lim], label, contrasts, tick_positions\n",
    "            else:\n",
    "                return [0, y_lim], label\n",
    "\n",
    "        elif store_type == 's3':\n",
    "            access, secret = (ibl_pipeline.S3Access & 's3_id=1').fetch1(\n",
    "                'access_key', 'secret_key')\n",
    "\n",
    "            s3 = boto3.resource(\n",
    "                's3',\n",
    "                aws_access_key_id=access,\n",
    "                aws_secret_access_key=secret)\n",
    "            BUCKET_NAME = \"ibl-dj-external\"\n",
    "            bucket = s3.Bucket(BUCKET_NAME)\n",
    "\n",
    "            # upload to s3\n",
    "            img_data = io.BytesIO()\n",
    "            fig.savefig(img_data, format='png')\n",
    "            img_data.seek(0)\n",
    "            bucket.put_object(Body=img_data,\n",
    "                              ContentType='image/png',\n",
    "                              Key=fig_dir)\n",
    "            \n",
    "            if sorting_var == 'contrast':\n",
    "                return [0, y_lim], label, contrasts, tick_positions\n",
    "            else:\n",
    "                return [0, y_lim], label\n",
    "\n",
    "    else:\n",
    "        import tempfile\n",
    "        temp = tempfile.NamedTemporaryFile(suffix=\".png\")\n",
    "        fig.savefig(temp.name, pad_inches=0)\n",
    "        import base64\n",
    "        with open(temp.name, \"rb\") as image_file:\n",
    "            encoded_string = base64.b64encode(image_file.read())\n",
    "        temp.close()\n",
    "        \n",
    "        if sorting_var == 'contrast':\n",
    "            return encoded_string, [0, y_lim], label, contrasts, tick_positions\n",
    "        else:\n",
    "            return encoded_string, [0, y_lim], label"
   ]
  },
  {
   "cell_type": "code",
   "execution_count": 4,
   "metadata": {
    "tags": [
     "function"
    ]
   },
   "outputs": [],
   "source": [
    "# create some plots for the legend\n",
    "def get_legend(trials_type, legend_group):\n",
    "    if trials_type == 'left':\n",
    "        color = 'green'\n",
    "    elif trials_type == 'right':\n",
    "        color = 'blue'\n",
    "    elif trials_type == 'incorrect':\n",
    "        color = 'red'\n",
    "    else:\n",
    "        raise NameError(\n",
    "            f\"\"\"\n",
    "            Wrong trial type, has to be one of the following: \\n\n",
    "            \"left\", \"right\", \"incorrect\"\n",
    "            \"\"\"\n",
    "        )\n",
    "    if legend_group == 'spike':\n",
    "        marker = 'markers'\n",
    "    else:\n",
    "        marker = 'lines'\n",
    "      \n",
    "    return go.Scatter(\n",
    "        x=[5],\n",
    "        y=[10],\n",
    "        mode=marker,\n",
    "        marker=dict(\n",
    "            size=6,\n",
    "            color=color,\n",
    "            opacity=0.5\n",
    "        ),\n",
    "        name='{} time on<br>{} trials'.format(legend_group, trials_type),\n",
    "        legendgroup=legend_group\n",
    "    )\n"
   ]
  },
  {
   "cell_type": "code",
   "execution_count": 5,
   "metadata": {},
   "outputs": [],
   "source": [
    "from ibl_pipeline import subject\n",
    "keys = (ephys.DefaultCluster & (subject.Subject & 'subject_nickname=\"CSHL047\"')).fetch('KEY')\n",
    "key = keys[30]"
   ]
  },
  {
   "cell_type": "code",
   "execution_count": 6,
   "metadata": {},
   "outputs": [],
   "source": [
    "from uuid import UUID\n",
    "import datetime\n",
    "key = {'subject_uuid': UUID('15f98ab5-20d8-4345-a5de-21912a39575f'),\n",
    "   'session_start_time': datetime.datetime(2020, 1, 22, 8, 28, 49),\n",
    "   'probe_idx': 1,\n",
    "   'cluster_id': 35}"
   ]
  },
  {
   "cell_type": "code",
   "execution_count": 17,
   "metadata": {},
   "outputs": [
    {
     "name": "stderr",
     "output_type": "stream",
     "text": [
      "/src/IBL-pipeline/ibl_pipeline/plotting/plotting_utils_ephys.py:546: MatplotlibDeprecationWarning:\n",
      "\n",
      "Adding an axes using the same arguments as a previous axes currently reuses the earlier instance.  In a future version, a new instance will always be created and returned.  Meanwhile, this warning can be suppressed, and the future behavior ensured, by passing a unique label to each axes instance.\n",
      "\n"
     ]
    },
    {
     "data": {
      "image/png": "[encoded data removed]",
      "text/plain": [
       "<Figure size 1500x750 with 1 Axes>"
      ]
     },
     "metadata": {
      "needs_background": "light"
     },
     "output_type": "display_data"
    }
   ],
   "source": [
    "# new cluster\n",
    "cluster = ephys.DefaultCluster & key\n",
    "trials_all = (behavior.TrialSet.Trial * ephys.AlignedTrialSpikes & cluster).proj(\n",
    "    'trial_start_time', 'trial_stim_on_time', 'trial_response_time', 'trial_feedback_time',\n",
    "    'trial_response_choice', 'trial_spike_times', 'trial_feedback_type',\n",
    "    trial_duration='trial_end_time-trial_start_time',\n",
    "    trial_signed_contrast='trial_stim_contrast_right - trial_stim_contrast_left'\n",
    ") & 'trial_duration < 5' & 'trial_response_choice!=\"No Go\"' & key\n",
    "\n",
    "trials_left = trials_all & 'trial_response_choice=\"CW\"' & 'trial_signed_contrast < 0'\n",
    "trials_right = trials_all & 'trial_response_choice=\"CCW\"' & 'trial_signed_contrast > 0'\n",
    "trials = trials_all & [trials_right.proj(), trials_left.proj()]\n",
    "align_event = 'stim on'\n",
    "encoded_string, y_lim, label, contrasts, tick_pos = putils.create_raster_plot_combined(\n",
    "    trials_all, align_event, 'contrast', show_plot=True)\n",
    "# encoded_string, y_lim, label = putils.create_raster_plot_combined(\n",
    "#     trials_all, align_event, 'feedback type', show_plot=True)"
   ]
  },
  {
   "cell_type": "code",
   "execution_count": 15,
   "metadata": {},
   "outputs": [
    {
     "data": {
      "text/plain": [
       "184"
      ]
     },
     "execution_count": 15,
     "metadata": {},
     "output_type": "execute_result"
    }
   ],
   "source": [
    "len(trials_left)"
   ]
  },
  {
   "cell_type": "markdown",
   "metadata": {},
   "source": [
    "# Feedback type"
   ]
  },
  {
   "cell_type": "code",
   "execution_count": 12,
   "metadata": {
    "tags": [
     "main"
    ]
   },
   "outputs": [
    {
     "data": {
      "application/vnd.plotly.v1+json": {
       "config": {
        "linkText": "Export to plot.ly",
        "plotlyServerURL": "https://plot.ly",
        "showLink": false
       },
       "data": [
        {
         "marker": {
          "opacity": 0
         },
         "mode": "markers",
         "showlegend": false,
         "type": "scatter",
         "x": [
          -1,
          1
         ],
         "y": [
          0,
          271.32
         ]
        },
        {
         "fill": "tozeroy",
         "fillcolor": "rgba(218, 59, 70, 0.5)",
         "mode": "none",
         "name": "Incorrect",
         "type": "scatter",
         "x": [
          -2,
          -1
         ],
         "y": [
          -2,
          -1
         ]
        },
        {
         "fill": "tonexty",
         "fillcolor": "rgba(65, 124, 168, 0.5)",
         "mode": "none",
         "name": "Correct",
         "type": "scatter",
         "x": [
          -2,
          -1
         ],
         "y": [
          -2,
          -1
         ]
        }
       ],
       "layout": {
        "height": 370,
        "images": [
         {
          "layer": "below",
          "sizex": 2,
          "sizey": 271.32,
          "sizing": "stretch",
          "source": "data:image/png;base64, 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",
          "x": -1,
          "xref": "x",
          "y": 271.32,
          "yref": "y"
         }
        ],
        "margin": {
         "b": 40,
         "l": 50,
         "pad": 0,
         "r": 30,
         "t": 80
        },
        "template": {
         "data": {
          "bar": [
           {
            "error_x": {
             "color": "#2a3f5f"
            },
            "error_y": {
             "color": "#2a3f5f"
            },
            "marker": {
             "line": {
              "color": "#E5ECF6",
              "width": 0.5
             }
            },
            "type": "bar"
           }
          ],
          "barpolar": [
           {
            "marker": {
             "line": {
              "color": "#E5ECF6",
              "width": 0.5
             }
            },
            "type": "barpolar"
           }
          ],
          "carpet": [
           {
            "aaxis": {
             "endlinecolor": "#2a3f5f",
             "gridcolor": "white",
             "linecolor": "white",
             "minorgridcolor": "white",
             "startlinecolor": "#2a3f5f"
            },
            "baxis": {
             "endlinecolor": "#2a3f5f",
             "gridcolor": "white",
             "linecolor": "white",
             "minorgridcolor": "white",
             "startlinecolor": "#2a3f5f"
            },
            "type": "carpet"
           }
          ],
          "choropleth": [
           {
            "colorbar": {
             "outlinewidth": 0,
             "ticks": ""
            },
            "type": "choropleth"
           }
          ],
          "contour": [
           {
            "colorbar": {
             "outlinewidth": 0,
             "ticks": ""
            },
            "colorscale": [
             [
              0,
              "#0d0887"
             ],
             [
              0.1111111111111111,
              "#46039f"
             ],
             [
              0.2222222222222222,
              "#7201a8"
             ],
             [
              0.3333333333333333,
              "#9c179e"
             ],
             [
              0.4444444444444444,
              "#bd3786"
             ],
             [
              0.5555555555555556,
              "#d8576b"
             ],
             [
              0.6666666666666666,
              "#ed7953"
             ],
             [
              0.7777777777777778,
              "#fb9f3a"
             ],
             [
              0.8888888888888888,
              "#fdca26"
             ],
             [
              1,
              "#f0f921"
             ]
            ],
            "type": "contour"
           }
          ],
          "contourcarpet": [
           {
            "colorbar": {
             "outlinewidth": 0,
             "ticks": ""
            },
            "type": "contourcarpet"
           }
          ],
          "heatmap": [
           {
            "colorbar": {
             "outlinewidth": 0,
             "ticks": ""
            },
            "colorscale": [
             [
              0,
              "#0d0887"
             ],
             [
              0.1111111111111111,
              "#46039f"
             ],
             [
              0.2222222222222222,
              "#7201a8"
             ],
             [
              0.3333333333333333,
              "#9c179e"
             ],
             [
              0.4444444444444444,
              "#bd3786"
             ],
             [
              0.5555555555555556,
              "#d8576b"
             ],
             [
              0.6666666666666666,
              "#ed7953"
             ],
             [
              0.7777777777777778,
              "#fb9f3a"
             ],
             [
              0.8888888888888888,
              "#fdca26"
             ],
             [
              1,
              "#f0f921"
             ]
            ],
            "type": "heatmap"
           }
          ],
          "heatmapgl": [
           {
            "colorbar": {
             "outlinewidth": 0,
             "ticks": ""
            },
            "colorscale": [
             [
              0,
              "#0d0887"
             ],
             [
              0.1111111111111111,
              "#46039f"
             ],
             [
              0.2222222222222222,
              "#7201a8"
             ],
             [
              0.3333333333333333,
              "#9c179e"
             ],
             [
              0.4444444444444444,
              "#bd3786"
             ],
             [
              0.5555555555555556,
              "#d8576b"
             ],
             [
              0.6666666666666666,
              "#ed7953"
             ],
             [
              0.7777777777777778,
              "#fb9f3a"
             ],
             [
              0.8888888888888888,
              "#fdca26"
             ],
             [
              1,
              "#f0f921"
             ]
            ],
            "type": "heatmapgl"
           }
          ],
          "histogram": [
           {
            "marker": {
             "colorbar": {
              "outlinewidth": 0,
              "ticks": ""
             }
            },
            "type": "histogram"
           }
          ],
          "histogram2d": [
           {
            "colorbar": {
             "outlinewidth": 0,
             "ticks": ""
            },
            "colorscale": [
             [
              0,
              "#0d0887"
             ],
             [
              0.1111111111111111,
              "#46039f"
             ],
             [
              0.2222222222222222,
              "#7201a8"
             ],
             [
              0.3333333333333333,
              "#9c179e"
             ],
             [
              0.4444444444444444,
              "#bd3786"
             ],
             [
              0.5555555555555556,
              "#d8576b"
             ],
             [
              0.6666666666666666,
              "#ed7953"
             ],
             [
              0.7777777777777778,
              "#fb9f3a"
             ],
             [
              0.8888888888888888,
              "#fdca26"
             ],
             [
              1,
              "#f0f921"
             ]
            ],
            "type": "histogram2d"
           }
          ],
          "histogram2dcontour": [
           {
            "colorbar": {
             "outlinewidth": 0,
             "ticks": ""
            },
            "colorscale": [
             [
              0,
              "#0d0887"
             ],
             [
              0.1111111111111111,
              "#46039f"
             ],
             [
              0.2222222222222222,
              "#7201a8"
             ],
             [
              0.3333333333333333,
              "#9c179e"
             ],
             [
              0.4444444444444444,
              "#bd3786"
             ],
             [
              0.5555555555555556,
              "#d8576b"
             ],
             [
              0.6666666666666666,
              "#ed7953"
             ],
             [
              0.7777777777777778,
              "#fb9f3a"
             ],
             [
              0.8888888888888888,
              "#fdca26"
             ],
             [
              1,
              "#f0f921"
             ]
            ],
            "type": "histogram2dcontour"
           }
          ],
          "mesh3d": [
           {
            "colorbar": {
             "outlinewidth": 0,
             "ticks": ""
            },
            "type": "mesh3d"
           }
          ],
          "parcoords": [
           {
            "line": {
             "colorbar": {
              "outlinewidth": 0,
              "ticks": ""
             }
            },
            "type": "parcoords"
           }
          ],
          "pie": [
           {
            "automargin": true,
            "type": "pie"
           }
          ],
          "scatter": [
           {
            "marker": {
             "colorbar": {
              "outlinewidth": 0,
              "ticks": ""
             }
            },
            "type": "scatter"
           }
          ],
          "scatter3d": [
           {
            "line": {
             "colorbar": {
              "outlinewidth": 0,
              "ticks": ""
             }
            },
            "marker": {
             "colorbar": {
              "outlinewidth": 0,
              "ticks": ""
             }
            },
            "type": "scatter3d"
           }
          ],
          "scattercarpet": [
           {
            "marker": {
             "colorbar": {
              "outlinewidth": 0,
              "ticks": ""
             }
            },
            "type": "scattercarpet"
           }
          ],
          "scattergeo": [
           {
            "marker": {
             "colorbar": {
              "outlinewidth": 0,
              "ticks": ""
             }
            },
            "type": "scattergeo"
           }
          ],
          "scattergl": [
           {
            "marker": {
             "colorbar": {
              "outlinewidth": 0,
              "ticks": ""
             }
            },
            "type": "scattergl"
           }
          ],
          "scattermapbox": [
           {
            "marker": {
             "colorbar": {
              "outlinewidth": 0,
              "ticks": ""
             }
            },
            "type": "scattermapbox"
           }
          ],
          "scatterpolar": [
           {
            "marker": {
             "colorbar": {
              "outlinewidth": 0,
              "ticks": ""
             }
            },
            "type": "scatterpolar"
           }
          ],
          "scatterpolargl": [
           {
            "marker": {
             "colorbar": {
              "outlinewidth": 0,
              "ticks": ""
             }
            },
            "type": "scatterpolargl"
           }
          ],
          "scatterternary": [
           {
            "marker": {
             "colorbar": {
              "outlinewidth": 0,
              "ticks": ""
             }
            },
            "type": "scatterternary"
           }
          ],
          "surface": [
           {
            "colorbar": {
             "outlinewidth": 0,
             "ticks": ""
            },
            "colorscale": [
             [
              0,
              "#0d0887"
             ],
             [
              0.1111111111111111,
              "#46039f"
             ],
             [
              0.2222222222222222,
              "#7201a8"
             ],
             [
              0.3333333333333333,
              "#9c179e"
             ],
             [
              0.4444444444444444,
              "#bd3786"
             ],
             [
              0.5555555555555556,
              "#d8576b"
             ],
             [
              0.6666666666666666,
              "#ed7953"
             ],
             [
              0.7777777777777778,
              "#fb9f3a"
             ],
             [
              0.8888888888888888,
              "#fdca26"
             ],
             [
              1,
              "#f0f921"
             ]
            ],
            "type": "surface"
           }
          ],
          "table": [
           {
            "cells": {
             "fill": {
              "color": "#EBF0F8"
             },
             "line": {
              "color": "white"
             }
            },
            "header": {
             "fill": {
              "color": "#C8D4E3"
             },
             "line": {
              "color": "white"
             }
            },
            "type": "table"
           }
          ]
         },
         "layout": {
          "annotationdefaults": {
           "arrowcolor": "#2a3f5f",
           "arrowhead": 0,
           "arrowwidth": 1
          },
          "coloraxis": {
           "colorbar": {
            "outlinewidth": 0,
            "ticks": ""
           }
          },
          "colorscale": {
           "diverging": [
            [
             0,
             "#8e0152"
            ],
            [
             0.1,
             "#c51b7d"
            ],
            [
             0.2,
             "#de77ae"
            ],
            [
             0.3,
             "#f1b6da"
            ],
            [
             0.4,
             "#fde0ef"
            ],
            [
             0.5,
             "#f7f7f7"
            ],
            [
             0.6,
             "#e6f5d0"
            ],
            [
             0.7,
             "#b8e186"
            ],
            [
             0.8,
             "#7fbc41"
            ],
            [
             0.9,
             "#4d9221"
            ],
            [
             1,
             "#276419"
            ]
           ],
           "sequential": [
            [
             0,
             "#0d0887"
            ],
            [
             0.1111111111111111,
             "#46039f"
            ],
            [
             0.2222222222222222,
             "#7201a8"
            ],
            [
             0.3333333333333333,
             "#9c179e"
            ],
            [
             0.4444444444444444,
             "#bd3786"
            ],
            [
             0.5555555555555556,
             "#d8576b"
            ],
            [
             0.6666666666666666,
             "#ed7953"
            ],
            [
             0.7777777777777778,
             "#fb9f3a"
            ],
            [
             0.8888888888888888,
             "#fdca26"
            ],
            [
             1,
             "#f0f921"
            ]
           ],
           "sequentialminus": [
            [
             0,
             "#0d0887"
            ],
            [
             0.1111111111111111,
             "#46039f"
            ],
            [
             0.2222222222222222,
             "#7201a8"
            ],
            [
             0.3333333333333333,
             "#9c179e"
            ],
            [
             0.4444444444444444,
             "#bd3786"
            ],
            [
             0.5555555555555556,
             "#d8576b"
            ],
            [
             0.6666666666666666,
             "#ed7953"
            ],
            [
             0.7777777777777778,
             "#fb9f3a"
            ],
            [
             0.8888888888888888,
             "#fdca26"
            ],
            [
             1,
             "#f0f921"
            ]
           ]
          },
          "colorway": [
           "#636efa",
           "#EF553B",
           "#00cc96",
           "#ab63fa",
           "#FFA15A",
           "#19d3f3",
           "#FF6692",
           "#B6E880",
           "#FF97FF",
           "#FECB52"
          ],
          "font": {
           "color": "#2a3f5f"
          },
          "geo": {
           "bgcolor": "white",
           "lakecolor": "white",
           "landcolor": "#E5ECF6",
           "showlakes": true,
           "showland": true,
           "subunitcolor": "white"
          },
          "hoverlabel": {
           "align": "left"
          },
          "hovermode": "closest",
          "mapbox": {
           "style": "light"
          },
          "paper_bgcolor": "white",
          "plot_bgcolor": "#E5ECF6",
          "polar": {
           "angularaxis": {
            "gridcolor": "white",
            "linecolor": "white",
            "ticks": ""
           },
           "bgcolor": "#E5ECF6",
           "radialaxis": {
            "gridcolor": "white",
            "linecolor": "white",
            "ticks": ""
           }
          },
          "scene": {
           "xaxis": {
            "backgroundcolor": "#E5ECF6",
            "gridcolor": "white",
            "gridwidth": 2,
            "linecolor": "white",
            "showbackground": true,
            "ticks": "",
            "zerolinecolor": "white"
           },
           "yaxis": {
            "backgroundcolor": "#E5ECF6",
            "gridcolor": "white",
            "gridwidth": 2,
            "linecolor": "white",
            "showbackground": true,
            "ticks": "",
            "zerolinecolor": "white"
           },
           "zaxis": {
            "backgroundcolor": "#E5ECF6",
            "gridcolor": "white",
            "gridwidth": 2,
            "linecolor": "white",
            "showbackground": true,
            "ticks": "",
            "zerolinecolor": "white"
           }
          },
          "shapedefaults": {
           "line": {
            "color": "#2a3f5f"
           }
          },
          "ternary": {
           "aaxis": {
            "gridcolor": "white",
            "linecolor": "white",
            "ticks": ""
           },
           "baxis": {
            "gridcolor": "white",
            "linecolor": "white",
            "ticks": ""
           },
           "bgcolor": "#E5ECF6",
           "caxis": {
            "gridcolor": "white",
            "linecolor": "white",
            "ticks": ""
           }
          },
          "title": {
           "x": 0.05
          },
          "xaxis": {
           "automargin": true,
           "gridcolor": "white",
           "linecolor": "white",
           "ticks": "",
           "title": {
            "standoff": 15
           },
           "zerolinecolor": "white",
           "zerolinewidth": 2
          },
          "yaxis": {
           "automargin": true,
           "gridcolor": "white",
           "linecolor": "white",
           "ticks": "",
           "title": {
            "standoff": 15
           },
           "zerolinecolor": "white",
           "zerolinewidth": 2
          }
         }
        },
        "title": {
         "text": "Raster, aligned to stim on",
         "x": 0.21,
         "y": 0.87
        },
        "width": 580,
        "xaxis": {
         "range": [
          -1,
          1
         ],
         "showgrid": false,
         "title": {
          "text": "Time (sec)"
         }
        },
        "yaxis": {
         "range": [
          0,
          271.32
         ],
         "showgrid": false,
         "title": {
          "text": "Trial idx"
         }
        }
       }
      },
      "text/html": [
       "<div>\n",
       "        \n",
       "        \n",
       "            <div id=\"a4617db8-253f-43a3-98ac-725dc1170c62\" class=\"plotly-graph-div\" style=\"height:370px; width:580px;\"></div>\n",
       "            <script type=\"text/javascript\">\n",
       "                require([\"plotly\"], function(Plotly) {\n",
       "                    window.PLOTLYENV=window.PLOTLYENV || {};\n",
       "                    \n",
       "                if (document.getElementById(\"a4617db8-253f-43a3-98ac-725dc1170c62\")) {\n",
       "                    Plotly.newPlot(\n",
       "                        'a4617db8-253f-43a3-98ac-725dc1170c62',\n",
       "                        [{\"marker\": {\"opacity\": 0}, \"mode\": \"markers\", \"showlegend\": false, \"type\": \"scatter\", \"x\": [-1, 1], \"y\": [0, 271.32]}, {\"fill\": \"tozeroy\", \"fillcolor\": \"rgba(218, 59, 70, 0.5)\", \"mode\": \"none\", \"name\": \"Incorrect\", \"type\": \"scatter\", \"x\": [-2, -1], \"y\": [-2, -1]}, {\"fill\": \"tonexty\", \"fillcolor\": \"rgba(65, 124, 168, 0.5)\", \"mode\": \"none\", \"name\": \"Correct\", \"type\": \"scatter\", \"x\": [-2, -1], \"y\": [-2, -1]}],\n",
       "                        {\"height\": 370, \"images\": [{\"layer\": \"below\", \"sizex\": 2, \"sizey\": 271.32, \"sizing\": \"stretch\", \"source\": \"data:image/png;base64, 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\", \"x\": -1, \"xref\": \"x\", \"y\": 271.32, \"yref\": \"y\"}], \"margin\": {\"b\": 40, \"l\": 50, \"pad\": 0, \"r\": 30, \"t\": 80}, \"template\": {\"data\": {\"bar\": [{\"error_x\": {\"color\": \"#2a3f5f\"}, \"error_y\": {\"color\": \"#2a3f5f\"}, \"marker\": {\"line\": {\"color\": \"#E5ECF6\", \"width\": 0.5}}, \"type\": \"bar\"}], \"barpolar\": [{\"marker\": {\"line\": {\"color\": \"#E5ECF6\", \"width\": 0.5}}, \"type\": \"barpolar\"}], \"carpet\": [{\"aaxis\": {\"endlinecolor\": \"#2a3f5f\", \"gridcolor\": \"white\", \"linecolor\": \"white\", \"minorgridcolor\": \"white\", \"startlinecolor\": \"#2a3f5f\"}, \"baxis\": {\"endlinecolor\": \"#2a3f5f\", \"gridcolor\": \"white\", \"linecolor\": \"white\", \"minorgridcolor\": \"white\", \"startlinecolor\": \"#2a3f5f\"}, \"type\": \"carpet\"}], \"choropleth\": [{\"colorbar\": {\"outlinewidth\": 0, \"ticks\": \"\"}, \"type\": \"choropleth\"}], \"contour\": [{\"colorbar\": {\"outlinewidth\": 0, \"ticks\": \"\"}, \"colorscale\": [[0.0, \"#0d0887\"], [0.1111111111111111, \"#46039f\"], [0.2222222222222222, \"#7201a8\"], [0.3333333333333333, \"#9c179e\"], [0.4444444444444444, \"#bd3786\"], [0.5555555555555556, \"#d8576b\"], [0.6666666666666666, \"#ed7953\"], [0.7777777777777778, \"#fb9f3a\"], [0.8888888888888888, \"#fdca26\"], [1.0, \"#f0f921\"]], \"type\": \"contour\"}], \"contourcarpet\": [{\"colorbar\": {\"outlinewidth\": 0, \"ticks\": \"\"}, \"type\": \"contourcarpet\"}], \"heatmap\": [{\"colorbar\": {\"outlinewidth\": 0, \"ticks\": \"\"}, \"colorscale\": [[0.0, \"#0d0887\"], [0.1111111111111111, \"#46039f\"], [0.2222222222222222, \"#7201a8\"], [0.3333333333333333, \"#9c179e\"], [0.4444444444444444, \"#bd3786\"], [0.5555555555555556, \"#d8576b\"], [0.6666666666666666, \"#ed7953\"], [0.7777777777777778, \"#fb9f3a\"], [0.8888888888888888, \"#fdca26\"], [1.0, \"#f0f921\"]], \"type\": \"heatmap\"}], \"heatmapgl\": [{\"colorbar\": {\"outlinewidth\": 0, \"ticks\": \"\"}, \"colorscale\": [[0.0, \"#0d0887\"], [0.1111111111111111, \"#46039f\"], [0.2222222222222222, \"#7201a8\"], [0.3333333333333333, \"#9c179e\"], [0.4444444444444444, \"#bd3786\"], [0.5555555555555556, \"#d8576b\"], [0.6666666666666666, \"#ed7953\"], [0.7777777777777778, \"#fb9f3a\"], [0.8888888888888888, \"#fdca26\"], [1.0, \"#f0f921\"]], \"type\": \"heatmapgl\"}], \"histogram\": [{\"marker\": {\"colorbar\": {\"outlinewidth\": 0, \"ticks\": \"\"}}, \"type\": \"histogram\"}], \"histogram2d\": [{\"colorbar\": {\"outlinewidth\": 0, \"ticks\": \"\"}, \"colorscale\": [[0.0, \"#0d0887\"], [0.1111111111111111, \"#46039f\"], [0.2222222222222222, \"#7201a8\"], [0.3333333333333333, \"#9c179e\"], [0.4444444444444444, \"#bd3786\"], [0.5555555555555556, \"#d8576b\"], [0.6666666666666666, \"#ed7953\"], [0.7777777777777778, \"#fb9f3a\"], [0.8888888888888888, \"#fdca26\"], [1.0, \"#f0f921\"]], \"type\": \"histogram2d\"}], \"histogram2dcontour\": [{\"colorbar\": {\"outlinewidth\": 0, \"ticks\": \"\"}, \"colorscale\": [[0.0, \"#0d0887\"], [0.1111111111111111, \"#46039f\"], [0.2222222222222222, \"#7201a8\"], [0.3333333333333333, \"#9c179e\"], [0.4444444444444444, \"#bd3786\"], [0.5555555555555556, \"#d8576b\"], [0.6666666666666666, \"#ed7953\"], [0.7777777777777778, \"#fb9f3a\"], [0.8888888888888888, \"#fdca26\"], [1.0, \"#f0f921\"]], \"type\": \"histogram2dcontour\"}], \"mesh3d\": [{\"colorbar\": {\"outlinewidth\": 0, \"ticks\": \"\"}, \"type\": \"mesh3d\"}], \"parcoords\": [{\"line\": {\"colorbar\": {\"outlinewidth\": 0, \"ticks\": \"\"}}, \"type\": \"parcoords\"}], \"pie\": [{\"automargin\": true, \"type\": \"pie\"}], \"scatter\": [{\"marker\": {\"colorbar\": {\"outlinewidth\": 0, \"ticks\": \"\"}}, \"type\": \"scatter\"}], \"scatter3d\": [{\"line\": {\"colorbar\": {\"outlinewidth\": 0, \"ticks\": \"\"}}, \"marker\": {\"colorbar\": {\"outlinewidth\": 0, \"ticks\": \"\"}}, \"type\": \"scatter3d\"}], \"scattercarpet\": [{\"marker\": {\"colorbar\": {\"outlinewidth\": 0, \"ticks\": \"\"}}, \"type\": \"scattercarpet\"}], \"scattergeo\": [{\"marker\": {\"colorbar\": {\"outlinewidth\": 0, \"ticks\": \"\"}}, \"type\": \"scattergeo\"}], \"scattergl\": [{\"marker\": {\"colorbar\": {\"outlinewidth\": 0, \"ticks\": \"\"}}, \"type\": \"scattergl\"}], \"scattermapbox\": [{\"marker\": {\"colorbar\": {\"outlinewidth\": 0, \"ticks\": \"\"}}, \"type\": \"scattermapbox\"}], \"scatterpolar\": [{\"marker\": {\"colorbar\": {\"outlinewidth\": 0, \"ticks\": \"\"}}, \"type\": \"scatterpolar\"}], \"scatterpolargl\": [{\"marker\": {\"colorbar\": {\"outlinewidth\": 0, \"ticks\": \"\"}}, \"type\": \"scatterpolargl\"}], \"scatterternary\": [{\"marker\": {\"colorbar\": {\"outlinewidth\": 0, \"ticks\": \"\"}}, \"type\": \"scatterternary\"}], \"surface\": [{\"colorbar\": {\"outlinewidth\": 0, \"ticks\": \"\"}, \"colorscale\": [[0.0, \"#0d0887\"], [0.1111111111111111, \"#46039f\"], [0.2222222222222222, \"#7201a8\"], [0.3333333333333333, \"#9c179e\"], [0.4444444444444444, \"#bd3786\"], [0.5555555555555556, \"#d8576b\"], [0.6666666666666666, \"#ed7953\"], [0.7777777777777778, \"#fb9f3a\"], [0.8888888888888888, \"#fdca26\"], [1.0, \"#f0f921\"]], \"type\": \"surface\"}], \"table\": [{\"cells\": {\"fill\": {\"color\": \"#EBF0F8\"}, \"line\": {\"color\": \"white\"}}, \"header\": {\"fill\": {\"color\": \"#C8D4E3\"}, \"line\": {\"color\": \"white\"}}, \"type\": \"table\"}]}, \"layout\": {\"annotationdefaults\": {\"arrowcolor\": \"#2a3f5f\", \"arrowhead\": 0, \"arrowwidth\": 1}, \"coloraxis\": {\"colorbar\": {\"outlinewidth\": 0, \"ticks\": \"\"}}, \"colorscale\": {\"diverging\": [[0, \"#8e0152\"], [0.1, \"#c51b7d\"], [0.2, \"#de77ae\"], [0.3, \"#f1b6da\"], [0.4, \"#fde0ef\"], [0.5, \"#f7f7f7\"], [0.6, \"#e6f5d0\"], [0.7, \"#b8e186\"], [0.8, \"#7fbc41\"], [0.9, \"#4d9221\"], [1, \"#276419\"]], \"sequential\": [[0.0, \"#0d0887\"], [0.1111111111111111, \"#46039f\"], [0.2222222222222222, \"#7201a8\"], [0.3333333333333333, \"#9c179e\"], [0.4444444444444444, \"#bd3786\"], [0.5555555555555556, \"#d8576b\"], [0.6666666666666666, \"#ed7953\"], [0.7777777777777778, \"#fb9f3a\"], [0.8888888888888888, \"#fdca26\"], [1.0, \"#f0f921\"]], \"sequentialminus\": [[0.0, \"#0d0887\"], [0.1111111111111111, \"#46039f\"], [0.2222222222222222, \"#7201a8\"], [0.3333333333333333, \"#9c179e\"], [0.4444444444444444, \"#bd3786\"], [0.5555555555555556, \"#d8576b\"], [0.6666666666666666, \"#ed7953\"], [0.7777777777777778, \"#fb9f3a\"], [0.8888888888888888, \"#fdca26\"], [1.0, \"#f0f921\"]]}, \"colorway\": [\"#636efa\", \"#EF553B\", \"#00cc96\", \"#ab63fa\", \"#FFA15A\", \"#19d3f3\", \"#FF6692\", \"#B6E880\", \"#FF97FF\", \"#FECB52\"], \"font\": {\"color\": \"#2a3f5f\"}, \"geo\": {\"bgcolor\": \"white\", \"lakecolor\": \"white\", \"landcolor\": \"#E5ECF6\", \"showlakes\": true, \"showland\": true, \"subunitcolor\": \"white\"}, \"hoverlabel\": {\"align\": \"left\"}, \"hovermode\": \"closest\", \"mapbox\": {\"style\": \"light\"}, \"paper_bgcolor\": \"white\", \"plot_bgcolor\": \"#E5ECF6\", \"polar\": {\"angularaxis\": {\"gridcolor\": \"white\", \"linecolor\": \"white\", \"ticks\": \"\"}, \"bgcolor\": \"#E5ECF6\", \"radialaxis\": {\"gridcolor\": \"white\", \"linecolor\": \"white\", \"ticks\": \"\"}}, \"scene\": {\"xaxis\": {\"backgroundcolor\": \"#E5ECF6\", \"gridcolor\": \"white\", \"gridwidth\": 2, \"linecolor\": \"white\", \"showbackground\": true, \"ticks\": \"\", \"zerolinecolor\": \"white\"}, \"yaxis\": {\"backgroundcolor\": \"#E5ECF6\", \"gridcolor\": \"white\", \"gridwidth\": 2, \"linecolor\": \"white\", \"showbackground\": true, \"ticks\": \"\", \"zerolinecolor\": \"white\"}, \"zaxis\": {\"backgroundcolor\": \"#E5ECF6\", \"gridcolor\": \"white\", \"gridwidth\": 2, \"linecolor\": \"white\", \"showbackground\": true, \"ticks\": \"\", \"zerolinecolor\": \"white\"}}, \"shapedefaults\": {\"line\": {\"color\": \"#2a3f5f\"}}, \"ternary\": {\"aaxis\": {\"gridcolor\": \"white\", \"linecolor\": \"white\", \"ticks\": \"\"}, \"baxis\": {\"gridcolor\": \"white\", \"linecolor\": \"white\", \"ticks\": \"\"}, \"bgcolor\": \"#E5ECF6\", \"caxis\": {\"gridcolor\": \"white\", \"linecolor\": \"white\", \"ticks\": \"\"}}, \"title\": {\"x\": 0.05}, \"xaxis\": {\"automargin\": true, \"gridcolor\": \"white\", \"linecolor\": \"white\", \"ticks\": \"\", \"title\": {\"standoff\": 15}, \"zerolinecolor\": \"white\", \"zerolinewidth\": 2}, \"yaxis\": {\"automargin\": true, \"gridcolor\": \"white\", \"linecolor\": \"white\", \"ticks\": \"\", \"title\": {\"standoff\": 15}, \"zerolinecolor\": \"white\", \"zerolinewidth\": 2}}}, \"title\": {\"text\": \"Raster, aligned to stim on\", \"x\": 0.21, \"y\": 0.87}, \"width\": 580, \"xaxis\": {\"range\": [-1, 1], \"showgrid\": false, \"title\": {\"text\": \"Time (sec)\"}}, \"yaxis\": {\"range\": [0, 271.32], \"showgrid\": false, \"title\": {\"text\": \"Trial idx\"}}},\n",
       "                        {\"responsive\": true}\n",
       "                    ).then(function(){\n",
       "                            \n",
       "var gd = document.getElementById('a4617db8-253f-43a3-98ac-725dc1170c62');\n",
       "var x = new MutationObserver(function (mutations, observer) {{\n",
       "        var display = window.getComputedStyle(gd).display;\n",
       "        if (!display || display === 'none') {{\n",
       "            console.log([gd, 'removed!']);\n",
       "            Plotly.purge(gd);\n",
       "            observer.disconnect();\n",
       "        }}\n",
       "}});\n",
       "\n",
       "// Listen for the removal of the full notebook cells\n",
       "var notebookContainer = gd.closest('#notebook-container');\n",
       "if (notebookContainer) {{\n",
       "    x.observe(notebookContainer, {childList: true});\n",
       "}}\n",
       "\n",
       "// Listen for the clearing of the current output cell\n",
       "var outputEl = gd.closest('.output');\n",
       "if (outputEl) {{\n",
       "    x.observe(outputEl, {childList: true});\n",
       "}}\n",
       "\n",
       "                        })\n",
       "                };\n",
       "                });\n",
       "            </script>\n",
       "        </div>"
      ]
     },
     "metadata": {},
     "output_type": "display_data"
    }
   ],
   "source": [
    "x_lim=[-1, 1]\n",
    "# axis = go.Scatter(\n",
    "#     x=x_lim,\n",
    "#     y=y_lim,\n",
    "#     mode='markers',\n",
    "#     marker=dict(opacity=0),\n",
    "#     showlegend=False,\n",
    "#     yaxis='y2'\n",
    "# )\n",
    "\n",
    "axis = go.Scatter(\n",
    "    x=x_lim,\n",
    "    y=y_lim,\n",
    "    mode='markers',\n",
    "    marker=dict(opacity=0),\n",
    "    showlegend=False,\n",
    ")\n",
    "\n",
    "incorrect = go.Scatter(\n",
    "    x=[-2, -1],\n",
    "    y=[-2, -1],\n",
    "    fill='tozeroy',\n",
    "    fillcolor='rgba(218, 59, 70, 0.5)',\n",
    "    name='Incorrect',\n",
    "    mode= 'none'\n",
    ")\n",
    "correct = go.Scatter(\n",
    "    x=[-2, -1],\n",
    "    y=[-2, -1],\n",
    "    fill='tonexty',\n",
    "    fillcolor='rgba(65, 124, 168, 0.5)',\n",
    "    name='Correct',\n",
    "    mode= 'none'\n",
    ")\n",
    "\n",
    "\n",
    "legend_left = putils.get_legend('left', 'spike')\n",
    "legend_right = putils.get_legend('right', 'spike')\n",
    "legend_incorrect = putils.get_legend('incorrect', 'spike')\n",
    "\n",
    "legend_mark_left = putils.get_legend('left', label)\n",
    "legend_mark_right = putils.get_legend('right', label)\n",
    "legend_mark_incorrect = putils.get_legend('incorrect', label)\n",
    "\n",
    "layout = go.Layout(\n",
    "    images=[dict(\n",
    "      source='data:image/png;base64, ' + encoded_string.decode(),\n",
    "      sizex=x_lim[1] - x_lim[0],\n",
    "      sizey=y_lim[1] - y_lim[0],\n",
    "      x=x_lim[0],\n",
    "      y=y_lim[1],\n",
    "      xref='x',\n",
    "      yref='y',\n",
    "      sizing='stretch',\n",
    "      layer='below'\n",
    "    )],\n",
    "    width=580,\n",
    "    height=370,\n",
    "    margin=go.layout.Margin(\n",
    "        l=50,\n",
    "        r=30,\n",
    "        b=40,\n",
    "        t=80,\n",
    "        pad=0\n",
    "    ),\n",
    "    title=dict(\n",
    "        text='Raster, aligned to {}'.format(align_event),\n",
    "        x = 0.21,\n",
    "        y=0.87\n",
    "    ),\n",
    "    xaxis=dict(\n",
    "        title='Time (sec)',\n",
    "        range=x_lim,\n",
    "        showgrid=False\n",
    "    ), \n",
    "    yaxis=dict(\n",
    "        title='Trial idx',\n",
    "        range=y_lim,\n",
    "        showgrid=False\n",
    "    ),\n",
    "     \n",
    ")\n",
    "\n",
    "data = [axis, incorrect, correct]\n",
    "#         legend_mark_left, legend_mark_right, legend_mark_incorrect]\n",
    "\n",
    "fig = go.Figure(data=data, layout=layout)\n",
    "\n",
    "# fig.update_layout(\n",
    "#     yaxis2=dict(\n",
    "#         title='Contrast',\n",
    "#         range=y_lim,\n",
    "#         showgrid=False,\n",
    "#         overlaying='y',\n",
    "#         side='right',\n",
    "#         tickmode='array',\n",
    "#         tickvals=list(tick_pos),\n",
    "#         ticktext=list(contrasts)\n",
    "#     ))\n",
    "\n",
    "plotly.offline.iplot(fig)"
   ]
  },
  {
   "cell_type": "code",
   "execution_count": 58,
   "metadata": {},
   "outputs": [],
   "source": [
    "f = open(\"rasters_contrast.json\",\"w\")\n",
    "s = json.dumps(fig.to_plotly_json())\n",
    "f.write(s)\n",
    "f.close()"
   ]
  },
  {
   "cell_type": "markdown",
   "metadata": {},
   "source": [
    "# Contrast"
   ]
  },
  {
   "cell_type": "code",
   "execution_count": 18,
   "metadata": {},
   "outputs": [
    {
     "data": {
      "application/vnd.plotly.v1+json": {
       "config": {
        "linkText": "Export to plot.ly",
        "plotlyServerURL": "https://plot.ly",
        "showLink": false
       },
       "data": [
        {
         "marker": {
          "opacity": 0
         },
         "mode": "markers",
         "showlegend": false,
         "type": "scatter",
         "x": [
          -1,
          1
         ],
         "y": [
          0,
          271.32
         ],
         "yaxis": "y2"
        }
       ],
       "layout": {
        "height": 370,
        "images": [
         {
          "layer": "below",
          "sizex": 2,
          "sizey": 271.32,
          "sizing": "stretch",
          "source": "data:image/png;base64, iVBORw0KGgoAAAANSUhEUgAABdwAAALuCAYAAAC0INRMAAAABHNCSVQICAgIfAhkiAAAAAlwSFlzAAAXEQAAFxEByibzPwAAADh0RVh0U29mdHdhcmUAbWF0cGxvdGxpYiB2ZXJzaW9uMy4xLjMsIGh0dHA6Ly9tYXRwbG90bGliLm9yZy+AADFEAAAgAElEQVR4nOzdW4wc15ng+S8iMjKzMot1YZGUKJKiJFpFSrLZtlrulr1uQ4N2NwYjuDGLdRtoeGZ6sLNAT78t4EcBA2OAXXhfFvs6wO5gZ2b7YdeeXcANzwzgnlnD7jXkkdrqEWXxpiJFlouUilVkXfMWl9yHUpJZWZlVeYmIc4n/76XbIWbkie9850TUyXNOOO12WwAAAAAAAAAAwGRc1QUAAAAAAAAAAMAGDLgDAAAAAAAAAJAABtwBAAAAAAAAAEgAA+4AAAAAAAAAACSAAXcAAAAAAAAAABLAgDsAAAAAAAAAAAlgwB0AAAAAAAAAgAQw4A4AAAAAAAAAQAIYcAcAAAAAAAAAIAEMuAMAAAAAAAAAkAAG3AEAAAAAAAAASEBBdQEAAAAAwBSO4xRF5Isi8rSIfCIif9tut1tqS6VvuaAPcgQAgGwU/vjS/zSluhAAAAAAoLuljbf9glP8x7HEpzrHXHFff/Xp//p/vzD3ekC5oCtyBACA7BRE5OeqCwEAAAAAujtWPFl5fu535voc/6ciUlNQpM73a1ku6IMcAaCTKA6d9cadqUa45ZcLM8FC+Xzdcwtt1eUCeo2bqwUReSmD8gEAAACA0YKo4RXc4oH3YAVR47iIRAqK1Pl+LcsFfZAjAHQRtUO5vfmfC81oxxER2W49kK3mp+3n534n9Bx2voY+JsnVzn+9ISJxyuUEAAAAAGP5XrkSxq3ZPsc3ReEsYV3LBX2QIwB0sV6/U9kNHu7rj8L4oazX72yeqlygP4I2xsxVV0QWOwPusYiwdAMAYDyWJwIA0rJQPl97WF+uNKMdv3Os5E0HC+XzNen5eyrL+9FC+XxtvXanstm6XwnjwC24fjxbPF3rVy7k0yi5i2TwTGom6i19jXCr79Tgz45bF2tyylxj5mos8mSGOwAAxovi0Ln56K9PPPljckUe1perL85/bY2HGgDApDy30H5x/mtrR/3hrOJ+tHdS57P/5dg3YoGJDJu7SAbPpGai3rJRLswEIisDjtuFnDLbJLl6YA83AABMtd64M9U9c0tEpBnt+OuNO1OqygQAsIvnFtqnKhdqz858afNU5UKt3x/MWd+P1ht3poK45k8VZoJjxRPNqcJMEMQ17n/YZ5jcRTJ4JjUT9ZaNhfL5esmb3jdg+dmKm7qqMqWFnDLbJLnKDHcAgDUa4ZY/ynEA+7HkFUhG1vcj7n+AXsZpk9yD1aMvzUaeVtyQU2abJFcZcAcAWCNPyxOBpLHkFUhO1vcj7n+AXkZtk9yD9UBfmp3OihvV5UgbOWW+cXOVLWUAANbI0/JEIGkseQWSk/X9iPsfoJdR2yT3YD3QlyJp5FR+McMdAGCNPC1PBJLGklcgOcPcj5LcPoL7H6CXUdsk92A90JciaeRUfjHgDgCwSl6WJwJJY8krkKzD7kdpbB/B/Q/QyyhtknuwPuhLkTRyKp/YUgYAACDHojh0VmtLlVrwyA/jwGm348f/zbYlr51rvbv13uxqbakSxaGjukzIJ7aPANCNbScAwC7McAcAAMip3lm2nuO1o3bkLJTO7FaKcy2blrzyQjrohO0jAHRj2wkAsAsD7gAAADnVO8vWcVwpOG67Upxr2bb09bAZxbZdK/TH9hEAerHtBADYgwF3gyX5oiWkj/oCAOgmT7Ns83St0N9C+Xz9YX252v0jENtHAACQDsZjkDUG3A3FsmizUF8AAB3laZZtnq4V+mP7CAAAssF4DFTgpamG4kVLZqG+AAA6ytNL2vJ0rTBDZ/uIZ2e+tHmqcqHGH/0AACSP8RiowAx3Q7Es2izUF4AkqVgSyTJMO+Vplm2ertV29EcwDTmLJJBHwHjSHo+hbaIfBtwNxbJos1BfAJKiYkkkyzDtlqeXtOXpWm1FfwTTkLNIAnkEjC/N8RjaJgZhSxlDsSzaLNQXgKSoWBLJMkwAuqA/gmnIWSSBPALGl+Z4DG0TgzDD3VAsizYL9YW8Ynld8lRsUcW2WPrIuk3RhpNFPJ8YNxZ56o+SzBebc0/3a0szZ3W/9qOYXv4sqej7qB/YIs3xmDw9l2A0DLgbjGXRZqG+kDcsr0uHii2q2BZLD1m3KdpwsojnE5PEIi/9UZL5YnPumXBtaeWsCdd+GNPLn7Ws+z7qB7ZJazwmL88lGB1bygAAUsHyunQctiQyikNntbZUubv13uxqbakSxaGT5He227HUw01/u7VWCuPAmSueaSRxflukFf+OrNvUg9qtykZzpbLdWivVw02/3Y4zb8NpxzRL9IlPTBKLvGzTl2S+DDrXg9qtiuntS8d21dtvzRXPNNLIWR2vfRSmlz9rWfd91A8wnLw8l2B0zHAHAKSC5XXpGLQkUkQkrZlInltovzD7+vqVtX9/OowDt+AWY8/x2rc2315gptOeLGaCZdmmojh07mz9amE3eFQWEWlGIo1wx58rna5l1YZtm11Hn/jEJLHIyzZ9SeZLv8+027Hc2frVQrkwHe4dMbN96dau+vZb3nLwwuzr6xutlXKSOavbtY/K9PJnLeu+j/oBhpOX5xKMjgF3AEAqWF6Xnn5LIldrS5VBM5GSWD650VopF1y/fax4opnG+U132EywpOKTZZtab9yZaku8b7Zr1A68RrTtZ9WGs4hplugTn5g0FnnYpi/JfOl3rka07Yvsn9BuYvvSrV0N6rc2WivlpOOq27WPyvTyq5Bl30f9AMPLw3MJRseWMgCAVLC8Lltpz0RiptPhsohPlm2qEW75ZW868Bw/6j7uiNvOqg3blnP0iU/YHosktkJKMkb9zuWI2y73HBMxr33plktZ9lu6XfuoTC+/7agfAJiM9/KJb7wlImuqCwIAsIvruDJfPlv3XD/y3VI0Xz5bO3vs8hbL69LRjGreTmut3Ht8vny2VvWPTzwbKe3zmy6L+GTZpppRzdsJ1stlbzpwHa/tOl5cLkwHz82+tjZTOplJfduWc/SJT9gci86WIhvNe9VGuF3caa2VN5uflOfLZ+uuM/xcpyRj1O9cs6Wna7vBQ+Pbl265lGW/pdu1j8r08tuO+gGAsTkicoItZQAAqWF5XXYWyufrD+vL1e6l7EnOREr7/KbLKj5Ztanu65n6bPl4yZsOTk69kFl925hz9IlP2BqLJLdCSjJGveeK4tDZaNyzon3plEtZ91s6Xfs4TC+/7agfABif862L398VkWsiwi+VAAAYLIpDJ80X9qR9ftOZEp9hy5nV9Rz2PabENEvE5Ggq+8K7W+/NPmqsVHs/M18+s/vszJc2kypDEnRo4zbK2/WOgtgAwHDoL43miMglBtwBAAByorPdRe/syxfnv7am4iFet/LojngdLe0YHXX+1dpS5f7O1bnez52efmkjjzNFyVl0kAsAMBz6S+M5InKJl6YCAADkxGHbXVAe/RGvo6Udo6POz4sG9yNn0UEuAMBw6C/tkNs93FUvz1D9/Umw4RrSQFwgQh7YiDrVA/UwmUa45Y9yvFsasZ+kPHlEvI6WdoyOOr/nFtovzn9tjX5qDzmLDnIBAIZDf2mHXA64H1yesSIP68vVrJZnqP7+JNhwDWkgLhAhD2xEneqBephcuTATiKwMOD5YWrEftzx5RbyOlnaMhjk/Lxp8gpxFB7kAAMOhv7SD8VvKRHHorNaWKne33ptdrS1Vojh0jvqM6uUZqr8/CTZcQxqIS3rGaeuqpJEHJl2/jWjbeqAeJjfudhdpxZ7tN0ZDvI6Wdoyog9EQL3SQCwAwHBX9JeMNg40bG6NnuI8720r18gzV358EG64hDcQlHabNak06D0y7fhvRtvVAPUxu3O0u0oo922+MhngdLe0YUQejIV7oIBcAYDhZ95eMNww2SWyMHnA/bLbVYcs4VS/PUP39SbDhGtJAXNIxbltXJek8MO36bUTb1gP1kIxxtrtIM/ZsvzEa4nW0tGNEHYyGeKGDXACA4WTZXzLeMNgksTF6S5lxZ1upXs6m+vuTYMM1jGqYZSR5jEsWTJvVmnQemHb9NqJt64F6UIfYAwAAqMOWH0gL4w2DTRIbo2e4jzvbSvVyNtXfnwQbrmEUwy4jyVtcsmLarNak88C067cRbVsP1IM6xB4AAEANtvxAmhhvGGyS2Bg94L5QPl9/WF+udk/vH3a2lerlbKq/Pwk2XMOwRllGkqe4ZGWStq5Kknlg4vXbiLatB+pBHWIPAACQPbb8QJoYbxhsktgYPeDObCtkhSU2auW9ref9+rEnikMnjRxI67xAUsjR/oiLuag7AMAoGI9AmhhvGGyS2Bg94C7CbCtkgyU26uW9ref9+vMurWWkLE+F7sjR/oiLuag7AMCoGI9A2hhvGGzc2Bj90lQgK7wsDoBKhy0j1fG8QFLI0f6Ii7moOwDAqBiPAMxj/Az3XizRtE/adTrM+TvLSB7UblXWGh9XHRGZKz+zm1QZgGEk1RZM6CdNKGOW0lpGavryVPLEfqbnaFpGjUsabYX2d9AwMSGnAQCjYssPwDxWDbizRNM+adfpqOffaN6rRHGrICLy6e6NuY3GPfILmUiqLZjQT5pQxqyltYzU5OWp5Ek+mJyjaRolLmm0FdrfQcPGhJwGAIyDLT8As1i1pQxLNO2Tdp12fiGuh5v+dmutVA83/Ua41ff85Bc6ojh0VmtLlbtb782u1pYqURw6aX9nUvlnQh6rLKOKuh1GWstIdV+eelh9mJDL2DNJuxqUo3PFMw0d22pWRmm7abQVG9vfpP3/sDHRvd8FAADA5Kya4c4STfukXae11kZxo3m/ErUDT0SkGYk0wh1/rnSmJhXZ9+sx+QURdbP6kso/E/JYVRl1nrGZ1jJSnZenHlUfJuQyJm9X/XJ0rnimcWvz7QUd22pWRmm7abQV29pfEv3/sDHRud8FAABAMqwacGeJpn3SrtNWXHc7g+0dUTvwWnH9wOoP8gsih89gS3OJX1L5Z0IeqyqjqrodVlrLSHVdnnpUfZiQy0imXfXm6GptqaJzW83KsG03jbZiW/tLIk9HiYmu/S4AAACSYdWWMizRtE/adVr0ypHn+FH3Mc/xo6JXjnr/LfkFEXWz+pLKPxPyWFUZbZuxabqj6sOEXAazq3WQRluxrf0lkVO2xQQAAADjs2qGO0s07ZN2nVb8+WCudLrWiHb8MG65BbcYl73poOLP952NRH5B1ay+pPLPhDxWVUbbZmya7qj6MCGXwexqHaTRVmxrf0nklG0xAQAAwPisGnAXYYmmjdKs04Xy+frD+nLVcZ4s9jhsNhL5hU7OdC89z2oGW1L5Z0IeqyijyrrFQcPUhwm5nHdptCva6ujSaCs2tb+kcsqmmAAAAGB8zrcufn9XRK6JCLMvkEtRHDrMRsIoyBl7JVW35EgyTIqjSWXNWhqx0aWtUu/2GLYuqfP8oK4BID30sbDRZ3ldCaLG8wy4AwCQoCgOnZuP/vpE70zJF+e/tsZDpJ2oczNNWm/Ue/5Q5/lBXQNAeuhjYaPuvC64xRNWvTQVgFmiOHRWa0uVu1vvza7WlipRHDqqywRMar1xZ6r74VFEpBnt+OuNO1OqyoR09avzRrjlL228PU//pq9J2yptPX+o8/ygrgEgPfSx+ZOHsZ/evLZuD3cAZjj4q/aKPKwvV/lVG6ZrhFv+KMdhvt66bbdj2Wjer+wED0vHiiea9G96mrSt0tbzhzrPD+oaANJDH5sveRn76c1fZrgDUIJftWGrcmEmGOU4zNdbt41o24/agVdwi3HnGP2bfiZtq7T1/KHO84O6BoD00MfmS17GfnrzlwF3AErwq7Yd8rA0bFQL5fP1kje972Zb8qaDhfL5uqoyZS1vedFb52EcuJ7jR+WePLClf7Olfidtq3PFM40wDpzt1lqpHm767Xacu7aeN/Tv+UFdA0B66GPzJS9jP7157b184htviciawjIByKFmVPN2Wmvl3uPz5bO1qn+cX7YN0FkattG8V22E28Wd1lp5s/lJeb58tu46+f0913VcmS+frXuuH/luKZovn62dPXZ5y6blcofJY1701nnJO9bynELb6bleG/o3m+p3krYaxaGztPGLE3E7cGOJ3DAOXM8txpeO/51V3yvmoq3nUd779zyhrgEgPfSx+ZKXsZ+uvI6LbmWOPdwBKLFQPl9/WF+u9r6ZnF+1zXHY0rBTlQs1VeXSgecW2nmNQV7zorvOD+5TaE//Zlv9jttWO3FwHFemupaPbrRWyqcK5sUBw8tz/5431DUApIc+Nj/yNPbTldcRA+4AlPDcQvvF+a+trTfuTDXCLb9cmAkWyufreftVO4pDx9QY5GVp2ChMrs+kDJsXNsequ3+rtTaKrbjuFr1ytN64M5X2dY4S13HqgHa/hzjgKDb3cQAAAIfpfQ56Yfb19Y3WSjlPz0UMuANQJu+/apv+tu69l4KsDDieP6bXZ1KGyYs8xMpzC+3u2Rz1UGSz+Umq1zlKXMetA9r9HuKAw+ShjwMAAOin73OQtxx89hyUm/EfszbbBACLmP62bl52s5/p9ZmUYfIiL7HK+jpH+b5xy0a730MccJi89HEAAAC9eA7awwx3AFDE9C0J2BZoP9PrMynD5EVeYpX1dXaft92OpRFt+2EcuF5taXrcOui3LUYS7d707Tbo/3CYvPRxAAAAvXgO2sOAOwAoYsOWBHnfFqibDfWZlKPyIi+xyvo6O9/Xbsey0bxfidqBJyKy01qLbz766xPd21lMuvXPJO3elu026P8wSF76OAAAgF48B+1hSxkAmYni0FmtLVXubr03u1pbqkRx6KguU0dSZRvlPDZtSaBz3YpkUz6b6jNteYlV1tfZ+b5GtO13Bts9x4/K3nTQu4xT5dY/R51X9/7EdsR/cnnp4wAAAHrxHLTH+dbF7++KyDURMWZGEQDzHJzRuNfp6jCjMamyjXMe07dVENG7bkWyLZ8N9ZmVvMQq6+uM4tC59vA/nXzUuFctuMW47E0HjrM3v2K+fGb32ZkvbQ5btrtb780+aqxUe7+j9zyjOuy8Z6a/sKVzf2I73ftzk+SljwMAAOiV8+cgR0QusaUMgEwcNqNR9ZL8pMo2znls2JJA57oVybZ8NtRnVvISq6yv03ML7ZOVCzth3DrwjNe7jFPV1j+HnVf3/sR2xD85eenjAAAAevEc1LOHe85/gQCQonFenJFVn5TUSz1UvBykX4xE9gZNBsVtmM/MFc80Nlor5Ua45Re9aiBtcVrxbqH3fJ9tPTC93VorFVw/LnvHHs+mrbU2iquyJKrvKVnViwn3UBPKiMktlM/XH9aXq72zlEddxpnUeUY578rOlZl+n9HtJUtZtqU0v6v33LXWRrHfvxs3/kmXvft8h92bMDnuFwAAAON7POBuywusAOhp1JmSWfZJSc3izPrlIP1itFa7U3VEpBXX+sZtmM+028tyI/h5ado/3hQR2Wjer4iIzJVO1xzHfXw+EZGbj/76xE5rbaoZ7RSbkUgj3PHnSqdrIiLrjbvVzdbeZ1XeU7KoFxPuoSaUEcnw3EL7xfmvrU06WJbUeUY5rwkvWcqyLaX5Xf3OHcaB4zleu/PDacc48U+67N3n67wYWOTgvYn+bHLcLwAAACbz+Gk6rRdjAYDI6C/OyLJPSuqlHlm/HKRfjLZan1SeDHLv6Y7bMJ9pRDt+M9opNqJtvxHt+FE78KJ24DWibb/7fJ1zlb3pwHP8SESk8++iduR4jtceVI4sZVEvJtxDTSgjktNZxvnszJc2T1Uu1MYdJEvqPMOe14SXLGXZltL8rn7n9hyvHbWjfS9JHTf+SZe9+3yH3ZvGOTf2434BAAAwmccz3FVshQCYRufltVmVbdzvGXWmZJZ9ku6zQQfpF4swbrmH/dthPtP532Ec9Bx/8r+7z+M4rsyVTtca0Y4fxi33WPFkveofb242PznwUkQV95Qs6sWEe6gJZcwDne8jOujXXueKZxo6xSzLtlRrbRTr4aYfxoHbvW1XEt/V7xyO48pC+Zmdij8fTBrvpOPU/bnu+9agexPGl2WO29wn2nxtAADgcI8H3E1YwguopPPy2qzKNun3jPLijKz7pKRe6pHly0H6xajgFmORg1XRidswnym4xbgZiRRcPxZxpBl1jvtx7/k653IcV6Y+O3aycmFHRGSz+cnAcmQt7Xox4R5qQhltp/N9RCfd7VXHmGXVlvYG6+5Wd4NHZRGR7m27kviuQddR8eeDJPrLpOPUfb7OfWrv/+93b8Ikssxx3dp3Umy+NgAAcLTHM0JMWMILqKTz8tqsymbiNi826xejmeLTtdni6X0DJd1xG+YzZW86KHnTrbJ3LOhsF+M5flT2jgXd5zusjvJWfyZcrwlltJ3O9xFd6RizrNrSeuPOlOd47c6WXSJ723ZF7chJ4rvSvo6kz999vsPuTZOXHFnmuG7tOyk2XxsAADja4xnuWW+FAJhG5+0Ysiqbidu82GxQjET2/tDrF7dhPzNXPNPYaK2UG+GW//T0pQ1pi9OKdwu95zusjvJUfybkqwlltJ3O9xFd6RizrNpSI9zye7fsKrjFeGHq3E4S35X2dSR9/t7z9bs3iYis1pYqJvVxKrYdOeo7s8zxUY6bxOZrAwA8wfZhGKTQ/T+y3AoBMI3O2zFkVTZTt3mx2aAYHRa3YT9zqnB07A+ro7zVnwnXa0IZbabzfURXusYsi7bUufbuLbtE9rZ8Seo70r6OpM9/2PlM3MJDRZmH/c4sc7z/cbPZfG0AgD0mPnsgO31frgfgIJ23Y+guW7sdSz3c9BvhdiFuRxLFoZPG93ToEoMoDp3V2lLl7tZ7s6u1pUqS153ld8Ac5ANGzQGd+1DddGJbCx75YRw47fbjbbqtjFm/XCJfRmPiFh4qyqxTnGzOcZuvDQCwR6d7KvRTOPqfABDRezuGTtke1G5V7mz9akHEkZJXDT/dvTG30biX2C+susYgi1+W+fUa3cgHjJMDuvahuumNred47agdOQulM7uV4lzLtpgdlkvky/BM3MJDRZl1ipPNfaLN1wYA2KPTPRX6YcAdGIHO2zF4bqHtul67XJgOu493fmFNqtw6xuCwX5aTKmsW3wFzkA8YNwd07EN10xtbx3Gl4LjtSnGuZWPsjsolG685DSZu4aGizLrFyeY+0eZrAwDod0+FXnI74D7qiw14EUL2iPno8voLaxbXndfYor9aa6NYDzf9MA7cguvHZe9Y4Dgu+aCRtO8h9AnjGaZedIstuWSGhfL5+sP6crX7xwvdt/BQUWYT4wQAgI5Mu6cyxpatXA64j7oMnK0DskfMx5PXX1izuO68xhYH7T2o3K3uBo/KIiLNSKQR7vhzpdM18kEPWdxD6BNGN2y96BRbcskcJm7hoaLMJsYJAAAdmXRPZYwte7l8aeqoLzbgRQjZI+bjyesLmrK47rzGFgetN+5MeY7X9hw/6hyL2oEXtSOHfNBDFvcQ+oTRDVsvOsWWXDJLZwuPZ2e+tHmqcqFmwh+QKspsYpwAANCRKfdUxtiyl8sZ7qMu3WWpb/aI+XhM+oU1SVlcd15ji4Ma4ZbvOK7MlU7XGtGOH8Ytt+AW44Wpczvkgx6yuIfQJ4xu2HrRKbbkEgAAAEzHGFv2cjngPurSXZb6Zo+Yjy+vL2jK4rrzGlvs1+mfHMeVqa4+qeLP0z9pIqt7CH3CaEapF11iSy4BAADAdIyxZS+XW8qMunSXpb7ZI+YAdEX/pD/qSE8m1ouJZQYAAAC68UybPedbF7+/KyLXRCRXy1ZHfTsvb/PNXtYxp45hC3I5fXmJscnXaUrZTSlnUky83igOnQe1W5W1xsdVR0QWpp7bOTn1gvblBgAAgL4Y87KWIyKXcjvgDnQ7+MbmvV/7eGMzTEMuIynkUvqIsRmoJwAAACSJ50urOSJyKZdbyuRBFIfOam2pcnfrvdnV2lIlikNHdZl0xhubYQtyGUkhl9JHjM1APQEAACBJPF/aL5cvTbXdwV/KVuRhfbnKL2WD8cZm2IJcRlLIpfQRYzNQTwAAAEgSz5f2Y4a7hfilbHSD3szMG5thGnIZSSGX0keMzUA9AQAAIEk8X9qPGe4W4pey0S2Uz9cf1pervftnJfHGZl5MgSylmcvIl4Xy+fp67U51s3W/EsaBW3D9eLZ4upZlLtnef9rQXtOuo2HPP+jf9R6fK55pbLRWyoP+d7/zJ11Ptuc1JmdTjth0LYBKJrUlk8oKqGLD3wE4HC9NtdBqbalyf+fqXO/x09MvbZyqXKipKJMJ0ngw4EUYUIGHXCQhikPn+sOfndhqfVIJ45ZbcIvxTPHp2sXjX8+k/8pL/2lye027joY9/6B/98Ls6+u3Nt9e6Bxvt2PZCR6Wpv3jTcdxD/zvw8qfVD3lJa8xPptyxKZrAVQyqS2ZVFZANZP/DsChHBG55L184htvicia6tIgOWVvJtxsflKO2i2vc6zkTQdnj13ech12ERrEdVyp+seD2dLpZtU/HiQRq7X67cpG8161+1jUbnme60dV/zhLhZCKNHIZ+bNWv13ZbN6v+m4pLnmVyHdLcdwOMuu/8tJ/mtxe066jYc8/6N/tBg8LjWir1DnWiLb9erhZch237bvluPd/H1b+pOopL3mN8dmUIzZdC6CSSW3JpLICqpn8dwAO5YjICS23lDH9Vx7V5ffcQvvF+a+tmRxDW7C9DwBTqe6/VH8/jpZ2HQ17/kH/bjdYL7vO47kHEsYtd+//Bm6//33U+ZJAXuMoNuWITdcCqGRSW1JVVtVjMABGZ3u71W7A/eASpBV5WF+umrIESZfye26hzfYx6u298GJlwHEA0Jfq/kv19+NoadfRsOcf9O+q/kKjHm6UO/+74BbjZiRScP243/9Ouvz9kNc4ik05YtO1ACqZ1JZUlFWXMRgAw8tDu9VuvcJ6485U935fIiLNaMdfb9yZUlWmUZhefiRroXy+XvKm9z1c8CIMACZQ3X+p/n4cLSLXLFoAACAASURBVO06Gvb8g/7dczOvbXQfL3vTQcmbbpW9Y0G//510+fshr3EUm3LEpmsBVDKpLakoK2MwgHny0G6128N9vX6n0gi3iyJ7L7dqRFt+I9zxo3boLJTP13Tf06i7/N18txTNlk43VZTJVFEcOmv125X1+p1KM6p5ZW8m1L3+e7mOK/Pls3XP9SPfLUXz5bO1s8cub9nyix0mZ0OeIztZ5su4/VdSZcyi/6T9TSbtOhr2/IP+ne8V2/uOT52rXZj96rpfKId9/3cG9+hhrsm0vNShvDqUISk2PTvadC2ASia1JRVlZQzmIJvui0kjNuNJOm5ZtFtVdR3Fofuo8ZtTzrcufn9XRK6JiBad9WptqXJ/5+pcux3LRvN+JWoHnohI1T/emCs9U9N9eUGn/L3HT0+/tMEWL8Pj7ebIA/IcozAhX0woY4dJZUV+mJaXOpRXhzIAANRhDGY/7ouDEZvxpBG3tNutqrrufG/Ubp3W7meczhKkRrTtdwbbPcePyt50YMLygqyXUEVx6KzWlip3t96bXa0tVaI4dNL4nqzlYXnJJGyt97whz/WnU1vr5Eu7HUs93PS3W2uljeZK5UHtVkVVmXqZlNNZl1WnXIK+TGpDInqUV4cyjIt+AQAmZ9KWO1kw+b6YNtNjo+q5IY24pd1u0yjzMPHv/l7tXprquYX2i/NfW7v28D+dDOPALbjFuOxNB85n0/51fBN3t075s3jTrs0vGTDpTexZs7ne84Y815tuba0Rbvm9q7+akcidrV8tnKy8UNOh/ZuU01mWVbdcgr5MakMiepRXhzKMg34BAJKR5RiMCUy9L2bB5NiofG5II25pt9ukyzxs/LvPr90Md5G9wJ+sXNg5VjzRnCrMPB5sF9HzTdy9PLfQPlW5UHt25kubpyoXUhsEMf3XucMMqmcT6j9tNtd73pDnetOtrZULM/tWf3W0JXZ0af8m5XSWZdUtl6Avk9qQiB7l1aEM46BfAIDkZDUGYwJT74tZMDk2Kp8b0opbmu026TIPG//u82s54C7CsqBhmPzr3FGo/8Fsrve8Ic/1VmttFDtbt9TDTb/djkVEXVtbKJ+vO+LuewjpbLmmS/s3KaezLGtndUJvPulSb9CHSW1IRI/y6lCGcfA8BwBIg6n3xSyYHBuVzw0mxi3pMg8b/+7v9V4+8Y23RGRtnC9Mk0lv4lalGdW8ndZauff4fPlsreof1/4XusNQ/4PZXO95Q57rK4pD5/bmOwvbrdVK1G55QdwotKJaoexNB/NT55S0NddxpeCWglrwqOQ6XlwuTAfT/kLT2csjLdq/STmdZVnrwXbhNztXjjej3WJ3Pj1VWdyaLi4orzfow6Q2JKJHeXUowzh4ngMApMHU+2IWTI6NyucGE+OWdJmHjf9n39souKUF7fZw79ZZXqC6HLpaKJ+vP6wvV3vfuqvzr0yjoP77s73e84Y819N6486U53htz/GjzhYuUTvwonbkqGxrJ6deqG807tV0bv8m5XRmZXWk/4PdoOPINZPakIge5dWhDKPieQ4AkBYT74tZMTU2qp8bTIxbkmUeJf6eW2gvTD0bazvDHUcz8VcmU0Vx6KzVb1fW63cqzajmlb2Z0HXU7MiUt3rXKfZQQ0UOrNfvVBrRTrHsTQeu47U7M8pPVV7YOj51tjHJuSe5Hpvaf57a9sPG3Uq7HTvduTTtLzSL3lQ0WzrdVF0+6CVPbSPPbOrPAQBAunhuUGvE+DsicsL51sXv74rINRFmWQH9HHwb8d4vWVm8DTrviD1U5cBqbalyf+fqXO/x09MvbUzyKzk5vSdvcUgrn2CfvLUNAAAAwDKOiFxiugxwBJVvg847Yg9VOZDWi2HI6T15i4OJLxqCGnlrGwAAAICNtN7DfRxRHDrrjTtTjXDLLxdmgoXy+TozgjAJlW+Dzjtir5+s+1hVOeC5hfaL819bS/payek9eYtDWvkE+5jaNnj+BgAAAJ6wasD94DLcFXlYX66yDBeTKBdmApGVAceRJmKvFxV9rMocSOPFMOT0njzGwcQXDSF7JrYNnr8BAACA/ax6aepa/XZlo3mv2n0sarc8z/Wjqn98qD9UeFEVepW9mXCz+Uk5are8zrGSNx2cPXZ5i9xIF7HPpk8a5juiOHSWNt6ef1C/NRO3A7fgFGPHcUbuY0dlWw7odj1J5deo5+mOQ7sdSyPa8qM4cGdLT9emCrOZ3XdNuOebUEabZR1/3fqIYSTx/A290Q8BAKAG92Aj2ffS1Ltb780+aqxUe4/Pl8/sPjvzpc2jPs+LqjAIS6XVyXPss+iThvmOzr9Zq3883Yx2iiIinuNHc6XTNcdxh+5jJymjTTmgy/UklV/jnieKQ+dB7VblztavFtoSO2VvOnAcN7P7rgn3fBPKaDNV8deljxjWpM/f0Bv9EAAAanAPNpYjIpes2lJm0mW4h72oimXg+cZWAOrkOfZZ9EnDfEfn3xTcYtyM9v5N1A68RrTtTxVmg7S3OrAtB3S5nqTya9zzeG6h7bpeu1yYDictwzhMuOebUEabqYq/Ln3EsEzcBgfDox8CAEAN7sFms2rAfaF8vv6wvlzt/fVnoXy+PsznTX1RFQA7ZdEnDfMdnf+/7E0HjXDbj9qBJyISxoE7Sh8LvSSVX5OcR+V914R7vglltBnxH86kz9+jMG32/7DGva4sPkc7AABADe7BZrNqwN1zC+0X57+2Nu6DODN0AOgkiz5pmO/o/BvHcWWudLrWiHb8MG65pyqf27ww9/ojGwY78iip/JrkPCrvuybc800oo82I/3Amff4elq0vZx33urL6HO0AAAA1uAebzbqd9jvLcJ+d+dLmqcqF2igP4Avl8/WSN70vcZm9CUCVLPqkYb6j+984jitThZngxNRzOwy2my2p/JrkPCrvuybc800oo82I//Amef4e1mHLqpP+riyNe11ZfY52AACAGtyDzea9fOIbb4nI2jgftu1tua7jynz5bN1z/ch3S9F8+Wzt7LHLWwwoAXZKuw+b5Pyd5d5ticV1CnG1MN86PnVuN+k+aZh+76h/Y9u9IC9cx5WZ4tON3eBhoRXtFir+8cbzs7/zyPeKI+XXJPdOlfddE+75SZeRtjoaE3IkT9brdyqNcLvYe9x3S9Fs6XRTRZmSMO51ZfG5rJ5FAADAQTyLGssRkRNjbylj67JO015UBWA8afdhk5y/39vIYy8MzpV/azON/nWYfm/Qv7H1XpAHURw6tzbfXmhGO77reFIPN8q3Nt9eGKfuJrl3qrzvmnDPT6qMtNXxmJAjeWHrsupxryvtz2X9LAIAAA7iWdRcY09rsnVZJ4B8SLsPm+T8JvWvJpUV+1F3+UJ9w3S2Lqse97rS/hx9BgAAwPjGnuHO23IBmCztPmyS85vUv5pUVuxH3eUL9Q3TpfFy1s6WKWm+7PUo415X2p+jzwAAABhfZ8DdFZF4lA+WCzPhgOWIoeztVwMA2kq7D5vk/Cb1ryaVFftRd/lCfcMGnluQU5ULdRHpno09Vv5+tmXKQp9tltYVDLqPdV1pfo4+AwAAYCyuyJMB98VRP70wdV62mp8WmtHO4weukjfdXpg6P5tQAQEgNd19WNyOpRHuOK7jiiPufNQOY88ZewHQgfN3jg3bR5rUv5pUVuxH3eUL9Q3st9G850btlldwn7w/NGq3ZKN579TC1LMjTUSyEX0GAADA+JxvXfz+34z7YR2WYQLAuKI4dB7UblfubP3N8bbETtmbDhzHlZI3HSQxw22SPtKk/tWksmI/6i5fqG/gibtb780+aqxUeo/Pl8/Unp350qaKMumGPgMAAGA8hZf/7guTfL4tssjbcgGYqv3xb4J2eOuTsOe4f+yFYOq5sxP3b5P0kSb1ryaVFftRd/lCfQOfqfymHty4tXPg+OILl4Lnzk7095FN6DMAAADGUHAL7iXVhQAAVZpBzSuWptw+x4+7BTdSUSYAAJCuZ89dkrVHvyns1DYfb5kyXZltP3vu0qzrHXgsAAAAhgmjQD759La7vfvIOVadbz/91PNxwePd38hGZ5PiGzLiS1MBwAblcrXSChoH9iMtl6ubIsKsLgAALFTwfHn1C7/vLN+/MbW988g/Nj0fnDu9WC94PlumAABguDBsOW//6t8t7NQ2Ho+wf/ybD4PXX/1764VCkXs90uSKyGJnwD0WERIOQO6cO71YW7l/s7JT23x8I56uzAbnTi/WhH4RAABrFQrF9vPnPr+ruhwAACBZy/dvTHUPtouI7NQ2/OX7N8rPn/s8E+uQpljkyQx3AMilQqHYfv3VN9f2Zrg99I9NH9+b4Zbxr95h2HJUl0HHskBP5AiQDNpS8ogpAADY3nnYd++YQceBYYzynOl877s/3BWRa8JMTgBQYm+5249P9M6yf/3VN9dUDPzrUhboiRwBkkFbSh4xBQAAIiK3lz+oXF96d673+MULr20wwx3jGOE50xGRS7wRCAAU21vuttmz3G3TX75/YyrPZYGeyBEgGbSl5BFTAAAgInLu9GJ9ujIbdB/7bOvYuqoywWyjPmeypUyK8rykVadr16ksQD86LXc7qiy0J+iUr4DJaEvJI6YAkD/8fYJ+dNk6FvYY9TmTAfeUHFhq8OktWbl/s5qHJa06XbtOZQEGOTZ9PJBPb/U/rlFZaE8Q0StfAZPRlpJHTAEgX/j7BIf57OXobB+DRIz6nMmWMinRZUlrGLac28sfVN6/+rPZ28sfVMKw5aT9nbpcu25lAQbRabnbYWWhPUFEr3wFTEZbSp4tMVXx/A4AJuLvEwBZGfU5kxnuKdFhSauqX3t1uHYdywIMotNyt8PKQnuCiF75CpiMtpQ8G2LKbE0AGB5/nwDIyqjPmQy4p0SHJa2H/dqb5rIaHa5dx7IAh9FpudugstCe0KFTvgImoy0lz/SYqnp+BwAT8fcJgCyN8pzJgHtKzp1erK/cv1ntfmDOeknrsL/2Jv2SkXGvPY2XnehQD5gcL8LRA+0JJqHfyI+81XXerjdvmK0JAMPj7xMAunK+990f7orINRHhQT1hqv8gur38QeX60rtzvccvXnhto/OLzIFlq7J3g5p02eqo155WOcYpC/SSZm5gdLQnmIB+Iz/yVtd5u948Gub5HQDwBH+fANCMIyKXmOGeItVLWof5tTetZaujXnuay2dV1wMmw9JqvdCeYAL6jfzIW13n7XrziNmaADAa/j4BoCMG3C02zIb+uixb1aUcqvCr/GB5zw3oiTarN/qN/MhbXad1vTr1aTqVRQUbXvwKjCvv7R/AYKr7B9Xfj8llXYcMuFvuqF97dXnJiC7lUOHA8vBPb8nK/ZtVlofvyXNuQE+0Wf3Rb+RH3uo6jevVqU/TqSwqMVsTeUT7BzCI6v5B9fdjcirq0E3jpDDHudOL9enK7L4/0lQsW9WlHCoctjxcVZl0kufcgJ5os/qj38iPvNV1GterU5+mU1kAZIv2D2AQ1f2D6u/H5FTUITPcNZXVUgddlq1mUQ5dlwCNsjxc12tIky45CnTkbQsLE9Fv5IcOdZ3lvTmN69WpT9OpLEnK4/MbMCpb2z+AyanuH1R/Pyanog4ZcNdQ1ksddFm2mmY5dF4CNOzycJ2vIW265Cggkr8tLExFv5EfKutaxb056evVqU/TqSxJyfPzGzAKG9s/gGSo7h9Ufz8mp6IO2VJGQyxXSZ7OMR12ebjO1wDkSd62sABMEIYt5/byB5X3r/5s9vbyB5UwbDlZfK8N92ad+jSdypIUG3IEyIKN7R8wlarnqkFU9w+qvx+TU1GHzHDXEMtVkqdzTIddHq7zNQB5osMWFgCeUDmD2IZ7s059mk5lSYoNOQJkwcb2D5hIx5VZqvsH1d+PyamoQwbcNcRyleTpHtNhlofrfg1AnrBdCaCPw2YQp91Obbk369Sn6VSWJNiSI0AWbGv/gIlUPlcdRnX/oPr7Mbms65AtZTTEcpXk2RBTG64Bk9NteR9gA9qV2VTOIObejKOQIwAAk7AyC0iG873v/nBXRK6JCEshNBKGLYflKsmyIaY2XAPGd2B5n+z90c6L14Dx0a7Md3v5g8r1pXfneo9fvPDaRhazWLg34yjkCADAFKqfqwALOCJyiS1lNMVyleTZEFMbrgHj03V5H2Ay2pX5zp1erK/cv1nt/dEkqxnE3JtxFHIEAGAK1c9VgC0YcAcAQ7C8D0ge7cp8ur3IitnMAADAVLo9VwGmYsAdAAzBi9eA5NGu7KDLDOIDWxR9ektW7t+sskURAAAwhS7PVYDJeGkqABiCF68ByaNdIUmHbVGkqkwAAAAAssUMdwAwBMv7gOTRrpAktigCAAAAwIA7ABiE5X1A8mhXSApbFAEAAABgwB2wBC9pA/SXdTvVpV/QpRzAIEnl6LnTi/WV+zer3dvKsEURAAAAkC/O9777w10RuSYi/OELGOrAS9pk7w98XtIG6CPrdqpLv6BLOYBBks5RfmACAAAAcssRkUu8NBWwAC9pA/SXdTvVpV/QpRzAIEnnaGeLossvfX3z+XOfrzHYDgAAAOQLW8oAFuAlbYD+Rm2nk86S1aVf0KUcQK9OG7t64+253fqWP12ZDRzXe/zfyVF7sQoBAAAAaWLAHbAAL2kD9DdKOz2wxcWnt2Tl/s3qKFtc6NIv6FIOoFt3G9utb/mPNj8t7+xu+E+fPF/rDLqTo3ZKon8FAAAADsOWMoAFzp1erE9XZvcNDPCSNkAvo7TTJLa40KVf0KUcQLfuNlatzAV+oRQFYdPrHCNH7cU2VwAAAEgbM9wBCxQKxfbrr765xvLoo7GMHMNII09GaadJbMOSdL8wbkzon8yQt76xuy25ritPnXyutlvb8KtTM8HFC69t2H79eRWGLef23SvT64/ulYp+Oe7eRsiELYRsaqc2XQsAAEAv53vf/eGuiFwTER5wAFjtwDJy2ZvFyDJydNMhT24vf1C5vvTuXO/xixde23j+3OdrWZShmw4xQXryWL+6tTGkr5Pn91dvVx5tfloWEfELpaizjZDudW9TO7XpWgAAAHo4InLJe+Or335LRNZUlwZIWxi2nDsrVyvL965Vao1t71h1LnS7Xo4G+91ZuVq5v3q72n2sFTQ93y9F87On2Kt3gLy1HR3y5Fh1Llxdu1tuBc3HgZ6uzAavLH5lS0XsdYiJzkxvI3ms32HamA71mnYZxj3/pOVSEdtOnvuFUlxv7BTiOHLjOHI9r9BemHu6qap/HZZN7dSmawEAAOjhiMgJtpRBLvCCLIgks01H3uSx7eiQJ7ptw6JDTHRlQxvJY/0e1cZ0qNe0yzDu+Sctl6rYdvK5ewuhVtB0F+ZP101orza1U5uuBQAAoB9emopc4AVZEBE5Nn2876ypQceRz7ajS54UCsX28+c+X7v80tc3nz/3+ZrKwSBdYqIjG9pIXuv3sDamQ72mXYZxzz9puVTFtjufXdeVY9PHg4X5083nn/3Cju6D7SJ2tVObrgUAAKAfBtyRC8ykgYjIudOL9enK7L4/5qYrs8G504t1VWXSXR7bDnlyEDEZzIY2Qv0epEO9pl2Gcc8/ablUxdb0PDe9/N1suhYAADrCsOXcXv6g8v7Vn83eXv6gEoYtR3WZoA5byiAXjk0fD+TTW/2PIzd026bDBHlsO+TJQcRkMBvaCPV7kA71mnYZxj3/pOVSFVvT89z08nez6VoAABDRYztC6IUBd+TCudOL9ZX7N6vdS5iZSZNPnS0EVJfDFHltO+TJQcSkP1vaCPW7nw71mnYZxj3/pOVSGVvT89z08nez6VoAADhsyzzud/nkfO+7P9wVkWsiwi8usFoYthxm0gCjo+30R1zQQS7YSYd6TbsM455/0nLpEFsAgH64P9jPxjoOw5bzs1/+25P3V29Xi345nq7MBo7riYjIM0+9sHv5pa9vjnNOHeOUVLl0vb6EOCJyiQF3AABGdGDJoOzN0GTJIAAAADA6nq/tZ2Mdd67p/urtyqPNT8siIn6hFD198nzNcT25eOG1jVFnuOsap6TKpev1JcgRkUu8NBUAgBEdtmRQVZkAAAAAU/F8bT8b67hzTdXKXOAXSpGISBA2vZ3apj/ulnm6ximpcul6fUljD3cAAEa0vfPQH+U49GD50kUAAABj8XxtPxvruFN213XlqZPP1XZrG34raLoL86fr487Y1jVOSZVL1+tLGjPcAQAY0bHp48Eox6FeZ+ni9aV35+59eqt6fendubd/9eMTYdhyVJcNAAAg73i+tp+Nddxddtd15dj08WBh/nTz+We/sDPuxB5d45RUuXS9vqR5b3z122+JyJrqguBoYdhy7qxcrSzfu1apNba9Y9W50P3sRQy6fm+aZVYVj1GNU05Trs1UaceX+rPfsepcuLp2t9wKmo8rdroyG7yy+JWtPNW1Sbl+Z+Vq5f7q7Wr3sVbQ9Hy/FM3Pnkr84c6k2ADIFv3D8JKIFfFGmsiv5PB8bT8T6/ioNp7GNekap6TKpev1JcgRkRO8NNUQql4qMMn3pllmU16yME45Tbk2U6UdX+ovP/K+PYlpuf7+1Z/N3vv0VrX3+DNPvbB7+aWvbyb5XabFBkB26B+Gl0SsiDfSRH4lL+/P13lgUh0P28bTuCZd45RUuXS9voQ4InKJGe6GyHpmXhLfm2aZVcVjVOOU05RrM1Xa8aX+8sN1PZmfPRU8dfJ8c372VGDJr/FDMy3Xa41tb/3RvXLv8WeevlBLurymxQZAdugfhpdErIg30kR+JS/vz9d5YFIdD9vG07gmXeOUVLl0vb6EOCJywtiXpmbxa4hOv7ioeqnAJN+bZplNecnCOOXs/W/tOJKd2qZ/9cbbcyIipvzyp1P76ZZ27piSm8CkTMv1c6cX6yv3b1Z7Z6icO71YT/q7TIsNgOzQPwwviVgRb6SJ/ALsRhu3g6qxKSMH3A8s6/j0lqzcv1lNculWFt8ximPTxwP59Fb/45p+b5plVhWPUY1Tzu7PtONIPnlwpxKEe3tbXV96d05lHg5Lt/bTLe3cMSU3gUmZluuFQrH9+qtvrmXxsGVabABkh/5heEnEingjTeQXYDfauPlUjk25aZ48Lcv3b0x1z1ATEdmpbfrL929MmfQdozh3erE+XZnd16jTmpmX1PemWWZV8RjVOOXs/sxObdMPwqbnF0pRtTL3+JiqPByWbu2nW9q5Y0puApMyMdcLhWL7+XOfr11+6eubz5/7fC2thywTYwMgG/QPw0siVsQbaSK/ALvRxs2ncmzKyD3cl+9dq2zvPir2Hi8Vy9FTJ883TfmOUbiuJ888daHu+6WoVCxHzzx9ofbK4le2Uv9FZoLvTbPMquIxqnHK2f2Zza0HRc/z2/NzTzdd98nvY6rycFi6tZ9uaeeOKbkJ+4Rhy7mzcrWyfO9apdbY9o5V58Kk98Lr/o5Gq+ZefOG17VKpEpLr+03aD2RRlwDU4DlheEnEingjTeQXYDfauPkUjU2Zu4d7Fss6dFw60pmZZ9L3pllmVfEY1Tjl7P7M9aV353r/u+5LmHRsP93Szh1TchP2ULjVWvDZd5DvPcbtB3TekgtAMnhOGF4SsSLeSBP5BdiNNm42lWNTRm4pk8WyDpaOQAem5qGp5QZMlcet1mxFnAEAAABgcirHpoyc4Z7Fi8+yfLlah6o350JfKvIwCaaWW1f0DTjK9s5Df5Tjun4H1MSZPgYAAADAMEz620Hl2JSRA+4i2SzryHLpCEvIMYipS5hMLbdu6BswjLxutWajrONMHwMAAABgGCb+7aBqbMrILWVsxBJyAP3Y0DeEYcu5vfxB5f2rP5u9vfxBJQxbjuoy2Yat1sanW35mHeck+xjdYgnogrYBAABsYMP4RFaMneFuG5bqA+jH9L7BxF/ATWTrVmtp0zE/s45zUn2MjrEEdEDbAAAAtjB9fCJLDLhrgqX6APoxvW847BdwthxKlm1brWVB1/zMMs5J9TG6xhJQjbYBAABsYfr4RJbYUkYTti7VBzAZ0/sGfgGHzkzLzzS2pUiqjzEtlkBWaBtQha2MAABJM318IkvMcNeEjUv1AUzO9L6BX8ChM5PyM61tKZLqY0yKJZAl2gZUYCsjAEAaTB+fyBID7hqxbak+gGSY3DecO71YX7l/s9q9nJ5fwKELk/IzzW0pkuhjTIolkCXaBlRgKyMAQFpMHp/IkvfGV7/9loisqS4IgPwIw5ZzZ+VqZfnetUqtse0dq86FruupLhZS4LqePPPUhbrvl6JSsRw98/SF2iuLX9niF3DowKT8XL53rbK9+6jYfawdR7K9+6iwvfuooLovNSmWecb9N3u0DajQ754hIlIqlqOnTp5vqigTkmF6P256+UEdIj0W5ZYjIiec7333h7sickNEYsUFApADe0tc/93CTm2ja6bXXPD6q39vnT8+AaC/28sfVK4vvTvb+d/tOHY+eXBnaro6G3S2pqAvxWG4/wL50XvP6Lh44bVNZiWay/R+3PTygzpEeizLLVdEFjtbyiyqLAmA/Phk9WO3FTS8ol9+fKwVNOST1Y9PnX1mkR/+AKCPc89clAdry4Wd2qYjIrK9ve74haIzP/tU3Jn5QV+Kw3D/BfKj954hIjJdmW2fe+bigUF4mMP0ftz08oM6RHpszK2CiFxVXQgA+fFw85PZVtCo9jm+e/aZxU0VZbJRGLYcXmQC2KPg+fLqF37/cbsWaZf84lQhjAKR6Mm7Fzt9KX0AOjq5cPXG23O79S1/ujIbOF3Lc7n/AvbpvWc8vg94PvcBTYxznzb97yjTyw/q0DQm/T1gY24Vnj5z/A9UFwJAfvzL//Pfv/pg7d6Bfufep9d/8off+Pu/UlEm21y98Tf+v/w//od/GIbByc6xQsF/8N/+g7f+zUuLvx0c9lkAejt7/mkREfkf/+c/G9iXnnv23BX6AIjsvx+EUXg6jsILjuPsFvzS+45IJML9JEkTqQAAIABJREFUF7BZ554BvYz7rG7631Gmlx/UoUlMGxOwMbecH/3g/XdVFwJAclpB07l+4/2p9Yer/sLxU8HFxcv1ol/S5lfMVtB0/vLHf3Hi0cb647255ucWgm+++Z01ncppsiu/fqfyy3d+Otd7/He//MbGF175Mvt2AhY4rC+9fuP9KfoAiOy/H0RxJB/fuVFpNhve00+daRyfPxVw/wWA7I37rG7631Gmlx/UoUlMGxOwMbcKIvKS6kIASEYQtOQn//H/LmxsrDsiIisrt+Xu8kftP/z9/yb0/aLq4omISNEvyR+9+Q/k1u1r7qONNWd+7kT7hecvxb5fPKG6bLbY3d32pspTbp/jx+WzGY0AzHZYX0ofgI7eXHjp4m/Jxsa6Mze7UPrdL/+diPsvAGRv3Pu06X9HmV5+UIcmMe3vARtzq/PS1BsiYuQm9ACeuHbjv1Q++fQ3+16G9Mmnv5FrN/7Lpk6/Yvp+US4uXlZdDGtVq8cqjWb9wEuxqtVjmyKiTR4AmMygvpQ+AB39cqFaPSZf+uJXNy8uXiYXAECBSe7Tpv8dZXr5QR2awsS/ByzKLVdEFjsD7rGIGDlFH8AT6w9XC+0+LXn94WpBaOO5cXHxcu3GzSuV3uVYnw2uJJIHum9dhGRR32bJog8YFrkzWBax0SkXbEJeA5hE2n0zfRQAngGVikX29nDfFZFrQsAB45m2TxfSk+aDto37q2Ew6ttMOvyxTe4MlmVsdMgFm5DXAJKQVt9MHwWgg2dAZRwRuVQ48p8BMMbFxcv1GzevVPv8illXWS5kr+iX2mn9yHL9xvtT3TkmIvJoY92/fuP9KX7YsQ/1baY0+4BhkTuDZRkbHXLBJuQ1gCSk1TfTRwHo4BlQrbEG3PmVJB3ENVs2xrvol9rffPM7a+Ncl43xQDrWH676oxyH2XrrNY4j2dhc93/x9l/Niez90EdfkR+j3CvoKwYjNuai7uzEc/BBxMRM9FFPqM7htFccp31tquMHmM77k2//+VsisjbsBzpLlD66dbX68NGD4sq9j8t3lz8qf+7Cy3XPY8L8uIhrtmyOt+cV5KlTZ4Lnzi82nzp1JhjmemyOB5K3vbPprdz7uNx7/MXPvVJ76tSZQEWZkJ7u+o7jSD6+c6Oysfmo6Bf89sNHD4r0Ffkx6r2CvmIwYmMu6s4+PAcfREzMRR+1R3UOp/n9WVyb6vgBhnNE5IQ76qcOW6KUWNFyiLhmi3jvRzwwiouLl+vzcwv7HtjZushe3fW9sbnuN5oNr1QqR7OfHaOvyI9R7xX0FYMRG3NRd/bhOfggYmIu+qg9qnM4ze/P4tpUxw+wwcg/TbFEKR3ENVvEez/igVFMsnURzNNd3794+6/mpC0yO7cQeK73+N/QV+TDqPcK+orBhokNS7n1RF7bh+fgg4iJueij9qjO4TS/P4trUx0/wAYjD7gvHD8VfLT0Yd/jiZQop4hrtoj3fsQDo+IFLPnSXd+/fOenc73/nb4iH8a5V9BXDHZYbDpLuTuzyz5a+lBu3LxS/eab31nL26CJjshru/AcfBAxMRt9lPocTvP7s7g21fEDbDDyljIsUUoHcc0W8d6PeAAYBn1FvlH//bWCpnPl1+9UfvrzH89e+fU7lVbQdCY9J0u5gezQtx1ETGA61Tmc5vdncW2q4wfYwPnRD97fFZFrIjL0bBmWuKaDuGaLeO9HPAAMg74i36j//Xpnoovs/UE66Uz0n/78x7MfLX1Y7T3+uQsv777xe29ujnteAP3Rtx1ETGA61Tmc5vdncW2q4wcYzBGRS2MNuAMAAAB5d+XX71T6bbP0u19+Y2OS5fxpnRcAAABAqhwRuTTyljIAAAAA0nupGEu5gdGksbUTAADAuEZ+aSoAAACA9F4qVvRL7W+++Z01lnIDR+MlwwAAQDcMuAMAAABjuLh4uX7j5pVq7x7uScxEL/qlNtvHAEc77CXDtCEAAKACA+6A8EIQVYg70jZpjo3z+cM+0++/iewNFujeDmivwEG9M9FnZuZDR6T9i7f/aoZ2oh/6MTultbUTAOiO+5o+qAv04qWpyL3eZagie7PTWIaaLuKOtE2aY+N8/rDPiIj0/reZY3OBSFu2tje1bge0V+BotBO9UT/24iXDAPKI+5o+qAv04KWpgMjhy1BVlSkPiDvSNmmOjfP5wz7T7799fOdG5eO7NyvjljErtFfgaLQTvVE/9uIlwwDyiPuaPqgL9MOWMhiJjctkWIaqBnFH2ibNsXE+P+pnGs163x++1x+u+jr1t7TX9OlU3xgP7URv1I+9eMkwgDzivqYP6gL9MMMdQ+ssk/nlOz+d+2jpw+ov3/np3F/++C9OtIKmo7psk1g4fioY5TiSQdyRtklzbJzPH/aZfv+tXJqKy+WpuPf4zMx8qFN/S3tNl63317yhneiN+rFb5yXDb/zem5tfeOXLNQbbAdiO+5o+qAv0o+2AeytoOld+/U7lpz//8eyVX79T4Y9O9WxdJsMyVDV0jDv9jl0mzbFxPn/YZ/r9t+fOL9aee/bFWu+/d0TaOvW3OrZXm9h6f80b2oneqB/1eM4CgORwX9PHqHXB/TAftHxpKi8c0NNPf/7j2Y+WPqz2Hv/chZd33/i9NzdVlCkpLOVXQ6e40+/YadIcG+fzh32m338T2Rtw7T72i7f/aka3/lan9mobm++veUM70Rv1ow7PWQCQPO5r+hi2Lrgf5oIjIpe03MP9sJlevGlenYXjp4KPlj7se1xBcRLVWYaquhx5o1Pc6XfsNGmOjfP5wz4z6L/1HtOxv9WpvdpGx/rGeGgneqN+1OE5CwCSx31NH8PWBffD/NBywJ0XDujp4uLl+o2bV6q9v8SxZAk20L3fYfZCvtDf5gv1DUCVrJ4vhn3O4nlnfMQOAPSn+7gDkqPlgDszvfRU9Evtb775nTUe5GAjnfud3mVnHy19KDduXqmy7Mxe9Lf5Qn0DUCHL54thnrN43hkfsQMAM+g87oBkaTngzkwvfbFkCbbSud9h2Vk+0d/mC/UNIGtZPl8M85zF8874iB0AmEHncQckS8sBd2Z6Aciazv0Oy84AAEDSBj1HrD64V7zy63ckyeehYZ6zeN4ZH7EDADPoPO5gizS2WBvnnFoOuIsw0wtA9nTtd1h2BgAAktbv+SKOI7l+4/3q7Y9vVESS3ZrkqOcsnnfGR+wAwBy6jjvYII0t1sY9pzveJQAAsnJx8XJ9fm5h3x9MLDsDAACT6Pd8EYaB4xX8fX88drYmUVEenneGQ+wAADh8i7Wsz+n9ybf//C0RWRv3izGeVtB0Prz2XuXq9b+tbO9sevPzJ0LPU7fgQLfyAHjC8wryuQsv18vlqWhqqhK9+LlXal/9yh9smbTsjD5msKNiM0zsiK/edKkfXcqRd9QDdNHv+aJcrkRbW4+Kvf92aqoSPXd+sZl1eUx73lGF2AEAIHL1+t9WHj56kOhzzBjndETkhPOjH7y/KyLXRISbcUZ6lyOI7M1AUPUWed3KA8Au9DGDHRWbYWJHfPWmS/3oUo68ox6guyu/fqfyy3d+Otd7/He//MYGy98BAIDO0niOGeOcjohcsmKGe9IzhdKeefThtfcqH926Wu0+1mjUvXJ5Knrq1JnM99nTrTzj0nHGmI5lskUSs4JVMbns47Clj0nDUbHp/Pc4juTRxpr/aGPN397ZKExPzwannz4XDHOOLK8HB+lSP2mXw7Z+K0ndsfn1h39TebB2v+Q4T3Z1pL2iQ4d2ND9/Iry7/FG50ah7j4/NLQRf/cofbNGms6FDHsBM5A6AvEvjOWaYc/b2v8fnT84a3/smvSF+Ghvs99LtLfK6lWccWdSbDWWyxVGx1Tn2Jpd9XDb0MWk5KjbrD1f9OI7k4zs3Ko1mY+8Gvyny//70Rwuff/m3a0W/1Ca+etOlftIsh439VlJ6Y3Pv/p1So1Hznju/WHPdx8/stFdo046Kfqn9zTe/s3b9xvtT6w9X/YXjp4KLi5freW/LWdElD2AecgcA0nmOOeqcvf3v0q0P5e7yRwXjX5qa9Ib4aWyw32vQ2+JVvUVet/KMI4t6s6FMtjgqtjrH3uSyj8uGPiYtR8Vm4fipYGNz3X882P6ZKIqcTk4QX73pUj9plsPGfispvbEpl6biRrPhbWzujxftFTq1o6Jfan/hlS/X3vi9Nze/8MqXawzWZUenPIBZyB0A2JPGc8xh5+zX/25srDvGD7gnPWMri5lour1FXrfyjEOXGYTDfDez2CY3zKzgUT6XJZPLPi4b+pi0HBWbi4uX667r7XtAKJXK0ezcQtDJCeKrN13qJ81y2NhvJaU3BrNzC0GpVI4ajfrjZ3DaK0RoR9hDHmBc5A4AqDGonzV+S5mF46eCj5Y+7Htch/P1o9tSTd3KM44s6m1UOpbJFkfFVufYm1z2cdnQx6TlqNgU/VL799/4o7Wf/Mf/52SjWXfLpal4dm4h8FzvcU4QX73pUj9plsPGfispvbHxXE+eO79YO/3U2cbMzHxEe0UH7Qgi5AHGR+4AgBqD+l/jB9wvLl6u37h5pdo9fX+SmUJJn2+QznKEJM85Cd3KM6qs6s30MtniqNjqHHuTyz4J0/uYNB0Vm1de/u36rdvXaoflBPHVmy71k1Y5bO23ktAvNieOnwr+7h/+8SMG2dGNdgQR8gDjI3cAQI1+/e/c3ELb+dEP3t8VkWsikvpDfytoOmnMrEr6vGmVE+nSsd50LJMtjoqtzrE3uexQg5yA7sjRwUyPjenlNwmx3i+v8cjrdWNy5A4AU5nef/WUP7y0+FvPZjbg3vvWVpG9X1x5azYAAACgH57foQq5BwBAPlh4z3dE5FJmL03lrdkAAACAOXh+hyrkHgAA+WDrPT+zAXfemg0AAACYg+d3qELuAQCQD7be8zMbcB/0dmzemg0AAADoh+d3qELuAQCQD7be8zMbcL+4eLk+P7ewL1i8NRsAAADQE8/vUIXcAwAgH2y952f20lQR8986CwAAAOQJz+9QhdwDACAfLLvnOyJyKdMBdwAAAAAAAAAALOSIyKWC6lIAAAAgXZbNGgFgCfomAABgI2a4AwAAWKwVNJ2//PFfnHi0se53js3PLQTffPM7awxsAVCFvgkAAFjIEZFLmb00FQAAANm7fuP9qe4BLRGRRxvr/vUb70+pKhMA0DcBAABbsaWMQiyhxLDIFTNQTwB0tP5w1R/lOABkgb4JAADYigF3RXqXUH609KHcuHmlyhJK9CJXzEA9AdDVwvFTwUdLH/Y9rqA4ACAi9E0AAMBebCmjCEsoMSxyxQzUEwBdXVy8XJ+fW9g3gDU/txBcXLxcV1UmAKBvAgAAtmKGuyIsocSwyBUzUE8AdFX0S+1vvvmdNba8AqAT+iYAAGArBtwVYQklhkWumIF6AqCzol9qf+GVL9dUlwMAutE3AQAAGzHgrsjFxcv1GzevVLu3oGAJJfohV8xAPWWLF9QCtAMkJ++5NOn1j/r5vMcbAADYgWeawZwf/eD9XRG5JiIEJGMkJoZFrpiBespG7wtqRfZ+3OAFtcgT2gGSkvdcmvT6R/183uMNAADswDPNQI6IXPL+5Nt//paIrKkuTR55XkGeOnUmeO78YvOpU2cCz2PBAfojV8xAPWXjw2vvVT66dbXafazRqHvl8lT01KkzbOGDXKAdICl5z6VJr3/Uz+c93gAAwA480wzkiMgJRoMAAEbhBbUwRZqrXmgHSErec2nS6x/183mPNwAAsAPPNIfrDLi7IhKrLAgAAMNYOH4qXLrV9wW1oez9mgwo99kSy4WNzb0llku3PpQbN69Uv/nmd9aTGHSnHSApec+lSa9/1M/nPd4AAMAOPNMM5Io8GXBfVFgQAACGdmnxt+Tu8keFjY31xzfxubmF9qXF35pVWS6g2+3b191Go+aVS1OPjzUaNbl9+/qpi4uXJ57kQDtAUvKeS5Ne/6ifz3u8AQCAHXimOZzzox+8/67qQgDQGy8DNUOe6ilP15oHNtbnT3/+49mPlj6s9h7/3IWXd9/4vTc3k/gOG+M2jjzEIe1rtCmG41xLK2g6H3z4N5WrV9+rtqUtr7z06s4rL//20DEY9fM2xdtEOseftg4AMEnvfeX55y81bt++VuY+I+L89c9uzasuBAB9vfPu/+f/83/+3//DIGyd7BzzC8UH/+yf/S//5suv/Vd5fhGGVqgnmMrW3P0n/90fvbpy784f9B4/88z5n/xv/+uPfqWiTDayNX+65eEakzJurCaNMXVkDp3rKu2y6XztAADzcZ/Zr3Di6WM/UV0IAPo6fnK68kd//4/n+hz/JyeePlZTUSYcRD3BVLbm7v/1b/+D86//1b84sbb24PFLg06cOBn8oz/9sz8olfI5yyMNtuZPtzxcY1LGjdWkMaaOzKFzXaVdNp2vHQBgPu4z+xVE5CXVhQCgr+2tLa9Sqbh9jh8XkUhBkdAH9QTdtVot+fDD9921B6vOiZOn2i+/fDkuFovW5m6pVJI//cf/tN81n1BdNpvYmj/d8nCNSRk3VpPGmDoyh851lXbZdL52AID5uM/s13lp6g0RmfgFXgDsc2xmtlKv1Q689OLYzOymiOTuV0pdUU/QWbPZdP71v/oXC+tds73f+c+/CP7Rn/7Z+rGZ2Slbc7dYLMoXv/ia6mJYLQ99Xx6uMSnjxmrSGFNH5tC5rtIum87XDgAwH/eZx1wRWewMuMciwvJmAAd88Yuv1d7//9m7t+A4rjPB81+iqoC6SAJIgAWQkixSlmTIpkiINg2qV23Jsns8bbVk2dbEqq1ue8PeCEesZbufOmJDnvXLRuzjxEy0d2eiJyait8O9mghFjFpqu93dtkzKpAWIJgyAN9DUjW2JJCCABCjWDYUC9gEsqVCoQt0y89z+vxfLxULld77znZNZWXkyp04kq2+LMDLyqawwb2ihUCh4xeLy2vzCe9FSacXr708XI5EI/QRtTE4eT1TOISIi8/PvxSYnj8dHRg4yx6BtLuyjwm5joVDwJiePJ+ZmL8fSg0PFkZGDOd1ug1QvxnZz1WmOXahDP6msMZ37KujYKj+/VCrJwsJcLBKJrhWLy2uFQkFUjnMT5h3b0QcAOqXzPjZkqyIi3szv3suIyIy41XgALeAATF83rhwe+ODL0/x7sUg0svbEl//nhYMH/yBLP0EHL734fO+pU1Op6tf37t2feezxJ5eYY9AJF+onrDZW7lPKr9149sC8LjltFGO7ueo0xy7UoR90qDGd+yro2AqFgnf8+K+TL/yP/95fWil5/QM7PrhIQ9U416EmXEcfAPCLzvvYEHkiMhxt+DYAzuvp6VkbHX3QpSVAxqi8cjgSiUh6cKgoIhKLxdYc3LFBU+nBoaKcmqr9ujDHoDMu1E9YbdxiNUpClxw3irHdXHWaYxfq0A861JjOfRV0bD09PWuxWGytv3/HSuXrKse5DjXhOvoAgF903seGLfAT7vy6oYaJefc7ZhNz0Arb24fmzM1ejrXyOqDCyMjB3PTURGrz8sKDOZVxAdjIhH1K0DFyfBUsE2rMdrr1gW7xNMO2ecLEPrCFbbUE+1GzzQv0hPumpUmnpmR6aiLF0qRgmZh3v2M2MQetsL19aF6jK4cBHfT09Kx9/RvfnufgDNCbCfuUIGPk+Cp4JtSY7XTrA93iacTGecK0PrCFjbUEu1GzrekK8sO3WpoU5HZdZ2Le/Y7ZxBy0wvb2oXkjIwdzAwM7NhwMc+UwdFReXvjY408ulW/7oDomABuZsE8JMkaOr4JnQo3ZTrc+0C2eRmycJ0zrA1vYWEuwGzXbmkCvcK+3BOniu+90j48fFa5yC4aJS8L8jrnW35VKJRl79Vc3qaw7v5bfbJUvlvi4hSuHAQB+MWGfEmSMJh5Dm8aEGrOdbn2gWzyN2DhPmNYHtrCxlmA3arY1gZ5wr7U0qVQqydTkb1IzM6eTIsIShACYuCTM75irP69UKsm5c6eTA/3pYjabjaqoOz+X39TL17bt/Sss8XEPDyYBAPjFhH1KUDGaeAxtIhNqzHa69YFu8WzF1nnCpD6wha21BHtRs60J9JYytZYmFYvLXjTWveHEH0sQ/GXikjC/Y67+vIWFuZiISH/Fa2HXnZ/Lb+rlS0TWWOIDAADQOhOPoQGEi3kCfqGWYBpqtjWRZ777l8+KyHwQHx6NRmXv3pFcIpkopVI3lfbeN5JNpVKlK1cWuqvfm0rdVPrYxz5eCCIO19TK+xf+7ePXdL7C2e+Yqz9vbU3Wbr65txSJRDa8L8y6++3Ea8m5uVlfar9evk6fmvRtGwAAAC4x8RgaQLiYJ/RQKBS8EyfGkr+deC25uHglsmPH4Eo0GugNHHxHLcE01GzTPBEZCHxGql6aND5+NDkzc2bT+1iC4C8Tl4T5HXPl542PH02+/It/6qt+T5h15/fym1r5YokPAABA+0w8hgYQLuYJtfy8Vatq1BJMQ802L9BbytTCEgSooEPdhRGDDu0EAACwSaFQ8MbHjyZfevH53vHxo8lCoeCpjskkJufP5NgBW/l5q1YACIo387v3MiIyIyKh/RJYKBQ8noCNsOlQd2HEoEM7AQAAbLDpSkpZv5jBxCspVTA5fybHDtjspRef7z11aipV/frevfszjz3+5JKKmACggiciw0pucsUSBKigQ92FEYMO7QQAALDBVldScrzVmMn5Mzl2wGbcRhWACbY84c6VssBGjAkAABCEsI8xOKZpztzs5Vgrr5sirP43OX8mxw7YbGTkYG56aiJVvfqE26hCFY6pUEvdE+42PYgC8ANjAgAABCHsYwyOaZpn45WUYfa/yfkzOXbAZj09PWtf/8a35znBCR1wTIV66j40lQdRABsxJgAAQBDCPsbgmKZ5Nj6QPsz+Nzl/JscO2K58G9XHHn9yaXT0wSwnNqEKx1Sop+4V7iyhAzZiTKihw/IsHWJAeOjv9jSbN/JrrjD7TnWdhL39MI8xCoWCN/bqr2668PYbPYlkcrW/P12MRCJtb091XwVNtysp/ch3mPWmW/5aYXLsNrF9jrEV/QZXcJ4I9dQ94c4SOmAjxkT4dFiepUMMCA/93Z5m80Z+zRVm36muExXbD+sYo9y2t996MzG/MN8tC+tXYX3sY5/IRiKRlrenuq/CossD6f3Kd9jHtLrkrx0mx24DV+YY29BvcAnniVBP3VvKsIQO2IgxET4dlmfpEAPaVygUvPHxo8mXXny+d3z8aLJQKHhbvb+T/m51WzY5fvzXyTNnppMX3n6jZ27uUqxUKtXMG+PJXGH2neo6UbH9sI4xym3rH9hRTCQSJRGRXC4XWViYi7WzPdV95Rq/8s0xLUzBHGMm+g0uYZ+Keupe4c4SOmAjxkT4dFiepUMMaE87V9e0298uX8lTKBS8F/7Hf+///e//NS4iUnnFbHXeGE/mCrPvVNeJiu2HdYxRbkMkEpGPfewT2YX592LZXKZr9+67cu3MV6r7yjV+5ZtjWpiCOcZM9Btcwj4V9dQ94S7CEjqgGmMiXDosz9IhBrRnq6tr6o3jdvu7nW3ZYnLyeKK0UtpwNX/5itnqvDGezBVm36muE1XbD+MYo7JtlbeQOfTAg9fb+WKouq9c42e+OaaFCZhjzES/wTXsU1FL3VvKAIBqOizPUhmDy7co8UM7V9e0298uX8kzN3t5w+0pyiKR6Fp13nQY02hPmH2nuk5Ubz9IfrfN5lzpiHzDNdS8meg3ABDxZn73XkZEZkSE5Q4AtKPDE+5VxLDpFiWyfqDqwi1K/DI+fjT58i/+qa/69Uc+94XFra5AaKe/292WDcptL5VKUr49RTKRWv3qv/vaew8++NlNbddhTKM9Yfad6jpRvf0g+d02m3OlI/IN11DzZqLfADjME5FhTrgDgIZcPoHrlzB/tHD5BxKX2w4AAAAAQAVOuAOArl568fneU6emUtWv7927P/PY408uqYjJRC5dkauSy20HKjEW3NFsX1MTAAAgSBxraIcT7gCgK65wBwCzsNrDHc32NTUBAACCxLGGljwRGeahqQCgIR42BABmmZw8nqj8siMiMj//Xmxy8nhCVUwIRrN9TU0AAIAgcayhr6jqAAAAm/X09Kx9/RvfnmdpGACYYW72cqyV12GuZvuamgAAAEHiWENfnHAHAE319PSscfsYADBDenCoKKemar8OqzTb19QEAAAIEsca+grthDs38QcAAICtRkYO5qanJlLV99DkVmD2abavg6gJvlO1h7zBRdQ9YL+gjz+ZR9oXykNTuYk/AAAAbMeXEnc029d+1gTfqdpD3uAi6h5wR1DHn8wjbfNEZDiUK9y3uok/t0sAAACADbgVmDua7Ws/a4LvVO0hb3ARdQ+4I6jjT+aRzoRywp2b+APQAVceAnpgLAJA6/hO1R7yBhdR9wA6xTzSmVBOuHMTfwCqbVoOdWpKpqcmUiyHAsLFWASA9vCdqj3kDS6i7gF0inmkM11hbGRk5GBuYGDHhg7hIVIAwrTVcihVMQEuYiwCQHv4TtUe8gYXUfcAOsU80pktH5rq90N+WD4ePPIM1PbSi8/3njo1lap+fe/e/ZnHHn9ySUVMqjFfQAXGIoB62C81Ro7aQ97gIuoeQKeYR9riichw3RPuPI3WPPQZUN/4+NHky7/4p77q1x/53BcWXXzgB/MFVGEsAqiF/RIAAAAs4InIcN1byrDk2zz0GVAfy6E2Yr6AKoxFALWwXwIAAIAt6j40lafRmoc+g19sXDbU09Oz9vVvfHve9Hb51TfMF25SObYrt33vx+/LiIh39cpC1NSx6Ccb51ygVeyXAAAAYIu6J9x5Gq156DP4YdOS7lNTMj01kbJhSXdPT8+aybes8LNvmC/co3Jsc6uI+myec4FWsF8CAACALSLPfPcvnxWR+ep/2LFjcOX8+bPxbDYbKb82MLCj+IV/+/i1aLTueXoY2ZIRAAAgAElEQVQoRJ/BDydOjCVPn57e8EDDbDYbSSQTpdtu+whfehXys2+YL9wT1tguFAreiRNjyd9OvJZcXLwS2bFjcGVy8niCeaU25lyYoNa49ntfsdV+qVQqBb79RsLIgd/x6BZz2FxvPwAAUMITkYG6Rxy23H7BJfQZ/MCSbn352TfMF+4JY2zXu1p7YCBd88Qx8wpzLvQX1iqMevslERHVq0B0W4nSTDy6xRw219sPAADU2vInftNvv+Ai+gydYkm3vvzuG+YLt4Qxtus99LC7p6dUNybHMedCd1s9zNTvfUit/dL4+NFkWNuvJ8wc+BWPbjGHzfX2AwAAtbpUBwC4qFAoeOPjR5Mvvfh87/j40WShUPBUx1Q2MnIwNzCwY8OJnoGBHR9cZQZ16Bt0Ioz6qXdV9i0331KidmtjXEN3qldhqN6+LjE0s93K13WLOWyutx8AADQnqPNz3MQOCJnuS1y51Yi+6Bt0Ioz6qXe19q5bby9+8dGvXKN2N2NcQ3eqV2Go3r4uMWzaboN4dIs5bK63HwAANBbk+TlOuAMhM2GJK7ca0Rd9g04EXT8jIwdz01MTqco5rny1NrVbH7mBzrYa1y5sX5cYWo1Ht5jD5nr7AQBAY0Gen/NmfvdeRkRmRIQrqYAQvPTi872nTk2lql/fu3d/5rHHn1xSERMA+KVQKHhcrQ3YRfW4Vr19XWJoNR7dYg6b6+0HAABbC+j8nCciw5xwB0I2Pn40+fIv/qmv+vVHPveFRa5wBAAAAAAAAIIV0Pk5T0SGeWgqEDIekAcAAAAAAACoE+T5Oa5wBxRgiavd6F8AAAAAANrDd2qEJYBa45YyAOC3TU+5lvVfSP14yjUAAAAAADbjOzUM54nIcOSZ7/7lsyIyrzoaoF2FQsE7cWIs+duJ15KLi1ciO3YMrkSjUd//BmjGiRNjydOnpzc8dCObzUYSyUTptts+Uqz3d2EKov5NGFPNxmhCW4Bq1C0QPJfHmctthzmoU9jIxbrW9Tu1i31hIg36yRORAa5wh9Ha+eWTX0sRpICecu2bIOrfhDHVbIwmtAWoRt0CwXN5nLncdpiDOoWNXK1rHb9Tu9oXptGkn3hoKsw3OXk8UTmQRETm59+LTU4eT/j5N0Cz0oNDNX9xr/d62IKofxPGVLMxmtAWoBp1CwTP5XHmctthDuoUNnK1rnX8Tu1qX5hGp34yYu1DOzew7+Sm9zycwRxzs5djrbze7t8AzRoZOZibnppIVf+i6sdTrv0QRP2bMKZqxVIqlWTs1V/dVDnX14v54rvvdI+PH5V6+wX2G/YyoW8bjcFO2+BHDnT5DKBdfuzrTK3hchtLpZIsLMzFctlsVyKZXL347jvdIpJt9PemthtmMeF4FGhVq3Vty3yr43dqW+cY3WqmmXi2eo9O/aT9CfdNywFOTcn01ESqpVuGNPE3fvwtwpceHCrKqanar/v4N0Czenp61r7+jW/P67TTqhRE/ZswpqpjLJVKcu7c6eRAf7qYzWaj5bn+3o/ft+nEQalUkqnJ36RmZk4nRWTTfoH9hr1M6dutxmCnbfAjB7p8BtCJTvd1JtdwenCoWJqakHPnTidzuVxEREQWRKYmf7PyxUe/vLRV/Ca3G2Yx4XgUaFUrdW3TfKvjd2ob5xjdaqaZeBq9R6d+0v6WMmHfMkSn5QdobGTkYG5gYMeGgdPol892/gZoRU9Pz9ro6IPZxx5/cml09MGsTgc4QdS/CWOqOsaFhbmYiEh/xWs35v616rYUi8teNNa9oQ8r9wvsN+xlSt9uNQY7bYMfOdDlM4BOdLqvM7mGR0YO5orFZe+Dk+0ikkgkStFY91qj+E1uN8xiwvEo0KpW6tq2+Va379Q2zjG61Uwz8TR6j079pP0V7mHfMkSn5QdorJ1fPnX8tRQISxD1b8KYqo7xzTdTPf396WIkEtnwvqtXFmLVbbn47u9jMzNnNj20p7xfYL9hr8o+rLyVwtirv7pJpxrfagx2Wp9+1LcunwF0otN9nck13NPTszYy8snr15aWotlcpiuZSK32D+woRiKRhvGb3G6YxYTjUZhL1W03Wqlr5ttg6TTH+FWPutVMM/E0eo9O/aT9Cfewbxmi0/IDNKf8y2fQfwPYIoj6N2FMVcY4Pn40+fIv/qmv+j3pwaFidVvGx48mZ2bObPq88n6B/Ya9yn1bvgVR+erOt996c/X//Zv/MqDTEt16Y7DT+vSjvnX5DKBTnezrTK/hXbfeXqwVa6P4TW83zGLC8SjMo/q2G83WNfNt8HSYY/ysR91qppl4mnmPDv0kYsAtZcK+ZYhOyw8AAMFoZa5v9F72G/Yq9+3CwlysfLI9kUiU+gd2FE1ZottpffpR37p8BqCS6TXcbvymtxsAdLvtRj3Mt27wsx51q5lm4tEt5q14M797LyMiMyKixRVatbSzXKKTJRa6PaUXAOC/Vub6Ru9lv2GvQqHg/ef/5z/sOHNmOlV5GwURkb1792cee/zJJcUhNtRpffpR37p8BqCS6TXcbvymtxuA21568fneU6emNt1eUsfjQOZb+/ldj7rVTDPx6BZzDZ6IDBtxwh0AAECVercgeuRzX1jUYbkiAAAAgsFxIHRCPRrBE5Fh7e/hDrcZ8MsVAGhBxXwZ5jZV7g9GRg7mpqcmUpXLN3VdutgI+1XAH4wlAHCDTceBMB/1aA6ucIe2Nj0MQtYnEp0eUgcAOlAxX4a5TR32BzacXNMhj4ANGEsA4BYbjgNhD+pRe56IDEee+e5fPisi86qjAaqdODGWPH16esO9qbLZbCSRTJRuu+0jPGkbAG5QMV+GuU0d9gfRaFRuu+0jxY997OOF2277SDEaNW+RoA55BGzAWAIAt9hwHAh7UI/a80RkgF6BtuZmL8daeR0AXKVivgxzm+wPNmr3qpZyvkqlkiwszMVy2WxXIplcvfjuO90iwj0fm8AVRRBhTgLaxRyqB/oBQD3MD/4pn3DvEpFVlYEA1dKDO1e8U1M1X5f1X4wAAKJmvgxzm+wPPnTjVhb9CzduZXH61JRMT02kvv6Nby80OhhOD+5cWZ2e8M6dO53I53IRERFZEJma/M3KFx/98jUOprfWSe5hF+YkoHXMoXqgHwDUw/zgmy6RD0+436MwEKCm++8/KK+fn4nOz8998MVlYCC9dv/9B3tVxgUAulExX4a5TfYHHzp79mRXNpuJJJLJD17LZjNy9uzJ9MjIp7a8eOL++w/K4V/+c2x1dTXS3dMjIiLJRHLtlt6+nrNnT/Y1+nvXdZJ72IU5CWgdc6ge6AcA9TA/+CsqImdVBwHU0t3dLU/+uz/btJylu7tb+1/WVC3DcWn5j0ttBRpRMV+GuU2T9wf1tDuH/f5f3+7NZrOpGq9nRkY+tbTV33Z3d8s99wz3Xr50sS+by3QlE6nV/oEdxUKh0NTfu66T3MMuncxJHL/AVcyhetCtH5gTAX3oNj+Yzrt0eXGb6iAAm7zyyuHYd/63//XPl5eXd5Rf6+7ufu9H//d//dvPfObhwB6kpWq7KrjUVgD26WQO+zf/5qEDF95+64+qX79j955/+ed/PjLRaNud/r3LyB06xfELXMYcqged+oE5EdCLTvODDaJ9vT3/ojoIwCa9t8STf/qnf9pX4/Vv9fX2BPZQOlXbVcGltgKwTydz2CtHDnt/9Vd/NTA3N/fBwxnT6XTxmWee+aN4vPEVYZ3+vcvIHTrF8QtcxhyqB536gTkR0ItO84MNoq+99tonLl++7A0NDa3t379/tefGPT11VygUZGpqqsvE2INEXtRbWlqKpFKprhqvbxeRkm3bVcGltgKwT7tzWKFQkOnp6a49e/Z4AwMDcvPNN8vtt99e3tcPNLPteDwu3/3ud2sdKzT19yqpPsYxOXetUJ1n1YJsP8cvwXC9Zk3hyhyqO536gTkR0ItO80MrdD0OiP7jP/5jJJvNLqytra396le/Kn7nO99ZiMfjWv9ykc/nvR/96Ef9s7OzH/zqYkrsQSIveujr60tmMplND83q6+tbEpHAfqlXtV0VXGorAPu0M4fV2scPDg4WH3300YVW73Xa09Mjn/70p1uOWyVdjnFMzF0rdMmzKkG3n+MX/7les6axfQ41hS79wJwI6EeX+aFZmh4HdInIPZEHH3zw3y8vL2dFRDKZTCSZTK7s3r1b6/tlHTt2LPHb3/52w43868Wez+e9Y8eOJcbGxpILCwtdQ0NDK9Fo1MqDr1by0gmXctqOwcHBldOnT8czmUyk/Fo6nS5++ctfXgoyT6q2q4JLbYV+gp4DXZ1jXWp3O3NYWPt4Xbne/rC4nueg28/xi/9cr1nAZMyJ0I1L30dsofFxwEC0+pVLly7Far1TJ/VirH49n89vuv/Q8ePHU88888y8jVc8NJuXTriW03bE4/G1Z555Zn58fDxx6dKl2M6dO4ujo6O5oPOjarsquNRW6CXoOdDVOda1drczh4Wxj9eZ6+0Pi+t5Drr9HL/4z/WaBUzGnAiduPZ9xBY6HwdsOuG+c+dO7a8EqBdj9evj4+OJysEiIjI3NxcbHx9PPPTQQ9YtUWo2L51wLaftisfjayryoWq7KrjUVugj6DnQ1TnWxXa3OoeFsY/XmevtD4vreQ6j/Ry/+Mv1mgVMx5wIXbj4fcQGOh8HbHhARTqdLo6OjuZUBdOs0dHRXDqd3pC8WrHr/EtHEJrNSydcyykAVAp6DnR1jnW13a1odh+fz+e9I0eOJJ977rneI0eOJPP5vBdupMEI4xgH5Nn19puIPgMA+IHvI2bS+Tgg+sd//MelN998M7tz585lU5bvNLv0SOdfOoIQxpIs13IKAJWCngNdnWNdbXcrmtnH27wUlmXn4XA9z66330T0GQDAD3wfMZPOxwFeLpfLiMiMiCgPxm+1vnim0+miDV88VSGnAFwW9Bzo6hzrarv9duTIkeRPfvKTvurXH3300UWWwgIAAAC18X0EPvJEZNjqE+4i64NGx186TEZOAbgs6DnQ1TnW1Xb76bnnnuudmJhIVb9+4MCBzFNPPbWkIiYAAADABHwfCZ+lOXfjhDsAAIALuMIdAAAAgAksXlXgichwV8O3AQAAQHs6PzQIAAAAAMrGx8cTlSfbRUTm5uZi4+PjCVUx+SmqOgCoZ+kSjtCRR6hGDeqBfoAqOj80CAAAAADKLl26FGvlddNwwt1xtZZwHD9+PGXBEo5QkUeoRg3qgX6AavF4fI3bxwAAAADQ2c6dO4utvG6ayA9+8INnRWRedSBQ49ixY8nJyckND1jLZDKRZDJZ2r17txVFHgbyCNWoQT243g/5fN47duxYcmxsLLmwsBAZGhpaiUb5bR+ohfHiHvocLqP+zUJ/QQfUod2GhoZWTp8+Hc9kMpHya+l0uviVr3zlmuH97InIgNEtQOdsX8IRFvII1ahBPbjcD1zdDzSP8eIe+hwuo/7NQn9BB9Sh/Wy/HSYPTXWc7Us4wkIeoRo1qAeX+8H2h94AfmK8uIc+h8uof7PQX9ABdeiG8u0wn3rqqaWHHnooa8vJdhFOuDtvdHQ0l06nN5wISqfTxdHR0ZyqmExEHqEaNagHl/vB5av7gVYxXtxDn+spn897R44cST733HO9R44cSebzeU91TDai/s1Cf0EH1CFMxy1lHGf7Eo6wkEeoRg3qweV+cPnqfqBVjBf30Of64XYF4aH+zUJ/QQfUIUzHCXd8sIRDdRymI49QjRrUg6v9MDo6mjt+/Hiq8sSFK1f3A61ivLiHPtfPVrcrcHE/HiTq3yz0F3RAHcJ0Xi6Xy4jIjIjwKz4AAIbI5/OeblfS6xgToCvGS3225sbWdgUhjFw999xzvRMTE6nq1w8cOJB56qmnlvzcFqh/09BfeudA59j85Eo7TaFDf+gQQxM8ERnmhDsAAIaptQw+nU4XWQYPwHTMbwirBo4cOZL8yU9+0lf9+qOPPrrIFe6A23TeF+kcG+ylQ93pEEOTPBEZ5qGpAAAYZqtl8KpiAgA/ML8hrBpw+UHnALam875I59hgLx3qTocYWsE93AEAMMylS5dirbxuKkOWDALwkSvzG+oLqwZcftA5gK3pvC/SOTbYS4e60yGGVnDCHQAAw+zcubPYyusmqrVk8Pjx4ykNlwwC8JEL8xu2FmYNuPqgcwBb03lfpHNssJcOdadDDK2I/OAHP3hWROZVBwIAaF8+n/eOHTuWHBsbSy4sLESGhoZWolF+U7XV0NDQyunTp+OZTCZSfi2dThe/8pWvXNOp3zupy2PHjiUnJyc3PMwuk8lEkslkaffu3VoeVKE1psxbpsRpgmZyacr8huBQAwBU03ke0jk2F7h6XFiv7h599NH3x8fHE2Hkw6Da90RkgIemAoDhDHp4CHyk++1WOq3L5557rndiYiJV/fqBAwcyTz311JLf8SJcpsxbpsRpglZyqfv8huBRAwBU03ke0jk2m7l+XFhddyMjI/m//uu/7g8zH4bUviciw1r9BAAAaN1WDw9hmbS9dF8G32ldmrZkEK0xZd4yJU4TtJJL3ec3BI8aAKCazvOQzrHZzPXjwuq6O3LkSDLsfJhU+12qAwAAdMa0h4fADZ3W5ejoaC6dTm84uZ5Op4ujo6M5P+KDWqbMW6bEaQJyCQAATMaxzEbkY2tc4Q4AhuNKYOio07qMx+NrzzzzzLwBSwbRBlPmLVPiNAG5BAAAJuNYZiPysTWucAcAw3ElMHTkR12Wlww+9dRTSw899FCWk+32MGXeMiVOE5BLAABgMo5lNiIfW+OhqQBgAUMeHgLHUJfYiin1YUqcJiCXqEZNAABMwn5rI/JRkyciw5xwBwAAAACEKp/Pe3/1V381UPnAtXQ6XXzmmWfm+bIOAAAM5YnIMLeUAQAAAACEanx8PFF5sl1EZG5uLjY+Pp5QFRMAAIAfeGgqAACAIizDtAP9CLTu0qVLsVZeV4kxjiC0W1fUI3RDTW6N/LiJE+4AAAAK1LqdwvHjx1PcTsEs9CPQnp07dxZbeV0VxjiC0G5dUY/QDTW5NfLjrsgPfvCDZ0VkXnUgAAAALjl27FhycnIyVflaJpOJJJPJ0u7du7U64YT66EegPUNDQyunT5+OZzKZSPm1dDpd/MpXvnItGtXnujDGePjy+bx37Nix5NjYWHJhYSEyNDS0olNN+KHdutKhHnXuH51jq6Q6Tj+3r0NN6oz8OMkTkQH9Zh4AAAAHmHQ7BdRHPwLticfja88888y87svsGePhcuVq0HbrSnU96tw/OsdWSXWcfm9fdU3qjvy4i4emAgAAKGDK7RSwNfoRaF88Hl976KGHsk899dTSQw89lNXppFgZYzxcrjxMt926Ul2POvePzrFVUh2n39tXXZO6Iz/u4gr3EPGgBGAdYwF+oZZqayUv5FCd0dHR3PHjx1OVX3rS6XRxdHQ05/e26OfghNmPQaNO3M2Bq+1uRidjnLy2zpWrQdutK9X7HJ37R+fYKqmO0+/tq65J3ZEfd3HCPSSqlw0BumAswC/UUm2t5IUcqhXW7RTo52CZcluMRqgTd3Pgarub1e4YJ6/tceVq0HbrSvU+R+f+0Tm2Sqrj9Hv7qmtSd+THXTw0NSQ8KAFYx1iAX6il2lrJCzlULxqNyu7du4t79+4t7N69uxjEA7Po5+CF0Y9Bo07czYGr7W5FO2OcvLbHlIfp+qHdfYfKfY7O/aNzbJVUxxnE9m04DgoS+XEOD031Q7PLBP1atsOyRITN75pTvYQO9qCWamslL+TQDfQzmkGduJsDV9sdNPLaHq4G1ZvO/aNzbJVUx6l6+4ArOOHegVaWCfqxbIdliQhbEDWnegkd7EEt1dZKXsihG+hnNIM6cTcHrrY7aOS1feWH6aqOA7Xp3D86x1ZJdZyqtw+4oEt1ACZr5enOo6OjuXQ6veHgqtUHJah+mjXcE0TN+TEWABFqqZ5W8kIO3UA/oxnUibs5cLXdQSOvAAC4y8vlchkRmRERrpBu0XPPPdc7MTGRqn79wIEDmaeeemqp+vVOb83R6vbgjqBuNRRUzbUTL7dTap0LOXOhje1oJS9h5pD+Uofc60XX/tAlLpVx6JKDsLna7qCRVzc028861IMOMbRLVewm5wzholZwgyciw+UT7r8TkVXFARnnlVdeSf7DP/xDb/Xrf/Inf7L0mc98xvflOWFvD2bI5/Pej370o/7Z2dkPrkQfHBwsfuc731nodHLXpeaCbKOtyBl0Q00C6xgLWyM/AEzS7Jylw9ymQwztUhW7yTlDuKgVVOgSkXvK93C/R2UkphodHZUzZ85EZ2dnvfJrg4ODa6Ojo5tOUJq4PZhhenq66/r165FU6sML0a9fvy7T09PpT3/60x39kKZLzQXZRluRM+iGmgTW6T4WCoWCTE1NdV2+fNkbGhpa279//2pPT09o29c9PwBQqdk5S4e5TYcY2qUqdpNzhnBRK6gWlbW1GdVBmKqnu1v+l298w3vttdcSFy9ejO3atav46U9/OtfT3b0ma/7/gBX29mCGN994ozeTySRrvJ799MGDHd1qSJeaC7KNtiJn0A01CazTeSx8cHVWxfNbfvXKK6FenaVzfgCgWrNzlg5zmw4xtEtV7CbnDOGiVlAt2v3eK6pjMFq3yNrn75Ws3Ltr/YX3XxN5357tQX8fSb5XnMq9U+P124p+jG8dai7oNtqInEE31CSwTuex8OtXpxLzFyZikYrX5i+8E5v4579OPPzA/lBuJadzfgCgWrNzlg5zmw4xtEtV7CbnDOGiVlAt6q2tDqsOAkD7/uDAsJw593Z0dn7xw9u+DPSt/cGB4V5vzY6VSy600W/kDLqhJoF1KsZCYbkovz39RtfluSveUHr72v2f+OhqT3ds0/uWlt6P3JSId9V4fbu3tloKJLgqzBVoV7N1ruvnB8nk2HXX7Jylw9ymQwztUhW7yTlDuKgVVPNW3/4pD00FDJcvLHtjEzOJi7MLsV2D/cVDB4Zz8Z5uq+4z5EIb/UbOoBtqElgX5ljIF5a9//jf/r5/dv7qhw/xGthW/P43v7RQvc3Dr04nX/z52KbntDz++UNLDz+wL7yHpTNXoEWt1LmOnx8kk2M3RbNzlg5zmw4xtEtV7CbnDOGiVnBDl4jcUz7hPiMiFAEAAABgkRsn0fuqX3/884cWq0+i3zgxN1DjxNw8Xxihs1bqXMfPD5LJsQMAYCBPRIajqqOAfcq/6r07uxC7lV/1fEFOgfAx7tAINaIGeW/Nu7MLNe8bUev1eE/32ve/+aV5P/Orur9Ubx/haKXOdfz8IPkRu47jKOiYVLRZxzwDANrDFe7wFVdG+Y+cAuFj3KERakQN8t46lVe3qu4v1dtHeLjCvb5OY9dxHAUdk4o265hnAEBbPBEZ3vRQJKATYxMzicqDBBGR2fmrsbGJmYSqmExHToHwMe7QCDWiBnlv3aEDw7nBgW3FytcGB7YVDx0YzgW9bdX9pXr7CE/Qda5yHHWq09h1HEdBx6SizTrmGQDQPm4pA1+ZvNxSV+QUCB/jDo0EXSM2LyvvpG3N5j2M/JnSR0HcJqZZqufSMLffaT2YUk+6CrrOVY6jTnUau+px3Mq2K18PY1/Tier43n53tjvobaIxP+Zim+dzE9tmYsywAyfc4atbB/uLJ06er/m6gnCsQE6B8DHu0EiQNVK9rPzEyfMyPnkuZcOy8k7b1kzew8ifaX0U7+leU3HbC9VzaVjb77QeTKsnXQVd56rGkR86iV31OK6lUUxh7Gs6USu+XH7Z645F1yKRjTch4NgzPH7MxTbP5ya2zcSYYQ9uKQNfmbzcUlfkFAgf4w6NBFkjNi8r77RtzeQ9jPzZ2Ef5wrJ3+NXp5I9f+GXv4Venk/nCstfpZ6qeS8Pafqf1YGM9NSOImoP/VI/jdmIKY1/TiVrxdccia8vFlQ1jQHWeXePHXGzzfG5i20yJmf2h/3TIKVe4w1cmL7fUFTkFwse4QyNB1oiOy/f90mnbmsl7GPmzrY+CugJM9Vwa1vY7rQfb6qkZXHVoDtXjuJ2YwtjXdKJWHJFIREb33nV9962DRV3y7Bo/5mKb53MT22ZCzOwP/adLTjnhDt+ZvNxSV+QUCB/jDo0EVSM6Lt/3ix9ta5T3MPJnWx9tdQVYpzWuei4NY/ud1oNt9dSMIGsO/lM9jmvZKqYw9jWdqBff7lsHi7rl2SV+1I3N87mJbTMhZvaH/tMlp9xSBgAMpcMyqWaZFCugmo7L9/0SRtta2Ua7c5NtfWTCFWA667QebKunZlBzqObnsaLuY0r3+FzlR7/Y3Lcmts2EmNkf+k+XnHqrb/80IyIzIsJSBQAwRPUyKZH1gwcdl56ZFCugi3xh2dNp+b6fwmhbM9vodG6yqY8OvzqdfPHnY33Vrz/++UOLXF3VnE7rwaZ6agY1h0pBHCvqPqZ0j89VfvSLzX1rYtt0j5n9of80yKknIsOccAcAA2mwE2maSbECcAdz04f4YRRho+ZQifkYgKvYH/pPg5x6IjLMPdwBwEC6LJNqhkmxAnAHc9OHdHwoog10v6pOJd1qjr5Sy7b5mHoCINLcXKDb/tAGnebUj1WLk2fe7OKEOwAYyIQHwJSZFCsAdzA3baTjQxFNVn111YmT52V88lyKK9Y+pEvN0Vfq2TQfU08ARFqbC3TZH9qk3Zx2Ooff+Pv+TDYfse6hqTyYzx+65VG3eADVTHgATJlJsQJwB3MTgjQ2MZOoXMosIjI7fzU2NjGTUBUTaqOv1LNpPja1nvi+vTVT82Nq3DYwdS5wXaf9Vvn3Vl3hzq/J/tAtj7rFA+jApKVnJsUKwB3MTQiSbbfIsBl9pZ5N87GJ9cT37a2Zmh9T47aFiXMBOu+3yvdZdYU7vyD5Q7c86hYPoIvyMqmnn/js0sMP7MvqfOBkUqwA3MHchKDUuxWGibfIsB19pQdb5mMT64nv21szNT+mxqqzcIYAACAASURBVG0LE+cCdN5vle8L7YR7GEtZ+AXJH53kMYh+pl8BAABgEptukWE7+gp+MrGe+L69NVPzY2rctjBxLkDn/Vb595Ef/sXTz4rIfABxfqC8lGXi1OupS3NXus+9+U781LkL8U/tuzsXjUZ8286Vq+9Hzr35Trz69YP77snuvn2QX5Ga1G4eg+pn+hUAAAAmiUYj8ql9d+dSiXjpplSidHDfPdknv/jgNVOv2rUZfQU/mVhPfN/emqn5MTVuW5g4F6Dzfrvx9/mbb0r2h3IP962Wsvj5JN5DB4Zz45PnUpXb4hek1rWbx6D6mX4FAACAacq3yFAdBxqjr+An0+qJ79tbMzU/psZtE9PmAqzrtN/iPd1rh+4fXvVW3/5pRkRmRCSwX1l+/MIve0+cPJ+qfv2T992defqJzy75ua18Ydmz4WErqrWTxyD7mX6FLahlAAAAADrhO8rWTM2PqXEDhvNEZDiUE+6HX51Ovvjzsb7q1x///KFFfu2xB/0MbK36SfEi61cZ8KR4AAAAAAAA43kiMhzKQ1N5WIAb6GdgazwpHgAAAAAAwG6h3MM93tO99v1vfmmepSx2o5+BrfGkeAAAEBZuJYAwUGcAwFyokq65D+WWMgAAbrsEAADCwW3sEAbqDACYC1XSNPeeiAxHfvgXTz8rIvOKgrBSvrDsHT1+OnnsxJnklavvR4bS21ai0YjqsBAiagC1DKW3rZw6dyGeyeY/KIbBgW3FJ7/44DVX68O2sWJbewAAZjp6/HRy4tTrqcrXMtl8JJWIl3bfPlis93dAK6gzAGAuVEnT3HsiMhDKLWVcUv3ryomT52V88lyKX7bcQQ2gHm67tJFtY8W29gAAzMVt7BAG6gwAmAtV0jn3oTw01SU8FBHUALYS7+lee/iBfdmnn/js0sMP7Mu6fCLWtrFiW3sAAOa6dbC/5lVd9V4H2kGdAQBzoUo6554r3H2m868r8F+thzNQA0BzbBsrtrXHRro+UKcRU+N2AX1jL9P79tCB4dyxE2dSJ2feSmay+a5UMr563/Ce7KEDwznVscEehw4M58Ynz6Wq751LnW2mw5yiQwxhc7HN1chB8JgL1dE595xw99mtg/3FEyfP13xdQTgIUL3bR9z/iTtrPvySGgA2sm2+tK09tjH1lj+mxu0C+sZe1vRtdaTmRA5DcLvE5ugwp+gQQ9hcbHM1chAO5kJ1dM49t5Tx2aEDw7nBgW0bTq7o8usK/FXv9hEi3ho1ADRm23xpW3tsY+otf0yN2wX0jb1s6NuxiZnEwuK12K7B/uLde24t7BrsLy4sXjOqDTADt0tsTIc5RYcYwuZim6uRg/AwF6qja+65wt1nOv+6An/Vu03Ee1eWYtQAtsKyvnW2zZe2tcc2pt7yx9S4XUDf2MuGvrWhDYAtdBiPOsQQNhfbXI0cAOpwwj0A5V9XVMeBYG11+whqAPWwrG8j28aKbe2xiam3/DE1bhfQN/ayoW9taANgCx3Gow4xhM3FNlcjB4A63FIGaBO3j0A7WNYHqGHqnG1q3C6gb+xlQ9/a0AbAFjqMRx1iCJuLba5GDgB1vNW3f5oRkRnhMTpAy7g1CFr14xd+2Xvi5PlU9eufvO/uzNNPfHZJRUyAK0yds/2IO+i2m5rbTrnabhf43bdB1cpWn0t9AvrQYTzqEEPYFq9d7/qb53/R9/qFi/G77tiV/8aTn1vsu+WmVdVxhcnFfgcU80RkmBPuABCiw69OJ1/8+Vhf9euPf/7QIrciARCE6ltZiaxf3eTXrayC/nzAdEGNEcYeANTHHAlAEU9EhiM//IunnxWRedXR2CxfWPaOHj+dPHbiTPLK1fcjQ+ltK9FoJPC/DZtJsZou7FzTt/4ZSm9bOXXuQjyTzX+QwMGBbcUnv/jgNT9zakqfmRKniJ6x6hgTwtNs/x89fjo5cer1DStrMtl8JJWIl3bfPtjxPTyD/nyYgzmptq3GyFB620q7OXNx7FFj7SFv0ElY9ejiHBk0W+YSW9oBbXkiMuDlfvf3mZ7uGFe4B6STX1VN+kXWpFhNF3au6Vv/hXFrBxP6zJQ4RfSMVceYEJ5W+j/oW1lxqyyIMCdtpd4Y2Xfvnuzse4uxdnPm2tijxtpD3qCTMOvRtTkyaLbMJba0A1rzRGS467en3+DBqQHq5AGJJj1c0aRYTRd2rulb/8V7utcefmBf9uknPrv08AP7sn7v2E3pM1PiFNEzVh1jQnha6f9bB/trXsVV7/VWBf35MANzUn31xsLStWxXJzlzbexRY+0hb9BJmPXo2hwZNFvmElvaAf11XZ674qkOwmbvzi7EWnndr78Nm0mxmi7sXNO35mm1z/KFZe/wq9PJH7/wy97Dr04n84XlUPYLJtVWWLG20hcm5c8kqsZDq1rp/0MHhnODA9s2fLkcHNhWPHRgOOdHLEF/PszAnFRfvTHSe0uyVOv9zebMtbFHjbWHvEEnYdaja3Nk0GyZS2xpB/QXHUpvZ8lEgG4d7C+eOHm+5utB/m3YTIrVdGHnmr41Tyt9Vr2k7sTJ8zI+eS4VxpI6k2orjFhb7QuT8mcKleOhVa30f7yne+373/zSfFC3sgr682EG5qT66o2RsYmZxPTZtza9v9mcuTb2qLH2kDfoJMx6dG2ODJotc4kt7YD+uu7/xEdXVQdhs05+VTXpF1mTYjVd2Lmmb83TSp+pXFJnUm2FEWurfWFS/kxh0hLTVvs/6FtZBf350B9z0tZqjRE/cubS2KPG2kPeoJOw69GlOTJotswltrQD+vNW3/5pRkR4aGqAOnlAYtAPV/STSbGaLuxc07fmabbPVD9MyKTaCjrWZvqiOoaRT9yZnzz9ZtyE/DWiQy2oHg+t2ipnOuTTJOTLH+SxdYvXrnf9zfO/6Hv9wsX4XXfsyn/jyc8t9t1yExdE1UGNtcfvvNEP6AT1Yy5b9lnUIALmicgwJ9wBwGGHX51Ovvjzsb7q1x///KHFhx/Yl1URk6sa9UX17U5E1q/G0PF2J63SpW22jAdd8mkK8gVVqD2YiLoF3MTYB5rmichwl+ooAADqsKROH436wqTbnbRKl7bZMh50yacpyBdUofZgIuoWcBNjH2hNVHUAAAB1eJiQPhr1xbuzC7Faf1fvdZPo0jZbxoMu+TQF+VLLlmXd7bSj1doLKle29AHCwZzZGdPGm2nxIjiMfX8wptzBCXcAcFz5YUKq48DWfXHrYH/xxMnzNV8PPLCA6dQ2G8aDTvk0AflSp3p5+omT52V88lzKtOXp7bajldoLKle29AHCw5zZPtPGm2nxIliM/c4xptwS+eFfPP2siMyrDgRAsPKFZe/o8dPJYyfOJK9cfT8ylN62Eo1GfP8b3bXSpsr3Xp67GnnjwsXusd+e6zgXNuYVwRtKb1s5de5CPJPNf1AsgwPbik9+8cFrK6WS0TW1VdtMaocuTM2nqrnRz3wxv7fm6PHTyYlTr294UHEmm4+kEvHS7tsHN3yB9zu3fn5eK+2o1ErttbuNIGJvNXeMi9bpnDNT9zE6CGocB8W0eBGsMMa+LnNfUHEEMaYaxVr97329qdLYxExCdY4t54nIAA9NBRzQzgNObHwoSittqnxvqVSS6bNvJ0VE9t27JxuJdLWdCxvzivDUWoIoImJDTbG80l+m5VP13OhHvlS3wUQ/fuGXvSdOnk9Vv/7J++7OPP3EZ5fK/9/v3Pr9ec22o14szdReJ9vwM/ZWc8e4aJ0JOTNtH6OLoMZxUEyLF8ELcuzrMvcFGYffY6pRrNX/XiqV5M1/ne258yNDhUika9P7O2gaNuKhqYAr2nnAiY0PRWmlTZXvnZ1fjGVz+Ug2l498+Fp7ubAxrwhP+XYnTz/x2aWHH9iXjfd0r9lSU7Xapjomk5mWT9V17Ee+VLfBRPWWoVe/7ndu/f68ZttRS7O118k2ttLq57aaO8ZF60zImWn7GF0ENY6DYlq8CF6QY1+XuS/IOPweU41irf732fnF2Nz81e6Nr+m1f7EJJ9wBB7TzgBMbH4rSSpsqX8tk8121/rudXNiYV6hFTcEGNtSxDW0I26EDw7nBgW0bvmQODmz7YPVOmd+59fvzmm1HJ4LaRquf22ruGBetI2f6yxeWvcOvTid//MIvew+/Op3MF5a9Zv4ujLnCT6bFC7P5Pfe1O06DnIP9HlONYq3+9/K5jMpzGlt9DjrDQ1MBB7TzgBMbH4rSSpsq35tKxlfLr1f+dzu5sDGvUIuagg1sqGMb2hC2eE/32ve/+aX5RsvT/c6t35/XbDs6EdQ2Wv3cVnPHuGgdOdNbJw89DGOu8JNp8cJsfs59nYzTIOdgv8dUo1ir/718LqPynEbl++EvHpoKOKCdB5zY+ECkVtpU+d5komf1yuL1aCwWXfvoHTsLXV1e27mwMa9Qi5qCDWyoYxvaoEI0GpHdtw8W9w3vKey+fbBYK1d+5zaIvmqmHZ0KahutfG6ruWNctI6c6a3Thx6GMVf4ybR4YS4/575OxmnQc7CfY6pRrNX/nkz0rC4XS97tO3csd3V5m94P3/DQVMAl7TzgxMYHIrXSpsr37tjeWxRZ8967ci3aaS5szCvUoqZgA93qmP2mXvzOrYq+sqU+Wm2HLe0O0+K1611/8/wv+l6/cDF+1x278t948nOLfbfctNr4L2ujD/zj4oNEqR+zmNxffsXe6TjNF5a9V8ZPJo8eP5MSEXnw4Ceuf2Z0r5Z5bJSz6n8f+cSd+cnTb8ZNrA+DeCIyzAl3AAAAoEL1UmSR9SuAmlmKDNRCTaFZftcKteevw69OJ1/8+Vhf9euPf/7Q4sMP7MuqiClI1I9Z6K91nY5T8ogOeSIyzENTAQAAgApjEzOJyi9ZIiKz81djYxMzCVUxwWzUFJrld61Qe/5y7UGi1I9Z6K91nY5T8gg/8NBUAAAAoMK7swuxVl4HGqGm0Cy/a0Xn2jPx1heuPUhU5/pRSdfardUvpdKqvPzrqZt0izVInY5TW+u+3brVtd51xwl3AAAAoMKtg/3FEyfP13xdQTiwADWFZvldK7rWXvUtG06cPC/jk+dSJtyyId7TvWbj7WNq0bV+VNK5dqv7q1RalemzbyUHd/QVr2dzUZ1iDVon49TGum+3bnWud91xSxmH5QvL3uFXp5M/fuGXvYdfnU7mC8ue6pgAwDTMpYB9XLtlAIJHTaFZfteKrrXHLRvMoGv9qKRz7Vb3VznOwYG+Da/pEGungvwOZmPdt1u3utS7yu/c7W478sO/ePpZEZkPOD5opvwr1cSp11OX5q50n3vznfipcxfin9p3dy4ajagODwCMwFwK2Ckajcin9t2dSyXipZtSidLBffdkn/zig9e4kgftoqbQLL9rRdfaO3biTPLS3JXu6tdvSiVK+4b3FFTEhM10rR+VdK7d6v6SNVnruyVZikQ2fi/RIdZOBP0dzMa6b7dudah3ld+529y2JyID3FLGUVv9SuXK8jgA6BRzKWAvl24ZgHBQU2iW37WiY+3ZeMsGW+lYPyrpXruV/XX41enkiz8f66t+jy6xtiuM72C21X27datDvav8zt3Jtq28pQzL+xuz9SEQABCmd2cXYqXSqlycXYidf+vdnos3/j9zKQAAQH023rIBbjCpdk2KtRWcz2pdu7WgQw2p7O9Otm3dFe7c0L85OvxKBQCm27H9lpXps28ls7n8B+vJZt9bjD36yMEllXEBAADoLN7Tvfb9b35pfmxiJvHu7ELs1sH+4qEDwzm+s0N3JtWuSbG2gvNZrWu3FnSoIZX93cm2rTvhzvL+5hw6MJwbnzyXqsyVDb90AkC4vDoHGvVeBwAAgIh9t2yAO0yqXZNibRbns9rTbi2oriGV/d3Jtq074c7Skubo8CsVgMbyhWWPcaqv964sxfbduzs7O78Yy2TzXalkfHVwoK/43pUl9jkAAADAFviug3ZwPsstKvu7k21bd8KdpSXNU/0rFYCtcYss/d062F+MRCKyq2ofwz4HAAAAqI/vOugE57PcorK/2922dQ9N1eGG/gDgh61ukaUqJmzEPgcAAABoHd91ANispSvcw17u0872bFxawjIrd/nR92F9RqP31Pv3rf7OpNoPIlZukaU/G/c58I9JcxjsQ/0B5mC8olWm1UytePmuA92ZNs6gF2/17Z9mRGRGRLYsmurlPiLrV/EFtdwn7O3pijy4y4++D+szGr2n3r9/++k/XvgvP/7H/lp/JyJiSu0HNU4PvzqdfPHnY33Vrz/++UOLLJ8D9Mb+GypRf4A5GK9olWk1Uy/e+z9xZ/ZnR070Vr+f7zrQgWnjDFrxRGS46VvKhL3ch+VF68iDu/zo+7A+o9F76v373zz/i756f2dS7QcVK7crAcxl0hwG+1B/gDlMHK/5wrJ3+NXp5I9f+GXv4Venk/nCsqc6JpeYVjP14hXx1tr5rqOq/qh7t1TWbam0KhdnF2JHj5+66b/8+B+30fdoRvmWMl0isrrVGy/OLnRv8brvJ3/C3p6uyIO7/Oj7sD6j0Xvq/fsbFy7Go9FI09us3q4ughqn8Z5u+f43v7QwNjGTuDi7ENv14TI2kfVfTQFoiv03VKL+AHOYNl5vXPX5wQrVigddLnDVZzhMq5l68c5fWepu9buOqvqj7t1TrttSadWbPvtWIpvLR0REfn50ojdfWI7Q99hCl8iHJ9zvafTuO+/Y2TXzxjubzozdecfOkojs9De28LenK/LgLj/6PqzPaPSeev9+x23p1QvvzG1aaXPj78SU2g9ynMZ7uuXhB/Z18hEAFGD/DZWoP8Acpo3XyTNvdmWy+chNyQ8vps5k8zJ55s30ofuHt7yID/4wrWa2ijfe072zle86quqPundPuW7fvTzvra6udt34IUjS/X3xTDZ/M32PRqIicraZN458/E7vyNjJTfcvGvn4nfPS4P7v7Qh7e7oiD+7yo+/D+oxG76n371/94/+p5j3cb/ydmFL7jFMA1ZgXoBL1B5jDtPH6xoVLvdezuVSN1zOH7h9eUhGTa0yrGT/jVVV/1P1GLjxMtFy3cwuLN+ULy90iIslEvHRTKp69ns1p0fcu9IPJomvzZ/+omTf2iMiBj3TH/ve//819V69l09tuSc79X9999GTP+28U1973P7Cwt6cr8uAuP/o+rM9o9J56/967/Ptivb8TH2IPC+MUQDXmBahE/QHmMG28/of//P8deOOd+U3nEF459pt/+dqDQxMqYnKNaTXjZ7yq6o+6/9DPx38X+/Mf/PjPC8WVHeXXemLR9/72/3z6bz8/ek9xq781Sblu/+N/nXly8f3cI57nZWLRrtnJ0+dXRdT3vSv9YDKv9LNv/UZ1EAAAAAAAQG/55ZL3n144NTB7Nffh1crbEsXvPbF3Pt4d4cpKBEpV/VH3Hzo8dSn50tiFvurXHzt0x+LD+3dmVcQUJF373rV+MJFX+tm3MqqDAAAAAAAA+isUS/Lb1xe6Ll/NekPbkmv339W/2hPbdItuIBCq6s+Vum/Uzhd+/XZk4vzCpuewHbi7f/WJP9hdCjXYkOjY9y72g2nKD039nYhws38AAAAAAFBXTywih+5Nqw4DjlJVfy7U/Y2ruftnr+Y/uJr7lZOXit97Yu9C+WruvlRPMpNf6a3+275Uz5KIWHlltY5972I/GKRLRO4pn3BfFQ0frgEAAAAAAAAgWGNn5xKVt04REZm9mouNnZ2Ll29TcujedPa1c3PJ6lusHLo3nRXOK4aGftDaqsiHV7gDQE355ZI3dnYucXEhE9vVnyoeujed8+teZUF+ts3IG9AY48Re9C3gDtPHu+nxq0DOgHBVjrmZ3y/1rKyuSbTL2/CeiwuZD07qxrsja997Yu8841Qt+kF/5Xu4zwi/gACoEuQDQnR9+IjuyBvQGOPEXvQt4A7Tx7vp8atAzoBwVY+5iwvZ2OzVXOy+O7dnK0+68yBOoCWeiAxH9t+5/f+4fCWXGdqeXIlGNt1vvyP55ZJ39NRs8tdnZpML1wqRILYRJtvaAzRy9NRscuL1+VTla5n8SiQVj5V2D91c1PWzbUbegMYYJ/aibwF3mD7eTY9fBXIGhKt6zCV7Iquzi/mYJyI3J2OrIus/en31D/dc49wXqnGOtC5PRAaiE+cXujL5ld7Xzs0l/fzluPqXshPn5+W1c3MpU3+dtq09QDMql44187oun20z8gY0xjixF30LuMP08W56/CqQMyBc1WMrEumSfXu2ZXtTPSsfu723wG1KUA/nSBv74KeHGw9CSPj1wVs8bMG3bYTJtvYAzdjVn6p5JUm913X5bJuRN6Axxom96FvAHaaPd9PjV4GcAeGqNbYikS757Miu61975K6lh/fvzHLyFLVwjrSxDQ9N9fOXY9t+nbatPbCbXw8bOnRvOvfaublUjSdf5zqNMcjP9pNuD24yJW8uqqyVgd54UUS8+aV8VIe60VVQ44txYq9W+1a3ORzolEs1bfpcbnr8KmpN95y5NP7KXGyzS3Qfc9AX50gb857905HlTH5lXmTN1wchHJ66lHxp7EJf9eumPmzBtvbAXn4/bCjIgyzdD+B0fXCT7nlzUWWtlEqrMv3W1aSISPmBQzrUjW6CHl+ME3s127e6zuFAu1ysadPnclPjV1lruubM1fHnWptdpOuYg944R7ql9Yemfua+oX9fXFnN+v0ghKHtyZXTF67GM/mVSPk1kx+2YFt7YC+/HzYUjXTJ7qGbi/ft2V7YPXRz0c96D/Kz/aDrg5t0z5uLKmvl8tVc7L2lfHextNrVHe1auzkZW9WhbnQT9PhinNir2b7VdQ4H2uViTZs+l5sav8pa0zVnLo4/F9vsIl3HHPTGOdItrT809cDd/at9qZ6lQ/emfb03U7w7sva9J/bO2/JLmW3tcYWNv9Y2alOnS3uCypmJfaFymZSJ+XJZZU1k8sWuD/97pavWe8AyRARPRY3pPnfrHh+2xryJsFBrm7mYExfbDKA5nCNtLPrEH+wuiUhWRHxPSrw7smbTUgLb2mM7G5+a3EybdvWniifOz2/622YeNhRUzkzti05y2QlT8+WyylpJxWOrIvkb/x1drXyPmuj0pGp8wR1h15juc7fu8aEx5k2EhVrbzMWcuNhmAM3jHOnWnL/OH/ay8anJzbTp0L3p3OC2xIaDoGYffBJUzkzti05y2QlT8+WyyloZ7IsXkz3RUrInWkqXX+PhQ5uoGl9wR9g1pvvcrXt8aIx5E2Gh1jZzMScuthkA/BJVHUDYWErrDhuXwDXTpk6W9gSVM1P7QtUyKVPz5bLqWvni6EcWRcSbX8pH/agbG/ddLENE0MKuMd3nbt3jQ2PMmwgLtbaZizlxsc0A4BenTrizlNYtNi6Ba7ZN7S7tCSpnJveFimVSJufLZUHVis37LpYhImhh1pjuc7fu8aE5zJsIC7W2mYs5cbHNAOAHp24pw1Ja8+WXS97hqUvJv3v59d7DU5eS+eWSV++9Ni6BC7pNQX2+jX0RJPKFSuy7ADPoPnfrHp/OWjn+BAAAALzSz76VEZEZCeChqbr5u5df7z1xfj5V/fon7x7IfO2Ru5ZUxITmVV/lKbL+RXGrqzxtvA1D0G0K6vNt7IsgkS+Use8CzKH73K17fDpq5/gTAAAAzvJEZNipW8qwlNZsW13lWW+Zm41L4IJuU1Cfb2NfBIl8oYx9F2AO3edu3ePTUTvHnwAAAHCbUyfcD92bzr12bi5VfYUKS2nNwMO+ALiIfRcAqMPxJwAgKDquPNMxpmb5HXujz6v+95GP9ucn31iIV75fZP3HexPzic44dUsZEbMnD9cdnrqUfGnsQl/1648dumORK4wA2Ix9FwCowfEnACAIOt6yTMeYmuV37I0+r/rfS6VVefPy9Z49O28uRLvWH/XSf0tPUcSThWt54/KJjngiMuzUQ1NFPlxK+7VH7lp6eP/OLEVuDh72BcBV7LsAQA2OPwEAQdjqlmXE1Dq/Y2/0edX/PruYj80t5rrnKl47+dbV5Mm3riT9iglmMf6WMlz15454d2Tte0/snae/AQCACThODZ/fOef4E0BY2Ge4RcdblukYU7P8jr3R51X/eyZf7Fr/35Wuja95vsUEsxh9wr16CceJ8/Py2rm5FMsz7MXDvgAAgAk4Tg1fUDnn+BNA0NhnuGdXf6p44vx8zdcVhPPBtnWLqVl+x97o86r/PRWPrYrkJRWPrm58rfZntxMTzGL0LWVMXu4CAAAAe3GcGj5yDsBUzF/u0fGWZTrG1Cy/Y2/0edX/PtgXL6b7Esvpitfu27Mte9+e7dl6nwG7GX2Fu8nLXQCYhSWe6pD72oLKi+p8q96+LnHpmgdd+Zkvvz4rzONUHeul3Ziq/27ko/35yTcW4hcXMrGB3nhRRLz5pXy01mfy3QBB62Ss+TFOVY11HecY2zB/uUfHW5bpGFOz/I690efV+vfKY5by+0XWf1AzLZ/onFf62bcyIjIjIsZ1+OGpS8mXxi70Vb/+2KE7Fln2CcAvJj+t3XTkvrag8qI636q3r0tcuuZBV37my8/PCus4Vcd6aTem6r8rlVblzcvXe/bsvLngra3J9FtXkyIi9925PRvt8jZ9Jt8NEKROxpof41TVWNdxjrER8xcAWMMTkWGjbylj8nIXAOZgiac65L62oPKiOt+qt19P2HHpmgdd+ZkvPz8rrONUHeul3Ziq/252MR+bW8x1z13NxWYX87FsYSWSLaxE5m68p/oz/cx5frnkHZ66lPy7l1/vPTx1KZlfLm1+6hmc0slYa/Vva9WfqrGu4xxjI85toB3sq8JjQq5NiNElRt9SxuTlLgDMwRJPdch9bUHlRXW+VW+/nrDj0jUPuvIzX35+VljHqTrWS7sxVf97Jl/sWv/fla7Kxbjr/3/z3/iVcx5eiFo6GWut/G29+hvclqz5kL2gx7qOc4yNOLeBVrGvCo8JuTYhRtcYibGfwgAAIABJREFUfYW7yPqO6eH9O7Nfe+SupYf378xSSAD8Vu8p4jxdPHjkvrag8qI636q3X0/YcemaB135mS+/cx/GcaqO9dJuTNX/norHVtf/N7pa/u/y/6/3N37knCt6UUsnY62Vv61Xf0vXl2t+dw96rOs4x9iKcxtoBfuq8JiQaxNidI3xJ9xdxnIRIBws8VSH3NcWVF5U51v19usJOy5d86ArP/NlYu51jLndmKr/brAvXkz3JZbT2xLFwb54MdkTLSV7oqX0jfcE1U6u6EUtnYy1Vv62Xp31pmIlFWNdxzmmjO/DcBn7qvCYkGsTYnSN0Q9NdRkPrwHCVb53Jks8w0fuawsqL6rzrXr7usSlax505We+TMy9jjG3G1P13418tD8/+cZC/OJCJjbQGy+KiDe/lI8G2U4eXoh6Ohlrzf7tVvV36N50TsVY13WO4fswXMa+Kjwm5NqEGB3iicgwJ9wNxWACAAAA/MeJPKhE/TWH78NwHXNFeEzItQkxOsQTkeHID//swLMiMq86GrTm12dmk5euZLurX785ESvdt2d7QUVMAAAA6Ex+ueQdPTWb/PWZ2eTCtUJkaHtyJRrhLpBhika65JN378il4rHSzYlY6VP37Mh+9Q/3XOMLq3v8HI/Nflat+nt09CPv/+Z38wmd5gXVcxXfh+G6oPZVqse2jkw4LjAhRod4IjLAFe6G4hd9AAAAu3B1EqAPP8djJ5+l47ygQ0x8Hwb8p8PYBizgiciw2z9TGUznh9cAAACgdWNn5xKVX3JFRGav5mJjZ+cSqmICXOXneOzks3ScF3SIie/DgP90GNuALaKqA0B74t2Rte89sXdet4fXAAAAu+n48DxbXFzIxFp5HWZh7JjFz/HYyWfpOC/oEJOu34cZ5+Eh1+v8zIMOY1sn1Bg6wQl3g8W7I2sslwMAAGGpXmp84vy8vHZuLsVSY3/s6k8VT5zf/GilXf2pYo23wyCMHfP4OR47+Swd5wVdYtLt+zDjPDzkep3fedBlbOuAGkOneGgqYACbHlxiU1v8RF7CR86B1h09NZuceH0+VflaJr8SScVjpd1DNzv3ZcxvQ9uTK6cvXI1n8iuR8muD2xLFr/7hnmvMT81TNb9vtV3dxo6OOdKNn+Oxk8/ScV7QMSYd6DbObUau1/mdB8b2h6gxdMATkQGucAc0Z9Mvqza1xU/kJXzkHGgPS42DpestEkyian5vtF2dxo6uOQpqu+3yczx28lk6zgs6xqQDnca57cj1Or/zwNj+EDWGTnHCHdDcVg8u0WkJZTNsaoufyEv4yDnQHpYaB0+3WySYRtX83mi7Oo0dXXMU1HY74ed47OSzdJwXdIxJNZ3Gue3I9bog8sDYXkeNoVNurQkBDGTTL6s2tcVP5CV85Bxoz6F707nBbYkNXzQGtyWKh+5N51TFBFRSNb832q5OY0fXHAGm02mc245cryMPwSG36BRXuAOas+mXVZva4ifyEj5yDrSHpcbQnar5vdF2dRo7uuYIMJ1O49x25HodeQgOuUWnOOEOaO7Qvenca+fmUpVLcE39ZdWmtviJvISPnAPtY6kxdKZqfm9mu7qMHZ1zBJhOl3HuAnK9jjwEh9yiE17pZ9/KiMiMiPArDaCp/HLJs+WXVZva4qdGeSFv/jMtp6bFC31RS7Cdqho3aWyRIwAAgEB4IjLMCXcA0Fx+ueT9pxdODVRfEfa9J/bO8yXVDdQA/EItAQAAAEBgPBEZ5qGpAKC5sbNzicqTYyIis1dzsbGzcwlVMSFc1AD8Qi0BAAAAQLC4hzsAaO7iQibWyuuwS3655L08efGm8+9e60nFo6vpbYlitMsTEXdqgFsQ+If5BKiNeUZPfvRLWH1LDaEeagMIHuMMuuGEOwBobld/qnji/HzN1xWEgxCVb/9x/t2lxNxirltk/Wrk++7cno12eU7UQPUtUE6cn5fXzs2luAVKe5hPgM2YZ/TkR7+E1bfUEOqhNoDgMc6gI24pg6bkl0ve4alLyb97+fXew1OXkvnlkqc6JqBdptXzoXvTucFtiQ0nwwa3JYqH7k3nVMWEcJRv/zHYFy8me6IlEZFsYSUydzUXc6UGuAWKv5hPgM2YZ/TkR7+E1bfUEOqhNqAr074Tb4VxBh1xhTsa4tdC2MTEeo53R9a+98TeeZbIuad8m49IpEv27dmWnV3MxzL5Ytc9t/bmdK5ZP3ELFH8xnwCbMc/oyY9+CatvqSHUQ21ARyZ+J94K4ww64gp3NMSvhbCJqfUc746sPbx/Z/Zrj9y19PD+nVkTD4TQusrbfEQiXbKrP1m8+9bewmdHdl13pQbq3eqEW6C0j/kE2Ih5Rk9+9EtYfUsNoR5qAzoy9TtxPYwz6IgT7miIXwthE+rZPSYvl+T2H+QAQPCq55mV1TXJFUrehdn3Y6btN2zix/wf1j7Er+2YfMyC2jiOQSvCmgOa/U5sypzEOIOOteqVfvatjIjMiAhXN6Gmw1OXki+NXeirfv2xQ3csPrx/Z1ZFTEC7qGe3VC+XFFk/+DJpuWR+ueS5fvsPcgAgaOV55sLc9e7xmdlUd6RrLRJZvzbJtP2GTfyY/8Pah3S6HRuOWVAbxzFoRphzQDPfiU2bkxhn7tKwVj0RGY788M8OPCsi8woCgCGGtidXTl+4Gs/kVyLl1wa3JYpf/cM916IRFknALNSzW46emk1OvD6fqnwtk1+JpOKx0u6hm41YYhiNdMnuoZuL9+3ZXtg9dHPRxTolBwCCVp5nFq8vd7156f14V9eHF0aZtt+wiR/zf1j7kE63Y8MxC2rjOAbNCHMOaOY7sWlzEuPMXRrWqiciAzw0FQ3xgDXYhHp2C7cQAgC0gv1G57jKsD3UHmweOza3zS9hzgHNfCe2dU6iFu2ja61ywh1NKT9gTXUcgB+oZ3fs6k8VT5zfvIiLB+gAAGphv9GZ6mXdJ87Py2vn5lK63oJAJ9Se22weOza3zU9hzwGNvhPbOCdRi3bStVa5pQwAwFpB30Iov1zyjp6aTf76zGxy4VohMrQ9uaLD8sVW4mr03nbaqGteAATLhrG/1X5jpbTma/s6zZeO+dZwWbcxwrrtoY51o5Iu+bB57OjcNj+PmTvdThhzQCttsPFWrDrXou2CnGura3VldU0Ky6veTYloafH6sop53RORAR6aCgCwWlDLBjV8OEvLcTV6bztt1DUvAIJl09ivtd8QEfGzfZ3mS9d8/93Lr/eeOL/xZIaIyCfvHsh87ZG7llTEZJKgb3Wga92oolM+bB47urbNz2NmP7cT1BzQ7nG9Tbdf0bUWbRfGXFuu1Qtz17vHZ2ZT3ZGutciNk+wK5nVPRIbN/FkKAIAmlZdLfu2Ru5Ye3r8z69eOduzsXKLyoEFEZPZqLjZ2di7hx+e3q5W4Gr23nTbqmhcAwbJp7Nfab/jdvk4/T9d811u+rXpZtymCOmYp07VuVNEpHzaPHV3b5ucxs1/bCXIOaKcNQc9JYdO1Fm0XxlxbrtU70jctJ7qjH5xsD2JbzWrqHu62/aoFf1EfMBn1awYd+0nlw1m2ykcrcTV6bztt1PWhNXCLjnOG7Uwf+41qxu/2dfp5uub70L3p3Gvn5lLVV7GVVwlALV3rRhWd8mHz2NG1bX4eM/u1nSDpEIfq4zNda9F2YdaeDnVe1vCEOw8VwFaoD5iM+jWDrv2k6uEsjfLRSlyN3ttOG3V9aA3coeucYTuTx34zNeN3+zr9PF3zHe+OrH3vib3z/OClJ13rRhWd8mHz2NG1bX4eM/u1nSCpjkOH4zNda9F2Ydae6jqv1PCWMjots4J+qA+YjPo1g679dOjedG5wW2LDjjuMKyQa5aOVuBq9t502qsoLUKbrnGE7k8d+MzXjd/s6/Tyd823bLQhsonPdqKBbPmweOzq2zc9jZr+2EyTVcehyfKZjLdouzNpTXeeVIj/8swPPisjm0/83/PrMbPLSlWx39es3J2Kl+/ZsLwQaHbRHfcBk1K8ZdO2naKRLPnn3jlwqHivdnIiVPnXPjuxX/3DPtaAP2hrlo5W4Gr23nTYGlZcgn2zvMhvzGtScYWOu/KRqTvRDMzXjd/s6/bxaf//o6Efe/83v5hPUaH22jeNW22PyOA0C+XCbn8fMfm0nSKrj0PU7HYIXZu2prvMbPBEZ8Eo/+1ZGRGZEpObGD09dSr40dqGv+vXHDt2x+PD+ndmAg4TmqA+YjPo1A/20kYv5COPJ9i6yNa9BjBFbc4V1Nsyr1GhjtuXItvYAsJsN+1qgSZ6IDDf8OV+ny/GhH+oDJqN+zUA/beRiPnRZgmobW/MaxBixNVdYZ8O8So02ZluObGsPALvZsK8FWtHwoak8VABboT46o/op3a6jfs1AP23kYj50etq8TXTLq1/7RL/HSH655L08efGm8+9e60nFo6vpbYlitMsTEWrQFjbMq7qNZx1dXMjEVlbXZO5qLpbJr3SVx3M7OdLhGJ4+B2ASG/a1QCsannAX+fChAkEHAzNRH+3R4SndoH5NQT9t5Fo+dHravE10yqvf+0S/xkg5rvPvLiXmFnPdIutXkN535/ZstMujBi1i+ryq03jW1UBvfOXkm1eS2cJKpPza7NVc7NFP377UyufocgxPnwP/f3v3+yPHcSZ4/onMqur60VQ3xTJbokCbxMhma2RKa3oHMuHdOXnWg1sYt4aAuVtoPXP7QgPMu1v4vXC7gF/enzDA7YtdzGCx2L3TjYDDLNbwCYfFcTQaaUTQktg2ZZKSTLmpbnU3xa7qrqqsvBftEqur60dmVURmROT388Zysqsq4oknIrOyMiLgGtfPtUAa7u4QAziOaaAAkAxTUM2wKa62nhMH5VpbrXbrS6VIRKR12Avv77TL5CBsYlN/ttikm+GpbpLbMl7R5kjjoBOpN65/Wv/Ln91aeeP6p/WDTqTyLhPMos2BfCV6wh2AfkwDBYBkmIJqhk1xtfWcOPj8MAzkuYunW5u7B+X9g27wjadW2sxIg01s6s+22to7KA/340a13F9brXa39g5SjTO2jFe0OZKyZVYGskObA/njhjuQE6aBAkByTEE1w5a42npOHC5XGAZy7ky9KyLyvX9w7iFfWGEbW/qzrc6daXSH+/Hw8bTvY8t4RZsjiWmzMsgfP9HmQP644Q7k5DvPnG3/7cb9xvCJkGmggBts2CwN8Inuc6KuPsq5GtArz/Onrv48/D6DTVjDUMWdXiQHnUhxPQDbrhNtmZWh06QY2xZ7ndLUzcc2LwqTOexz/7CRiv76T/dF5KakXLsOwOIY8AD3jE7RFDn6ws4UTWAxus6Juvso52pADxvOnzrHmf/3xqf1f//TX57pRbFaW612wzDgegBW5PmoN65/Wn/9b+6ujh7/Z9/52q6LTztPivGf/eCZ7T//vz84Y1PsdUmbV761eVGYHD9sHJs8pkRkPfw3f3LlVRE5OScOgHGlMJALT5zqXr74+OGFJ051SyH7GAO2+28/36y/c2urMXxs/6AXNqrl6MITp1gSCpiTrnOi7j7KuRrQw4bzp67+XAoD+fiz/fKvt/Yrp+rlfhAc7UXI9QBsyPNRTzxe7713d6e6f9ALB8fWTte6f/SPLz5w8Zw2KcZ3Nx+Wfr29vzR63Ic+mTavfGvzojA5ftg4NnlMiUiTJWUAAEiBKZqA3eijgJ1865u+1Qd62JgXvm2wOymWtz7dq5bH3Ez2oU+mzSvf2rwoTI4fNo5NvuOnLQAAUpi0KVremzsCOEIfBezkW9/0rT7Qw9a8GGyw+6M/eHrvxeefbLl843VSLJ9+cuUgzd+7ZJ688qnNi8Lk+GHr2OQzbrgDAJDCd5452147XTt2YcImioA96KOAnXzrm77VB3qQF+ZNivG//MOv7/oae/KqGEy2MzmUPTZNLQg2/AKQBGNFMjbGycYyAXmhPwB28q1v+lYf6EFemDcpxj7H3ue64RGT7UwOZUaJyDo33AuA3YgBJMFY4S7aDgAAAACA3CkRWWdJmQL4mw/u14ZvwoiIbO60y3/zwf1aXmUCYB/GCnfRdgAA0w46kXrj+qf1v/zZrZU3rn9aP+hEKu8yAYBJjHsA5lXKuwAwj92IASTBWOEu2g4AYNLoTKq3f7klf7txv8FMKgC+YtwDsAiecC8AdiMGkARjhbtoOwCAScykAlA0jHsAFqH1CXddC/CzkL9e33nmbPtvN+43Rtf2ZTdiFA1jy3SMFe6i7QCzOH/YhzbJFjOpABQN4x6ARWjbNFXXhm1s/GYGX0pQdIwtyTBWuIu2A8zg/GEf2iR7b1z/tP7639xdHT3+z77ztd0Xn3+ylUeZAMAkxj0Ac1Iish7+mz+58qqIbC36bv/t55v1d25tNYaP7R/0wka1HF144lTiKe263gfHlcJALjxxqnv54uOHF5441S2FrCaEYmFsSYaxwl20HWAG5w/70CbZe+Lxeu+9uzvV/YNeODi2drrW/aN/fPEB5xsAPmLcAzAnJSJNbUvK6Jpuw7QdACYwtgAA5sH5wz60SfaqlTD+Vy99c4uZVACKwsVxjxmvgD0GN9wDEekv8kbnzjR6b/9ye+xxObq7n+n7AMAwxhYAwDw4f9iHNslHtRLKi88/2RaR4f1BiDcAb7k07v12ubUzmzsHZRGRt3+5LX+7cb/xr1765jY33YFMBSKPbrh/Y9F3u/q7Z+W9uzulzZ32l4PP2ulafPV3z67k8T4AMIyxBQAwD84f9qFNAAA47t0Pt4OH7V7YqD5ayOJhuyfvfrh99jvPnF3oAVsA6anor//073S9ma7pK75Og/G1XlkhflgUOQQAmAfnD/vQJgAAPPKXP7u18vYvj+9vIiLy7a8393/0B0/v5VEmoMjU5//7PzqddyGK4I33d8t/9ucb/3On1//K4FilFHz253926d+/+LurbO40A/EDAAAAAAA46Xs/+fsrt+8f/OHo8Ytnq//1//nX33onjzIBRabu/KSp7Ql3THbtdqf+05ud1dHj31+v7F69WGnlUSaXED8A0OuwF6t3Pu7WNh/0y2uPBd0r58vtpZLi6dDfIj7ASfQL2IR8BIBHDnux+rfX2s2th/0vNxBvLgfdV67Wthgb4TNbrwdKIvJM3oUoggcHcVivqGDM8cdFJMqhSE4hfgCgT6cXy394+6C09bCvREQ+3IrkF/ej+F98u9qrlKzcBypTxAc4iX4Bm5CPAHDcUknJn16tyXuf9oL7D/vq7HIQP/tkqV8pqWbeZQNMsfl6YLCbwi9EhE0UDHqsquqtTnxiI6fHqmpPRHhCewbiBwD6vP1xt/7R59GxMfWjzyN5++PuHrOGiA8wDv0CNiEfAeCkSknJt86XZ/8h4AlLrwcCEfnG4IZ7X0Ryf9zeZ1fOl1vvftKrj07vuXK+3BJiPxPxAwB9Nh/0S1OOF35MJT7ASfQL2IR8BIDpbF1mA9DJ0uuBvsijJ9xh2FJJxa9crW0x4M2H+AGAPmuPBd0b98Yfz7409iE+wEn0C9iEfASAyUbXc79xT+TdT3oN1nOHb2y+HjixJjbMWSqp+OrFSuul56t7Vy9WWgx06RA/ANDjyvlyu7l8/CLkt7OG2nmVySbEBziJfgGbkI8AMNk7H3drw6sDiIhsPeyX3/m4W8urTIAJNl8PqDs/ae6LyE1h6h0AAIXBNNPpiA/SMJEvNuagjWWCe3TlEfkIAOO9dv1g5ca9XmP0+OVzpf2Xnq/u5VEmX3DusY+FbaJEZJ0b7gAAAMCcRqdtixw9WbPItG0T7wnYgNwGAPOu3e7Uf3qzszp6/PvrlV02lp4f5zAkpERknSVlAAAAgDmZmLbNVHD4itwGAPNsXmbDZZzDkAabps5g4dQEAJjK1nHL1nKhGMg/mLL54PgXr1nH83pPH+Xdr3V/ft71yQK5DQDmLZVU/MrV2pbv55SscQ5DGtxwn4KdnQG4xtZxy9ZyoRjIP5i09ljQvXFv/HGb3tM3efdr3Z+fd32yQm4DQDaWSipm+Ri9OIchDZaUmYLpIgBcY+u4ZWu5UAzkX7Ed9mJ17Xan/tr1g5Vrtzv1w16sdL6/iWnbTAWfLe9+rfvzTdXHdP6nRW4D2bGt/wOu4xyGUdPGWZ5wn4LpIgBcY+u4ZWu5UAzkX3Fl8dSwiWnbTAWfLe9+rfvzTdTHxqfmyW0gGzb2f8B1nMMwbMo4u71UUtxwn4bpIgBcY+u4ZWu5UAzkX3FNe2pY5zRrE9O2mQo+Xd79Wvfnm6hPVvmfFrkNmGdr/wdcxzkMAzPGWZaUmYbpIgBcY+u4ZWu5UAzkX3Hl/RQ0zMm7X+v+fBP1If+B4qL/Z6soy/cUpZ5AEhPH2S+Ojoc//l79VRHZyrRUjigFSp57qtSuVVTUqKjouadKrR88u/SA6SIAbGXruGVruVAM5F9x7bT74a+2ouro8eeeKrXOnw6Z4eCwvPu17s83UR/yHygu+n92BstK/Pxer3H/i37lV1tRdeN+VH3uqVK7FPhzP7oo9QSSmjHOrrCkzAxMFwHgGlvHLVvLhWIg/4rpyvly+91Peo3h6Z7MbvBH3v1a9+frfj/yHygu+n92irJ8T1HqCSQ1a5zlhjsAAJDDXqzYAAi+YXMrFBn5DxQX/T87ppfvseUanWWKgOOmjLMiwg13AAAKb8oO61t8MYPr8n4KGsgT+Q8UF/0/GyY38bbpGj3vzcoBG00YZ5WIsGkqAABFN22KaF5lAgAAAGxnchNvm67R896sHHANT7gDAFBwTBEFACAZW5Z3AJCeif5rcvkem67RWaYIOhTpHMoNdwAACo4pogAAzGbT8g4A0jHZf00t32PbNTrLFGERRTuHhj/+Xv1VEdma58WHvVi9dbdbf/ujbn2n3Q/Pngp6pUBpLqI/iBdgDv0LmN/ZU0Fv435UbXXicHCsuRx0f/Ds0gP6EQDAVbqvD9+6263//F6vMXys1YnDWkVF50+H/EgNWMzF/ss1OnyyaB906J6PEpHm3E+4F+2XiUURL8Ac+hewGKaIAgB8Y+L60KblHQCk42L/5RodPlmkD7p4z2fuTVNt2rzBBcQLMIf+BSxuMEX0peere1cvVlq2XrgAAJCEievDScs4sAQbYD9X+y/X6PDFIn3QxXs+cz/h7uKvg3kiXrCJbxtV6OxfvsUGAACgiEx8/7pyvtx+95NeY/hLf3P56Hpx3vcEkA36r3v4bu6+4TZ8vKG6p+tBd6eVvg+6eE917hvutm3eYDviBVu4OBVnFl39y8fYAAAAFJGJ718s7wC4i/7rFr6bu2+0DUVEVuuq+999vbL3+X6/lKYPunhPde4lZa6cL7eby8crxq+DkxEv2MLFqTiz6OpfPsYGAACgiEx9/2J5B8Bd9F938N3cfePacLcVl8uhxGn7oIv3VOd+wp1fB9MhXrCFi1NxZtHVv3TFZtGpb7Nez9Q6AADclOYczvl+sRjw/Qv0IcBdPt63KBqdbejiOX3uG+4ij34d1FUY3xEv2MDFqThJ6OhfOmKz6NS3Wa9nah0AAG5Kcw7nfK8nBnz/Ki76EOA2X+9bFInuNnTtnD73kjIA3OTiVJys6IjNolPfZr2eqXUAALgpzTmc8z0xwGLIH8Bt3LdwX9HbcKEn3AEsJo9pji5OxcmKjtgsOm1q1usXeX9d+cb0XPOIcbHQ3kiLnMmG7jinOYczld7tGNBH8+dy/iB/9OF0TMTLx/sWRcsrH9swDW64AznJc5qja1NxsrRobBadNjXr9fO+v658Y3quecS4WGhvpEXOZMNEnNOcw5lK724M6KN2cDV/kD/6cDom4+XTfYui5pVPbZgWS8rACYe9WF273am/dv1g5drtTv2wF6u8y7Qopjn6adFpU7NeP+/768o38tY8YlwstDfSImeyYSLOac7hRZ+GLeJuDOijdnA1f0T8/O7rEvpwOkWJ16L9sihxwiM84Q7r+fpLINMc/bTotKlZr5/3/XXlG3lrHjEuFtobaZEz2TAR5zTn8KJPwxZxNwb0UTu4mj++fvd1CX04nSLES0e/LEKccBw33GG9ab8Eujw1hWmO/lp02tSs18/z/rryjbw1jxgXC+2NtMiZbJiKc5pzeJGnYQ+4GAP6qD1czB9fv/u6hD6cThHipaNfFiFOOI4lZWA9X38JdHmaI9yjK9/IW/OIcbHQ3kjLhZzxYTkEF+IMO5E7WISv331dQh9Opwjx0tEvixAnHKfu/KS5LyI3RYTpSbDStdud+k9vdlZHj39/vbLr+q/8RdulGvnSlW/krXnEuFhob6Rlc86MTrsWOfpC6eJyCDbHGXYjdzAvn7/7uoQ+nI7v8dLVL32PE76kRGSdG+6wnk9f3AAAAHzGzSIAmB/ffQH70C+REjfc4Q5+CQQmo38As7nUT1wqK/Txpd1fu36wcuNerzF8LIpFTi2p3u80w0OX6wYAWfDlfAD4hH6JFLjhDgCu49d2YDaX+olLZYU+PrX76BPuUSzywW969a80gu5gYzBX6wYAAADMoERknU1TAcBh03ZMz6tMgG1c6iculRX6+NTuo5uCDerVXFbHjrlYNwAAACCJUt4FQL6KNi2maPVNw4bY2FAG1+jYMR3ZsjXPbS2XDi71E5fKCn18avelkopfuVrbGown9a1oqdlQ3TBQx/5unrq5Mk65Us5xbCi7DWUAAABYBDfcC2x0+vKNeyLvftJr+DrFt2j1TcOG2NhQBhetPRZ0b9wbfzz70mAWW/Pc1nLp4lI/cams0Me3dl8qqXiwQeqkTVTT1s2VccqVco5jQ9ltKAMAAMCiwh9/r/6qiGxl8WGHvVi9dbdbf/ujbn2n3Q/Pngp6pZGnXUy+Hse9dbdb//nIplatThzWKio6fzp08gveNIP6RrHIZw/75c8e9su77bi0Wgu6X3vcnvrmkec25IINZXDR2VNBb+N+VG114nBwrLkcdH/w7NIDxkf72JrntpZLl0n95J/7gp3QAAAgAElEQVRcqnzxzsfdmk3XFUn7NNdE2dIR72nv4fNYrqturoxTrpRzHBvKbrIMjJsA8sQYZBbx1cu1eFpWXiUizcyecF/0aQWedtDPp+nLSWw+6JcHG3e1h770/ed3D868cKHcsiGP8spzG3LBhjK4aHTqPlOv7WZrnttaLl3G9ZNnnywd/MVbB2dsu65I0qe5JsqWjnjPeg+fx3JddXNlnHKlnOPYUHZTZWDcBJAnxiCziK9ersXT1vJmtmnqoptB+bSZlC0mTeV1dfryLGuPBd2th/3y8M12EZEoEmVLHuWV5zbkgg1lcNVg6v5Lz1f3rl6sWPHjEcazNc9tLZdOo/3kvU97VVuvK2b1aa6JsqUj3knew+exXEfdXBmnXCnnODaU3VQZGDcB5IkxyCziq5dr8bS1vJndcF/0aQUbnrjwzZXz5XZz+fjFa3P56KmjvMpk0pXz5Xao5NgXvFpFRc1l1bUlj/LKcxtywYYyAKbZmueTyvXsk6WDa7c79deuH6xcu92pH/Zie+cRpuTydYXJsh/2YpVVm0/7rCzLMYuOeI/+bRSLbH7RL//1e4eredfPFbaOn6PSltOmXLchxqbK4PKYD8B9jEFmEV+9XIunreXNbA33nXY//NVWVB09/txTpVaS9fgWfT1OKgVKnnuq1K5VVNSoqOi5p0qtHzy79MCnJ6qGlQIljSXpfrLTXyqXVL/ZCLpfezw4DI/iYEUe5ZXnNuSCDWUATLM1z8eV659cqnzxF28dnPn5vV7j/hf9yq+2ourG/aj63FOlts3r9yXl8nWFqbIPpmNm0ebTPivqS2blSEJHvIffY7C83fbDfqUSqvj+F/2KT33LFFvHz1Fpyplln9NddtfK4PKYD8B9jEFmEV+9XIunheXNdg33K+fL7Xc/6TWGH/NP87TCoq/HeIMpvnmXIysvXKi03/s0atmaR3nmuQ25YEMZANNszfPRcl273alPmppnY/nTcvm6wlTZp03H1N3ms6Z+2pR7OuI9/B6D5e0Gs+xE/OpbJtk6fo5KWs4s+1xSNsTYRBlcHvMBuI8xyCziq5dr8bS1vJk94b7o0wo2PHGBI5bt/puK7Xk0T/lcbg8TXI2Hq+WGv97+qFu//0W/Mnq8UVHR+hOlwzzKpJPt54NpTJU9yzaf9ln7h3FoU+7piPfwe9zbjSqVUMWDWXYDpuqn6/zCeUo/38dZm7g85gNwH2OQWcRXL9fiaWF5lYg01Z2fNPdF5KaIWBk42GV091+Ro1+O8t79t6hoj+NcjYer5Ybfrt3u1H96s7M6evz765XdvJ9+hBlZtvm0zxIR8Tn3soyzrvML5ykzGGcBAAC8o0RkPbNNU+EHW3f/LSra4zhX4+FqueE3GzbPQ7aybPNpn+V77mVZP13nF85TZvie6wAAAEWV2Rru8IOtu/8WFe1xnKvxcLXcyN9hL1bvfNytbT7ol9ceO7pJs1RS8aTjSV8vcrSG7itXa1tJ3gfJJG2XvGTZ5rM+S0c5bIr3aFn++Peq2+992quaLpuu84vP56k886To46xNfRQAAEAnbrgjlbXHgu6Ne+OPZ18a0B7HuRoPV8uNfI0u8XDjnsi7n/Qaf/x71e2/eOvgzOjx0aUfJr1++O9s2DzPF0nibYMs23zaZy1aDpviPaEsg+VYjMZa1/nF1/OUDXlS1HHWhtgDAACYwpIySIWpr3ahPY5zNR6ulhv5evNOt/7ep7367e1oafOLfjmKj5Z4+E9/f7CaZOkHlojIFvHOlk3xzrMsus4vvp6nbMqToiH2AADAZzzhjlSKPvXVNrTHca7Gw9VyIz+HvVj953cPznz0eVQdHPvsYb/8zBOl1t3tqFoK1YnXjC794PMSETYi3tmyKd55lkXX+cXX85RNeVI0xB4AAPiMG+5IrahTX21FexznajxcLTfy8c7H3VoUybG76u1OHG497JevnC998evdfnX0NaNLP/i6RIStiHe2bIp33mXRdX7x8TyVd9sUGbEHAAA+Y0kZAAAcs/mgX24uq26toqLh46GS+H/8VnU3ydIPvi4RYSvinS2b4m1TWXAcbZMfYg8AAHym7vykuS8iN0XE6SmhAAAUxbXbnfpPb3ZWo34sWw/jcqsbB/Wy6v/zby999vtPL7UOe7FKsvRD0r+DHsQ7WzbF26ay4DjaJj/EHgAAeEiJyDo33AEAcMxhL1b/9lq7ObzhXHM56L5ytbbFzQoAAAAAAHKhRGS9MGu48wQF8Aj9ATYiL5PzdQNDuMmXvutLPQDX0RcB+MjGsc3GMgG+KMQT7jwJCDxCf4CNyEvATb70XV/qAbiOvgjARzaObTaWCfCEEpH1Qmya+s7H3drwICIisvWwX37n424trzIBeaE/wEbkJeAmX/quL/UAXEdfBOAjG8c2G8sE+KQQS8psPjg+iMw6DviM/oBF6Zh6OPoev97tV8b9HXkJTJf3VGBfzikm6pF32+SpyHXHYnwZUwBgmI1jm41lAnxSiBvua48F3Rv3xh/PvjRAvugPWMTo1MMb90Te/aTXSDP1cNx7HHRjVS6pOFTH/5a8BCbT0R8X5cs5RXc9bGibvBS57licL2MKAAyzcWyzsUyAT8Iff6/+qohs5V0Qk86eCnob96NqqxOHg2PN5aD7g2eXHpQCNe2lgHfoD9k47MXqrbvd+tsfdes77X549lTQ8yG+b93t1n9+r9cYPtbqxGGtoqLzp8NEF2fj3kMpkW4kqjR0x31cXvoWV9/qs6g08Rj3t1FfMo1nkvKabONBX4pikc8e9sufPeyXd9txabUWdL/2eLL+uKgszykmY6m7HjrGSlcVue55s+2cMk95uE4F4CMbxzYbywR4QolIsxCbpoowtRUYRn8wy+cNaF67frByY+RGiojI5XOl/Zeer+4t8h7PrIX7T50Ou5Py0re4+lafRaWJx7i/Xa2rrhIlO61s4pmkvKbb+LXrByvv/rrX+OA3vXp76MvSxWbY/t9eOvVxVnmUxTkli/6isx46xkpXFbnuebLtnLJIebhOBeAjG8c2G8sEeECJyHohlpQREVkqqfjqxUor73IANqA/mDVtAxrX465j6uGk93jqdNidFh/f4upbfRaVJh7j/nbjN1FdlMjaqUe5aDKeScpruo3XHgu6Wxv98vDNdhGRKBKVZR5lcU7Jor/orEeRp2kXue55su2cskh5uE4F4CMbxzYbywT4Isi7APDLYS9W12536q9dP1i5drtTP+zFzEXKkCvxd6Wc8/J5A5pnnywdHHRjdXs7Wtr8ol+O4qMn1q6cL7eTvseV8+V2c/n4jZck7+FbXH2rz6LSxGPcsVY3Dlqd+MR1jal4Jimv6Ta+cr7cDtXxGYq1ioqay6rrWx651l/mHed8UOS65ymLPpLm+s21PjuJ79esAADAjMI84Q7z2CQrX67E35VyLsLXp/sOe7H6i7cOzpRDietl1W914qDbi9Uf/151O03bLZVU/MrV2lba6Yu+xdW3+iwqTTzG/W29rPoy5jaIqXgmKa/pNl4qqfiPvrW09R/fPvxKqxsH9bLqN5dVNwyUd3nkWn+Zd5zzQZHrnifTfSTt9ZtrfXacIlyzAgAAM3jCHdpMmzqaV5mKxJX4u1LORfj6dN+g7QY38y6eCQ+rZRW/92mvmva9BtMXX3q+unf1YqWV5Iurb3H1rT6LShOPcX976Ymwtb5WOjYl1mQ8k5Q3izZ+4UKl/ey5UuvimfBw7bGgGwbKyzxysb/MM875osh1z4vpPpL2+s3FPjuqCNesAADADJ5whza+TB11lSvxd6Wci/D16b682863uPpWn0WlicekvxU5ukGSRTyTlDeLNi5KHhWlnsC8TPeRtNcAPvTZvK97fMCGjAAAm5k8T3HDHdr4MHXUZa7E35VyLsrHDWhsaDvf4upbfRaVJh6T/jbLeCYpbxZtXJQ8Kko9gXmZ7CPzXAO43mdtuO5xGUvyAABsZvo8xZIy0MaHqaMucyX+rpQzrSJsqmW67UzEsAjtAr+RwwBs4Ov12zRFrLNOLMkDYBauc5En0+cpdecnzX0RuSki/MqMhTFtMF+uxN+VciY1+suoyNEXMh+f4DHVdiZiWKR2gZ/IYQA28e36LYki1lmX164frNy412uMHr98rrT/0vPVvTzKBMAeXOcibwbPU0pE1llSBlq5PnXUda7E35VyJjXtl1Gf6iliru1MxLBI7QI/kcMAbOLb9VsSRayzLizJA2AarnORN9PnKW64AziGJ3nSG7d5VhSL/H+/6i77EEedOTHpvUxsTMZmZ3BdFjnMmK+XDfG0oQwm2F6vtOWb9ffj/l1k+sbQtscIyfnQllfOl9vvftJrjD69ypI8AET4rob8mT5PsaQMgC8xrWs+12536j+92Vkd/P8oFvngN736VxpBd/DrqKtx1JkT097rnY+7teEYDnx/vbI77xMOo+2i4z2BLJnOYcZ8vWyIpw1lMMH2eqUt36y/H/fvq3XVVaJkp5X8NTbFCMn51JY+/HAAwAy+q8EGhs5TSkTW2TQVwJfY3Gg+o5tqDWLYXFbHjrkYR505Me29TGxMxmZncJ3pHGbM18uGeNpQBhNsr1fa8s36+3H/vvGbqH5zs1dP8xqbYoTkfGrLwZI8Lz1f3bt6sdLiZjuAAb6rwQYmz1MsKQPgS0zrms9SScWDp7Q3H/TL9a1oqdlQ3TA4vsm6i3HUmRPT3muppFrDMdQxHX+0XUw9WcXTWzDFdA6n6d/k+Wy/3u1XNr/ol1udOKhXVL+5HHRDle3Y7+t5PG29ss7XtOWbdXzcv7e68dgHpaa9Ztpx2Iu2BFAEWX1XA/LCDXcAX2Jzo/kNb6o1aXqci3HUmROz3ivNxmSj061v3BN595NeY3S6tenNzpKWA5iXyRxO2r/J89kOe7H6+4+7jY8+j6qDY5897JefeaLUynLs9/U8nqZeeeRr2rjP+vtx/14vq76odK+ZVgbYi7YEUBRsTA2fsaQMgC8xrUsPn+Kosy4638uW6da2lAOYR9I+SZ7P9s7H3Vo5lLhWUdHgWLsTh91erLIc+306/wxLU6888jVt3Gf9/bh/v/RE2FpfK7XSvMaHti8i2hIAAPeFP/5e/VUR2cq7IADyVwqUPPdUqV2rqKhRUdFzT5VaP3h26QFPMKbjUxx11kXne739Ubd+/4t+ZfR4o6Ki9SdKh2nfb162lAOYR9I+SZ7P9vZH3fpnD+PKmYbqlkMVl0uq32wE3asXyw+ee6p8kFU5fDr/DEtTrzzyNW3cZ/39uH//H75ZffDtr5ZbaV7jQ9sXEW2JWQ57sXrrbrf+9kfd+k67H549FfRKwZgpMAASM9Gv6KvZsyTmSkSa6s5PmvsiclNEOIEDAJxgy672tpQDMIk8n40Y2YO2AOCz0WWzRI5mQLDMGzA/E/2Kvpo9i2KuRGSdJ9xReJb8AlYIxNocF2M7q8zT/v3sqaC3cT+qtjpxOPj70/Wg+5Vl1f37j3uZxWBcOZrLQfcHzy49sD3+WXAxL5PwtV6TkOezLRKjrPPJh/xNe35Ik68+xAeAv966263//F6vMXys1YnDWkVF50+HrPMPzMFEv6KvZs+imPOEO2DRL2DeI9bmuBjbWWVOUqfDXqwGu9o/3gh613/dre+24sxjMFyOtceO1li1Ne5ZcjEvk/C1XrOQ57PNE6Os88mH/E17fkiTrz7EB4DfXrt+sHJj5IaSiMjlc6X9l56v7uVRJsB1JvoVfTV7FsVcicg6m6ai0NgILjvE2hwXYzurzEnqNNjV/qXnq3vlUOLhm+3j/t6U4XJcvVhpcVPmiIt5mYSv9ZqFPJ9tnhhlnU8+5G/a80OafPUhPgD8tvZYMPYpzUnHAcxmol/RV7NnW8y54Y5C23xw/EvVrOOYH7E2x8XYzipz2jq5GAPf+domvtYLyR32YnXtdqf+2vWDlWu3O/XDXjz3eiNZ55MP+WuyDj7EB4Dfrpwvt5vLx28eNZePZvLkVSbAdSb6FX01e7NirvMaPomSyTcHbLf2WNC9cW/88exL4zdibY6LsZ1V5rR1cjEGvvO1TXytF5IZXXLkxj2Rdz/pNeZdciTrfPIhf03WwYf4APDbUknFr1ytbbHMG6CPiX5FX83etJjrvoZPgifcUWj86pgdYm2Oi7GdVea0dXIxBr7ztU18rReS0b3kSNb55EP+mqyDD/EB4D+WeQP0M9Gv6KvZmxTzPJYNZNNUFJ6vG8HZWC8by+QLF2M7q8xp6+RiDHzna5v4Wi/MZmIzpqzzyYf8NVkHH+IDAACARzLeUFWJyPrghvsvRKSv+QMA5OS302XODP+C11wOuq9crW3zpREAgPlcu92p//RmZ2X0+PfXK3tXL1ZaeZQJAAAAwGQZX8MHIvKNwRru39D85gBy9P6nvaDVicN65dEeEK1OLO9/2jv7rfNlflwDAGAO3z5fll/cj0pbD/tfnmCby0H87fPlExfwAAAAAPKXxzV8SUQ+MPXmAPJx9/NopdWJT0yXuft5tP+t82Xd02UAACiESknJy9+unlhypMLsMQAAAMBKeVzDqzf/l1OnTb05gHz8y/+wf+XXe/0/HD3+1ErwX//dy4138igTAAAAAAAA4Dv1+suVv8u7EAD06kSx+quNfnP3MP5yDffVJdX94aVgqxKafwqvE8VqYyuubbfj8pma6l5qqnYWnwvkgXxPjlhlgzgDAHzFOQ4A4AL1+suV/bwLAUC/bhTLhztxsHMg6nRV4t85rfrlUM1+oYbP/S8f9ku7h/GXH7a6pOL//neCXhafD2SJfE+OWGWDOAMAfMU5DgDgisGmqb8QETZSBDxSDpWsN7O/8Ly5Fdd/sx8f23jiN71Ybm7Fe5fXlO7dn4Fcke/JEatsEGcAgK84xwEAHBCIyDcGN9z7ImLNNCymiZlBXJGF7XZcmnKcfHMU48d45HtyaWNVlJzTXc+sctK29rGtPIAJPuW563Vxvfyu4rrLHHIaALTpizx6wt0ao2tP39qJZWNbNbJae9pXxBVZOVNT3Vs7J1PqTE11cygONGD8mIx8Ty5NrIqScybqmUVO2tY+tpUHMMGnPHe9Lq6X32Vcd5lBTgOAfkHeBRi1sRXXhjd6FBHZPYzLG1txLa8y+YC4IiuXmqq9unT8ond16egpibzKhMUwfkxGvieXJlZFyTkT9cwiJ21rH9vKA5jgU567XhfXy+8yrrvMIKcBQD/rnnDfbh8f6GcdRzLEFVmphCr+4aVgiymJ/mD8mIx8Ty5NrFzJuUWnX5uoZxY5aVv72FYewASf8tz1urhefpdx3WUGOQ0A+ll3w51pYmYQV2SpEqqYjYv8wfgxHfmeXNJYuZBzOqZfm6qn6Zy0rX1sKw9ggk957npdXC+/67ju0o+cBgD9rFtShmliZhBXAPNi/EDWXMg5HdOvXajnOLaV27byACb4lOeu18X18gOjyGkA0E+9/nJlX0RuikW7erNDthnEFbCX7f3T9vLBP7bn3Bt3opVbO3Fj9PjTp9X+ixfCvaTvY3s9J7Gt3LaVZxwXygi7+ZRDrtfF1fK7Wm6YR27AdeQwLKJEZN3KG+4AUCSjS1OIHD1VkmZpCgDZurHZr795r786evyFc8Hu5bWAqe44hnEeQN4YhwD4ivENllEish7+6JvhqyKyleUnd6JYvf9ZXP9gq1//4lDC0zXphYHKsggYg3bRh1hiknG5sbEV1z7cPf6k7EEkYTVU0dqy22sn0hfSyTteeX++S07XpHd3V6oHkYSDY6tLqvvdrwYPiBlGvf9ZXPd1nAfgBsYhAL5ifINllIg0M980VccmY9CPdtGHWGKSSbmxWpWxFwHb7ePrQ7uGvpBO3vHK+/NdUwlV/MNLwRZTV5HEpPHc9XEegDsYhwD4ivENNsp801Qdm4xBP9pFH2KJSSblRqs7fiw+U3P713j6Qjp5xyvvz3dRJVTx5bWg9eKFcO/yWtDiZjsmmTSeuz7OA3AH4xAAXzG+wUaZP+HOL092ol30IZaYZFIO1MtxtLqkuqNrzl1qqnZ2pdPP9r5g28Y6aeOlu/y2t1cR2ZajmN+lpmpvbKuGb+M8ioUxyW2MQwCykvX5wtfxzdXzrqvl1i3zG+5naqp7a+dknPnlKV+0iz7EEpNMyo21RtD9/a+pB76dlGzuCzYun5ImXibKb3N7FZGNOYr5sQQRXMeY5D7GIQBZyON84eP45up519Vym5D5kjKXmqq9unT8y7sPvzy5jnbRh1hikmm54ePSFDb3BRuXT0kTLxPlt7m9isjGHMVifBznURyMSX5gHAJgWl7nC9/GN1fPu66W24TMn3D38ZcnH9Au+hBLTFK03LC5vjYun5ImXibKb3N7FZGNOQqguBiTAABJcL7Qw9U4ulpuEzK/4S4y+OVJtfL4bExGu+hDLDFJ0XLD1vraunxK0niZKr+t7VVEtuYogGJiTAIAJMH5Qg9X4+hquU3IfEkZAADy5vryKa6XH7PRxgBswpgEAEiC84UersbR1XKboF5/ubIvIjdFhCnjALxjcodsdt92m+vt53r50yhSXYf5Xm/f6zesSHWFv8hjAEASnC/0cDWOrpZbIyUi69xwB+Ct0R2yRY5+XdWxQ7bJ9wbwCH3NT0Vq1yLVFQAAACg4JSLrLCkDOKATxerGZr/+xp1o5cZmv96JYpV3mVxgcodsdt+2C33EX/Q1PxWpXYtUVwAAFsE1PRZB/sAmuWyaCiC50Sfjbu3EsrGtGjwZN5vJHbLZfdse9BG/0df8VKR2LVJdAQCYF9f0WAT5A9vwhDtgOZ6Mm9+knbB17JBt8r2RDn3Eb/Q1PxWpXYtUVwAA5sU1PRZB/sA2U2+4Mx0DyB9Pxs3P5A7Z7L5tD/qI3+hrfipSuxaprgAAzItreiyC/IFtJi4pw3QMwA5naqp7a+dkl+PJuNkqoYp/eCnYMrFDtsn3Rjr0Eb/R1/xUpHYtUl0BAJgX1/RYBPkD20y84T5tOsblNdUyXzQAIkdPxm1sq8Zwf+TJuOQqoYpNjVkm3xvJ0Uf8R1/zU5HatUh1BQBgHlzTYxHkD2yjXn+5si8iN0Xk2E9Bb9yJVm7txI3RFzx9Wu2/eCHcy6qAAI5mnPj6ZJzPdUN2yCMAyI6tY66t5QIAJMM4ng1f42xTvWwqi+08jJUSkfWJN9xvbPbrb97rr46+6oVzwe7ltYAndAAsbHTpKpGjX6FZugoAADvZeu62tVwAANiE86V5xDg5T2OlRGR94qapbPAEwDR2EgcAwC22nrttLRcAADbhfGkeMU7O51hNXMOdDZ4AmMZO4rN5OL3KasQbwDDXxwQT5U967s46dlxTAAAwG+dL84hxcj7HauINdxE2eAJgFjuJTzc6verWTiwb26rh+PQqaxFvAMNcHxNMlT/JuTuP2HFNAQDAbJwvzSPGyfkcq4lLygCAaSxdNZ3P06tsRLwBDHN9TDBV/iTn7jxixzUFXNGJYnVjs19/4060cmOzX+9Escq7TACKg/OlecQ4OZ9jNfUJdwAwiaWrpvN5epWNiDeAYa6PCabKn+TcnUfsuKaAC1yfOQPAfZwvzSPGyfkcK264A8gVS1dN5vP0KhsRbwDDXB8TTJZ/1rk7r9hxTQHbTZv9Qe4CyArnS/OIcXK+xoob7gBgqUtN1d7YVo3hL2a+TK+yEfGGTfLcrNPWjUKzLpdtY8Ks+o/++8XTcrCxrbrD5T9VkW6vH8sbd6KVlSXpxiLqwaGUdMfTttiZtGhezvN6W/soZnN95owO5C+AAcYD+Ey9/nJlX0RuighJDQCW4SIkW8QbNhhdckDk6GZlFksO5PnZNpbLljFhVv0n/fs/fVpt396R6nY7Lj+2JL1fbsf1L7pSjvqx3NmVuojIhVXVCgP98bQldiYtmpfzvN7WPopkbmz262/e66+OHn/hXLB7eS3w7um+UeQvgAHGA3hMich6+KNvhq+KyFbepQEAnBQGStaWVffCanC4tqy6YcC+WiYRb9jg/c/i+oe7cWP42EEkYTVU0dqy2SU58vxsG8tly5gwq/6T/r1RVr3La0HrwmpwuNWS8q/2jv5m50DKe4dxJYolKAcS18qqrzuetsTOpEXzcp7X29pHkczpmvTu7kr1IJJwcGx1SXW/+9XggY99ZBT5C2CA8QAeUyLSZEkZAACACfJ4SjfPJQdsXe7A1nJlZVb9k8Rn+L8PexIM/vtg6L+LEk9dFs3LeV5f9L7gOp83h0uC/AUwwHgA3wWz/wQAAKB4BlNd37zXX721EzfevNdf/auNfrMTxUYfQ5y0sWQWm3Xm+dnT2FqurMyqf5L4DP/3Ukn6g/+uDv13UeKpy6J5Oc/ri94XfHC0OVzQevFCuHd5LWgV5Wa7CPkL4BHGA/iOG+4AAABjbGzFteF1JUVEdg/j8sZWXDP5uZeaqr26dPzLRlYbTub52dPYWq6szKp/kvgM/83qknSXQhUthSpaqQ6OFSeeuiyal/O8vuh9AW4jfwEMMB7Ad2yaCgAAMMYbd6KVWzvH15YUEXn6tNp/8UK4Z/Kz89xwMuvPTvp5RdiEc5pZ9U8Sn+G/WVmSbiyiHhxKqYjx1GXRvJzn9UXvC3Ab+QtggPEAnlIiss4NdwAAgDFubPbrb97rr44ef+FcsHt5LWjlUSbfDJbtGZ5JsLqkuj+8FGzxhQsAAACAY5SIrLNpKgAA0ManJ1UuNVV7Y1s1Rm8GZzHV1ac4TjNt2Z7La8qKHzV0t4WOJ9Vt/jzoRfsA/qOfA4B/eMIdAABo4ePTynl8CfYxjpPkuWxPErrbYtb7uf550Iv2AfxHPwcA7ygRWWfTVAAAoEVem4yaVAlVfHktaL14Idy7vBa0svjy62McJzlTO75Z1qzjWdPdFrPez/XPg160D+A/+jkA+IklZQA4ryjTMItST7hru338C+Os4xivSHHMc9meJHS3xaz3s3E4F7gAAAvnSURBVOXzNvfjimz2xdWNPCeVZVoZR//t4mk5uL0j1UX/dhFFGguAoqKfA1iETddfOI4b7gCcNjoN89ZOLBvbquHbNMyi1BNuO1NT3Vs7J9PRlqeVXVGkOFZCFf/wUrBl6xcF3W0x6/1s+LyoL7KxHTfu7MV1kWTnG5vOUZPK8k+fVtt/fSs+M66MIiLDr9nY7sv/eVOW1pbVYRjM/7eL1r1IYwFQVPRzAPOy6foLJ7GkDACnFWUaZlHqCbddaqr26tLxL4g2Pa3siqLFMY9le5LS3Raz3s+Gz4v6okpBfKwNZp1vbDpHTSrLz27Hq5PKOPqa3UMp7x7Glb2D4WPp/3bRuhRtLACKiH4OYF42XX/hJJ5wx0xMUYEuJnLJhWmYOurtQj0B259WdgVxtIfutpj1fjZ83uZ+v3xnT53YyHba+camc9Skz/z0Yb8aBirR3x/2jh5KOugdfzhp0b9Ni7EA8B/9HCi2Re4V2HT9hZO44Y6pmKICXUzlku3TMHXV2/Z6AgNHTyurVt7lcB1xtIfutpj1frl/3qbU7+z1T/zdtPONTeeoSWV5cjk4uN+Kq+P+XuTo/DywVJK+iEj1t/+7yN8uirEA8B/9HCimRe8V2HT9hZNYUgZTMUUFupjKJdunYeqqt+31BAD4YZ7zjU3nqEll+YOLandSGUdfs7ok3dUl1VmpDh9L/7dmaggAAHyw6L0Cm66/cBJPuGMqpqgshuV4HjGVS7ZPw9RVb9vrCRQRYzx8NM/5xqZz1LSy/PBSPLGMx18TdC+eloPbO1Jd9G8BAADGWfRegU3XXziJG+6Yiikq82M5nuNM5pLN0zB11tvmegJFwxgPn81zvrHpHDWpLNPKOO7fLq/Jwn8LAAAwjo57BTZdf+E4lpTBVExRmR/L8RxX1Fwqar0B3zHGAwAAAJgX9wr8xhPumIopKvNjOZ7jippLRa034DvGeAAAAADz4l6B37jhjpmYojIfluM5qai5VNR6Az5jjAcAAACwCO4V+Isb7jlgk7ViuNRU7Y1t1RgsORD1RaK+qM39flk2pU67m0MfAyajf+gxOsaLJJsCSvwB6MBYAgDIEucd+9AmdlOvv1zZF5GbIkKjZGB0kzWRoy/obLLmp8EAuLkfVza240YpiOMwUCJCu5tCHwMmo3/olfYil/gD0IGxBACQJc479qFNrKZEZJ1NUzPGJmvFcjQ9KGitNVRnqSRf3mwXod1NoY8Bk9E/9BqM8S9eCPcurwWtWRe3xB+ADowlAIAscd6xD21iP5aUyRibrBUT7Z4dYg1MRv/IF/HPB9Nt4RvGEgBAljjv2CfrNuF6+pGkseAJ94xN2kyNTdb8Rrtnh1gDk9E/8kX8szeYbvvmvf7qrZ248ea9/upfbfSbnShWs18N2ImxBACQJc479smyTbiefiRNLLjhnrFLTdVeXTreAZJssga30e7ZIdbAZPSPfBH/7DHdFj5iLAEAZInzjn2ybBOupx9JE4vwR98MXxWRrcxKV3BhoOTpx1W7GqqoVpLo648Hre9+NXhQ1KkYReFzu3eiWL3/WVz/YKtf/+JQwtM16Q2vVZ81n2Oti21t5gJfYkb/yBfxz1YnitXPbvdPf7QX17qRBJVQ9QfdtlaS6MJqcKjjM3wYG5IoUl1tx1iSH/oBgCLivGOfLNvkg61+/fMDqYwe13U97ZKEsVAi0lSvv1zZF5GbIkJHAZAKO2O7hzZLj5gB7hn02w93+/XNh3FVRGQpVNGFVdUKA5EXzgW7l9eClo7PKMLYUKS6ApPQDwAARXRjs19/815/dfS4jutp1ySMhRKRdZaUATA3pha5hzZLj5gB7hn029Ul6S6FKhIROYzicO8gLuuabluksaFIdYV+nShWNzb79TfuRCs3Nvt1V9d8pR8Ak/nSzwGclHT5GlfHgTTlTrOUT8lEYQEUA7uVu4c2S4+YAe4Z9M8wUHJhNW7tHqryYU+Cc6dUW9fTqEUaG4pUV+g1+lT4rZ1YNrZVw8WnwukHwHg+9XMAJ1VCFf/wUrC1sRXXtttx+Uzt6AbzcP92dRxIW+4ksRjgCXcAc2O3cvfQZukRM8A9w/0zDJScqanuuVPq8Pm14KGui/4ijQ1Fqiv08umpcPoBMJ5P/RzAeJVQxZfXgtaLF8K9y2tBa/R62tVxYJ5yz4rFQEnk6I5+krvzJtlQBl18qotJvsfJ9/qJHE2n2dhWjdG1LE3tVl6EmJqWdZv5wLWY0U9gs6zyM4t+69rYsIgi1RV6+fRUOP0AGM+nfg5gPq6OAybLrf6P/6m8/3/9or+1e5Df5i8+bUDjU11M8j1OvtdvWFY3T4oUU9O4IZueKzGjn8BmWednFv3WlbFBhyLVFfr4ttEa/QA4ybd+DiA9V8cBQ+VWIrIe/sNzwf/6i8/jzvC/HEQSVkMVrS1nMz3u/c/i+oe7cSPPMujiU11M8j1OvtdvWBgoWVtW3QurweHasuqGgZl9MYoUU9OyajOfuBIz+glslnV+ZtFvXRkbdChSXaHP6Zr07u5K9SCScHBsdUl1v/vV4IGLOUQ/AE7yrZ8DSM/VccBQuZWINEs7BzL2HbJ87D+vqQcmnlCYVObN/bgim33haYgjrk43Scr3+uWBmCbDk1fFRj+BzchPoHjSbC4GwE30cwCujgO6yj1yH6a33lRSOl2VsW+S5eYvZ2qqe2vnZDFMlsHUDrrj6hL1RTa248advbiu87NclkebZ8n3+uWBmM7m6s7g0Id+ApuRn0AxHW0upqydTg5gcfRzAK6OA4uWe9x9mLt7qhT8zmnVX60e/6KT9eYvl5qqvbqUbRlM7aA7ri5RX1QpiI99w3Rht16T8mjzLPlevzwQ09lc3Rkc+tBPYDPyEwAAAIBPJtyHUeGfPFd69enH1cfVUPVqJYm+/njQ+u5XgwdZPg0ZBkqefly1q6GKsirDB1v9+ucHUhk9XitJdGE1OJz3fcfVpVqKowcdpf2zXJZHm2fJ9/rlgZjOZmpcgzvoJ7DVYJplFMdSCVX/K3XVuXQm2Cc/AQAAUDSdKFbvfxbXP9jq1784lPB0TXo2r3XuWnmzNO4+TCmQeknEjsf+sy6DyWnNJ+qyKfU7e30jn+UyG/LOJN/rlwdiOh3LNUCEfgL7jE6zFIlldUl1f/9rao+b7QAAACgS15aCda28WZt0HybIoSxWyHJaM1Oogdk6UaxubPbrb9yJVm5s9uudKObn0pQYawDYiOWuAAAAgCOuXRu7Vt6sTbgPE5fyKlDestxB19XdeoGs8IupHow1AGy03T5+gT7rOAAAAOAr166NXStv1sbch+mtN9VKYW+4i2Q77Z4p/sBk034xpd+kw1gDwDYsdwUAAAAcce3a2LXy5mHkPowSKfCSMgDswS+mAOAvlrsCAABIhqVW/Zfm2tiGfOBafj7q9Zcr+yJyU0RYcgBALm5s9utv3uuvjh5/4Vywe3kt4GltAHBcJ4oVy10BAABMdnKj+aMbmyy16p8k18Y25QPX8qkoEVkv9JIyAOxwqanaG9uqMXoi4RdTAPADy10BAABMx1KrxZHk2timfOBaPj1uuI/gVxsge3lt9kl/R56Kmn9FrTfsQy7CJPILAJAWS61iGPngNm64DxmdrnFrJ5aNbdVg+g5gXta/mNLfkaei5l9R6w37kIswifwCAMyDzSkxjHxwG5umDpk2XSOvMgEwg/6OPBU1/4pab9iHXIRJ5BcAYB5sTolh5IPbeMJ9CNM1gOKgvyNPRc2/otYb9iEXYRL5BQCYR15LrcJO5IPbBjfcAxHp51kQG5ypqd6E6Ro9OdplFoAn6O/IU1Hzr6j1hn3IRZhEfgEA5lUJlVxeU20RGX6KmXNHQZEPTgpEHt1w/0aOBbHGelPJ3T1V2j2Mv0ze1SUVrzfVSp7lAqAf/R15Kmr+FbXesA+5CJPILwAAgGJTr79c+bu8C2GTThQrpmsAxUB/R56Kmn9FrTfsQy7CJPILAACguNTrL1fYvAcAAAAAAAAAgAWpOOZBCwAAAAAAAAAAFhXkXQAAAAAAAAAAAHzADXcAAAAAAAAAADT4/wHztB3+PUX84QAAAABJRU5ErkJggg==",
          "x": -1,
          "xref": "x",
          "y": 271.32,
          "yref": "y"
         }
        ],
        "margin": {
         "b": 40,
         "l": 50,
         "pad": 0,
         "r": 30,
         "t": 80
        },
        "template": {
         "data": {
          "bar": [
           {
            "error_x": {
             "color": "#2a3f5f"
            },
            "error_y": {
             "color": "#2a3f5f"
            },
            "marker": {
             "line": {
              "color": "#E5ECF6",
              "width": 0.5
             }
            },
            "type": "bar"
           }
          ],
          "barpolar": [
           {
            "marker": {
             "line": {
              "color": "#E5ECF6",
              "width": 0.5
             }
            },
            "type": "barpolar"
           }
          ],
          "carpet": [
           {
            "aaxis": {
             "endlinecolor": "#2a3f5f",
             "gridcolor": "white",
             "linecolor": "white",
             "minorgridcolor": "white",
             "startlinecolor": "#2a3f5f"
            },
            "baxis": {
             "endlinecolor": "#2a3f5f",
             "gridcolor": "white",
             "linecolor": "white",
             "minorgridcolor": "white",
             "startlinecolor": "#2a3f5f"
            },
            "type": "carpet"
           }
          ],
          "choropleth": [
           {
            "colorbar": {
             "outlinewidth": 0,
             "ticks": ""
            },
            "type": "choropleth"
           }
          ],
          "contour": [
           {
            "colorbar": {
             "outlinewidth": 0,
             "ticks": ""
            },
            "colorscale": [
             [
              0,
              "#0d0887"
             ],
             [
              0.1111111111111111,
              "#46039f"
             ],
             [
              0.2222222222222222,
              "#7201a8"
             ],
             [
              0.3333333333333333,
              "#9c179e"
             ],
             [
              0.4444444444444444,
              "#bd3786"
             ],
             [
              0.5555555555555556,
              "#d8576b"
             ],
             [
              0.6666666666666666,
              "#ed7953"
             ],
             [
              0.7777777777777778,
              "#fb9f3a"
             ],
             [
              0.8888888888888888,
              "#fdca26"
             ],
             [
              1,
              "#f0f921"
             ]
            ],
            "type": "contour"
           }
          ],
          "contourcarpet": [
           {
            "colorbar": {
             "outlinewidth": 0,
             "ticks": ""
            },
            "type": "contourcarpet"
           }
          ],
          "heatmap": [
           {
            "colorbar": {
             "outlinewidth": 0,
             "ticks": ""
            },
            "colorscale": [
             [
              0,
              "#0d0887"
             ],
             [
              0.1111111111111111,
              "#46039f"
             ],
             [
              0.2222222222222222,
              "#7201a8"
             ],
             [
              0.3333333333333333,
              "#9c179e"
             ],
             [
              0.4444444444444444,
              "#bd3786"
             ],
             [
              0.5555555555555556,
              "#d8576b"
             ],
             [
              0.6666666666666666,
              "#ed7953"
             ],
             [
              0.7777777777777778,
              "#fb9f3a"
             ],
             [
              0.8888888888888888,
              "#fdca26"
             ],
             [
              1,
              "#f0f921"
             ]
            ],
            "type": "heatmap"
           }
          ],
          "heatmapgl": [
           {
            "colorbar": {
             "outlinewidth": 0,
             "ticks": ""
            },
            "colorscale": [
             [
              0,
              "#0d0887"
             ],
             [
              0.1111111111111111,
              "#46039f"
             ],
             [
              0.2222222222222222,
              "#7201a8"
             ],
             [
              0.3333333333333333,
              "#9c179e"
             ],
             [
              0.4444444444444444,
              "#bd3786"
             ],
             [
              0.5555555555555556,
              "#d8576b"
             ],
             [
              0.6666666666666666,
              "#ed7953"
             ],
             [
              0.7777777777777778,
              "#fb9f3a"
             ],
             [
              0.8888888888888888,
              "#fdca26"
             ],
             [
              1,
              "#f0f921"
             ]
            ],
            "type": "heatmapgl"
           }
          ],
          "histogram": [
           {
            "marker": {
             "colorbar": {
              "outlinewidth": 0,
              "ticks": ""
             }
            },
            "type": "histogram"
           }
          ],
          "histogram2d": [
           {
            "colorbar": {
             "outlinewidth": 0,
             "ticks": ""
            },
            "colorscale": [
             [
              0,
              "#0d0887"
             ],
             [
              0.1111111111111111,
              "#46039f"
             ],
             [
              0.2222222222222222,
              "#7201a8"
             ],
             [
              0.3333333333333333,
              "#9c179e"
             ],
             [
              0.4444444444444444,
              "#bd3786"
             ],
             [
              0.5555555555555556,
              "#d8576b"
             ],
             [
              0.6666666666666666,
              "#ed7953"
             ],
             [
              0.7777777777777778,
              "#fb9f3a"
             ],
             [
              0.8888888888888888,
              "#fdca26"
             ],
             [
              1,
              "#f0f921"
             ]
            ],
            "type": "histogram2d"
           }
          ],
          "histogram2dcontour": [
           {
            "colorbar": {
             "outlinewidth": 0,
             "ticks": ""
            },
            "colorscale": [
             [
              0,
              "#0d0887"
             ],
             [
              0.1111111111111111,
              "#46039f"
             ],
             [
              0.2222222222222222,
              "#7201a8"
             ],
             [
              0.3333333333333333,
              "#9c179e"
             ],
             [
              0.4444444444444444,
              "#bd3786"
             ],
             [
              0.5555555555555556,
              "#d8576b"
             ],
             [
              0.6666666666666666,
              "#ed7953"
             ],
             [
              0.7777777777777778,
              "#fb9f3a"
             ],
             [
              0.8888888888888888,
              "#fdca26"
             ],
             [
              1,
              "#f0f921"
             ]
            ],
            "type": "histogram2dcontour"
           }
          ],
          "mesh3d": [
           {
            "colorbar": {
             "outlinewidth": 0,
             "ticks": ""
            },
            "type": "mesh3d"
           }
          ],
          "parcoords": [
           {
            "line": {
             "colorbar": {
              "outlinewidth": 0,
              "ticks": ""
             }
            },
            "type": "parcoords"
           }
          ],
          "pie": [
           {
            "automargin": true,
            "type": "pie"
           }
          ],
          "scatter": [
           {
            "marker": {
             "colorbar": {
              "outlinewidth": 0,
              "ticks": ""
             }
            },
            "type": "scatter"
           }
          ],
          "scatter3d": [
           {
            "line": {
             "colorbar": {
              "outlinewidth": 0,
              "ticks": ""
             }
            },
            "marker": {
             "colorbar": {
              "outlinewidth": 0,
              "ticks": ""
             }
            },
            "type": "scatter3d"
           }
          ],
          "scattercarpet": [
           {
            "marker": {
             "colorbar": {
              "outlinewidth": 0,
              "ticks": ""
             }
            },
            "type": "scattercarpet"
           }
          ],
          "scattergeo": [
           {
            "marker": {
             "colorbar": {
              "outlinewidth": 0,
              "ticks": ""
             }
            },
            "type": "scattergeo"
           }
          ],
          "scattergl": [
           {
            "marker": {
             "colorbar": {
              "outlinewidth": 0,
              "ticks": ""
             }
            },
            "type": "scattergl"
           }
          ],
          "scattermapbox": [
           {
            "marker": {
             "colorbar": {
              "outlinewidth": 0,
              "ticks": ""
             }
            },
            "type": "scattermapbox"
           }
          ],
          "scatterpolar": [
           {
            "marker": {
             "colorbar": {
              "outlinewidth": 0,
              "ticks": ""
             }
            },
            "type": "scatterpolar"
           }
          ],
          "scatterpolargl": [
           {
            "marker": {
             "colorbar": {
              "outlinewidth": 0,
              "ticks": ""
             }
            },
            "type": "scatterpolargl"
           }
          ],
          "scatterternary": [
           {
            "marker": {
             "colorbar": {
              "outlinewidth": 0,
              "ticks": ""
             }
            },
            "type": "scatterternary"
           }
          ],
          "surface": [
           {
            "colorbar": {
             "outlinewidth": 0,
             "ticks": ""
            },
            "colorscale": [
             [
              0,
              "#0d0887"
             ],
             [
              0.1111111111111111,
              "#46039f"
             ],
             [
              0.2222222222222222,
              "#7201a8"
             ],
             [
              0.3333333333333333,
              "#9c179e"
             ],
             [
              0.4444444444444444,
              "#bd3786"
             ],
             [
              0.5555555555555556,
              "#d8576b"
             ],
             [
              0.6666666666666666,
              "#ed7953"
             ],
             [
              0.7777777777777778,
              "#fb9f3a"
             ],
             [
              0.8888888888888888,
              "#fdca26"
             ],
             [
              1,
              "#f0f921"
             ]
            ],
            "type": "surface"
           }
          ],
          "table": [
           {
            "cells": {
             "fill": {
              "color": "#EBF0F8"
             },
             "line": {
              "color": "white"
             }
            },
            "header": {
             "fill": {
              "color": "#C8D4E3"
             },
             "line": {
              "color": "white"
             }
            },
            "type": "table"
           }
          ]
         },
         "layout": {
          "annotationdefaults": {
           "arrowcolor": "#2a3f5f",
           "arrowhead": 0,
           "arrowwidth": 1
          },
          "coloraxis": {
           "colorbar": {
            "outlinewidth": 0,
            "ticks": ""
           }
          },
          "colorscale": {
           "diverging": [
            [
             0,
             "#8e0152"
            ],
            [
             0.1,
             "#c51b7d"
            ],
            [
             0.2,
             "#de77ae"
            ],
            [
             0.3,
             "#f1b6da"
            ],
            [
             0.4,
             "#fde0ef"
            ],
            [
             0.5,
             "#f7f7f7"
            ],
            [
             0.6,
             "#e6f5d0"
            ],
            [
             0.7,
             "#b8e186"
            ],
            [
             0.8,
             "#7fbc41"
            ],
            [
             0.9,
             "#4d9221"
            ],
            [
             1,
             "#276419"
            ]
           ],
           "sequential": [
            [
             0,
             "#0d0887"
            ],
            [
             0.1111111111111111,
             "#46039f"
            ],
            [
             0.2222222222222222,
             "#7201a8"
            ],
            [
             0.3333333333333333,
             "#9c179e"
            ],
            [
             0.4444444444444444,
             "#bd3786"
            ],
            [
             0.5555555555555556,
             "#d8576b"
            ],
            [
             0.6666666666666666,
             "#ed7953"
            ],
            [
             0.7777777777777778,
             "#fb9f3a"
            ],
            [
             0.8888888888888888,
             "#fdca26"
            ],
            [
             1,
             "#f0f921"
            ]
           ],
           "sequentialminus": [
            [
             0,
             "#0d0887"
            ],
            [
             0.1111111111111111,
             "#46039f"
            ],
            [
             0.2222222222222222,
             "#7201a8"
            ],
            [
             0.3333333333333333,
             "#9c179e"
            ],
            [
             0.4444444444444444,
             "#bd3786"
            ],
            [
             0.5555555555555556,
             "#d8576b"
            ],
            [
             0.6666666666666666,
             "#ed7953"
            ],
            [
             0.7777777777777778,
             "#fb9f3a"
            ],
            [
             0.8888888888888888,
             "#fdca26"
            ],
            [
             1,
             "#f0f921"
            ]
           ]
          },
          "colorway": [
           "#636efa",
           "#EF553B",
           "#00cc96",
           "#ab63fa",
           "#FFA15A",
           "#19d3f3",
           "#FF6692",
           "#B6E880",
           "#FF97FF",
           "#FECB52"
          ],
          "font": {
           "color": "#2a3f5f"
          },
          "geo": {
           "bgcolor": "white",
           "lakecolor": "white",
           "landcolor": "#E5ECF6",
           "showlakes": true,
           "showland": true,
           "subunitcolor": "white"
          },
          "hoverlabel": {
           "align": "left"
          },
          "hovermode": "closest",
          "mapbox": {
           "style": "light"
          },
          "paper_bgcolor": "white",
          "plot_bgcolor": "#E5ECF6",
          "polar": {
           "angularaxis": {
            "gridcolor": "white",
            "linecolor": "white",
            "ticks": ""
           },
           "bgcolor": "#E5ECF6",
           "radialaxis": {
            "gridcolor": "white",
            "linecolor": "white",
            "ticks": ""
           }
          },
          "scene": {
           "xaxis": {
            "backgroundcolor": "#E5ECF6",
            "gridcolor": "white",
            "gridwidth": 2,
            "linecolor": "white",
            "showbackground": true,
            "ticks": "",
            "zerolinecolor": "white"
           },
           "yaxis": {
            "backgroundcolor": "#E5ECF6",
            "gridcolor": "white",
            "gridwidth": 2,
            "linecolor": "white",
            "showbackground": true,
            "ticks": "",
            "zerolinecolor": "white"
           },
           "zaxis": {
            "backgroundcolor": "#E5ECF6",
            "gridcolor": "white",
            "gridwidth": 2,
            "linecolor": "white",
            "showbackground": true,
            "ticks": "",
            "zerolinecolor": "white"
           }
          },
          "shapedefaults": {
           "line": {
            "color": "#2a3f5f"
           }
          },
          "ternary": {
           "aaxis": {
            "gridcolor": "white",
            "linecolor": "white",
            "ticks": ""
           },
           "baxis": {
            "gridcolor": "white",
            "linecolor": "white",
            "ticks": ""
           },
           "bgcolor": "#E5ECF6",
           "caxis": {
            "gridcolor": "white",
            "linecolor": "white",
            "ticks": ""
           }
          },
          "title": {
           "x": 0.05
          },
          "xaxis": {
           "automargin": true,
           "gridcolor": "white",
           "linecolor": "white",
           "ticks": "",
           "title": {
            "standoff": 15
           },
           "zerolinecolor": "white",
           "zerolinewidth": 2
          },
          "yaxis": {
           "automargin": true,
           "gridcolor": "white",
           "linecolor": "white",
           "ticks": "",
           "title": {
            "standoff": 15
           },
           "zerolinecolor": "white",
           "zerolinewidth": 2
          }
         }
        },
        "title": {
         "text": "Raster, aligned to stim on",
         "x": 0.21,
         "y": 0.87
        },
        "width": 580,
        "xaxis": {
         "range": [
          -1,
          1
         ],
         "showgrid": false,
         "title": {
          "text": "Time (sec)"
         }
        },
        "yaxis": {
         "range": [
          0,
          271.32
         ],
         "showgrid": false,
         "title": {
          "text": "Trial idx"
         }
        },
        "yaxis2": {
         "overlaying": "y",
         "range": [
          0,
          271.32
         ],
         "showgrid": false,
         "side": "right",
         "tickmode": "array",
         "ticktext": [
          -1,
          -0.25,
          -0.125,
          -0.0625,
          0,
          0.0625,
          0.125,
          0.25,
          1
         ],
         "tickvals": [
          16.5,
          50.5,
          84.5,
          115,
          138,
          160.5,
          185.5,
          210,
          245
         ],
         "title": {
          "text": "Contrast"
         }
        }
       }
      },
      "text/html": [
       "<div>\n",
       "        \n",
       "        \n",
       "            <div id=\"27593231-8904-4f58-a2e6-aee70e0e3865\" class=\"plotly-graph-div\" style=\"height:370px; width:580px;\"></div>\n",
       "            <script type=\"text/javascript\">\n",
       "                require([\"plotly\"], function(Plotly) {\n",
       "                    window.PLOTLYENV=window.PLOTLYENV || {};\n",
       "                    \n",
       "                if (document.getElementById(\"27593231-8904-4f58-a2e6-aee70e0e3865\")) {\n",
       "                    Plotly.newPlot(\n",
       "                        '27593231-8904-4f58-a2e6-aee70e0e3865',\n",
       "                        [{\"marker\": {\"opacity\": 0}, \"mode\": \"markers\", \"showlegend\": false, \"type\": \"scatter\", \"x\": [-1, 1], \"y\": [0, 271.32], \"yaxis\": \"y2\"}],\n",
       "                        {\"height\": 370, \"images\": [{\"layer\": \"below\", \"sizex\": 2, \"sizey\": 271.32, \"sizing\": \"stretch\", \"source\": \"data:image/png;base64, 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\", \"x\": -1, \"xref\": \"x\", \"y\": 271.32, \"yref\": \"y\"}], \"margin\": {\"b\": 40, \"l\": 50, \"pad\": 0, \"r\": 30, \"t\": 80}, \"template\": {\"data\": {\"bar\": [{\"error_x\": {\"color\": \"#2a3f5f\"}, \"error_y\": {\"color\": \"#2a3f5f\"}, \"marker\": {\"line\": {\"color\": \"#E5ECF6\", \"width\": 0.5}}, \"type\": \"bar\"}], \"barpolar\": [{\"marker\": {\"line\": {\"color\": \"#E5ECF6\", \"width\": 0.5}}, \"type\": \"barpolar\"}], \"carpet\": [{\"aaxis\": {\"endlinecolor\": \"#2a3f5f\", \"gridcolor\": \"white\", \"linecolor\": \"white\", \"minorgridcolor\": \"white\", \"startlinecolor\": \"#2a3f5f\"}, \"baxis\": {\"endlinecolor\": \"#2a3f5f\", \"gridcolor\": \"white\", \"linecolor\": \"white\", \"minorgridcolor\": \"white\", \"startlinecolor\": \"#2a3f5f\"}, \"type\": \"carpet\"}], \"choropleth\": [{\"colorbar\": {\"outlinewidth\": 0, \"ticks\": \"\"}, \"type\": \"choropleth\"}], \"contour\": [{\"colorbar\": {\"outlinewidth\": 0, \"ticks\": \"\"}, \"colorscale\": [[0.0, \"#0d0887\"], [0.1111111111111111, \"#46039f\"], [0.2222222222222222, \"#7201a8\"], [0.3333333333333333, \"#9c179e\"], [0.4444444444444444, \"#bd3786\"], [0.5555555555555556, \"#d8576b\"], [0.6666666666666666, \"#ed7953\"], [0.7777777777777778, \"#fb9f3a\"], [0.8888888888888888, \"#fdca26\"], [1.0, \"#f0f921\"]], \"type\": \"contour\"}], \"contourcarpet\": [{\"colorbar\": {\"outlinewidth\": 0, \"ticks\": \"\"}, \"type\": \"contourcarpet\"}], \"heatmap\": [{\"colorbar\": {\"outlinewidth\": 0, \"ticks\": \"\"}, \"colorscale\": [[0.0, \"#0d0887\"], [0.1111111111111111, \"#46039f\"], [0.2222222222222222, \"#7201a8\"], [0.3333333333333333, \"#9c179e\"], [0.4444444444444444, \"#bd3786\"], [0.5555555555555556, \"#d8576b\"], [0.6666666666666666, \"#ed7953\"], [0.7777777777777778, \"#fb9f3a\"], [0.8888888888888888, \"#fdca26\"], [1.0, \"#f0f921\"]], \"type\": \"heatmap\"}], \"heatmapgl\": [{\"colorbar\": {\"outlinewidth\": 0, \"ticks\": \"\"}, \"colorscale\": [[0.0, \"#0d0887\"], [0.1111111111111111, \"#46039f\"], [0.2222222222222222, \"#7201a8\"], [0.3333333333333333, \"#9c179e\"], [0.4444444444444444, \"#bd3786\"], [0.5555555555555556, \"#d8576b\"], [0.6666666666666666, \"#ed7953\"], [0.7777777777777778, \"#fb9f3a\"], [0.8888888888888888, \"#fdca26\"], [1.0, \"#f0f921\"]], \"type\": \"heatmapgl\"}], \"histogram\": [{\"marker\": {\"colorbar\": {\"outlinewidth\": 0, \"ticks\": \"\"}}, \"type\": \"histogram\"}], \"histogram2d\": [{\"colorbar\": {\"outlinewidth\": 0, \"ticks\": \"\"}, \"colorscale\": [[0.0, \"#0d0887\"], [0.1111111111111111, \"#46039f\"], [0.2222222222222222, \"#7201a8\"], [0.3333333333333333, \"#9c179e\"], [0.4444444444444444, \"#bd3786\"], [0.5555555555555556, \"#d8576b\"], [0.6666666666666666, \"#ed7953\"], [0.7777777777777778, \"#fb9f3a\"], [0.8888888888888888, \"#fdca26\"], [1.0, \"#f0f921\"]], \"type\": \"histogram2d\"}], \"histogram2dcontour\": [{\"colorbar\": {\"outlinewidth\": 0, \"ticks\": \"\"}, \"colorscale\": [[0.0, \"#0d0887\"], [0.1111111111111111, \"#46039f\"], [0.2222222222222222, \"#7201a8\"], [0.3333333333333333, \"#9c179e\"], [0.4444444444444444, \"#bd3786\"], [0.5555555555555556, \"#d8576b\"], [0.6666666666666666, \"#ed7953\"], [0.7777777777777778, \"#fb9f3a\"], [0.8888888888888888, \"#fdca26\"], [1.0, \"#f0f921\"]], \"type\": \"histogram2dcontour\"}], \"mesh3d\": [{\"colorbar\": {\"outlinewidth\": 0, \"ticks\": \"\"}, \"type\": \"mesh3d\"}], \"parcoords\": [{\"line\": {\"colorbar\": {\"outlinewidth\": 0, \"ticks\": \"\"}}, \"type\": \"parcoords\"}], \"pie\": [{\"automargin\": true, \"type\": \"pie\"}], \"scatter\": [{\"marker\": {\"colorbar\": {\"outlinewidth\": 0, \"ticks\": \"\"}}, \"type\": \"scatter\"}], \"scatter3d\": [{\"line\": {\"colorbar\": {\"outlinewidth\": 0, \"ticks\": \"\"}}, \"marker\": {\"colorbar\": {\"outlinewidth\": 0, \"ticks\": \"\"}}, \"type\": \"scatter3d\"}], \"scattercarpet\": [{\"marker\": {\"colorbar\": {\"outlinewidth\": 0, \"ticks\": \"\"}}, \"type\": \"scattercarpet\"}], \"scattergeo\": [{\"marker\": {\"colorbar\": {\"outlinewidth\": 0, \"ticks\": \"\"}}, \"type\": \"scattergeo\"}], \"scattergl\": [{\"marker\": {\"colorbar\": {\"outlinewidth\": 0, \"ticks\": \"\"}}, \"type\": \"scattergl\"}], \"scattermapbox\": [{\"marker\": {\"colorbar\": {\"outlinewidth\": 0, \"ticks\": \"\"}}, \"type\": \"scattermapbox\"}], \"scatterpolar\": [{\"marker\": {\"colorbar\": {\"outlinewidth\": 0, \"ticks\": \"\"}}, \"type\": \"scatterpolar\"}], \"scatterpolargl\": [{\"marker\": {\"colorbar\": {\"outlinewidth\": 0, \"ticks\": \"\"}}, \"type\": \"scatterpolargl\"}], \"scatterternary\": [{\"marker\": {\"colorbar\": {\"outlinewidth\": 0, \"ticks\": \"\"}}, \"type\": \"scatterternary\"}], \"surface\": [{\"colorbar\": {\"outlinewidth\": 0, \"ticks\": \"\"}, \"colorscale\": [[0.0, \"#0d0887\"], [0.1111111111111111, \"#46039f\"], [0.2222222222222222, \"#7201a8\"], [0.3333333333333333, \"#9c179e\"], [0.4444444444444444, \"#bd3786\"], [0.5555555555555556, \"#d8576b\"], [0.6666666666666666, \"#ed7953\"], [0.7777777777777778, \"#fb9f3a\"], [0.8888888888888888, \"#fdca26\"], [1.0, \"#f0f921\"]], \"type\": \"surface\"}], \"table\": [{\"cells\": {\"fill\": {\"color\": \"#EBF0F8\"}, \"line\": {\"color\": \"white\"}}, \"header\": {\"fill\": {\"color\": \"#C8D4E3\"}, \"line\": {\"color\": \"white\"}}, \"type\": \"table\"}]}, \"layout\": {\"annotationdefaults\": {\"arrowcolor\": \"#2a3f5f\", \"arrowhead\": 0, \"arrowwidth\": 1}, \"coloraxis\": {\"colorbar\": {\"outlinewidth\": 0, \"ticks\": \"\"}}, \"colorscale\": {\"diverging\": [[0, \"#8e0152\"], [0.1, \"#c51b7d\"], [0.2, \"#de77ae\"], [0.3, \"#f1b6da\"], [0.4, \"#fde0ef\"], [0.5, \"#f7f7f7\"], [0.6, \"#e6f5d0\"], [0.7, \"#b8e186\"], [0.8, \"#7fbc41\"], [0.9, \"#4d9221\"], [1, \"#276419\"]], \"sequential\": [[0.0, \"#0d0887\"], [0.1111111111111111, \"#46039f\"], [0.2222222222222222, \"#7201a8\"], [0.3333333333333333, \"#9c179e\"], [0.4444444444444444, \"#bd3786\"], [0.5555555555555556, \"#d8576b\"], [0.6666666666666666, \"#ed7953\"], [0.7777777777777778, \"#fb9f3a\"], [0.8888888888888888, \"#fdca26\"], [1.0, \"#f0f921\"]], \"sequentialminus\": [[0.0, \"#0d0887\"], [0.1111111111111111, \"#46039f\"], [0.2222222222222222, \"#7201a8\"], [0.3333333333333333, \"#9c179e\"], [0.4444444444444444, \"#bd3786\"], [0.5555555555555556, \"#d8576b\"], [0.6666666666666666, \"#ed7953\"], [0.7777777777777778, \"#fb9f3a\"], [0.8888888888888888, \"#fdca26\"], [1.0, \"#f0f921\"]]}, \"colorway\": [\"#636efa\", \"#EF553B\", \"#00cc96\", \"#ab63fa\", \"#FFA15A\", \"#19d3f3\", \"#FF6692\", \"#B6E880\", \"#FF97FF\", \"#FECB52\"], \"font\": {\"color\": \"#2a3f5f\"}, \"geo\": {\"bgcolor\": \"white\", \"lakecolor\": \"white\", \"landcolor\": \"#E5ECF6\", \"showlakes\": true, \"showland\": true, \"subunitcolor\": \"white\"}, \"hoverlabel\": {\"align\": \"left\"}, \"hovermode\": \"closest\", \"mapbox\": {\"style\": \"light\"}, \"paper_bgcolor\": \"white\", \"plot_bgcolor\": \"#E5ECF6\", \"polar\": {\"angularaxis\": {\"gridcolor\": \"white\", \"linecolor\": \"white\", \"ticks\": \"\"}, \"bgcolor\": \"#E5ECF6\", \"radialaxis\": {\"gridcolor\": \"white\", \"linecolor\": \"white\", \"ticks\": \"\"}}, \"scene\": {\"xaxis\": {\"backgroundcolor\": \"#E5ECF6\", \"gridcolor\": \"white\", \"gridwidth\": 2, \"linecolor\": \"white\", \"showbackground\": true, \"ticks\": \"\", \"zerolinecolor\": \"white\"}, \"yaxis\": {\"backgroundcolor\": \"#E5ECF6\", \"gridcolor\": \"white\", \"gridwidth\": 2, \"linecolor\": \"white\", \"showbackground\": true, \"ticks\": \"\", \"zerolinecolor\": \"white\"}, \"zaxis\": {\"backgroundcolor\": \"#E5ECF6\", \"gridcolor\": \"white\", \"gridwidth\": 2, \"linecolor\": \"white\", \"showbackground\": true, \"ticks\": \"\", \"zerolinecolor\": \"white\"}}, \"shapedefaults\": {\"line\": {\"color\": \"#2a3f5f\"}}, \"ternary\": {\"aaxis\": {\"gridcolor\": \"white\", \"linecolor\": \"white\", \"ticks\": \"\"}, \"baxis\": {\"gridcolor\": \"white\", \"linecolor\": \"white\", \"ticks\": \"\"}, \"bgcolor\": \"#E5ECF6\", \"caxis\": {\"gridcolor\": \"white\", \"linecolor\": \"white\", \"ticks\": \"\"}}, \"title\": {\"x\": 0.05}, \"xaxis\": {\"automargin\": true, \"gridcolor\": \"white\", \"linecolor\": \"white\", \"ticks\": \"\", \"title\": {\"standoff\": 15}, \"zerolinecolor\": \"white\", \"zerolinewidth\": 2}, \"yaxis\": {\"automargin\": true, \"gridcolor\": \"white\", \"linecolor\": \"white\", \"ticks\": \"\", \"title\": {\"standoff\": 15}, \"zerolinecolor\": \"white\", \"zerolinewidth\": 2}}}, \"title\": {\"text\": \"Raster, aligned to stim on\", \"x\": 0.21, \"y\": 0.87}, \"width\": 580, \"xaxis\": {\"range\": [-1, 1], \"showgrid\": false, \"title\": {\"text\": \"Time (sec)\"}}, \"yaxis\": {\"range\": [0, 271.32], \"showgrid\": false, \"title\": {\"text\": \"Trial idx\"}}, \"yaxis2\": {\"overlaying\": \"y\", \"range\": [0, 271.32], \"showgrid\": false, \"side\": \"right\", \"tickmode\": \"array\", \"ticktext\": [-1.0, -0.25, -0.125, -0.0625, 0.0, 0.0625, 0.125, 0.25, 1.0], \"tickvals\": [16.5, 50.5, 84.5, 115.0, 138.0, 160.5, 185.5, 210.0, 245.0], \"title\": {\"text\": \"Contrast\"}}},\n",
       "                        {\"responsive\": true}\n",
       "                    ).then(function(){\n",
       "                            \n",
       "var gd = document.getElementById('27593231-8904-4f58-a2e6-aee70e0e3865');\n",
       "var x = new MutationObserver(function (mutations, observer) {{\n",
       "        var display = window.getComputedStyle(gd).display;\n",
       "        if (!display || display === 'none') {{\n",
       "            console.log([gd, 'removed!']);\n",
       "            Plotly.purge(gd);\n",
       "            observer.disconnect();\n",
       "        }}\n",
       "}});\n",
       "\n",
       "// Listen for the removal of the full notebook cells\n",
       "var notebookContainer = gd.closest('#notebook-container');\n",
       "if (notebookContainer) {{\n",
       "    x.observe(notebookContainer, {childList: true});\n",
       "}}\n",
       "\n",
       "// Listen for the clearing of the current output cell\n",
       "var outputEl = gd.closest('.output');\n",
       "if (outputEl) {{\n",
       "    x.observe(outputEl, {childList: true});\n",
       "}}\n",
       "\n",
       "                        })\n",
       "                };\n",
       "                });\n",
       "            </script>\n",
       "        </div>"
      ]
     },
     "metadata": {},
     "output_type": "display_data"
    }
   ],
   "source": [
    "x_lim=[-1, 1]\n",
    "axis2 = go.Scatter(\n",
    "    x=x_lim,\n",
    "    y=y_lim,\n",
    "    mode='markers',\n",
    "    marker=dict(opacity=0),\n",
    "    showlegend=False,\n",
    "    yaxis='y2'\n",
    ")\n",
    "\n",
    "layout = go.Layout(\n",
    "    images=[dict(\n",
    "      source='data:image/png;base64, ' + encoded_string.decode(),\n",
    "      sizex=x_lim[1] - x_lim[0],\n",
    "      sizey=y_lim[1] - y_lim[0],\n",
    "      x=x_lim[0],\n",
    "      y=y_lim[1],\n",
    "      xref='x',\n",
    "      yref='y',\n",
    "      sizing='stretch',\n",
    "      layer='below'\n",
    "    )],\n",
    "    width=580,\n",
    "    height=370,\n",
    "    margin=go.layout.Margin(\n",
    "        l=50,\n",
    "        r=30,\n",
    "        b=40,\n",
    "        t=80,\n",
    "        pad=0\n",
    "    ),\n",
    "    title=dict(\n",
    "        text='Raster, aligned to {}'.format(align_event),\n",
    "        x = 0.21,\n",
    "        y=0.87\n",
    "    ),\n",
    "    xaxis=dict(\n",
    "        title='Time (sec)',\n",
    "        range=x_lim,\n",
    "        showgrid=False\n",
    "    ), \n",
    "    yaxis=dict(\n",
    "        title='Trial idx',\n",
    "        range=y_lim,\n",
    "        showgrid=False\n",
    "    ),\n",
    "     \n",
    ")\n",
    "\n",
    "data = [axis2]\n",
    "fig = go.Figure(data=data, layout=layout)\n",
    "\n",
    "fig.update_layout(\n",
    "    yaxis2=dict(\n",
    "        title='Contrast',\n",
    "        range=y_lim,\n",
    "        showgrid=False,\n",
    "        overlaying='y',\n",
    "        side='right',\n",
    "        tickmode='array',\n",
    "        tickvals=list(tick_pos),\n",
    "        ticktext=list(contrasts)\n",
    "    ))\n",
    "\n",
    "plotly.offline.iplot(fig)"
   ]
  },
  {
   "cell_type": "code",
   "execution_count": null,
   "metadata": {},
   "outputs": [],
   "source": []
  }
 ],
 "metadata": {
  "celltoolbar": "Tags",
  "kernelspec": {
   "display_name": "Python 3",
   "language": "python",
   "name": "python3"
  },
  "language_info": {
   "codemirror_mode": {
    "name": "ipython",
    "version": 3
   },
   "file_extension": ".py",
   "mimetype": "text/x-python",
   "name": "python",
   "nbconvert_exporter": "python",
   "pygments_lexer": "ipython3",
   "version": "3.6.6"
  }
 },
 "nbformat": 4,
 "nbformat_minor": 2
}
